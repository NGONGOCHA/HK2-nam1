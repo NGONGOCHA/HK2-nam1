{
  "nbformat": 4,
  "nbformat_minor": 0,
  "metadata": {
    "colab": {
      "name": "bài tập numpy số 3",
      "provenance": [],
      "collapsed_sections": [],
      "authorship_tag": "ABX9TyNFhNaAhFXn28BKghd3tgBb",
      "include_colab_link": true
    },
    "kernelspec": {
      "name": "python3",
      "display_name": "Python 3"
    },
    "language_info": {
      "name": "python"
    }
  },
  "cells": [
    {
      "cell_type": "markdown",
      "metadata": {
        "id": "view-in-github",
        "colab_type": "text"
      },
      "source": [
        "<a href=\"https://colab.research.google.com/github/NGONGOCHA/HK2-nam1/blob/main/b%C3%A0i_t%E1%BA%ADp_numpy_s%E1%BB%91_3.ipynb\" target=\"_parent\"><img src=\"https://colab.research.google.com/assets/colab-badge.svg\" alt=\"Open In Colab\"/></a>"
      ]
    },
    {
      "cell_type": "markdown",
      "source": [
        "Câu 1: Hãy trình bày cú pháp của hàm apply_along_axis() và ý nghĩa của từng tham số của hàm\n",
        "này."
      ],
      "metadata": {
        "id": "rU3XSB_DSIE6"
      }
    },
    {
      "cell_type": "code",
      "source": [
        "# CÚ PHÁP: np.apply_along_axis(func1d, axis, arr, args, kwargs)\n",
        "\n",
        "# func1d(hàm): hàm này chấp nhận mảng 1 chiều,nó được áp dụng cho các mảng 1 chiều của ma trận theo trục được chỉ định\n",
        "# axis(số nguyên): trục dọc của ma trận được cắt\n",
        "# arr(ma trận): ma trận được nhập vào\n",
        "# args: đối số bổ sung cho func1d\n",
        "# kwargs: đối số được đặt tên bổ sung cho func1d"
      ],
      "metadata": {
        "id": "kL7RXfQMd3u3"
      },
      "execution_count": null,
      "outputs": []
    },
    {
      "cell_type": "markdown",
      "source": [
        "Câu 2: Tạo một ma trận A15x17 có giá trị ngẫu nhiên"
      ],
      "metadata": {
        "id": "oSbtRIWWHmGJ"
      }
    },
    {
      "cell_type": "code",
      "source": [
        "import numpy as np\n",
        "\n",
        "A = np.random.randint(low=-20, high=20, size=(15,17))\n",
        "print(\"ma trận A15x17: \\n\", A)"
      ],
      "metadata": {
        "colab": {
          "base_uri": "https://localhost:8080/"
        },
        "id": "J7_qC7IuHp9n",
        "outputId": "1d89c7c2-b1ba-4d44-dd24-81019b4a87a9"
      },
      "execution_count": null,
      "outputs": [
        {
          "output_type": "stream",
          "name": "stdout",
          "text": [
            "ma trận A15x17: \n",
            " [[-18  19  -8   0   9   3 -13 -15  -6   7  -6  17  -1  -3   5   8   9]\n",
            " [ -3  18 -20 -17 -13  -4  19  10  -6  -8 -15 -12   2  -5  -9   2 -15]\n",
            " [  5  -6  -1  10 -17  -3  12 -18  15  12  15  -2  11   5   0  15   3]\n",
            " [  7 -20 -14   4  -5  19   5  -6  19   9  13  10  14  -3  -6   4 -16]\n",
            " [  0  13  11 -17  15 -18  19   2   4   5 -19 -11 -11 -15  13   6  -8]\n",
            " [ -1  -2  17  14   0  17 -17 -18   5  -7  15  10 -11  -4 -15  -5   6]\n",
            " [ 14  16  17  13   3   4  -6 -19 -10   1   9  -2  17   1   8 -20 -13]\n",
            " [  6 -16 -10 -16  17 -18   4   3   9   5  14  -9 -12 -19  13   7   3]\n",
            " [-20  16  15 -20   1   4 -14   0   5  -9  -2   8 -20  10 -18   8  13]\n",
            " [ -9   6  -6  -5 -18   0  17 -11 -20  -4  -8   3 -15  18  17 -13   8]\n",
            " [ -3  -9  13  -9  -6   6  14   5  14 -13   6  17   7 -11 -19  -4  -2]\n",
            " [  2  14   7   7  15   8  11  -2 -17  -2  17  10  -8   9 -11  12   7]\n",
            " [  1  -1 -13  -5   2   2  15  18  13  -4   7 -12  -9  15   5  -2  12]\n",
            " [-15  -1  13   7  16   8 -17  19  10   4  -6 -16   5  17 -10  14 -15]\n",
            " [-20  12  12   7  13 -17  10   6 -13  -3  -1  -1  13   1   7 -19   6]]\n"
          ]
        }
      ]
    },
    {
      "cell_type": "markdown",
      "source": [
        "Câu 3: Xây dựng hàm tìm giá trị lớn nhất có tên là tim_gia_tri_lon_nhat(vector_a) có tham số\n",
        "đầu vào là 1 vector a và giá trị trả về là giá trị phần tử lớn nhất của vector này. Áp dụng hàm này\n",
        "theo từng hàng của ma trận A ở Câu 1 và xuất kết quả ra màn hình."
      ],
      "metadata": {
        "id": "aydVxY4fJSHe"
      }
    },
    {
      "cell_type": "code",
      "source": [
        "def tim_gia_tri_lon_nhat(vector_a):\n",
        "  max = np.max(vector_a)\n",
        "  return max\n",
        "# 0,-2 cột\n",
        "# 1,-1 hàng\n",
        "z = np.apply_along_axis(tim_gia_tri_lon_nhat, 1, A)\n",
        "print(z)"
      ],
      "metadata": {
        "colab": {
          "base_uri": "https://localhost:8080/"
        },
        "id": "-H3Un7UcJV8i",
        "outputId": "cdc85c0f-ccaf-4fb0-fb8f-f3e6aecb1296"
      },
      "execution_count": null,
      "outputs": [
        {
          "output_type": "stream",
          "name": "stdout",
          "text": [
            "[19 19 15 19 19 17 17 17 16 18 17 17 18 19 13]\n"
          ]
        }
      ]
    },
    {
      "cell_type": "markdown",
      "source": [
        "Câu 4: Xây dựng hàm tìm giá trị nhỏ nhất có tên là tim_gia_tri_nho_nhat(vector_a) có tham số\n",
        "đầu vào là 1 vector a và giá trị trả về là giá trị phần tử nhỏ nhất của vector này. Áp dụng hàm này\n",
        "theo từng cột của ma trận A ở Câu 1 và xuất kết quả ra màn hình."
      ],
      "metadata": {
        "id": "8GWr5TFuc8nz"
      }
    },
    {
      "cell_type": "code",
      "source": [
        "def tim_gia_tri_nho_nhat(vector_a):\n",
        "  min = np.min(vector_a)\n",
        "  return min\n",
        "\n",
        "q = np.apply_along_axis(tim_gia_tri_nho_nhat, 0, A)\n",
        "print(q)"
      ],
      "metadata": {
        "colab": {
          "base_uri": "https://localhost:8080/"
        },
        "id": "26d3y4LodCdh",
        "outputId": "53b3bf70-3547-4ede-d6cf-2cb5a8b111d1"
      },
      "execution_count": null,
      "outputs": [
        {
          "output_type": "stream",
          "name": "stdout",
          "text": [
            "[-20 -20 -20 -20 -18 -18 -17 -19 -20 -13 -19 -16 -20 -19 -19 -20 -16]\n"
          ]
        }
      ]
    },
    {
      "cell_type": "markdown",
      "source": [
        "Câu 5: Xây dựng hàm tìm giá trị lớn nhất có tên là tinh_tong(vector_a) có tham số đầu vào là 1\n",
        "vector a và giá trị trả về là tổng các phần tử của vector này. Áp dụng hàm này theo từng hàng của\n",
        "ma trận A ở Câu 1 và xuất kết quả ra màn hình."
      ],
      "metadata": {
        "id": "eHJMmkkodk6N"
      }
    },
    {
      "cell_type": "code",
      "source": [
        "def tinh_tong(vector_a):\n",
        "  tong = np.sum(vector_a)\n",
        "  return tong\n",
        "# 0,-2 cột\n",
        "# 1,-1 hàng\n",
        "w = np.apply_along_axis(tinh_tong, 1, A)\n",
        "print(w)"
      ],
      "metadata": {
        "colab": {
          "base_uri": "https://localhost:8080/"
        },
        "id": "oqootWvTdoYj",
        "outputId": "a86b427e-d275-40ac-c1eb-2af29a35ec91"
      },
      "execution_count": null,
      "outputs": [
        {
          "output_type": "stream",
          "name": "stdout",
          "text": [
            "[  7 -76  56  34 -11   4  33 -19 -23 -40   6  79  44  33  13]\n"
          ]
        }
      ]
    },
    {
      "cell_type": "markdown",
      "source": [
        "Câu 6: Xây dựng hàm tìm giá trị lớn nhất có tên là tinh_tong_2(vector_a) có tham số đầu vào là\n",
        "1 vector a và giá trị trả về là tổng các phần tử có chỉ số lẻ (1 – 3 – 5 , .v.v.) của vector này. Áp\n",
        "dụng hàm này theo từng cột của ma trận A ở Câu 1 và xuất kết quả ra màn hình. Tiếp tục áp dụng\n",
        "hàm này theo từng hàng của ma trận A kể trên và xuất kết quả ra màn hình."
      ],
      "metadata": {
        "id": "hLeLwcXvk4_O"
      }
    },
    {
      "cell_type": "code",
      "source": [
        "def tinh_tong_2(vector_a):\n",
        "  vector_a=0\n",
        "  for i in range (A):\n",
        "    if i%2 == 0:\n",
        "      vector_a == \n",
        "\n",
        "    if i%2 != 0:\n",
        "\n",
        "\n",
        "  tong2 = np.sum(vector_a)"
      ],
      "metadata": {
        "id": "dHqHHbSCk8Is"
      },
      "execution_count": null,
      "outputs": []
    }
  ]
}