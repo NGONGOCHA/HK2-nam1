{
  "nbformat": 4,
  "nbformat_minor": 0,
  "metadata": {
    "colab": {
      "name": "bài tập numpy số 3",
      "provenance": [],
      "collapsed_sections": [],
      "authorship_tag": "ABX9TyPFPfapw9MXaVkulsM1yLPB",
      "include_colab_link": true
    },
    "kernelspec": {
      "name": "python3",
      "display_name": "Python 3"
    },
    "language_info": {
      "name": "python"
    }
  },
  "cells": [
    {
      "cell_type": "markdown",
      "metadata": {
        "id": "view-in-github",
        "colab_type": "text"
      },
      "source": [
        "<a href=\"https://colab.research.google.com/github/NGONGOCHA/HK2-nam1/blob/main/b%C3%A0i_t%E1%BA%ADp_numpy_s%E1%BB%91_3.ipynb\" target=\"_parent\"><img src=\"https://colab.research.google.com/assets/colab-badge.svg\" alt=\"Open In Colab\"/></a>"
      ]
    },
    {
      "cell_type": "markdown",
      "source": [
        "Câu 1: Hãy trình bày cú pháp của hàm apply_along_axis() và ý nghĩa của từng tham số của hàm\n",
        "này."
      ],
      "metadata": {
        "id": "rU3XSB_DSIE6"
      }
    },
    {
      "cell_type": "markdown",
      "source": [
        "CÚ PHÁP: np.apply_along_axis(func1d, axis, arr, args, kwargs)\n",
        "\n",
        "- func1d(hàm): hàm này chấp nhận mảng 1 chiều,nó được áp dụng cho các mảng 1 chiều của ma trận theo trục được chỉ định\n",
        "\n",
        "- axis(số nguyên): trục dọc của ma trận được cắt\n",
        "\n",
        "- arr(ma trận): ma trận được nhập vào\n",
        "\n",
        "- args: đối số bổ sung cho func1d\n",
        "\n",
        "- kwargs: đối số được đặt tên bổ sung cho func1d"
      ],
      "metadata": {
        "id": "sO4pO3ht0ocR"
      }
    },
    {
      "cell_type": "markdown",
      "source": [
        "Câu 2: Tạo một ma trận A15x17 có giá trị ngẫu nhiên"
      ],
      "metadata": {
        "id": "oSbtRIWWHmGJ"
      }
    },
    {
      "cell_type": "code",
      "source": [
        "import numpy as np\n",
        "\n",
        "A = np.random.randint(low=-20, high=20, size=(15,17))\n",
        "print(\"ma trận A15x17: \\n\", A)"
      ],
      "metadata": {
        "colab": {
          "base_uri": "https://localhost:8080/"
        },
        "id": "J7_qC7IuHp9n",
        "outputId": "2164c0b2-1025-486a-96ae-2eb153799393"
      },
      "execution_count": 2,
      "outputs": [
        {
          "output_type": "stream",
          "name": "stdout",
          "text": [
            "ma trận A15x17: \n",
            " [[-19  16  -4 -10  12   2  14  11  10  -8  12  18  18   4  -8   6   9]\n",
            " [-20   3   5  13  15  15  14   4   5   0 -12   8 -16 -12  -1  -7  -9]\n",
            " [ 18  17  -4   2  -2  -7   6 -15  -8  -5  -7  -4 -19  -5  -5   9  -5]\n",
            " [ -2  10 -19  14   7   7 -16  -6   3 -10   4   0 -10  16   5 -19  -4]\n",
            " [ 18  15  -3  -4  -6   0 -15 -13   6 -17 -20   8   4 -10 -12   4 -19]\n",
            " [ 16   7   2  -6 -18 -13  14   3  18 -14  12  -2 -17 -10 -15  11 -11]\n",
            " [-11 -18   0  12   3  10   8   5  -5 -16 -12   4   2  17  -2  10  10]\n",
            " [  1  11  -2  -6  16  -4  14  18   9   0   5 -19  -5 -14  -2 -11 -16]\n",
            " [ -8  16 -19   3  -3   9   3  18 -14  17 -19 -20  10  -5   3 -15   0]\n",
            " [  7  16   6  14  12   6  -7   3  -5  -8  14 -11  -7 -12   5  13  19]\n",
            " [ 11  -6  17   3  -6  11 -18 -19  -1 -16  -2 -16  -7   7   7  13   3]\n",
            " [  4  10  -3  -6 -16   6 -10 -19  18  -6 -14  15   8   7  -6  -2 -19]\n",
            " [-15   2   4   3 -12 -20  19 -15  19  -8 -19 -14  17  -9  -4  13  16]\n",
            " [ -7  -7  11  -4   1  10  16   2  -6  -2 -17   1  11  16   0 -17  16]\n",
            " [  6  17   7  -8  -4 -12  14 -16   2  12  16   5 -10   6  -1   3  -1]]\n"
          ]
        }
      ]
    },
    {
      "cell_type": "markdown",
      "source": [
        "Câu 3: Xây dựng hàm tìm giá trị lớn nhất có tên là tim_gia_tri_lon_nhat(vector_a) có tham số\n",
        "đầu vào là 1 vector a và giá trị trả về là giá trị phần tử lớn nhất của vector này. Áp dụng hàm này\n",
        "theo từng hàng của ma trận A ở Câu 1 và xuất kết quả ra màn hình."
      ],
      "metadata": {
        "id": "aydVxY4fJSHe"
      }
    },
    {
      "cell_type": "code",
      "source": [
        "def tim_gia_tri_lon_nhat(vector_a):\n",
        "  max = np.max(vector_a)\n",
        "  return max\n",
        "# 0,-2 cột\n",
        "# 1,-1 hàng\n",
        "z = np.apply_along_axis(tim_gia_tri_lon_nhat, 1, A)\n",
        "print(z)"
      ],
      "metadata": {
        "colab": {
          "base_uri": "https://localhost:8080/"
        },
        "id": "-H3Un7UcJV8i",
        "outputId": "e336a359-2b74-4a64-f8fc-e81d433ede09"
      },
      "execution_count": 3,
      "outputs": [
        {
          "output_type": "stream",
          "name": "stdout",
          "text": [
            "[18 15 18 16 18 18 17 18 18 19 17 18 19 16 17]\n"
          ]
        }
      ]
    },
    {
      "cell_type": "markdown",
      "source": [
        "Câu 4: Xây dựng hàm tìm giá trị nhỏ nhất có tên là tim_gia_tri_nho_nhat(vector_a) có tham số\n",
        "đầu vào là 1 vector a và giá trị trả về là giá trị phần tử nhỏ nhất của vector này. Áp dụng hàm này\n",
        "theo từng cột của ma trận A ở Câu 1 và xuất kết quả ra màn hình."
      ],
      "metadata": {
        "id": "8GWr5TFuc8nz"
      }
    },
    {
      "cell_type": "code",
      "source": [
        "def tim_gia_tri_nho_nhat(vector_a):\n",
        "  min = np.min(vector_a)\n",
        "  return min\n",
        "\n",
        "q = np.apply_along_axis(tim_gia_tri_nho_nhat, 0, A)\n",
        "print(q)"
      ],
      "metadata": {
        "colab": {
          "base_uri": "https://localhost:8080/"
        },
        "id": "26d3y4LodCdh",
        "outputId": "a8fb07d3-73ff-441e-d68b-04a762ca4aaa"
      },
      "execution_count": 4,
      "outputs": [
        {
          "output_type": "stream",
          "name": "stdout",
          "text": [
            "[-20 -18 -19 -10 -18 -20 -18 -19 -14 -17 -20 -20 -19 -14 -15 -19 -19]\n"
          ]
        }
      ]
    },
    {
      "cell_type": "markdown",
      "source": [
        "Câu 5: Xây dựng hàm tìm giá trị lớn nhất có tên là tinh_tong(vector_a) có tham số đầu vào là 1\n",
        "vector a và giá trị trả về là tổng các phần tử của vector này. Áp dụng hàm này theo từng hàng của\n",
        "ma trận A ở Câu 1 và xuất kết quả ra màn hình."
      ],
      "metadata": {
        "id": "eHJMmkkodk6N"
      }
    },
    {
      "cell_type": "code",
      "source": [
        "def tinh_tong(vector_a):\n",
        "  tong = np.sum(vector_a)\n",
        "  return tong\n",
        "# 0,-2 cột\n",
        "# 1,-1 hàng\n",
        "w = np.apply_along_axis(tinh_tong, 1, A)\n",
        "print(w)"
      ],
      "metadata": {
        "colab": {
          "base_uri": "https://localhost:8080/"
        },
        "id": "oqootWvTdoYj",
        "outputId": "9bb99a06-ab25-4a8c-b4a2-b9fd236e6f11"
      },
      "execution_count": 5,
      "outputs": [
        {
          "output_type": "stream",
          "name": "stdout",
          "text": [
            "[ 83   5 -34 -20 -64 -23  17  -5 -24  65 -19 -33 -23  24  36]\n"
          ]
        }
      ]
    },
    {
      "cell_type": "markdown",
      "source": [
        "Câu 6: Xây dựng hàm tìm giá trị lớn nhất có tên là tinh_tong_2(vector_a) có tham số đầu vào là\n",
        "1 vector a và giá trị trả về là tổng các phần tử có chỉ số lẻ (1 – 3 – 5 , .v.v.) của vector này. Áp\n",
        "dụng hàm này theo từng cột của ma trận A ở Câu 1 và xuất kết quả ra màn hình. Tiếp tục áp dụng\n",
        "hàm này theo từng hàng của ma trận A kể trên và xuất kết quả ra màn hình."
      ],
      "metadata": {
        "id": "hLeLwcXvk4_O"
      }
    },
    {
      "cell_type": "code",
      "source": [
        "def tinh_tong_2(vector_a):\n",
        "  return np.sum(vector_a[vector_a%2!=0])\n",
        "# từng cột\n",
        "print(np.apply_along_axis(tinh_tong_2, 0, A))\n",
        "# từng hàng\n",
        "np.apply_along_axis(tinh_tong_2, 1, A)"
      ],
      "metadata": {
        "id": "dHqHHbSCk8Is",
        "colab": {
          "base_uri": "https://localhost:8080/"
        },
        "outputId": "3816ae6b-f279-409e-e595-395e1f16a7d8"
      },
      "execution_count": 10,
      "outputs": [
        {
          "output_type": "stream",
          "name": "stdout",
          "text": [
            "[-33  63  -4  22  23  22   0 -59  25  -5 -57  -9 -27  12  -2  -7 -33]\n"
          ]
        },
        {
          "output_type": "execute_result",
          "data": {
            "text/plain": [
              "array([  1,  39, -42, -16, -52, -35,   9,  -9, -26,  17,  45, -19,  13,\n",
              "       -24,  30])"
            ]
          },
          "metadata": {},
          "execution_count": 10
        }
      ]
    }
  ]
}