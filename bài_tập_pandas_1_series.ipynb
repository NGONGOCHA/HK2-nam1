{
  "nbformat": 4,
  "nbformat_minor": 0,
  "metadata": {
    "colab": {
      "name": "bài tập pandas 1 - series",
      "provenance": [],
      "collapsed_sections": [],
      "authorship_tag": "ABX9TyOQubzFXJOWOq7q2kJULV5P",
      "include_colab_link": true
    },
    "kernelspec": {
      "name": "python3",
      "display_name": "Python 3"
    },
    "language_info": {
      "name": "python"
    }
  },
  "cells": [
    {
      "cell_type": "markdown",
      "metadata": {
        "id": "view-in-github",
        "colab_type": "text"
      },
      "source": [
        "<a href=\"https://colab.research.google.com/github/NGONGOCHA/HK2-nam1/blob/main/b%C3%A0i_t%E1%BA%ADp_pandas_1_series.ipynb\" target=\"_parent\"><img src=\"https://colab.research.google.com/assets/colab-badge.svg\" alt=\"Open In Colab\"/></a>"
      ]
    },
    {
      "cell_type": "markdown",
      "source": [
        "**SERIES:**\n",
        "- Một Series tương tự như một danh sách hoặc một mảng trong Python. Nó đại diện cho một loạt các giá trị (số hoặc cách khác), chẳng hạn như một cột dữ liệu. Hãy nghĩ về nó như một danh sách Python trên steroid. Nó cung cấp thêm chức năng, phương thức và toán tử, làm cho nó trở thành phiên bản mạnh hơn của danh sách.\n",
        "- Khai báo thư viện: ***import pandas as pd***"
      ],
      "metadata": {
        "id": "6NZtligFgFhi"
      }
    },
    {
      "cell_type": "markdown",
      "source": [
        "Câu 1: Khởi tạo 1 Series với giá trị rỗng"
      ],
      "metadata": {
        "id": "L6blhPabtMZs"
      }
    },
    {
      "cell_type": "code",
      "execution_count": null,
      "metadata": {
        "colab": {
          "base_uri": "https://localhost:8080/"
        },
        "id": "E7Ob_qGRtD1B",
        "outputId": "a492f928-2b89-4103-9165-09a9b4d26a73"
      },
      "outputs": [
        {
          "output_type": "stream",
          "name": "stdout",
          "text": [
            "Series([], dtype: float64)\n"
          ]
        },
        {
          "output_type": "stream",
          "name": "stderr",
          "text": [
            "/usr/local/lib/python3.7/dist-packages/ipykernel_launcher.py:2: DeprecationWarning: The default dtype for empty Series will be 'object' instead of 'float64' in a future version. Specify a dtype explicitly to silence this warning.\n",
            "  \n"
          ]
        }
      ],
      "source": [
        "import pandas as pd\n",
        "a = pd.Series()\n",
        "print(a)"
      ]
    },
    {
      "cell_type": "markdown",
      "source": [
        "Câu 2: Giả sử có 1 vector hàng a có kích thước (1x7) được biểu diễn trong NumPy, hãy tạo 1 series tương ứng với các giá trị được sinh ngẫu nhiên."
      ],
      "metadata": {
        "id": "N--gkIDru0TN"
      }
    },
    {
      "cell_type": "code",
      "source": [
        "import numpy as np\n",
        "import pandas as pd\n",
        "\n",
        "b = pd.Series(np.random.randint(-10, 10, 7))\n",
        "b"
      ],
      "metadata": {
        "colab": {
          "base_uri": "https://localhost:8080/"
        },
        "id": "dOgRxLQ-vBjb",
        "outputId": "8de7b904-4327-4dc6-85a5-3ba2c0c7aa45"
      },
      "execution_count": 40,
      "outputs": [
        {
          "output_type": "execute_result",
          "data": {
            "text/plain": [
              "0   -2\n",
              "1    2\n",
              "2   -5\n",
              "3    4\n",
              "4   -3\n",
              "5    2\n",
              "6    8\n",
              "dtype: int64"
            ]
          },
          "metadata": {},
          "execution_count": 40
        }
      ]
    },
    {
      "cell_type": "markdown",
      "source": [
        "Câu 3: Giả sử có 1 vector hàng a có kích thước (1x7), hãy nhập các giá trị cho 7 phần tử này từ bàn phím và tạo series tương ứng."
      ],
      "metadata": {
        "id": "XH89TPP_2ipp"
      }
    },
    {
      "cell_type": "code",
      "source": [
        "import numpy as np\n",
        "import pandas as pd\n",
        "\n",
        "c1 = int(input(\"Nhập: \"))\n",
        "c2 = int(input(\"Nhập: \"))\n",
        "c3 = int(input(\"Nhập: \"))\n",
        "c4 = int(input(\"Nhập: \"))\n",
        "c5 = int(input(\"Nhập: \"))\n",
        "c6 = int(input(\"Nhập: \"))\n",
        "c7 = int(input(\"Nhập: \"))\n",
        "\n",
        "cc = [c1,c2,c3,c4,c5,c6,c7]\n",
        "a = np.array(cc)\n",
        "print(a)\n",
        "a2 = pd.Series(a)\n",
        "a2"
      ],
      "metadata": {
        "colab": {
          "base_uri": "https://localhost:8080/"
        },
        "id": "HM7JFoTq2hvi",
        "outputId": "7344e592-f415-40c5-a827-08b2d9f6ad63"
      },
      "execution_count": 41,
      "outputs": [
        {
          "output_type": "stream",
          "name": "stdout",
          "text": [
            "Nhập: 7\n",
            "Nhập: 9\n",
            "Nhập: 8\n",
            "Nhập: 0\n",
            "Nhập: 3\n",
            "Nhập: -6\n",
            "Nhập: 7\n",
            "[ 7  9  8  0  3 -6  7]\n"
          ]
        },
        {
          "output_type": "execute_result",
          "data": {
            "text/plain": [
              "0    7\n",
              "1    9\n",
              "2    8\n",
              "3    0\n",
              "4    3\n",
              "5   -6\n",
              "6    7\n",
              "dtype: int64"
            ]
          },
          "metadata": {},
          "execution_count": 41
        }
      ]
    },
    {
      "cell_type": "markdown",
      "source": [
        "Câu 4: Giả sử có 1 vector cột có kích thước (7x1) được biểu diễn trong NumPy, hãy tạo Series tương ứng."
      ],
      "metadata": {
        "id": "z7bwFtcZx9w0"
      }
    },
    {
      "cell_type": "code",
      "source": [
        "import numpy as np\n",
        "import pandas as pd\n",
        "a = np.random.randint(low=-10, high=10, size=(7,1))\n",
        "print(a)\n",
        "print(pd.Series(a.reshape(7,)))"
      ],
      "metadata": {
        "colab": {
          "base_uri": "https://localhost:8080/"
        },
        "id": "7CVB88nQx_R2",
        "outputId": "5492d5dd-4acb-4269-d79f-207bb9ab72ec"
      },
      "execution_count": 45,
      "outputs": [
        {
          "output_type": "stream",
          "name": "stdout",
          "text": [
            "[[ -3]\n",
            " [ -7]\n",
            " [-10]\n",
            " [  1]\n",
            " [-10]\n",
            " [ -8]\n",
            " [ -5]]\n",
            "0    -3\n",
            "1    -7\n",
            "2   -10\n",
            "3     1\n",
            "4   -10\n",
            "5    -8\n",
            "6    -5\n",
            "dtype: int64\n"
          ]
        }
      ]
    },
    {
      "cell_type": "markdown",
      "source": [
        "Câu 5: Chuyển đổi dữ liệu, hãy thực hiện các yêu cầu sau:\n",
        "- Chuyển 1 list thành 1 series\n",
        "- Chuyển 1 tuple thành 1 series\n",
        "- Chuyển 1 dictionary thành 1 series"
      ],
      "metadata": {
        "id": "4Jyn_FOY0olC"
      }
    },
    {
      "cell_type": "code",
      "source": [
        "import numpy as np\n",
        "import pandas as pd\n",
        "\n",
        "a = [1,2,3,4,5]\n",
        "b = (6,7,8,9,10)\n",
        "c = {'n':1, \"u\":2, \"m\":3, \"p\":4, \"y\":5}\n",
        "\n",
        "aa = pd.Series(a)\n",
        "print(\"Chuyển list thành series:\\n\", aa)\n",
        "bb = pd.Series(b)\n",
        "print(\"Chuyển tuple thành series:\\n\", bb)\n",
        "cc = pd.Series(c)\n",
        "print(\"Chuyển dictionary thành series:\\n\", cc)"
      ],
      "metadata": {
        "id": "5uxRoS980tKg",
        "colab": {
          "base_uri": "https://localhost:8080/"
        },
        "outputId": "213770b4-ff83-45a7-8493-d90bc3bfbf61"
      },
      "execution_count": 46,
      "outputs": [
        {
          "output_type": "stream",
          "name": "stdout",
          "text": [
            "Chuyển list thành series:\n",
            " 0    1\n",
            "1    2\n",
            "2    3\n",
            "3    4\n",
            "4    5\n",
            "dtype: int64\n",
            "Chuyển tuple thành series:\n",
            " 0     6\n",
            "1     7\n",
            "2     8\n",
            "3     9\n",
            "4    10\n",
            "dtype: int64\n",
            "Chuyển dictionary thành series:\n",
            " n    1\n",
            "u    2\n",
            "m    3\n",
            "p    4\n",
            "y    5\n",
            "dtype: int64\n"
          ]
        }
      ]
    },
    {
      "cell_type": "markdown",
      "source": [
        "Câu 6: Mỗi phần tử của series đều gắn liền với các chỉ số (index) tương ứng, hãy tạo một series\n",
        "có kích thước (1x20) với giá trị ngẫu nhiên:\n",
        "- Xuất series ra màn hình\n",
        "- Xuất các chỉ số của series ra màn hình\n",
        "- Thay đổi cách đánh chỉ số mặc định của series từ đánh chỉ số bằng số nguyên sang các kiểu\n",
        "đánh chỉ số bằng label và in kết quả ra màn hình\n",
        "Gợi ý:\n",
        "- Hàm loc() dùng cho chỉ số label\n",
        "- Hàm iloc() dùng cho chỉ số đạng số nguyên\n",
        "- Hàm ix(): dùng cho cả 2 loại chỉ số trên"
      ],
      "metadata": {
        "id": "eGb5z2FstVQ7"
      }
    },
    {
      "cell_type": "code",
      "source": [
        "import numpy as np\n",
        "import pandas as pd\n",
        "import string\n",
        "import random\n",
        "\n",
        "shi = np.random.randn(20)\n",
        "shi2 = pd.Series(shi)\n",
        "print(shi2) #xuất các chỉ số của series ra màn hình\n",
        "\n",
        "label = [string.ascii_uppercase[i] for i in range(20)]\n",
        "#Thay đổi cách đánh chỉ số mặc định của series từ đánh chỉ số bằng số nguyên sang các kiểu đánh chỉ số bằng label \n",
        "shi2.index = label\n",
        "shi2"
      ],
      "metadata": {
        "colab": {
          "base_uri": "https://localhost:8080/"
        },
        "id": "YLdiljf1tnud",
        "outputId": "74bde1b7-da33-4034-c33d-74f5132afe0f"
      },
      "execution_count": 47,
      "outputs": [
        {
          "output_type": "stream",
          "name": "stdout",
          "text": [
            "0     0.093185\n",
            "1     0.840169\n",
            "2    -0.084001\n",
            "3     0.735274\n",
            "4     0.520088\n",
            "5    -1.002119\n",
            "6    -0.403936\n",
            "7     0.019524\n",
            "8     1.507126\n",
            "9     0.728886\n",
            "10   -0.617819\n",
            "11    0.983137\n",
            "12   -0.227191\n",
            "13    0.763787\n",
            "14   -0.794472\n",
            "15    1.519240\n",
            "16    1.478170\n",
            "17   -0.327823\n",
            "18   -0.946303\n",
            "19   -1.033784\n",
            "dtype: float64\n"
          ]
        },
        {
          "output_type": "execute_result",
          "data": {
            "text/plain": [
              "A    0.093185\n",
              "B    0.840169\n",
              "C   -0.084001\n",
              "D    0.735274\n",
              "E    0.520088\n",
              "F   -1.002119\n",
              "G   -0.403936\n",
              "H    0.019524\n",
              "I    1.507126\n",
              "J    0.728886\n",
              "K   -0.617819\n",
              "L    0.983137\n",
              "M   -0.227191\n",
              "N    0.763787\n",
              "O   -0.794472\n",
              "P    1.519240\n",
              "Q    1.478170\n",
              "R   -0.327823\n",
              "S   -0.946303\n",
              "T   -1.033784\n",
              "dtype: float64"
            ]
          },
          "metadata": {},
          "execution_count": 47
        }
      ]
    },
    {
      "cell_type": "code",
      "source": [
        "print(shi2.loc[\"O\"])\n",
        "shi2.iloc[14]"
      ],
      "metadata": {
        "colab": {
          "base_uri": "https://localhost:8080/"
        },
        "id": "S4qwl0d6RMUQ",
        "outputId": "eeecedab-6975-440b-98b0-86cb7d96d471"
      },
      "execution_count": 48,
      "outputs": [
        {
          "output_type": "stream",
          "name": "stdout",
          "text": [
            "-0.7944721183981761\n"
          ]
        },
        {
          "output_type": "execute_result",
          "data": {
            "text/plain": [
              "-0.7944721183981761"
            ]
          },
          "metadata": {},
          "execution_count": 48
        }
      ]
    },
    {
      "cell_type": "markdown",
      "source": [
        "Câu 7: Giả sử có series có kích thước (1x10), giá trị ngẫu nhiên, index được đánh từ ‘a’ trở đi,\n",
        "hãy:\n",
        "- Trích xuất các phần tử của Series có chỉ số là ‘a’, ‘c’, ‘e’\n",
        "- Trích xuất các phần tử của Series có chỉ số từ 3 đến 6"
      ],
      "metadata": {
        "id": "f1gfeBhjIxES"
      }
    },
    {
      "cell_type": "code",
      "source": [
        "import numpy as np\n",
        "import pandas as pd\n",
        "\n",
        "do = np.random.randint(low=0,high=10,size=(1,10))\n",
        "la = [string.ascii_lowercase[i] for i in range(10)]\n",
        "S = pd.Series(do[0],index=la)\n",
        "print(S)"
      ],
      "metadata": {
        "colab": {
          "base_uri": "https://localhost:8080/"
        },
        "id": "pACaV7mcI5ks",
        "outputId": "62808dc1-badf-4f6e-c22b-7c2659d0a5f1"
      },
      "execution_count": 49,
      "outputs": [
        {
          "output_type": "stream",
          "name": "stdout",
          "text": [
            "a    0\n",
            "b    4\n",
            "c    9\n",
            "d    4\n",
            "e    8\n",
            "f    5\n",
            "g    5\n",
            "h    6\n",
            "i    3\n",
            "j    7\n",
            "dtype: int64\n"
          ]
        }
      ]
    },
    {
      "cell_type": "code",
      "source": [
        "print(\"Trích xuất các phần tử của Series có chỉ số từ 3 đến 6\")\n",
        "S.iloc[3:6]"
      ],
      "metadata": {
        "colab": {
          "base_uri": "https://localhost:8080/"
        },
        "id": "XLShkrKFdvPz",
        "outputId": "ba3de81f-6851-4d7b-925e-1732bde92791"
      },
      "execution_count": 55,
      "outputs": [
        {
          "output_type": "stream",
          "name": "stdout",
          "text": [
            "Trích xuất các phần tử của Series có chỉ số từ 3 đến 6\n"
          ]
        },
        {
          "output_type": "execute_result",
          "data": {
            "text/plain": [
              "d    4\n",
              "e    8\n",
              "f    5\n",
              "dtype: int64"
            ]
          },
          "metadata": {},
          "execution_count": 55
        }
      ]
    },
    {
      "cell_type": "code",
      "source": [
        "print(\"Trích xuất các phần tử của Series có chỉ số là ‘a’, ‘c’, ‘e’\")\n",
        "S.loc[['a', 'c', 'e']]"
      ],
      "metadata": {
        "colab": {
          "base_uri": "https://localhost:8080/"
        },
        "id": "JGn9m6nHd5jL",
        "outputId": "6395a9fd-1e38-4038-a931-33ff64c27eff"
      },
      "execution_count": 54,
      "outputs": [
        {
          "output_type": "stream",
          "name": "stdout",
          "text": [
            "Trích xuất các phần tử của Series có chỉ số là ‘a’, ‘c’, ‘e’\n"
          ]
        },
        {
          "output_type": "execute_result",
          "data": {
            "text/plain": [
              "a    0\n",
              "c    9\n",
              "e    8\n",
              "dtype: int64"
            ]
          },
          "metadata": {},
          "execution_count": 54
        }
      ]
    }
  ]
}