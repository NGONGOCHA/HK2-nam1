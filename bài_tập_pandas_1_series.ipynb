{
  "nbformat": 4,
  "nbformat_minor": 0,
  "metadata": {
    "colab": {
      "name": "bài tập pandas 1 - series",
      "provenance": [],
      "collapsed_sections": [],
      "authorship_tag": "ABX9TyOWxcgBCRnC6em5DCUEK4sC",
      "include_colab_link": true
    },
    "kernelspec": {
      "name": "python3",
      "display_name": "Python 3"
    },
    "language_info": {
      "name": "python"
    }
  },
  "cells": [
    {
      "cell_type": "markdown",
      "metadata": {
        "id": "view-in-github",
        "colab_type": "text"
      },
      "source": [
        "<a href=\"https://colab.research.google.com/github/NGONGOCHA/HK2-nam1/blob/main/b%C3%A0i_t%E1%BA%ADp_pandas_1_series.ipynb\" target=\"_parent\"><img src=\"https://colab.research.google.com/assets/colab-badge.svg\" alt=\"Open In Colab\"/></a>"
      ]
    },
    {
      "cell_type": "markdown",
      "source": [
        "**SERIES:**\n",
        "- Một Series tương tự như một danh sách hoặc một mảng trong Python. Nó đại diện cho một loạt các giá trị (số hoặc cách khác), chẳng hạn như một cột dữ liệu. Hãy nghĩ về nó như một danh sách Python trên steroid. Nó cung cấp thêm chức năng, phương thức và toán tử, làm cho nó trở thành phiên bản mạnh hơn của danh sách.\n",
        "- Khai báo thư viện: ***import pandas as pd***"
      ],
      "metadata": {
        "id": "6NZtligFgFhi"
      }
    },
    {
      "cell_type": "markdown",
      "source": [
        "Câu 1: Khởi tạo 1 Series với giá trị rỗng"
      ],
      "metadata": {
        "id": "L6blhPabtMZs"
      }
    },
    {
      "cell_type": "code",
      "execution_count": null,
      "metadata": {
        "colab": {
          "base_uri": "https://localhost:8080/"
        },
        "id": "E7Ob_qGRtD1B",
        "outputId": "165b21b9-1b24-4acb-8606-dda8f520b3a9"
      },
      "outputs": [
        {
          "output_type": "stream",
          "name": "stdout",
          "text": [
            "Series([], dtype: float64)\n"
          ]
        },
        {
          "output_type": "stream",
          "name": "stderr",
          "text": [
            "/usr/local/lib/python3.7/dist-packages/ipykernel_launcher.py:2: DeprecationWarning: The default dtype for empty Series will be 'object' instead of 'float64' in a future version. Specify a dtype explicitly to silence this warning.\n",
            "  \n"
          ]
        }
      ],
      "source": [
        "import pandas as pd\n",
        "a = pd.Series([])\n",
        "print(a)"
      ]
    },
    {
      "cell_type": "markdown",
      "source": [
        "Câu 2: Giả sử có 1 vector hàng a có kích thước (1x7) được biểu diễn trong NumPy, hãy tạo 1 series tương ứng với các giá trị được sinh ngẫu nhiên."
      ],
      "metadata": {
        "id": "N--gkIDru0TN"
      }
    },
    {
      "cell_type": "code",
      "source": [
        "import numpy as np\n",
        "import pandas as pd\n",
        "\n",
        "b = pd.Series(np.random.randint(10,size = 7))\n",
        "print(b.values)"
      ],
      "metadata": {
        "colab": {
          "base_uri": "https://localhost:8080/"
        },
        "id": "dOgRxLQ-vBjb",
        "outputId": "4ec0f079-04c6-47fb-a19a-4b002e7c6590"
      },
      "execution_count": null,
      "outputs": [
        {
          "output_type": "stream",
          "name": "stdout",
          "text": [
            "[0 7 8 3 8 8 0]\n"
          ]
        }
      ]
    },
    {
      "cell_type": "markdown",
      "source": [
        "Câu 3: Giả sử có 1 vector hàng a có kích thước (1x7), hãy nhập các giá trị cho 7 phần tử này từ bàn phím và tạo series tương ứng."
      ],
      "metadata": {
        "id": "XH89TPP_2ipp"
      }
    },
    {
      "cell_type": "code",
      "source": [
        "import numpy as np\n",
        "import pandas as pd\n",
        "\n",
        "c1 = int(input(\"Nhập: \"))\n",
        "c2 = int(input(\"Nhập: \"))\n",
        "c3 = int(input(\"Nhập: \"))\n",
        "c4 = int(input(\"Nhập: \"))\n",
        "c5 = int(input(\"Nhập: \"))\n",
        "c6 = int(input(\"Nhập: \"))\n",
        "c7 = int(input(\"Nhập: \"))\n",
        "\n",
        "cc = [c1,c2,c3,c4,c5,c6,c7]\n",
        "a = np.array(cc)\n",
        "print(a)\n",
        "a2 = pd.Series(a)\n",
        "print(a2)"
      ],
      "metadata": {
        "colab": {
          "base_uri": "https://localhost:8080/"
        },
        "id": "HM7JFoTq2hvi",
        "outputId": "15e404ba-41c9-4d26-fda7-7768910c79aa"
      },
      "execution_count": null,
      "outputs": [
        {
          "output_type": "stream",
          "name": "stdout",
          "text": [
            "Nhập: 3\n",
            "Nhập: 5\n",
            "Nhập: 0\n",
            "Nhập: 2\n",
            "Nhập: 0\n",
            "Nhập: 7\n",
            "Nhập: 8\n",
            "[3 5 0 2 0 7 8]\n",
            "0    3\n",
            "1    5\n",
            "2    0\n",
            "3    2\n",
            "4    0\n",
            "5    7\n",
            "6    8\n",
            "dtype: int64\n"
          ]
        }
      ]
    },
    {
      "cell_type": "markdown",
      "source": [
        "Câu 4: Giả sử có 1 vector cột có kích thước (7x1) được biểu diễn trong NumPy, hãy tạo Series tương ứng."
      ],
      "metadata": {
        "id": "z7bwFtcZx9w0"
      }
    },
    {
      "cell_type": "code",
      "source": [
        "import numpy as np\n",
        "import pandas as pd\n",
        "a = np.random.randint(low=-10, high=10, size=(7,1))\n",
        "print(a)\n",
        "print(pd.Series(a.reshape(7,)))"
      ],
      "metadata": {
        "colab": {
          "base_uri": "https://localhost:8080/"
        },
        "id": "7CVB88nQx_R2",
        "outputId": "8858f8d8-5e8f-424a-8ba2-c32fc54bc531"
      },
      "execution_count": 6,
      "outputs": [
        {
          "output_type": "stream",
          "name": "stdout",
          "text": [
            "[[  0]\n",
            " [-10]\n",
            " [  3]\n",
            " [  4]\n",
            " [  4]\n",
            " [ -6]\n",
            " [ -9]]\n",
            "0     0\n",
            "1   -10\n",
            "2     3\n",
            "3     4\n",
            "4     4\n",
            "5    -6\n",
            "6    -9\n",
            "dtype: int64\n"
          ]
        }
      ]
    },
    {
      "cell_type": "markdown",
      "source": [
        "Câu 5: Chuyển đổi dữ liệu, hãy thực hiện các yêu cầu sau:\n",
        "- Chuyển 1 list thành 1 series\n",
        "- Chuyển 1 tuple thành 1 series\n",
        "- Chuyển 1 dictionary thành 1 series"
      ],
      "metadata": {
        "id": "4Jyn_FOY0olC"
      }
    },
    {
      "cell_type": "code",
      "source": [
        "import numpy as np\n",
        "import pandas as pd\n",
        "\n",
        "a = [1,2,3,4,5]\n",
        "b = (6,7,8,9,10)\n",
        "c = {'n':1, \"u\":2, \"m\":3, \"p\":4, \"y\":5}\n",
        "\n",
        "aa = pd.Series(a)\n",
        "print(aa)\n",
        "bb = pd.Series(b)\n",
        "print(bb)\n",
        "cc = pd.Series(c)\n",
        "print(c)"
      ],
      "metadata": {
        "id": "5uxRoS980tKg",
        "colab": {
          "base_uri": "https://localhost:8080/"
        },
        "outputId": "3634027e-a49e-4e81-f4d5-87f1c3f99723"
      },
      "execution_count": null,
      "outputs": [
        {
          "output_type": "stream",
          "name": "stdout",
          "text": [
            "0    1\n",
            "1    2\n",
            "2    3\n",
            "3    4\n",
            "4    5\n",
            "dtype: int64\n",
            "0     6\n",
            "1     7\n",
            "2     8\n",
            "3     9\n",
            "4    10\n",
            "dtype: int64\n",
            "{'n': 1, 'u': 2, 'm': 3, 'p': 4, 'y': 5}\n"
          ]
        }
      ]
    },
    {
      "cell_type": "markdown",
      "source": [
        "Câu 6: Mỗi phần tử của series đều gắn liền với các chỉ số (index) tương ứng, hãy tạo một series\n",
        "có kích thước (1x20) với giá trị ngẫu nhiên:\n",
        "- Xuất series ra màn hình\n",
        "- Xuất các chỉ số của series ra màn hình\n",
        "- Thay đổi cách đánh chỉ số mặc định của series từ đánh chỉ số bằng số nguyên sang các kiểu\n",
        "đánh chỉ số bằng label và in kết quả ra màn hình\n",
        "Gợi ý:\n",
        "- Hàm loc() dùng cho chỉ số label\n",
        "- Hàm iloc() dùng cho chỉ số đạng số nguyên\n",
        "- Hàm ix(): dùng cho cả 2 loại chỉ số trên"
      ],
      "metadata": {
        "id": "eGb5z2FstVQ7"
      }
    },
    {
      "cell_type": "code",
      "source": [
        "import numpy as np\n",
        "import pandas as pd\n",
        "\n",
        "shi = np.random.randint(low=-10, high=10, size=(1,20))\n",
        "print(shi) #xuất series ra màn hình\n",
        "print(pd.Series(shi[0])) #xuất các chỉ số của series ra màn hình\n",
        "\n",
        "label = [\"a\",\"b\",\"c\",\"d\",\"e\",\"f\",\"g\",\"h\",\"i\",\"j\",\"k\",\"l\",\"m\",\"n\",\"o\",\"p\",\"q\",\"r\",\"s\",\"t\"]\n",
        "#Thay đổi cách đánh chỉ số mặc định của series từ đánh chỉ số bằng số nguyên sang các kiểu đánh chỉ số bằng label \n",
        "print(pd.Series(shi[0], index = label)) \n",
        "print(shi.loc[[\"a\",\"c\",\"e\"]])\n"
      ],
      "metadata": {
        "colab": {
          "base_uri": "https://localhost:8080/",
          "height": 964
        },
        "id": "YLdiljf1tnud",
        "outputId": "cda22aaa-53bb-4038-e9db-1b3d47367050"
      },
      "execution_count": 45,
      "outputs": [
        {
          "output_type": "stream",
          "name": "stdout",
          "text": [
            "[[ -1   1  -4   7  -6  -9  -9  -2  -5  -8  -7 -10   0   8 -10  -6   8  -6\n",
            "   -9  -3]]\n",
            "0     -1\n",
            "1      1\n",
            "2     -4\n",
            "3      7\n",
            "4     -6\n",
            "5     -9\n",
            "6     -9\n",
            "7     -2\n",
            "8     -5\n",
            "9     -8\n",
            "10    -7\n",
            "11   -10\n",
            "12     0\n",
            "13     8\n",
            "14   -10\n",
            "15    -6\n",
            "16     8\n",
            "17    -6\n",
            "18    -9\n",
            "19    -3\n",
            "dtype: int64\n",
            "a    -1\n",
            "b     1\n",
            "c    -4\n",
            "d     7\n",
            "e    -6\n",
            "f    -9\n",
            "g    -9\n",
            "h    -2\n",
            "i    -5\n",
            "j    -8\n",
            "k    -7\n",
            "l   -10\n",
            "m     0\n",
            "n     8\n",
            "o   -10\n",
            "p    -6\n",
            "q     8\n",
            "r    -6\n",
            "s    -9\n",
            "t    -3\n",
            "dtype: int64\n"
          ]
        },
        {
          "output_type": "error",
          "ename": "AttributeError",
          "evalue": "ignored",
          "traceback": [
            "\u001b[0;31m---------------------------------------------------------------------------\u001b[0m",
            "\u001b[0;31mAttributeError\u001b[0m                            Traceback (most recent call last)",
            "\u001b[0;32m<ipython-input-45-9ea7cc0b2406>\u001b[0m in \u001b[0;36m<module>\u001b[0;34m()\u001b[0m\n\u001b[1;32m      9\u001b[0m \u001b[0;31m#Thay đổi cách đánh chỉ số mặc định của series từ đánh chỉ số bằng số nguyên sang các kiểu đánh chỉ số bằng label\u001b[0m\u001b[0;34m\u001b[0m\u001b[0;34m\u001b[0m\u001b[0;34m\u001b[0m\u001b[0m\n\u001b[1;32m     10\u001b[0m \u001b[0mprint\u001b[0m\u001b[0;34m(\u001b[0m\u001b[0mpd\u001b[0m\u001b[0;34m.\u001b[0m\u001b[0mSeries\u001b[0m\u001b[0;34m(\u001b[0m\u001b[0mshi\u001b[0m\u001b[0;34m[\u001b[0m\u001b[0;36m0\u001b[0m\u001b[0;34m]\u001b[0m\u001b[0;34m,\u001b[0m \u001b[0mindex\u001b[0m \u001b[0;34m=\u001b[0m \u001b[0mlabel\u001b[0m\u001b[0;34m)\u001b[0m\u001b[0;34m)\u001b[0m\u001b[0;34m\u001b[0m\u001b[0;34m\u001b[0m\u001b[0m\n\u001b[0;32m---> 11\u001b[0;31m \u001b[0mprint\u001b[0m\u001b[0;34m(\u001b[0m\u001b[0mshi\u001b[0m\u001b[0;34m.\u001b[0m\u001b[0mloc\u001b[0m\u001b[0;34m[\u001b[0m\u001b[0;34m[\u001b[0m\u001b[0;34m\"a\"\u001b[0m\u001b[0;34m,\u001b[0m\u001b[0;34m\"c\"\u001b[0m\u001b[0;34m,\u001b[0m\u001b[0;34m\"e\"\u001b[0m\u001b[0;34m]\u001b[0m\u001b[0;34m]\u001b[0m\u001b[0;34m)\u001b[0m\u001b[0;34m\u001b[0m\u001b[0;34m\u001b[0m\u001b[0m\n\u001b[0m",
            "\u001b[0;31mAttributeError\u001b[0m: 'numpy.ndarray' object has no attribute 'loc'"
          ]
        }
      ]
    },
    {
      "cell_type": "markdown",
      "source": [
        "Câu 7: Giả sử có series có kích thước (1x10), giá trị ngẫu nhiên, index được đánh từ ‘a’ trở đi,\n",
        "hãy:\n",
        "- Trích xuất các phần tử của Series có chỉ số là ‘a’, ‘c’, ‘e’\n",
        "- Trích xuất các phần tử của Series có chỉ số từ 3 đến 6"
      ],
      "metadata": {
        "id": "f1gfeBhjIxES"
      }
    },
    {
      "cell_type": "code",
      "source": [
        "import numpy as np\n",
        "import pandas as pd\n",
        "\n",
        "do = np.random.randint(low=0,high=10,size=(1,10))\n",
        "la = [\"a\",\"b\",\"c\",\"d\",\"e\",\"f\",\"g\",\"h\",\"i\",\"j\"]\n",
        "S = pd.Series(do[0],index=la)\n",
        "print(S)"
      ],
      "metadata": {
        "colab": {
          "base_uri": "https://localhost:8080/"
        },
        "id": "pACaV7mcI5ks",
        "outputId": "a684b7b2-527f-4fe5-becc-f9fda882bf47"
      },
      "execution_count": 48,
      "outputs": [
        {
          "output_type": "stream",
          "name": "stdout",
          "text": [
            "a    2\n",
            "b    5\n",
            "c    7\n",
            "d    9\n",
            "e    9\n",
            "f    4\n",
            "g    5\n",
            "h    2\n",
            "i    4\n",
            "j    8\n",
            "dtype: int64\n"
          ]
        }
      ]
    }
  ]
}