{
  "nbformat": 4,
  "nbformat_minor": 0,
  "metadata": {
    "colab": {
      "name": "Bài tập numpy số 4.ipynb",
      "provenance": [],
      "authorship_tag": "ABX9TyPKH5zpDx8VwPyRE7XP9cdu",
      "include_colab_link": true
    },
    "kernelspec": {
      "name": "python3",
      "display_name": "Python 3"
    },
    "language_info": {
      "name": "python"
    }
  },
  "cells": [
    {
      "cell_type": "markdown",
      "metadata": {
        "id": "view-in-github",
        "colab_type": "text"
      },
      "source": [
        "<a href=\"https://colab.research.google.com/github/NGONGOCHA/HK2-nam1/blob/main/B%C3%A0i_t%E1%BA%ADp_numpy_s%E1%BB%91_4.ipynb\" target=\"_parent\"><img src=\"https://colab.research.google.com/assets/colab-badge.svg\" alt=\"Open In Colab\"/></a>"
      ]
    },
    {
      "cell_type": "markdown",
      "source": [
        "Câu 1: Sử dụng thư viện Numpy, hãy tạo một vector a có 7 chiều (tương ứng 7 phần tử) với giá\n",
        "trị các phần tử được sinh bằng hàm (kết quả xuất ra màn hình):\n",
        "- np.arange()\n",
        "- np.linspace()\n",
        "- np.logspace()\n",
        "- np.random.rand()"
      ],
      "metadata": {
        "id": "emDaqWWminva"
      }
    },
    {
      "cell_type": "code",
      "execution_count": 1,
      "metadata": {
        "id": "MuN9SSGAignz"
      },
      "outputs": [],
      "source": [
        "import numpy as np"
      ]
    },
    {
      "cell_type": "markdown",
      "source": [
        "Tạo một vector a có 7 chiều với hàm np.arange()"
      ],
      "metadata": {
        "id": "UKxYykADlcOS"
      }
    },
    {
      "cell_type": "code",
      "source": [
        "a = np.arange(7)\n",
        "aa = a.T\n",
        "print(\"vector a: \", a)\n",
        "print(\"Chuyển vị của vector a: \\n\", aa)\n",
        "print(\"số chiều của vector a: \", a.ndim)\n",
        "print(\"số chiều vector chuyển vị của vector a: \", aa.ndim)\n",
        "print(\"kích thước của vector a: \", a.shape)\n",
        "print(\"kích thước vector chuyển vị của vector a: \", aa.shape)"
      ],
      "metadata": {
        "colab": {
          "base_uri": "https://localhost:8080/"
        },
        "id": "vXcWBMX3jpW4",
        "outputId": "a3ff1028-7ebf-4d58-f1e5-08d74a5a0d42"
      },
      "execution_count": 8,
      "outputs": [
        {
          "output_type": "stream",
          "name": "stdout",
          "text": [
            "vector a:  [0 1 2 3 4 5 6]\n",
            "Chuyển vị của vector a: \n",
            " [0 1 2 3 4 5 6]\n",
            "số chiều của vector a:  1\n",
            "số chiều vector chuyển vị của vector a:  1\n",
            "kích thước của vector a:  (7,)\n",
            "kích thước vector chuyển vị của vector a:  (7,)\n"
          ]
        }
      ]
    },
    {
      "cell_type": "markdown",
      "source": [
        "Tạo một vector a có 7 chiều với hàm linspace()"
      ],
      "metadata": {
        "id": "A0l-KjD0leOs"
      }
    },
    {
      "cell_type": "code",
      "source": [
        "b = np.linspace(1, 10, 7, dtype=int)\n",
        "bb = b.T\n",
        "print(\"vector a: \", b)\n",
        "print(\"Chuyển vị của vector a: \\n\", bb)\n",
        "print(\"số chiều của vector a: \", b.ndim)\n",
        "print(\"số chiều vector chuyển vị của vector a: \", bb.ndim)\n",
        "print(\"kích thước của vector a: \", b.shape)\n",
        "print(\"kích thước vector chuyển vị của vector a: \", bb.shape)"
      ],
      "metadata": {
        "colab": {
          "base_uri": "https://localhost:8080/"
        },
        "id": "JJi5jrBkkLE9",
        "outputId": "8317e1e7-085a-485e-c1df-235e7c8a90a5"
      },
      "execution_count": 13,
      "outputs": [
        {
          "output_type": "stream",
          "name": "stdout",
          "text": [
            "vector a:  [ 1  2  4  5  7  8 10]\n",
            "Chuyển vị của vector a: \n",
            " [ 1  2  4  5  7  8 10]\n",
            "số chiều của vector a:  1\n",
            "số chiều vector chuyển vị của vector a:  1\n",
            "kích thước của vector a:  (7,)\n",
            "kích thước vector chuyển vị của vector a:  (7,)\n"
          ]
        }
      ]
    },
    {
      "cell_type": "markdown",
      "source": [
        "Tạo một vector a có 7 chiều với hàm np.logspace()"
      ],
      "metadata": {
        "id": "c4rxaSkalicV"
      }
    },
    {
      "cell_type": "code",
      "source": [
        "c = np.logspace(1, 2, 7, dtype=int)\n",
        "cc = c.T\n",
        "\n",
        "print(\"vector a: \", c)\n",
        "print(\"Chuyển vị của vector a: \\n\", cc)\n",
        "print(\"số chiều của vector a: \", c.ndim)\n",
        "print(\"số chiều vector chuyển vị của vector a: \", cc.ndim)\n",
        "print(\"kích thước của vector a: \", c.shape)\n",
        "print(\"kích thước vector chuyển vị của vector a: \", cc.shape)"
      ],
      "metadata": {
        "colab": {
          "base_uri": "https://localhost:8080/"
        },
        "id": "g28a7CFOk5BK",
        "outputId": "01f326ad-3d91-4bf1-b978-52a7a3a5e121"
      },
      "execution_count": 14,
      "outputs": [
        {
          "output_type": "stream",
          "name": "stdout",
          "text": [
            "vector a:  [ 10  14  21  31  46  68 100]\n",
            "Chuyển vị của vector a: \n",
            " [ 10  14  21  31  46  68 100]\n",
            "số chiều của vector a:  1\n",
            "số chiều vector chuyển vị của vector a:  1\n",
            "kích thước của vector a:  (7,)\n",
            "kích thước vector chuyển vị của vector a:  (7,)\n"
          ]
        }
      ]
    },
    {
      "cell_type": "markdown",
      "source": [
        "Tạo một vector a có 7 chiều với hàm np.random.randint()"
      ],
      "metadata": {
        "id": "CICtzkAOllg8"
      }
    },
    {
      "cell_type": "code",
      "source": [
        "d = np.random.randint(-10, 10, 7)\n",
        "dd = d.T\n",
        "print(\"vector a: \", d)\n",
        "print(\"Chuyển vị của vector a: \\n\", dd)\n",
        "print(\"số chiều của vector a: \", d.ndim)\n",
        "print(\"số chiều vector chuyển vị của vector a: \", dd.ndim)\n",
        "print(\"kích thước của vector a: \", d.shape)\n",
        "print(\"kích thước vector chuyển vị của vector a: \", dd.shape)"
      ],
      "metadata": {
        "colab": {
          "base_uri": "https://localhost:8080/"
        },
        "id": "1qWKLfe7lDc2",
        "outputId": "8b32a26c-ed1d-445a-80b5-9327ad5f7f7d"
      },
      "execution_count": 17,
      "outputs": [
        {
          "output_type": "stream",
          "name": "stdout",
          "text": [
            "vector a:  [-4 -7 -3 -3 -1 -7 -9]\n",
            "Chuyển vị của vector a: \n",
            " [-4 -7 -3 -3 -1 -7 -9]\n",
            "số chiều của vector a:  1\n",
            "số chiều vector chuyển vị của vector a:  1\n",
            "kích thước của vector a:  (7,)\n",
            "kích thước vector chuyển vị của vector a:  (7,)\n"
          ]
        }
      ]
    },
    {
      "cell_type": "markdown",
      "source": [
        "Câu 2: Sử dụng thư viện Numpy, hãy tạo ra ma trận A10x7 với giá trị các phần tử của ma trận A được sinh bởi:\n",
        "- np.arange()\n",
        "- np.linspace()\n",
        "- np.logspace()\n",
        "- np.random.rand()\n",
        "\n",
        "Sau mỗi lần ma trận được tạo ra, hãy xuất kết quả ra màn hình và cho biết:\n",
        "- Số chiều và kích thước của ma trận A và ma trận $A^T$"
      ],
      "metadata": {
        "id": "hq9CRFmgl4e3"
      }
    },
    {
      "cell_type": "markdown",
      "source": [
        "ma trận A10x7 với giá trị các phần tử của ma trận A được sinh bởi hàm np.arange()"
      ],
      "metadata": {
        "id": "tp6cOoF55RhE"
      }
    },
    {
      "cell_type": "code",
      "source": [
        "e = np.arange(1, 11).reshape(-1, 1) * np.arange(1, 8)\n",
        "ee = e.T\n",
        "print(\"ma trận A: \\n\", e)\n",
        "print(\"Chuyển vị của ma trận A: \\n\", ee)\n",
        "print(\"số chiều của ma trận A: \", e.ndim)\n",
        "print(\"số chiều vector chuyển vị của ma trận A:: \", ee.ndim)\n",
        "print(\"kích thước của ma trận A:: \", e.shape)\n",
        "print(\"kích thước vector chuyển vị của ma trận A: \", ee.shape)"
      ],
      "metadata": {
        "colab": {
          "base_uri": "https://localhost:8080/"
        },
        "id": "x-X33ySEuo0k",
        "outputId": "994bb67f-e998-47ef-bb3f-d9454f67346e"
      },
      "execution_count": 27,
      "outputs": [
        {
          "output_type": "stream",
          "name": "stdout",
          "text": [
            "ma trận A: \n",
            " [[ 1  2  3  4  5  6  7]\n",
            " [ 2  4  6  8 10 12 14]\n",
            " [ 3  6  9 12 15 18 21]\n",
            " [ 4  8 12 16 20 24 28]\n",
            " [ 5 10 15 20 25 30 35]\n",
            " [ 6 12 18 24 30 36 42]\n",
            " [ 7 14 21 28 35 42 49]\n",
            " [ 8 16 24 32 40 48 56]\n",
            " [ 9 18 27 36 45 54 63]\n",
            " [10 20 30 40 50 60 70]]\n",
            "Chuyển vị của ma trận A: \n",
            " [[ 1  2  3  4  5  6  7  8  9 10]\n",
            " [ 2  4  6  8 10 12 14 16 18 20]\n",
            " [ 3  6  9 12 15 18 21 24 27 30]\n",
            " [ 4  8 12 16 20 24 28 32 36 40]\n",
            " [ 5 10 15 20 25 30 35 40 45 50]\n",
            " [ 6 12 18 24 30 36 42 48 54 60]\n",
            " [ 7 14 21 28 35 42 49 56 63 70]]\n",
            "số chiều của ma trận A:  2\n",
            "số chiều vector chuyển vị của ma trận A::  2\n",
            "kích thước của ma trận A::  (10, 7)\n",
            "kích thước vector chuyển vị của ma trận A:  (7, 10)\n"
          ]
        }
      ]
    },
    {
      "cell_type": "markdown",
      "source": [
        "ma trận A10x7 với giá trị các phần tử của ma trận A được sinh bởi hàm linspace()"
      ],
      "metadata": {
        "id": "iiWJDiZ75V8R"
      }
    },
    {
      "cell_type": "code",
      "source": [
        "f = np.linspace(1, 10, 70, dtype=int).reshape(7,10)\n",
        "ff = f.T\n",
        "print(\"ma trận A: \\n\", f)\n",
        "print(\"Chuyển vị của ma trận A: \\n\", ff)\n",
        "print(\"số chiều của ma trận A: \", f.ndim)\n",
        "print(\"số chiều vector chuyển vị của ma trận A:: \", ff.ndim)\n",
        "print(\"kích thước của ma trận A:: \", f.shape)\n",
        "print(\"kích thước vector chuyển vị của ma trận A: \", ff.shape)"
      ],
      "metadata": {
        "colab": {
          "base_uri": "https://localhost:8080/"
        },
        "id": "g9ZITBUzwm4R",
        "outputId": "89c05343-2747-46e1-df93-d46830235607"
      },
      "execution_count": 28,
      "outputs": [
        {
          "output_type": "stream",
          "name": "stdout",
          "text": [
            "ma trận A: \n",
            " [[ 1  1  1  1  1  1  1  1  2  2]\n",
            " [ 2  2  2  2  2  2  3  3  3  3]\n",
            " [ 3  3  3  4  4  4  4  4  4  4]\n",
            " [ 4  5  5  5  5  5  5  5  5  6]\n",
            " [ 6  6  6  6  6  6  7  7  7  7]\n",
            " [ 7  7  7  7  8  8  8  8  8  8]\n",
            " [ 8  8  9  9  9  9  9  9  9 10]]\n",
            "Chuyển vị của ma trận A: \n",
            " [[ 1  2  3  4  6  7  8]\n",
            " [ 1  2  3  5  6  7  8]\n",
            " [ 1  2  3  5  6  7  9]\n",
            " [ 1  2  4  5  6  7  9]\n",
            " [ 1  2  4  5  6  8  9]\n",
            " [ 1  2  4  5  6  8  9]\n",
            " [ 1  3  4  5  7  8  9]\n",
            " [ 1  3  4  5  7  8  9]\n",
            " [ 2  3  4  5  7  8  9]\n",
            " [ 2  3  4  6  7  8 10]]\n",
            "số chiều của ma trận A:  2\n",
            "số chiều vector chuyển vị của ma trận A::  2\n",
            "kích thước của ma trận A::  (7, 10)\n",
            "kích thước vector chuyển vị của ma trận A:  (10, 7)\n"
          ]
        }
      ]
    },
    {
      "cell_type": "markdown",
      "source": [
        "ma trận A10x7 với giá trị các phần tử của ma trận A được sinh bởi hàm logspace()"
      ],
      "metadata": {
        "id": "DkqDQ5Qp5Z20"
      }
    },
    {
      "cell_type": "code",
      "source": [
        "g = np.logspace(2, 4, 70, dtype=int).reshape(7,10)\n",
        "gg = g.T\n",
        "print(\"ma trận A: \\n\", g)\n",
        "print(\"Chuyển vị của ma trận A: \\n\", gg)\n",
        "print(\"số chiều của ma trận A: \", g.ndim)\n",
        "print(\"số chiều vector chuyển vị của ma trận A:: \", gg.ndim)\n",
        "print(\"kích thước của ma trận A:: \", g.shape)\n",
        "print(\"kích thước vector chuyển vị của ma trận A: \", gg.shape)"
      ],
      "metadata": {
        "colab": {
          "base_uri": "https://localhost:8080/"
        },
        "id": "YlttchtPxY_z",
        "outputId": "0d67c2aa-791b-4c4f-8c69-4deeb37b92d8"
      },
      "execution_count": 29,
      "outputs": [
        {
          "output_type": "stream",
          "name": "stdout",
          "text": [
            "ma trận A: \n",
            " [[  100   106   114   122   130   139   149   159   170   182]\n",
            " [  194   208   222   238   254   272   290   310   332   355]\n",
            " [  379   406   434   464   496   530   567   606   648   692]\n",
            " [  740   791   846   904   967  1033  1105  1181  1263  1350]\n",
            " [ 1443  1543  1649  1763  1885  2015  2154  2303  2462  2632]\n",
            " [ 2813  3007  3215  3437  3674  3928  4199  4489  4799  5130]\n",
            " [ 5484  5862  6267  6700  7162  7656  8185  8750  9354 10000]]\n",
            "Chuyển vị của ma trận A: \n",
            " [[  100   194   379   740  1443  2813  5484]\n",
            " [  106   208   406   791  1543  3007  5862]\n",
            " [  114   222   434   846  1649  3215  6267]\n",
            " [  122   238   464   904  1763  3437  6700]\n",
            " [  130   254   496   967  1885  3674  7162]\n",
            " [  139   272   530  1033  2015  3928  7656]\n",
            " [  149   290   567  1105  2154  4199  8185]\n",
            " [  159   310   606  1181  2303  4489  8750]\n",
            " [  170   332   648  1263  2462  4799  9354]\n",
            " [  182   355   692  1350  2632  5130 10000]]\n",
            "số chiều của ma trận A:  2\n",
            "số chiều vector chuyển vị của ma trận A::  2\n",
            "kích thước của ma trận A::  (7, 10)\n",
            "kích thước vector chuyển vị của ma trận A:  (10, 7)\n"
          ]
        }
      ]
    },
    {
      "cell_type": "markdown",
      "source": [
        "ma trận A10x7 với giá trị các phần tử của ma trận A được sinh bởi hàm rand.rand()"
      ],
      "metadata": {
        "id": "xzTwKWxG5dQu"
      }
    },
    {
      "cell_type": "code",
      "source": [
        "h = np.random.rand(1, 10, 7).reshape(10,7)\n",
        "hh = h.T\n",
        "print(\"ma trận A: \\n\", h)\n",
        "print(\"Chuyển vị của ma trận A: \\n\", hh)\n",
        "print(\"số chiều của ma trận A: \", h.ndim)\n",
        "print(\"số chiều vector chuyển vị của ma trận A:: \", hh.ndim)\n",
        "print(\"kích thước của ma trận A:: \", h.shape)\n",
        "print(\"kích thước vector chuyển vị của ma trận A: \", hh.shape)"
      ],
      "metadata": {
        "colab": {
          "base_uri": "https://localhost:8080/"
        },
        "id": "rzue483syKJp",
        "outputId": "fbbdda6c-8254-4671-ea7d-3fb4c5e08f46"
      },
      "execution_count": 34,
      "outputs": [
        {
          "output_type": "stream",
          "name": "stdout",
          "text": [
            "ma trận A: \n",
            " [[0.45341601 0.27249138 0.10376836 0.59364942 0.33500377 0.68247953\n",
            "  0.66812846]\n",
            " [0.1934243  0.09316128 0.22620042 0.25591198 0.4132113  0.43567133\n",
            "  0.26374986]\n",
            " [0.28823301 0.10662714 0.90992351 0.89729229 0.04536455 0.7797007\n",
            "  0.38191022]\n",
            " [0.29123279 0.51629022 0.3787526  0.14655188 0.61611644 0.63455275\n",
            "  0.55309833]\n",
            " [0.2710005  0.8937508  0.84002006 0.5284215  0.26352913 0.92494801\n",
            "  0.74195678]\n",
            " [0.74080762 0.81768391 0.05871975 0.20290812 0.70833859 0.13268827\n",
            "  0.27145928]\n",
            " [0.18799959 0.24454604 0.6641055  0.61274485 0.03690787 0.14582204\n",
            "  0.37704726]\n",
            " [0.00163106 0.73688978 0.23650082 0.24322908 0.43512167 0.740409\n",
            "  0.49799941]\n",
            " [0.84256028 0.84891216 0.31577625 0.74319449 0.11307765 0.04360433\n",
            "  0.3025503 ]\n",
            " [0.06023586 0.74047758 0.36288837 0.12309741 0.8239893  0.07101318\n",
            "  0.17035057]]\n",
            "Chuyển vị của ma trận A: \n",
            " [[0.45341601 0.1934243  0.28823301 0.29123279 0.2710005  0.74080762\n",
            "  0.18799959 0.00163106 0.84256028 0.06023586]\n",
            " [0.27249138 0.09316128 0.10662714 0.51629022 0.8937508  0.81768391\n",
            "  0.24454604 0.73688978 0.84891216 0.74047758]\n",
            " [0.10376836 0.22620042 0.90992351 0.3787526  0.84002006 0.05871975\n",
            "  0.6641055  0.23650082 0.31577625 0.36288837]\n",
            " [0.59364942 0.25591198 0.89729229 0.14655188 0.5284215  0.20290812\n",
            "  0.61274485 0.24322908 0.74319449 0.12309741]\n",
            " [0.33500377 0.4132113  0.04536455 0.61611644 0.26352913 0.70833859\n",
            "  0.03690787 0.43512167 0.11307765 0.8239893 ]\n",
            " [0.68247953 0.43567133 0.7797007  0.63455275 0.92494801 0.13268827\n",
            "  0.14582204 0.740409   0.04360433 0.07101318]\n",
            " [0.66812846 0.26374986 0.38191022 0.55309833 0.74195678 0.27145928\n",
            "  0.37704726 0.49799941 0.3025503  0.17035057]]\n",
            "số chiều của ma trận A:  2\n",
            "số chiều vector chuyển vị của ma trận A::  2\n",
            "kích thước của ma trận A::  (10, 7)\n",
            "kích thước vector chuyển vị của ma trận A:  (7, 10)\n"
          ]
        }
      ]
    },
    {
      "cell_type": "markdown",
      "source": [
        "Câu 3: Sử dụng thư viện Numpy, hãy:\n",
        "- Chuyển ma trận A ở câu 2 thành vector. (Gợi ý: sử dụng hàm flatten())\n",
        "- Chuyển vector vừa được tạo ra ở câu trên thành ma trận. (Gợi ý: sử dụng hàm reshape())"
      ],
      "metadata": {
        "id": "QdDRYzw7y3hA"
      }
    },
    {
      "cell_type": "markdown",
      "source": [
        "ma trận của hàm np.arange()"
      ],
      "metadata": {
        "id": "OaLlBhYt3J19"
      }
    },
    {
      "cell_type": "code",
      "source": [
        "print(\"ma trận A: \\n\", e)\n",
        "print(\"Chuyển ma trận A thành vector: \\n\", e.flatten())\n",
        "print(\"chuyển vector thành ma trận: \\n\", e.reshape(10,7))"
      ],
      "metadata": {
        "colab": {
          "base_uri": "https://localhost:8080/"
        },
        "id": "9SFkXLw5y-rz",
        "outputId": "5e9030ff-3e67-4142-d1b8-e80055a46ea7"
      },
      "execution_count": null,
      "outputs": [
        {
          "output_type": "stream",
          "name": "stdout",
          "text": [
            "ma trận A: \n",
            " [[ 0  1  2  3  4  5  6  7  8  9]\n",
            " [10 11 12 13 14 15 16 17 18 19]\n",
            " [20 21 22 23 24 25 26 27 28 29]\n",
            " [30 31 32 33 34 35 36 37 38 39]\n",
            " [40 41 42 43 44 45 46 47 48 49]\n",
            " [50 51 52 53 54 55 56 57 58 59]\n",
            " [60 61 62 63 64 65 66 67 68 69]]\n",
            "Chuyển ma trận A thành vector: \n",
            " [ 0  1  2  3  4  5  6  7  8  9 10 11 12 13 14 15 16 17 18 19 20 21 22 23\n",
            " 24 25 26 27 28 29 30 31 32 33 34 35 36 37 38 39 40 41 42 43 44 45 46 47\n",
            " 48 49 50 51 52 53 54 55 56 57 58 59 60 61 62 63 64 65 66 67 68 69]\n",
            "chuyển vector thành ma trận: \n",
            " [[ 0  1  2  3  4  5  6]\n",
            " [ 7  8  9 10 11 12 13]\n",
            " [14 15 16 17 18 19 20]\n",
            " [21 22 23 24 25 26 27]\n",
            " [28 29 30 31 32 33 34]\n",
            " [35 36 37 38 39 40 41]\n",
            " [42 43 44 45 46 47 48]\n",
            " [49 50 51 52 53 54 55]\n",
            " [56 57 58 59 60 61 62]\n",
            " [63 64 65 66 67 68 69]]\n"
          ]
        }
      ]
    },
    {
      "cell_type": "markdown",
      "source": [
        "ma trận của hàm np.linspace()"
      ],
      "metadata": {
        "id": "zK7FenJF3Oyo"
      }
    },
    {
      "cell_type": "code",
      "source": [
        "print(\"ma trận A: \\n\", f)\n",
        "print(\"Chuyển ma trận A thành vector: \\n\", f.flatten())\n",
        "print(\"chuyển vector thành ma trận: \\n\", f.reshape(10,7))"
      ],
      "metadata": {
        "colab": {
          "base_uri": "https://localhost:8080/"
        },
        "id": "W8Y8Gv0c2x_q",
        "outputId": "b8389f59-66ec-448b-ec58-6cb2a3c6e025"
      },
      "execution_count": null,
      "outputs": [
        {
          "output_type": "stream",
          "name": "stdout",
          "text": [
            "ma trận A: \n",
            " [[ 1  1  1  1  1  1  1  1  2  2]\n",
            " [ 2  2  2  2  2  2  3  3  3  3]\n",
            " [ 3  3  3  4  4  4  4  4  4  4]\n",
            " [ 4  5  5  5  5  5  5  5  5  6]\n",
            " [ 6  6  6  6  6  6  7  7  7  7]\n",
            " [ 7  7  7  7  8  8  8  8  8  8]\n",
            " [ 8  8  9  9  9  9  9  9  9 10]]\n",
            "Chuyển ma trận A thành vector: \n",
            " [ 1  1  1  1  1  1  1  1  2  2  2  2  2  2  2  2  3  3  3  3  3  3  3  4\n",
            "  4  4  4  4  4  4  4  5  5  5  5  5  5  5  5  6  6  6  6  6  6  6  7  7\n",
            "  7  7  7  7  7  7  8  8  8  8  8  8  8  8  9  9  9  9  9  9  9 10]\n",
            "chuyển vector thành ma trận: \n",
            " [[ 1  1  1  1  1  1  1]\n",
            " [ 1  2  2  2  2  2  2]\n",
            " [ 2  2  3  3  3  3  3]\n",
            " [ 3  3  4  4  4  4  4]\n",
            " [ 4  4  4  5  5  5  5]\n",
            " [ 5  5  5  5  6  6  6]\n",
            " [ 6  6  6  6  7  7  7]\n",
            " [ 7  7  7  7  7  8  8]\n",
            " [ 8  8  8  8  8  8  9]\n",
            " [ 9  9  9  9  9  9 10]]\n"
          ]
        }
      ]
    },
    {
      "cell_type": "markdown",
      "source": [
        "ma trận của hàm np.logspace()"
      ],
      "metadata": {
        "id": "eEBRNw4y3Sxl"
      }
    },
    {
      "cell_type": "code",
      "source": [
        "print(\"ma trận A: \\n\", g)\n",
        "print(\"Chuyển ma trận A thành vector: \\n\", g.flatten())\n",
        "print(\"chuyển vector thành ma trận: \\n\", g.reshape(10,7))"
      ],
      "metadata": {
        "colab": {
          "base_uri": "https://localhost:8080/"
        },
        "id": "cOHc_ujQ21_K",
        "outputId": "cfc99456-0b79-4287-c112-b49032cef554"
      },
      "execution_count": null,
      "outputs": [
        {
          "output_type": "stream",
          "name": "stdout",
          "text": [
            "ma trận A: \n",
            " [[   10    11    12    13    14    16    18    20    22    24]\n",
            " [   27    30    33    36    40    44    49    54    60    67]\n",
            " [   74    81    90   100   110   122   135   149   164   182]\n",
            " [  201   222   246   272   300   332   367   406   448   496]\n",
            " [  548   606   670   740   818   904  1000  1105  1221  1350]\n",
            " [ 1492  1649  1823  2015  2227  2462  2721  3007  3324  3674]\n",
            " [ 4061  4489  4961  5484  6061  6700  7405  8185  9047 10000]]\n",
            "Chuyển ma trận A thành vector: \n",
            " [   10    11    12    13    14    16    18    20    22    24    27    30\n",
            "    33    36    40    44    49    54    60    67    74    81    90   100\n",
            "   110   122   135   149   164   182   201   222   246   272   300   332\n",
            "   367   406   448   496   548   606   670   740   818   904  1000  1105\n",
            "  1221  1350  1492  1649  1823  2015  2227  2462  2721  3007  3324  3674\n",
            "  4061  4489  4961  5484  6061  6700  7405  8185  9047 10000]\n",
            "chuyển vector thành ma trận: \n",
            " [[   10    11    12    13    14    16    18]\n",
            " [   20    22    24    27    30    33    36]\n",
            " [   40    44    49    54    60    67    74]\n",
            " [   81    90   100   110   122   135   149]\n",
            " [  164   182   201   222   246   272   300]\n",
            " [  332   367   406   448   496   548   606]\n",
            " [  670   740   818   904  1000  1105  1221]\n",
            " [ 1350  1492  1649  1823  2015  2227  2462]\n",
            " [ 2721  3007  3324  3674  4061  4489  4961]\n",
            " [ 5484  6061  6700  7405  8185  9047 10000]]\n"
          ]
        }
      ]
    },
    {
      "cell_type": "markdown",
      "source": [
        "ma trận của hàm np.random.rand()"
      ],
      "metadata": {
        "id": "h5vlJJuW3XrJ"
      }
    },
    {
      "cell_type": "code",
      "source": [
        "print(\"ma trận A: \\n\", h)\n",
        "print(\"Chuyển ma trận A thành vector: \\n\", h.flatten())\n",
        "print(\"chuyển vector thành ma trận: \\n\", h.reshape(10,7))"
      ],
      "metadata": {
        "colab": {
          "base_uri": "https://localhost:8080/"
        },
        "id": "cB8piGtE26K6",
        "outputId": "e1251585-d9db-47d2-e991-a2ef23be9e50"
      },
      "execution_count": null,
      "outputs": [
        {
          "output_type": "stream",
          "name": "stdout",
          "text": [
            "ma trận A: \n",
            " [[0.28585355 0.27120257 0.79908141 0.35562405 0.63760028 0.75588536\n",
            "  0.01618849 0.45430366 0.5155601  0.41674244]\n",
            " [0.28784763 0.99904563 0.84530861 0.22398521 0.26847938 0.64543252\n",
            "  0.5147452  0.96413384 0.68504565 0.32056024]\n",
            " [0.08077124 0.43661457 0.42124043 0.83551662 0.68620791 0.88555397\n",
            "  0.14470727 0.04319661 0.71367718 0.20965375]\n",
            " [0.18113188 0.85166589 0.14753824 0.89923251 0.34470083 0.08803584\n",
            "  0.95610674 0.90725947 0.03503272 0.15533342]\n",
            " [0.64597628 0.23712078 0.73659445 0.42796477 0.68688709 0.4910363\n",
            "  0.11761898 0.99096512 0.31476245 0.8248755 ]\n",
            " [0.87368136 0.90575667 0.78846523 0.1344777  0.16505492 0.15989429\n",
            "  0.11894046 0.29824068 0.63336436 0.05163994]\n",
            " [0.17361525 0.33523181 0.6747266  0.5941698  0.76778827 0.16596999\n",
            "  0.83943188 0.34736175 0.5204347  0.66544753]]\n",
            "Chuyển ma trận A thành vector: \n",
            " [0.28585355 0.27120257 0.79908141 0.35562405 0.63760028 0.75588536\n",
            " 0.01618849 0.45430366 0.5155601  0.41674244 0.28784763 0.99904563\n",
            " 0.84530861 0.22398521 0.26847938 0.64543252 0.5147452  0.96413384\n",
            " 0.68504565 0.32056024 0.08077124 0.43661457 0.42124043 0.83551662\n",
            " 0.68620791 0.88555397 0.14470727 0.04319661 0.71367718 0.20965375\n",
            " 0.18113188 0.85166589 0.14753824 0.89923251 0.34470083 0.08803584\n",
            " 0.95610674 0.90725947 0.03503272 0.15533342 0.64597628 0.23712078\n",
            " 0.73659445 0.42796477 0.68688709 0.4910363  0.11761898 0.99096512\n",
            " 0.31476245 0.8248755  0.87368136 0.90575667 0.78846523 0.1344777\n",
            " 0.16505492 0.15989429 0.11894046 0.29824068 0.63336436 0.05163994\n",
            " 0.17361525 0.33523181 0.6747266  0.5941698  0.76778827 0.16596999\n",
            " 0.83943188 0.34736175 0.5204347  0.66544753]\n",
            "chuyển vector thành ma trận: \n",
            " [[0.28585355 0.27120257 0.79908141 0.35562405 0.63760028 0.75588536\n",
            "  0.01618849]\n",
            " [0.45430366 0.5155601  0.41674244 0.28784763 0.99904563 0.84530861\n",
            "  0.22398521]\n",
            " [0.26847938 0.64543252 0.5147452  0.96413384 0.68504565 0.32056024\n",
            "  0.08077124]\n",
            " [0.43661457 0.42124043 0.83551662 0.68620791 0.88555397 0.14470727\n",
            "  0.04319661]\n",
            " [0.71367718 0.20965375 0.18113188 0.85166589 0.14753824 0.89923251\n",
            "  0.34470083]\n",
            " [0.08803584 0.95610674 0.90725947 0.03503272 0.15533342 0.64597628\n",
            "  0.23712078]\n",
            " [0.73659445 0.42796477 0.68688709 0.4910363  0.11761898 0.99096512\n",
            "  0.31476245]\n",
            " [0.8248755  0.87368136 0.90575667 0.78846523 0.1344777  0.16505492\n",
            "  0.15989429]\n",
            " [0.11894046 0.29824068 0.63336436 0.05163994 0.17361525 0.33523181\n",
            "  0.6747266 ]\n",
            " [0.5941698  0.76778827 0.16596999 0.83943188 0.34736175 0.5204347\n",
            "  0.66544753]]\n"
          ]
        }
      ]
    },
    {
      "cell_type": "markdown",
      "source": [
        "Câu 4: Sử dụng thư viện Numpy, hãy:\n",
        "- Tạo ra 1 ma trận A10x15 với các giá trị được sinh ra bởi hàm logspace();\n",
        "- Hãy trích rút dòng thứ 3 của ma trận A (tương ứng với 1 vector hàng);\n",
        "- Hãy trích rút ra cột thứ 5 của ma trận A (tương ứng với 1 vector cột)."
      ],
      "metadata": {
        "id": "m_MEauTX0TJL"
      }
    },
    {
      "cell_type": "code",
      "source": [
        "ma_tran = np.logspace(1, 3, num=150, dtype=int).reshape(10,15)\n",
        "print(ma_tran)\n",
        "print(\"dòng thứ 3 của ma trận A: \\n\",ma_tran[2])\n",
        "print(\"cột thứ 5 của ma trận A: \\n\", ma_tran[:,4])"
      ],
      "metadata": {
        "colab": {
          "base_uri": "https://localhost:8080/"
        },
        "id": "QiOwVDmd0XgS",
        "outputId": "3ceebbb4-280f-44ce-9d80-4e764e13e70e"
      },
      "execution_count": 39,
      "outputs": [
        {
          "output_type": "stream",
          "name": "stdout",
          "text": [
            "[[  10   10   10   10   11   11   12   12   12   13   13   14   14   14\n",
            "    15]\n",
            " [  15   16   16   17   17   18   19   19   20   20   21   22   23   23\n",
            "    24]\n",
            " [  25   26   26   27   28   29   30   31   32   33   34   35   36   37\n",
            "    38]\n",
            " [  40   41   42   44   45   46   48   49   51   53   54   56   58   60\n",
            "    61]\n",
            " [  63   65   67   70   72   74   76   79   81   84   87   89   92   95\n",
            "    98]\n",
            " [ 101  104  108  111  114  118  122  126  130  134  138  142  147  151\n",
            "   156]\n",
            " [ 161  166  171  177  182  188  194  200  206  213  219  226  233  241\n",
            "   248]\n",
            " [ 256  264  273  281  290  299  308  318  328  339  349  360  371  383\n",
            "   395]\n",
            " [ 408  420  434  447  461  476  491  506  522  538  555  573  591  609\n",
            "   629]\n",
            " [ 648  669  690  711  734  757  780  805  830  856  883  911  940  969\n",
            "  1000]]\n",
            "dòng thứ 3 của ma trận A: \n",
            " [25 26 26 27 28 29 30 31 32 33 34 35 36 37 38]\n",
            "cột thứ 5 của ma trận A: \n",
            " [ 11  17  28  45  72 114 182 290 461 734]\n"
          ]
        }
      ]
    },
    {
      "cell_type": "markdown",
      "source": [
        "Câu 5: Thực hiện các yêu cầu sau:\n",
        "- Xây dựng hàm tính giá trị trung bình\n",
        "- Xây dựng hàm tính giá trị trung vị\n",
        "- Xây dựng hàm tính giá trị yếu vị\n",
        "- Xây dựng hàm tính phương sai\n",
        "- Xây dựng hàm tính độ lệch chuẩn\n",
        "- Hãy tạo ra ma trận A15x10 với các giá trị sinh bởi hàm arange()\n",
        "- Áp dụng 5 hàm ở trên cho từng hàng của ma trận A\n",
        "- Áp dụng 5 hàm ở trên cho từng cột của ma trận A"
      ],
      "metadata": {
        "id": "0uMeEpC960jY"
      }
    },
    {
      "cell_type": "code",
      "source": [
        "import numpy as np \n"
      ],
      "metadata": {
        "id": "tupmcBjF6vc1"
      },
      "execution_count": 41,
      "outputs": []
    },
    {
      "cell_type": "markdown",
      "source": [
        "Xây dựng hàm tính giá trị trung bình"
      ],
      "metadata": {
        "id": "h6e4aKW61EQ1"
      }
    },
    {
      "cell_type": "code",
      "source": [
        "def gia_tri_trung_binh(ma_tran_A):\n",
        "  tb = np.mean(ma_tran_A)\n",
        "  return tb"
      ],
      "metadata": {
        "id": "_N7UktFn0bnS"
      },
      "execution_count": 42,
      "outputs": []
    },
    {
      "cell_type": "markdown",
      "source": [
        "Xây dựng hàm tính giá trị trung vị"
      ],
      "metadata": {
        "id": "n7GghhO-1DBL"
      }
    },
    {
      "cell_type": "code",
      "source": [
        "def gia_tri_trung_vi(ma_tran_A):\n",
        "  tv = np.median(ma_tran_A)\n",
        "  return tv"
      ],
      "metadata": {
        "id": "x50jSkIH2hs8"
      },
      "execution_count": 43,
      "outputs": []
    },
    {
      "cell_type": "markdown",
      "source": [
        "Xây dựng hàm tính giá trị yếu vị"
      ],
      "metadata": {
        "id": "H408OSKv4fZR"
      }
    },
    {
      "cell_type": "code",
      "source": [
        "from scipy import stats\n",
        "\n",
        "def gia_tri_yeu_vi(ma_tran_A):\n",
        "  return stats.mode(ma_tran_A)"
      ],
      "metadata": {
        "id": "qwTx7nE44h2g"
      },
      "execution_count": 44,
      "outputs": []
    },
    {
      "cell_type": "markdown",
      "source": [
        "Xây dựng hàm tính phương sai"
      ],
      "metadata": {
        "id": "PIn1hTlv6ZhO"
      }
    },
    {
      "cell_type": "code",
      "source": [
        "def phuong_sai(ma_tran_A):\n",
        "  ps = np.var(ma_tran_A)\n",
        "  return ps"
      ],
      "metadata": {
        "id": "1bLYe3Sa6c9V"
      },
      "execution_count": 52,
      "outputs": []
    },
    {
      "cell_type": "markdown",
      "source": [
        "Xây dựng hàm tính độ lệch chuẩn"
      ],
      "metadata": {
        "id": "GOa-sW3E6-MG"
      }
    },
    {
      "cell_type": "code",
      "source": [
        "def do_lech_chuan(ma_tran_A):\n",
        "  dlc = np.std(ma_tran_A)\n",
        "  return dlc"
      ],
      "metadata": {
        "id": "qvUw7upf7BJd"
      },
      "execution_count": 53,
      "outputs": []
    },
    {
      "cell_type": "code",
      "source": [
        "import numpy as np\n",
        "ma_tran_A = np.arange(150).reshape(15,10)\n",
        "ma_tran_A"
      ],
      "metadata": {
        "colab": {
          "base_uri": "https://localhost:8080/"
        },
        "id": "ms7VIpzo1mFj",
        "outputId": "304a7634-a6ce-46de-ee0d-a4470eed7018"
      },
      "execution_count": 38,
      "outputs": [
        {
          "output_type": "execute_result",
          "data": {
            "text/plain": [
              "array([[  0,   1,   2,   3,   4,   5,   6,   7,   8,   9],\n",
              "       [ 10,  11,  12,  13,  14,  15,  16,  17,  18,  19],\n",
              "       [ 20,  21,  22,  23,  24,  25,  26,  27,  28,  29],\n",
              "       [ 30,  31,  32,  33,  34,  35,  36,  37,  38,  39],\n",
              "       [ 40,  41,  42,  43,  44,  45,  46,  47,  48,  49],\n",
              "       [ 50,  51,  52,  53,  54,  55,  56,  57,  58,  59],\n",
              "       [ 60,  61,  62,  63,  64,  65,  66,  67,  68,  69],\n",
              "       [ 70,  71,  72,  73,  74,  75,  76,  77,  78,  79],\n",
              "       [ 80,  81,  82,  83,  84,  85,  86,  87,  88,  89],\n",
              "       [ 90,  91,  92,  93,  94,  95,  96,  97,  98,  99],\n",
              "       [100, 101, 102, 103, 104, 105, 106, 107, 108, 109],\n",
              "       [110, 111, 112, 113, 114, 115, 116, 117, 118, 119],\n",
              "       [120, 121, 122, 123, 124, 125, 126, 127, 128, 129],\n",
              "       [130, 131, 132, 133, 134, 135, 136, 137, 138, 139],\n",
              "       [140, 141, 142, 143, 144, 145, 146, 147, 148, 149]])"
            ]
          },
          "metadata": {},
          "execution_count": 38
        }
      ]
    },
    {
      "cell_type": "markdown",
      "source": [
        "Áp dụng 5 hàm ở trên cho từng hàng của ma trận A"
      ],
      "metadata": {
        "id": "5EQnAwCc7Uqp"
      }
    },
    {
      "cell_type": "code",
      "source": [
        "print(\"Giá trị trung bình cho từng hàng của ma trận A là: \\n\", np.apply_along_axis(gia_tri_trung_binh, 1, ma_tran_A))"
      ],
      "metadata": {
        "colab": {
          "base_uri": "https://localhost:8080/"
        },
        "id": "rcNjG7XB7fU2",
        "outputId": "242fdd42-bd7a-4b50-c21e-d2ef39500ddb"
      },
      "execution_count": 54,
      "outputs": [
        {
          "output_type": "stream",
          "name": "stdout",
          "text": [
            "Giá trị trung bình cho từng hàng của ma trận A là: \n",
            " [  4.5  14.5  24.5  34.5  44.5  54.5  64.5  74.5  84.5  94.5 104.5 114.5\n",
            " 124.5 134.5 144.5]\n"
          ]
        }
      ]
    },
    {
      "cell_type": "code",
      "source": [
        "print(\"Giá trị trung vị cho từng hàng của ma trận A là: \\n\", np.apply_along_axis(gia_tri_trung_vi, 1, ma_tran_A))"
      ],
      "metadata": {
        "colab": {
          "base_uri": "https://localhost:8080/"
        },
        "id": "DIT3kkDR7ffS",
        "outputId": "ee247762-a5e3-4ce5-fbf4-877b3c5ac77c"
      },
      "execution_count": 55,
      "outputs": [
        {
          "output_type": "stream",
          "name": "stdout",
          "text": [
            "Giá trị trung vị cho từng hàng của ma trận A là: \n",
            " [  4.5  14.5  24.5  34.5  44.5  54.5  64.5  74.5  84.5  94.5 104.5 114.5\n",
            " 124.5 134.5 144.5]\n"
          ]
        }
      ]
    },
    {
      "cell_type": "code",
      "source": [
        "print(\"Giá trị yếu vị cho từng hàng của ma trận A là: \\n\", np.apply_along_axis(gia_tri_yeu_vi, 1, ma_tran_A))"
      ],
      "metadata": {
        "id": "DMfvzuop-6B-",
        "colab": {
          "base_uri": "https://localhost:8080/"
        },
        "outputId": "4b4038cd-2132-40a2-e6d8-e33d361e4065"
      },
      "execution_count": 56,
      "outputs": [
        {
          "output_type": "stream",
          "name": "stdout",
          "text": [
            "Giá trị yếu vị cho từng hàng của ma trận A là: \n",
            " [[[  0]\n",
            "  [  1]]\n",
            "\n",
            " [[ 10]\n",
            "  [  1]]\n",
            "\n",
            " [[ 20]\n",
            "  [  1]]\n",
            "\n",
            " [[ 30]\n",
            "  [  1]]\n",
            "\n",
            " [[ 40]\n",
            "  [  1]]\n",
            "\n",
            " [[ 50]\n",
            "  [  1]]\n",
            "\n",
            " [[ 60]\n",
            "  [  1]]\n",
            "\n",
            " [[ 70]\n",
            "  [  1]]\n",
            "\n",
            " [[ 80]\n",
            "  [  1]]\n",
            "\n",
            " [[ 90]\n",
            "  [  1]]\n",
            "\n",
            " [[100]\n",
            "  [  1]]\n",
            "\n",
            " [[110]\n",
            "  [  1]]\n",
            "\n",
            " [[120]\n",
            "  [  1]]\n",
            "\n",
            " [[130]\n",
            "  [  1]]\n",
            "\n",
            " [[140]\n",
            "  [  1]]]\n"
          ]
        }
      ]
    },
    {
      "cell_type": "code",
      "source": [
        "print(\"Phương sai cho từng hàng của ma trận A là: \\n\", np.apply_along_axis(phuong_sai, 1, ma_tran_A))"
      ],
      "metadata": {
        "colab": {
          "base_uri": "https://localhost:8080/"
        },
        "id": "0tkE1UCo-6M8",
        "outputId": "14e53584-0d98-4111-c5bd-edbd8dafbe68"
      },
      "execution_count": 57,
      "outputs": [
        {
          "output_type": "stream",
          "name": "stdout",
          "text": [
            "Phương sai cho từng hàng của ma trận A là: \n",
            " [8.25 8.25 8.25 8.25 8.25 8.25 8.25 8.25 8.25 8.25 8.25 8.25 8.25 8.25\n",
            " 8.25]\n"
          ]
        }
      ]
    },
    {
      "cell_type": "code",
      "source": [
        "print(\"Độ lệch chuẩn cho từng hàng của ma trận A là: \\n\", np.apply_along_axis(do_lech_chuan, 1, ma_tran_A))"
      ],
      "metadata": {
        "colab": {
          "base_uri": "https://localhost:8080/"
        },
        "id": "r4WZllMz_Bhx",
        "outputId": "d7670dbc-36ed-4f85-911b-67a47a97f809"
      },
      "execution_count": 58,
      "outputs": [
        {
          "output_type": "stream",
          "name": "stdout",
          "text": [
            "Độ lệch chuẩn cho từng hàng của ma trận A là: \n",
            " [2.87228132 2.87228132 2.87228132 2.87228132 2.87228132 2.87228132\n",
            " 2.87228132 2.87228132 2.87228132 2.87228132 2.87228132 2.87228132\n",
            " 2.87228132 2.87228132 2.87228132]\n"
          ]
        }
      ]
    },
    {
      "cell_type": "markdown",
      "source": [
        "Áp dụng 5 hàm ở trên cho từng cột của ma trận A"
      ],
      "metadata": {
        "id": "muvVcD7J_MBG"
      }
    },
    {
      "cell_type": "code",
      "source": [
        "print(\"Giá trị trung bình cho từng cột của ma trận A là: \\n\", np.apply_along_axis(gia_tri_trung_binh, 0, ma_tran_A))"
      ],
      "metadata": {
        "colab": {
          "base_uri": "https://localhost:8080/"
        },
        "id": "PdZ5I1wl_Q7U",
        "outputId": "cc3fdd75-37d5-440b-a87c-5a85327d5c85"
      },
      "execution_count": 59,
      "outputs": [
        {
          "output_type": "stream",
          "name": "stdout",
          "text": [
            "Giá trị trung bình cho từng cột của ma trận A là: \n",
            " [70. 71. 72. 73. 74. 75. 76. 77. 78. 79.]\n"
          ]
        }
      ]
    },
    {
      "cell_type": "code",
      "source": [
        "print(\"Giá trị trung vị cho từng cột của ma trận A là: \\n\", np.apply_along_axis(gia_tri_trung_vi, 0, ma_tran_A))"
      ],
      "metadata": {
        "colab": {
          "base_uri": "https://localhost:8080/"
        },
        "id": "RQpVf324_jsP",
        "outputId": "8dd240a5-4abe-4152-d20e-8afdbe7cb2f2"
      },
      "execution_count": 60,
      "outputs": [
        {
          "output_type": "stream",
          "name": "stdout",
          "text": [
            "Giá trị trung vị cho từng cột của ma trận A là: \n",
            " [70. 71. 72. 73. 74. 75. 76. 77. 78. 79.]\n"
          ]
        }
      ]
    },
    {
      "cell_type": "code",
      "source": [
        "print(\"Giá trị yếu vị cho từng cột của ma trận A là: \\n\", np.apply_along_axis(gia_tri_yeu_vi, 0, ma_tran_A))"
      ],
      "metadata": {
        "id": "R3vL2Ih9_p9Q",
        "colab": {
          "base_uri": "https://localhost:8080/"
        },
        "outputId": "1b180196-5d29-4a1b-cd36-d1ca21239b0c"
      },
      "execution_count": 61,
      "outputs": [
        {
          "output_type": "stream",
          "name": "stdout",
          "text": [
            "Giá trị yếu vị cho từng cột của ma trận A là: \n",
            " [[[0 1 2 3 4 5 6 7 8 9]]\n",
            "\n",
            " [[1 1 1 1 1 1 1 1 1 1]]]\n"
          ]
        }
      ]
    },
    {
      "cell_type": "code",
      "source": [
        "print(\"Phương sai cho từng cột của ma trận A là: \\n\", np.apply_along_axis(phuong_sai, 0, ma_tran_A))"
      ],
      "metadata": {
        "colab": {
          "base_uri": "https://localhost:8080/"
        },
        "id": "KbYmyUwI_qGk",
        "outputId": "5d8a2db5-bb37-449a-d72f-dbea4d39e27e"
      },
      "execution_count": 62,
      "outputs": [
        {
          "output_type": "stream",
          "name": "stdout",
          "text": [
            "Phương sai cho từng cột của ma trận A là: \n",
            " [1866.66666667 1866.66666667 1866.66666667 1866.66666667 1866.66666667\n",
            " 1866.66666667 1866.66666667 1866.66666667 1866.66666667 1866.66666667]\n"
          ]
        }
      ]
    },
    {
      "cell_type": "code",
      "source": [
        "print(\"Độ lệch chuẩn cho từng cột của ma trận A là: \\n\", np.apply_along_axis(do_lech_chuan, 0, ma_tran_A))"
      ],
      "metadata": {
        "colab": {
          "base_uri": "https://localhost:8080/"
        },
        "id": "-Jy4JA0-_wS3",
        "outputId": "48a3056d-f644-438c-dc73-78ea5660986a"
      },
      "execution_count": 63,
      "outputs": [
        {
          "output_type": "stream",
          "name": "stdout",
          "text": [
            "Độ lệch chuẩn cho từng cột của ma trận A là: \n",
            " [43.20493799 43.20493799 43.20493799 43.20493799 43.20493799 43.20493799\n",
            " 43.20493799 43.20493799 43.20493799 43.20493799]\n"
          ]
        }
      ]
    }
  ]
}