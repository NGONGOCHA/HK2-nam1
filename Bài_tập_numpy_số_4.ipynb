{
  "nbformat": 4,
  "nbformat_minor": 0,
  "metadata": {
    "colab": {
      "name": "Bài tập numpy số 4.ipynb",
      "provenance": [],
      "authorship_tag": "ABX9TyOlWs/nU9Q3RI1pGIyRiNQb",
      "include_colab_link": true
    },
    "kernelspec": {
      "name": "python3",
      "display_name": "Python 3"
    },
    "language_info": {
      "name": "python"
    }
  },
  "cells": [
    {
      "cell_type": "markdown",
      "metadata": {
        "id": "view-in-github",
        "colab_type": "text"
      },
      "source": [
        "<a href=\"https://colab.research.google.com/github/NGONGOCHA/HK2-nam1/blob/main/B%C3%A0i_t%E1%BA%ADp_numpy_s%E1%BB%91_4.ipynb\" target=\"_parent\"><img src=\"https://colab.research.google.com/assets/colab-badge.svg\" alt=\"Open In Colab\"/></a>"
      ]
    },
    {
      "cell_type": "markdown",
      "source": [
        "Câu 1: Sử dụng thư viện Numpy, hãy tạo một vector a có 7 chiều (tương ứng 7 phần tử) với giá\n",
        "trị các phần tử được sinh bằng hàm (kết quả xuất ra màn hình):\n",
        "- np.arange()\n",
        "- np.linspace()\n",
        "- np.logspace()\n",
        "- np.random.rand()"
      ],
      "metadata": {
        "id": "emDaqWWminva"
      }
    },
    {
      "cell_type": "code",
      "execution_count": 23,
      "metadata": {
        "id": "MuN9SSGAignz"
      },
      "outputs": [],
      "source": [
        "import numpy as np"
      ]
    },
    {
      "cell_type": "markdown",
      "source": [
        "Tạo một vector a có 7 chiều với hàm np.arange()"
      ],
      "metadata": {
        "id": "UKxYykADlcOS"
      }
    },
    {
      "cell_type": "code",
      "source": [
        "a = np.arange(7).reshape(1,7)\n",
        "aa = a.T\n",
        "print(\"vector a: \", a)\n",
        "print(\"Chuyển vị của vector a: \\n\", aa)\n",
        "print(\"số chiều của vector a: \", a.ndim)\n",
        "print(\"số chiều vector chuyển vị của vector a: \", aa.ndim)\n",
        "print(\"kích thước của vector a: \", a.shape)\n",
        "print(\"kích thước vector chuyển vị của vector a: \", aa.shape)"
      ],
      "metadata": {
        "colab": {
          "base_uri": "https://localhost:8080/"
        },
        "id": "vXcWBMX3jpW4",
        "outputId": "10ae9e6c-14a7-4539-bc64-18c1fd3ce816"
      },
      "execution_count": 125,
      "outputs": [
        {
          "output_type": "stream",
          "name": "stdout",
          "text": [
            "vector a:  [[0 1 2 3 4 5 6]]\n",
            "Chuyển vị của vector a: \n",
            " [[0]\n",
            " [1]\n",
            " [2]\n",
            " [3]\n",
            " [4]\n",
            " [5]\n",
            " [6]]\n",
            "số chiều của vector a:  2\n",
            "số chiều vector chuyển vị của vector a:  2\n",
            "kích thước của vector a:  (1, 7)\n",
            "kích thước vector chuyển vị của vector a:  (7, 1)\n"
          ]
        }
      ]
    },
    {
      "cell_type": "markdown",
      "source": [
        "Tạo một vector a có 7 chiều với hàm linspace()"
      ],
      "metadata": {
        "id": "A0l-KjD0leOs"
      }
    },
    {
      "cell_type": "code",
      "source": [
        "b = np.linspace(1, 10, 7, dtype=int).reshape(1,7)\n",
        "bb = b.T\n",
        "print(\"vector a: \", b)\n",
        "print(\"Chuyển vị của vector a: \\n\", bb)\n",
        "print(\"số chiều của vector a: \", b.ndim)\n",
        "print(\"số chiều vector chuyển vị của vector a: \", bb.ndim)\n",
        "print(\"kích thước của vector a: \", b.shape)\n",
        "print(\"kích thước vector chuyển vị của vector a: \", bb.shape)"
      ],
      "metadata": {
        "colab": {
          "base_uri": "https://localhost:8080/"
        },
        "id": "JJi5jrBkkLE9",
        "outputId": "415b1f5b-2034-4cad-bbb2-fbbd66861f03"
      },
      "execution_count": 124,
      "outputs": [
        {
          "output_type": "stream",
          "name": "stdout",
          "text": [
            "vector a:  [[ 1  2  4  5  7  8 10]]\n",
            "Chuyển vị của vector a: \n",
            " [[ 1]\n",
            " [ 2]\n",
            " [ 4]\n",
            " [ 5]\n",
            " [ 7]\n",
            " [ 8]\n",
            " [10]]\n",
            "số chiều của vector a:  2\n",
            "số chiều vector chuyển vị của vector a:  2\n",
            "kích thước của vector a:  (1, 7)\n",
            "kích thước vector chuyển vị của vector a:  (7, 1)\n"
          ]
        }
      ]
    },
    {
      "cell_type": "markdown",
      "source": [
        "Tạo một vector a có 7 chiều với hàm np.logspace()"
      ],
      "metadata": {
        "id": "c4rxaSkalicV"
      }
    },
    {
      "cell_type": "code",
      "source": [
        "c = np.logspace(1, 2, 7, dtype=int).reshape(1,7)\n",
        "cc = c.T\n",
        "\n",
        "print(\"vector a: \", c)\n",
        "print(\"Chuyển vị của vector a: \\n\", cc)\n",
        "print(\"số chiều của vector a: \", c.ndim)\n",
        "print(\"số chiều vector chuyển vị của vector a: \", cc.ndim)\n",
        "print(\"kích thước của vector a: \", c.shape)\n",
        "print(\"kích thước vector chuyển vị của vector a: \", cc.shape)"
      ],
      "metadata": {
        "colab": {
          "base_uri": "https://localhost:8080/"
        },
        "id": "g28a7CFOk5BK",
        "outputId": "d0b65e18-dec5-471b-b69f-3d3d12119490"
      },
      "execution_count": 126,
      "outputs": [
        {
          "output_type": "stream",
          "name": "stdout",
          "text": [
            "vector a:  [[ 10  14  21  31  46  68 100]]\n",
            "Chuyển vị của vector a: \n",
            " [[ 10]\n",
            " [ 14]\n",
            " [ 21]\n",
            " [ 31]\n",
            " [ 46]\n",
            " [ 68]\n",
            " [100]]\n",
            "số chiều của vector a:  2\n",
            "số chiều vector chuyển vị của vector a:  2\n",
            "kích thước của vector a:  (1, 7)\n",
            "kích thước vector chuyển vị của vector a:  (7, 1)\n"
          ]
        }
      ]
    },
    {
      "cell_type": "markdown",
      "source": [
        "Tạo một vector a có 7 chiều với hàm np.random.randint()"
      ],
      "metadata": {
        "id": "CICtzkAOllg8"
      }
    },
    {
      "cell_type": "code",
      "source": [
        "d = np.random.rand(1,7)\n",
        "dd = d.T\n",
        "print(\"vector a: \", d)\n",
        "print(\"Chuyển vị của vector a: \\n\", dd)\n",
        "print(\"số chiều của vector a: \", d.ndim)\n",
        "print(\"số chiều vector chuyển vị của vector a: \", dd.ndim)\n",
        "print(\"kích thước của vector a: \", d.shape)\n",
        "print(\"kích thước vector chuyển vị của vector a: \", dd.shape)"
      ],
      "metadata": {
        "colab": {
          "base_uri": "https://localhost:8080/"
        },
        "id": "1qWKLfe7lDc2",
        "outputId": "87634ee5-0a47-4cbf-bdcb-a8be60eb37d0"
      },
      "execution_count": 132,
      "outputs": [
        {
          "output_type": "stream",
          "name": "stdout",
          "text": [
            "vector a:  [[0.38898467 0.72929703 0.14460932 0.94821207 0.20565064 0.22562406\n",
            "  0.77791014]]\n",
            "Chuyển vị của vector a: \n",
            " [[0.38898467]\n",
            " [0.72929703]\n",
            " [0.14460932]\n",
            " [0.94821207]\n",
            " [0.20565064]\n",
            " [0.22562406]\n",
            " [0.77791014]]\n",
            "số chiều của vector a:  2\n",
            "số chiều vector chuyển vị của vector a:  2\n",
            "kích thước của vector a:  (1, 7)\n",
            "kích thước vector chuyển vị của vector a:  (7, 1)\n"
          ]
        }
      ]
    },
    {
      "cell_type": "markdown",
      "source": [
        "Câu 2: Sử dụng thư viện Numpy, hãy tạo ra ma trận A10x7 với giá trị các phần tử của ma trận A được sinh bởi:\n",
        "- np.arange()\n",
        "- np.linspace()\n",
        "- np.logspace()\n",
        "- np.random.rand()\n",
        "\n",
        "Sau mỗi lần ma trận được tạo ra, hãy xuất kết quả ra màn hình và cho biết:\n",
        "- Số chiều và kích thước của ma trận A và ma trận $A^T$"
      ],
      "metadata": {
        "id": "hq9CRFmgl4e3"
      }
    },
    {
      "cell_type": "markdown",
      "source": [
        "ma trận A10x7 với giá trị các phần tử của ma trận A được sinh bởi hàm np.arange()"
      ],
      "metadata": {
        "id": "tp6cOoF55RhE"
      }
    },
    {
      "cell_type": "code",
      "source": [
        "e = np.arange(70).reshape(7,10)\n",
        "ee = e.T\n",
        "print(\"ma trận A: \\n\", e)\n",
        "print(\"Chuyển vị của ma trận A: \\n\", ee)\n",
        "print(\"số chiều của ma trận A: \", e.ndim)\n",
        "print(\"số chiều vector chuyển vị của ma trận A:: \", ee.ndim)\n",
        "print(\"kích thước của ma trận A:: \", e.shape)\n",
        "print(\"kích thước vector chuyển vị của ma trận A: \", ee.shape)"
      ],
      "metadata": {
        "colab": {
          "base_uri": "https://localhost:8080/"
        },
        "id": "x-X33ySEuo0k",
        "outputId": "e1136b33-a261-4ed5-962f-b4618f2fd396"
      },
      "execution_count": 66,
      "outputs": [
        {
          "output_type": "stream",
          "name": "stdout",
          "text": [
            "ma trận A: \n",
            " [[ 0  1  2  3  4  5  6  7  8  9]\n",
            " [10 11 12 13 14 15 16 17 18 19]\n",
            " [20 21 22 23 24 25 26 27 28 29]\n",
            " [30 31 32 33 34 35 36 37 38 39]\n",
            " [40 41 42 43 44 45 46 47 48 49]\n",
            " [50 51 52 53 54 55 56 57 58 59]\n",
            " [60 61 62 63 64 65 66 67 68 69]]\n",
            "Chuyển vị của ma trận A: \n",
            " [[ 0 10 20 30 40 50 60]\n",
            " [ 1 11 21 31 41 51 61]\n",
            " [ 2 12 22 32 42 52 62]\n",
            " [ 3 13 23 33 43 53 63]\n",
            " [ 4 14 24 34 44 54 64]\n",
            " [ 5 15 25 35 45 55 65]\n",
            " [ 6 16 26 36 46 56 66]\n",
            " [ 7 17 27 37 47 57 67]\n",
            " [ 8 18 28 38 48 58 68]\n",
            " [ 9 19 29 39 49 59 69]]\n",
            "số chiều của ma trận A:  2\n",
            "số chiều vector chuyển vị của ma trận A::  2\n",
            "kích thước của ma trận A::  (7, 10)\n",
            "kích thước vector chuyển vị của ma trận A:  (10, 7)\n"
          ]
        }
      ]
    },
    {
      "cell_type": "markdown",
      "source": [
        "ma trận A10x7 với giá trị các phần tử của ma trận A được sinh bởi hàm linspace()"
      ],
      "metadata": {
        "id": "iiWJDiZ75V8R"
      }
    },
    {
      "cell_type": "code",
      "source": [
        "f = np.linspace(1, 10, 70, dtype=int).reshape(7,10)\n",
        "ff = f.T\n",
        "print(\"ma trận A: \\n\", f)\n",
        "print(\"Chuyển vị của ma trận A: \\n\", ff)\n",
        "print(\"số chiều của ma trận A: \", f.ndim)\n",
        "print(\"số chiều vector chuyển vị của ma trận A:: \", ff.ndim)\n",
        "print(\"kích thước của ma trận A:: \", f.shape)\n",
        "print(\"kích thước vector chuyển vị của ma trận A: \", ff.shape)"
      ],
      "metadata": {
        "colab": {
          "base_uri": "https://localhost:8080/"
        },
        "id": "g9ZITBUzwm4R",
        "outputId": "a3a70d35-e9d7-4a21-839f-514821993a66"
      },
      "execution_count": 104,
      "outputs": [
        {
          "output_type": "stream",
          "name": "stdout",
          "text": [
            "ma trận A: \n",
            " [[ 1  1  1  1  1  1  1  1  2  2]\n",
            " [ 2  2  2  2  2  2  3  3  3  3]\n",
            " [ 3  3  3  4  4  4  4  4  4  4]\n",
            " [ 4  5  5  5  5  5  5  5  5  6]\n",
            " [ 6  6  6  6  6  6  7  7  7  7]\n",
            " [ 7  7  7  7  8  8  8  8  8  8]\n",
            " [ 8  8  9  9  9  9  9  9  9 10]]\n",
            "Chuyển vị của ma trận A: \n",
            " [[ 1  2  3  4  6  7  8]\n",
            " [ 1  2  3  5  6  7  8]\n",
            " [ 1  2  3  5  6  7  9]\n",
            " [ 1  2  4  5  6  7  9]\n",
            " [ 1  2  4  5  6  8  9]\n",
            " [ 1  2  4  5  6  8  9]\n",
            " [ 1  3  4  5  7  8  9]\n",
            " [ 1  3  4  5  7  8  9]\n",
            " [ 2  3  4  5  7  8  9]\n",
            " [ 2  3  4  6  7  8 10]]\n",
            "số chiều của ma trận A:  2\n",
            "số chiều vector chuyển vị của ma trận A::  2\n",
            "kích thước của ma trận A::  (7, 10)\n",
            "kích thước vector chuyển vị của ma trận A:  (10, 7)\n"
          ]
        }
      ]
    },
    {
      "cell_type": "markdown",
      "source": [
        "ma trận A10x7 với giá trị các phần tử của ma trận A được sinh bởi hàm logspace()"
      ],
      "metadata": {
        "id": "DkqDQ5Qp5Z20"
      }
    },
    {
      "cell_type": "code",
      "source": [
        "g = np.logspace(2, 4, 70, dtype=int).reshape(7,10)\n",
        "gg = g.T\n",
        "print(\"ma trận A: \\n\", g)\n",
        "print(\"Chuyển vị của ma trận A: \\n\", gg)\n",
        "print(\"số chiều của ma trận A: \", g.ndim)\n",
        "print(\"số chiều vector chuyển vị của ma trận A:: \", gg.ndim)\n",
        "print(\"kích thước của ma trận A:: \", g.shape)\n",
        "print(\"kích thước vector chuyển vị của ma trận A: \", gg.shape)"
      ],
      "metadata": {
        "colab": {
          "base_uri": "https://localhost:8080/"
        },
        "id": "YlttchtPxY_z",
        "outputId": "8e536816-4fcb-4a34-8014-77f8a9e02692"
      },
      "execution_count": 109,
      "outputs": [
        {
          "output_type": "stream",
          "name": "stdout",
          "text": [
            "ma trận A: \n",
            " [[  100   106   114   122   130   139   149   159   170   182]\n",
            " [  194   208   222   238   254   272   290   310   332   355]\n",
            " [  379   406   434   464   496   530   567   606   648   692]\n",
            " [  740   791   846   904   967  1033  1105  1181  1263  1350]\n",
            " [ 1443  1543  1649  1763  1885  2015  2154  2303  2462  2632]\n",
            " [ 2813  3007  3215  3437  3674  3928  4199  4489  4799  5130]\n",
            " [ 5484  5862  6267  6700  7162  7656  8185  8750  9354 10000]]\n",
            "Chuyển vị của ma trận A: \n",
            " [[  100   194   379   740  1443  2813  5484]\n",
            " [  106   208   406   791  1543  3007  5862]\n",
            " [  114   222   434   846  1649  3215  6267]\n",
            " [  122   238   464   904  1763  3437  6700]\n",
            " [  130   254   496   967  1885  3674  7162]\n",
            " [  139   272   530  1033  2015  3928  7656]\n",
            " [  149   290   567  1105  2154  4199  8185]\n",
            " [  159   310   606  1181  2303  4489  8750]\n",
            " [  170   332   648  1263  2462  4799  9354]\n",
            " [  182   355   692  1350  2632  5130 10000]]\n",
            "số chiều của ma trận A:  2\n",
            "số chiều vector chuyển vị của ma trận A::  2\n",
            "kích thước của ma trận A::  (7, 10)\n",
            "kích thước vector chuyển vị của ma trận A:  (10, 7)\n"
          ]
        }
      ]
    },
    {
      "cell_type": "markdown",
      "source": [
        "ma trận A10x7 với giá trị các phần tử của ma trận A được sinh bởi hàm rand.rand()"
      ],
      "metadata": {
        "id": "xzTwKWxG5dQu"
      }
    },
    {
      "cell_type": "code",
      "source": [
        "h = np.random.rand(7,10)\n",
        "hh = h.T\n",
        "print(\"ma trận A: \\n\", h)\n",
        "print(\"Chuyển vị của ma trận A: \\n\", hh)\n",
        "print(\"số chiều của ma trận A: \", h.ndim)\n",
        "print(\"số chiều vector chuyển vị của ma trận A:: \", hh.ndim)\n",
        "print(\"kích thước của ma trận A:: \", h.shape)\n",
        "print(\"kích thước vector chuyển vị của ma trận A: \", hh.shape)"
      ],
      "metadata": {
        "colab": {
          "base_uri": "https://localhost:8080/"
        },
        "id": "rzue483syKJp",
        "outputId": "c51637ff-7900-4ba7-f3da-c883ac3dfa9c"
      },
      "execution_count": 121,
      "outputs": [
        {
          "output_type": "stream",
          "name": "stdout",
          "text": [
            "ma trận A: \n",
            " [[0.95271769 0.88354293 0.54360155 0.40016333 0.17349606 0.61136277\n",
            "  0.52490016 0.54028169 0.32526351 0.82890942]\n",
            " [0.75214941 0.34666893 0.24807049 0.75523948 0.06428944 0.33490539\n",
            "  0.64674642 0.15848426 0.07154189 0.68400728]\n",
            " [0.73310112 0.29143707 0.4723331  0.64778756 0.54144082 0.3575878\n",
            "  0.98321038 0.24449929 0.39285297 0.83627056]\n",
            " [0.29196456 0.33684567 0.9041108  0.19807452 0.12030331 0.33988389\n",
            "  0.76328491 0.44783896 0.38153829 0.19698638]\n",
            " [0.22382175 0.59148588 0.65042453 0.87678148 0.88217876 0.00847352\n",
            "  0.16659811 0.4573051  0.00342991 0.47887448]\n",
            " [0.745354   0.15971692 0.31933874 0.77088202 0.97010242 0.12951073\n",
            "  0.6082343  0.8937625  0.19353356 0.637885  ]\n",
            " [0.08862673 0.96223121 0.59745215 0.68673839 0.38003113 0.57083395\n",
            "  0.86413473 0.56841911 0.86493812 0.36732087]]\n",
            "Chuyển vị của ma trận A: \n",
            " [[0.95271769 0.75214941 0.73310112 0.29196456 0.22382175 0.745354\n",
            "  0.08862673]\n",
            " [0.88354293 0.34666893 0.29143707 0.33684567 0.59148588 0.15971692\n",
            "  0.96223121]\n",
            " [0.54360155 0.24807049 0.4723331  0.9041108  0.65042453 0.31933874\n",
            "  0.59745215]\n",
            " [0.40016333 0.75523948 0.64778756 0.19807452 0.87678148 0.77088202\n",
            "  0.68673839]\n",
            " [0.17349606 0.06428944 0.54144082 0.12030331 0.88217876 0.97010242\n",
            "  0.38003113]\n",
            " [0.61136277 0.33490539 0.3575878  0.33988389 0.00847352 0.12951073\n",
            "  0.57083395]\n",
            " [0.52490016 0.64674642 0.98321038 0.76328491 0.16659811 0.6082343\n",
            "  0.86413473]\n",
            " [0.54028169 0.15848426 0.24449929 0.44783896 0.4573051  0.8937625\n",
            "  0.56841911]\n",
            " [0.32526351 0.07154189 0.39285297 0.38153829 0.00342991 0.19353356\n",
            "  0.86493812]\n",
            " [0.82890942 0.68400728 0.83627056 0.19698638 0.47887448 0.637885\n",
            "  0.36732087]]\n",
            "số chiều của ma trận A:  2\n",
            "số chiều vector chuyển vị của ma trận A::  2\n",
            "kích thước của ma trận A::  (7, 10)\n",
            "kích thước vector chuyển vị của ma trận A:  (10, 7)\n"
          ]
        }
      ]
    },
    {
      "cell_type": "markdown",
      "source": [
        "Câu 3: Sử dụng thư viện Numpy, hãy:\n",
        "- Chuyển ma trận A ở câu 2 thành vector. (Gợi ý: sử dụng hàm flatten())\n",
        "- Chuyển vector vừa được tạo ra ở câu trên thành ma trận. (Gợi ý: sử dụng hàm reshape())"
      ],
      "metadata": {
        "id": "QdDRYzw7y3hA"
      }
    },
    {
      "cell_type": "markdown",
      "source": [
        "ma trận của hàm np.arange()"
      ],
      "metadata": {
        "id": "OaLlBhYt3J19"
      }
    },
    {
      "cell_type": "code",
      "source": [
        "print(\"ma trận A: \\n\", e)\n",
        "print(\"Chuyển ma trận A thành vector: \\n\", e.flatten())\n",
        "print(\"chuyển vector thành ma trận: \\n\", e.reshape(10,7))"
      ],
      "metadata": {
        "colab": {
          "base_uri": "https://localhost:8080/"
        },
        "id": "9SFkXLw5y-rz",
        "outputId": "5e9030ff-3e67-4142-d1b8-e80055a46ea7"
      },
      "execution_count": 105,
      "outputs": [
        {
          "output_type": "stream",
          "name": "stdout",
          "text": [
            "ma trận A: \n",
            " [[ 0  1  2  3  4  5  6  7  8  9]\n",
            " [10 11 12 13 14 15 16 17 18 19]\n",
            " [20 21 22 23 24 25 26 27 28 29]\n",
            " [30 31 32 33 34 35 36 37 38 39]\n",
            " [40 41 42 43 44 45 46 47 48 49]\n",
            " [50 51 52 53 54 55 56 57 58 59]\n",
            " [60 61 62 63 64 65 66 67 68 69]]\n",
            "Chuyển ma trận A thành vector: \n",
            " [ 0  1  2  3  4  5  6  7  8  9 10 11 12 13 14 15 16 17 18 19 20 21 22 23\n",
            " 24 25 26 27 28 29 30 31 32 33 34 35 36 37 38 39 40 41 42 43 44 45 46 47\n",
            " 48 49 50 51 52 53 54 55 56 57 58 59 60 61 62 63 64 65 66 67 68 69]\n",
            "chuyển vector thành ma trận: \n",
            " [[ 0  1  2  3  4  5  6]\n",
            " [ 7  8  9 10 11 12 13]\n",
            " [14 15 16 17 18 19 20]\n",
            " [21 22 23 24 25 26 27]\n",
            " [28 29 30 31 32 33 34]\n",
            " [35 36 37 38 39 40 41]\n",
            " [42 43 44 45 46 47 48]\n",
            " [49 50 51 52 53 54 55]\n",
            " [56 57 58 59 60 61 62]\n",
            " [63 64 65 66 67 68 69]]\n"
          ]
        }
      ]
    },
    {
      "cell_type": "markdown",
      "source": [
        "ma trận của hàm np.linspace()"
      ],
      "metadata": {
        "id": "zK7FenJF3Oyo"
      }
    },
    {
      "cell_type": "code",
      "source": [
        "print(\"ma trận A: \\n\", f)\n",
        "print(\"Chuyển ma trận A thành vector: \\n\", f.flatten())\n",
        "print(\"chuyển vector thành ma trận: \\n\", f.reshape(10,7))"
      ],
      "metadata": {
        "colab": {
          "base_uri": "https://localhost:8080/"
        },
        "id": "W8Y8Gv0c2x_q",
        "outputId": "b8389f59-66ec-448b-ec58-6cb2a3c6e025"
      },
      "execution_count": 106,
      "outputs": [
        {
          "output_type": "stream",
          "name": "stdout",
          "text": [
            "ma trận A: \n",
            " [[ 1  1  1  1  1  1  1  1  2  2]\n",
            " [ 2  2  2  2  2  2  3  3  3  3]\n",
            " [ 3  3  3  4  4  4  4  4  4  4]\n",
            " [ 4  5  5  5  5  5  5  5  5  6]\n",
            " [ 6  6  6  6  6  6  7  7  7  7]\n",
            " [ 7  7  7  7  8  8  8  8  8  8]\n",
            " [ 8  8  9  9  9  9  9  9  9 10]]\n",
            "Chuyển ma trận A thành vector: \n",
            " [ 1  1  1  1  1  1  1  1  2  2  2  2  2  2  2  2  3  3  3  3  3  3  3  4\n",
            "  4  4  4  4  4  4  4  5  5  5  5  5  5  5  5  6  6  6  6  6  6  6  7  7\n",
            "  7  7  7  7  7  7  8  8  8  8  8  8  8  8  9  9  9  9  9  9  9 10]\n",
            "chuyển vector thành ma trận: \n",
            " [[ 1  1  1  1  1  1  1]\n",
            " [ 1  2  2  2  2  2  2]\n",
            " [ 2  2  3  3  3  3  3]\n",
            " [ 3  3  4  4  4  4  4]\n",
            " [ 4  4  4  5  5  5  5]\n",
            " [ 5  5  5  5  6  6  6]\n",
            " [ 6  6  6  6  7  7  7]\n",
            " [ 7  7  7  7  7  8  8]\n",
            " [ 8  8  8  8  8  8  9]\n",
            " [ 9  9  9  9  9  9 10]]\n"
          ]
        }
      ]
    },
    {
      "cell_type": "markdown",
      "source": [
        "ma trận của hàm np.logspace()"
      ],
      "metadata": {
        "id": "eEBRNw4y3Sxl"
      }
    },
    {
      "cell_type": "code",
      "source": [
        "print(\"ma trận A: \\n\", g)\n",
        "print(\"Chuyển ma trận A thành vector: \\n\", g.flatten())\n",
        "print(\"chuyển vector thành ma trận: \\n\", g.reshape(10,7))"
      ],
      "metadata": {
        "colab": {
          "base_uri": "https://localhost:8080/"
        },
        "id": "cOHc_ujQ21_K",
        "outputId": "cfc99456-0b79-4287-c112-b49032cef554"
      },
      "execution_count": 107,
      "outputs": [
        {
          "output_type": "stream",
          "name": "stdout",
          "text": [
            "ma trận A: \n",
            " [[   10    11    12    13    14    16    18    20    22    24]\n",
            " [   27    30    33    36    40    44    49    54    60    67]\n",
            " [   74    81    90   100   110   122   135   149   164   182]\n",
            " [  201   222   246   272   300   332   367   406   448   496]\n",
            " [  548   606   670   740   818   904  1000  1105  1221  1350]\n",
            " [ 1492  1649  1823  2015  2227  2462  2721  3007  3324  3674]\n",
            " [ 4061  4489  4961  5484  6061  6700  7405  8185  9047 10000]]\n",
            "Chuyển ma trận A thành vector: \n",
            " [   10    11    12    13    14    16    18    20    22    24    27    30\n",
            "    33    36    40    44    49    54    60    67    74    81    90   100\n",
            "   110   122   135   149   164   182   201   222   246   272   300   332\n",
            "   367   406   448   496   548   606   670   740   818   904  1000  1105\n",
            "  1221  1350  1492  1649  1823  2015  2227  2462  2721  3007  3324  3674\n",
            "  4061  4489  4961  5484  6061  6700  7405  8185  9047 10000]\n",
            "chuyển vector thành ma trận: \n",
            " [[   10    11    12    13    14    16    18]\n",
            " [   20    22    24    27    30    33    36]\n",
            " [   40    44    49    54    60    67    74]\n",
            " [   81    90   100   110   122   135   149]\n",
            " [  164   182   201   222   246   272   300]\n",
            " [  332   367   406   448   496   548   606]\n",
            " [  670   740   818   904  1000  1105  1221]\n",
            " [ 1350  1492  1649  1823  2015  2227  2462]\n",
            " [ 2721  3007  3324  3674  4061  4489  4961]\n",
            " [ 5484  6061  6700  7405  8185  9047 10000]]\n"
          ]
        }
      ]
    },
    {
      "cell_type": "markdown",
      "source": [
        "ma trận của hàm np.random.rand()"
      ],
      "metadata": {
        "id": "h5vlJJuW3XrJ"
      }
    },
    {
      "cell_type": "code",
      "source": [
        "print(\"ma trận A: \\n\", h)\n",
        "print(\"Chuyển ma trận A thành vector: \\n\", h.flatten())\n",
        "print(\"chuyển vector thành ma trận: \\n\", h.reshape(10,7))"
      ],
      "metadata": {
        "colab": {
          "base_uri": "https://localhost:8080/"
        },
        "id": "cB8piGtE26K6",
        "outputId": "e1251585-d9db-47d2-e991-a2ef23be9e50"
      },
      "execution_count": 108,
      "outputs": [
        {
          "output_type": "stream",
          "name": "stdout",
          "text": [
            "ma trận A: \n",
            " [[0.28585355 0.27120257 0.79908141 0.35562405 0.63760028 0.75588536\n",
            "  0.01618849 0.45430366 0.5155601  0.41674244]\n",
            " [0.28784763 0.99904563 0.84530861 0.22398521 0.26847938 0.64543252\n",
            "  0.5147452  0.96413384 0.68504565 0.32056024]\n",
            " [0.08077124 0.43661457 0.42124043 0.83551662 0.68620791 0.88555397\n",
            "  0.14470727 0.04319661 0.71367718 0.20965375]\n",
            " [0.18113188 0.85166589 0.14753824 0.89923251 0.34470083 0.08803584\n",
            "  0.95610674 0.90725947 0.03503272 0.15533342]\n",
            " [0.64597628 0.23712078 0.73659445 0.42796477 0.68688709 0.4910363\n",
            "  0.11761898 0.99096512 0.31476245 0.8248755 ]\n",
            " [0.87368136 0.90575667 0.78846523 0.1344777  0.16505492 0.15989429\n",
            "  0.11894046 0.29824068 0.63336436 0.05163994]\n",
            " [0.17361525 0.33523181 0.6747266  0.5941698  0.76778827 0.16596999\n",
            "  0.83943188 0.34736175 0.5204347  0.66544753]]\n",
            "Chuyển ma trận A thành vector: \n",
            " [0.28585355 0.27120257 0.79908141 0.35562405 0.63760028 0.75588536\n",
            " 0.01618849 0.45430366 0.5155601  0.41674244 0.28784763 0.99904563\n",
            " 0.84530861 0.22398521 0.26847938 0.64543252 0.5147452  0.96413384\n",
            " 0.68504565 0.32056024 0.08077124 0.43661457 0.42124043 0.83551662\n",
            " 0.68620791 0.88555397 0.14470727 0.04319661 0.71367718 0.20965375\n",
            " 0.18113188 0.85166589 0.14753824 0.89923251 0.34470083 0.08803584\n",
            " 0.95610674 0.90725947 0.03503272 0.15533342 0.64597628 0.23712078\n",
            " 0.73659445 0.42796477 0.68688709 0.4910363  0.11761898 0.99096512\n",
            " 0.31476245 0.8248755  0.87368136 0.90575667 0.78846523 0.1344777\n",
            " 0.16505492 0.15989429 0.11894046 0.29824068 0.63336436 0.05163994\n",
            " 0.17361525 0.33523181 0.6747266  0.5941698  0.76778827 0.16596999\n",
            " 0.83943188 0.34736175 0.5204347  0.66544753]\n",
            "chuyển vector thành ma trận: \n",
            " [[0.28585355 0.27120257 0.79908141 0.35562405 0.63760028 0.75588536\n",
            "  0.01618849]\n",
            " [0.45430366 0.5155601  0.41674244 0.28784763 0.99904563 0.84530861\n",
            "  0.22398521]\n",
            " [0.26847938 0.64543252 0.5147452  0.96413384 0.68504565 0.32056024\n",
            "  0.08077124]\n",
            " [0.43661457 0.42124043 0.83551662 0.68620791 0.88555397 0.14470727\n",
            "  0.04319661]\n",
            " [0.71367718 0.20965375 0.18113188 0.85166589 0.14753824 0.89923251\n",
            "  0.34470083]\n",
            " [0.08803584 0.95610674 0.90725947 0.03503272 0.15533342 0.64597628\n",
            "  0.23712078]\n",
            " [0.73659445 0.42796477 0.68688709 0.4910363  0.11761898 0.99096512\n",
            "  0.31476245]\n",
            " [0.8248755  0.87368136 0.90575667 0.78846523 0.1344777  0.16505492\n",
            "  0.15989429]\n",
            " [0.11894046 0.29824068 0.63336436 0.05163994 0.17361525 0.33523181\n",
            "  0.6747266 ]\n",
            " [0.5941698  0.76778827 0.16596999 0.83943188 0.34736175 0.5204347\n",
            "  0.66544753]]\n"
          ]
        }
      ]
    },
    {
      "cell_type": "markdown",
      "source": [
        "Câu 4: Sử dụng thư viện Numpy, hãy:\n",
        "- Tạo ra 1 ma trận A10x15 với các giá trị được sinh ra bởi hàm logspace();\n",
        "- Hãy trích rút dòng thứ 3 của ma trận A (tương ứng với 1 vector hàng);\n",
        "- Hãy trích rút ra cột thứ 5 của ma trận A (tương ứng với 1 vector cột)."
      ],
      "metadata": {
        "id": "m_MEauTX0TJL"
      }
    },
    {
      "cell_type": "code",
      "source": [
        "ma_tran = np.logspace(1, 3, num=150, dtype=int).reshape(10,15)\n",
        "print(ma_tran)\n",
        "print(\"dòng thứ 3 của ma trận A: \\n\",ma_tran[2])\n",
        "print(\"cột thứ 5 của ma trận A: \\n\", ma_tran[:,4])"
      ],
      "metadata": {
        "colab": {
          "base_uri": "https://localhost:8080/"
        },
        "id": "QiOwVDmd0XgS",
        "outputId": "53fecc86-5ffd-4d8d-f506-992088502b0d"
      },
      "execution_count": 8,
      "outputs": [
        {
          "output_type": "stream",
          "name": "stdout",
          "text": [
            "[[  10   10   10   10   11   11   12   12   12   13   13   14   14   14\n",
            "    15]\n",
            " [  15   16   16   17   17   18   19   19   20   20   21   22   23   23\n",
            "    24]\n",
            " [  25   26   26   27   28   29   30   31   32   33   34   35   36   37\n",
            "    38]\n",
            " [  40   41   42   44   45   46   48   49   51   53   54   56   58   60\n",
            "    61]\n",
            " [  63   65   67   70   72   74   76   79   81   84   87   89   92   95\n",
            "    98]\n",
            " [ 101  104  108  111  114  118  122  126  130  134  138  142  147  151\n",
            "   156]\n",
            " [ 161  166  171  177  182  188  194  200  206  213  219  226  233  241\n",
            "   248]\n",
            " [ 256  264  273  281  290  299  308  318  328  339  349  360  371  383\n",
            "   395]\n",
            " [ 408  420  434  447  461  476  491  506  522  538  555  573  591  609\n",
            "   629]\n",
            " [ 648  669  690  711  734  757  780  805  830  856  883  911  940  969\n",
            "  1000]]\n",
            "dòng thứ 3 của ma trận A: \n",
            " [25 26 26 27 28 29 30 31 32 33 34 35 36 37 38]\n",
            "cột thứ 5 của ma trận A: \n",
            " [ 11  17  28  45  72 114 182 290 461 734]\n"
          ]
        }
      ]
    },
    {
      "cell_type": "markdown",
      "source": [
        "Câu 5: Thực hiện các yêu cầu sau:\n",
        "- Xây dựng hàm tính giá trị trung bình\n",
        "- Xây dựng hàm tính giá trị trung vị\n",
        "- Xây dựng hàm tính giá trị yếu vị\n",
        "- Xây dựng hàm tính phương sai\n",
        "- Xây dựng hàm tính độ lệch chuẩn\n",
        "- Hãy tạo ra ma trận A15x10 với các giá trị sinh bởi hàm arange()\n",
        "- Áp dụng 5 hàm ở trên cho từng hàng của ma trận A\n",
        "- Áp dụng 5 hàm ở trên cho từng cột của ma trận A"
      ],
      "metadata": {
        "id": "0uMeEpC960jY"
      }
    },
    {
      "cell_type": "code",
      "source": [
        "import numpy as np \n",
        "import statistics as sta"
      ],
      "metadata": {
        "id": "tupmcBjF6vc1"
      },
      "execution_count": 9,
      "outputs": []
    },
    {
      "cell_type": "markdown",
      "source": [
        "Xây dựng hàm tính giá trị trung bình"
      ],
      "metadata": {
        "id": "h6e4aKW61EQ1"
      }
    },
    {
      "cell_type": "code",
      "source": [
        "def gia_tri_trung_binh(ma_tran_A):\n",
        "  tb = np.mean(ma_tran_A)\n",
        "  return tb"
      ],
      "metadata": {
        "id": "_N7UktFn0bnS"
      },
      "execution_count": 22,
      "outputs": []
    },
    {
      "cell_type": "markdown",
      "source": [
        "Xây dựng hàm tính giá trị trung vị"
      ],
      "metadata": {
        "id": "n7GghhO-1DBL"
      }
    },
    {
      "cell_type": "code",
      "source": [
        "def gia_tri_trung_vi(ma_tran_A):\n",
        "  tv = np.median(ma_tran_A)\n",
        "  return tv"
      ],
      "metadata": {
        "id": "x50jSkIH2hs8"
      },
      "execution_count": 28,
      "outputs": []
    },
    {
      "cell_type": "markdown",
      "source": [
        "Xây dựng hàm tính giá trị yếu vị"
      ],
      "metadata": {
        "id": "H408OSKv4fZR"
      }
    },
    {
      "cell_type": "code",
      "source": [
        "def gia_tri_yeu_vi(ma_tran_A):\n",
        "  return"
      ],
      "metadata": {
        "id": "qwTx7nE44h2g"
      },
      "execution_count": 29,
      "outputs": []
    },
    {
      "cell_type": "markdown",
      "source": [
        "Xây dựng hàm tính phương sai"
      ],
      "metadata": {
        "id": "PIn1hTlv6ZhO"
      }
    },
    {
      "cell_type": "code",
      "source": [
        "def phuong_sai(ma_tran_A):\n",
        "  ps = sta.variance(ma_tran_A)\n",
        "  return ps"
      ],
      "metadata": {
        "id": "1bLYe3Sa6c9V"
      },
      "execution_count": 30,
      "outputs": []
    },
    {
      "cell_type": "markdown",
      "source": [
        "Xây dựng hàm tính độ lệch chuẩn"
      ],
      "metadata": {
        "id": "GOa-sW3E6-MG"
      }
    },
    {
      "cell_type": "code",
      "source": [
        "def do_lech_chuan(ma_tran_A):\n",
        "  dlc = sta.stdev(ma_tran_A)\n",
        "  return dlc"
      ],
      "metadata": {
        "id": "qvUw7upf7BJd"
      },
      "execution_count": 31,
      "outputs": []
    },
    {
      "cell_type": "code",
      "source": [
        "import numpy as np\n",
        "ma_tran_A = np.arange(150).reshape(15,10)\n",
        "ma_tran_A"
      ],
      "metadata": {
        "colab": {
          "base_uri": "https://localhost:8080/"
        },
        "id": "ms7VIpzo1mFj",
        "outputId": "92163ebd-efb6-48aa-dbed-0318e06ec69c"
      },
      "execution_count": 32,
      "outputs": [
        {
          "output_type": "execute_result",
          "data": {
            "text/plain": [
              "array([[  0,   1,   2,   3,   4,   5,   6,   7,   8,   9],\n",
              "       [ 10,  11,  12,  13,  14,  15,  16,  17,  18,  19],\n",
              "       [ 20,  21,  22,  23,  24,  25,  26,  27,  28,  29],\n",
              "       [ 30,  31,  32,  33,  34,  35,  36,  37,  38,  39],\n",
              "       [ 40,  41,  42,  43,  44,  45,  46,  47,  48,  49],\n",
              "       [ 50,  51,  52,  53,  54,  55,  56,  57,  58,  59],\n",
              "       [ 60,  61,  62,  63,  64,  65,  66,  67,  68,  69],\n",
              "       [ 70,  71,  72,  73,  74,  75,  76,  77,  78,  79],\n",
              "       [ 80,  81,  82,  83,  84,  85,  86,  87,  88,  89],\n",
              "       [ 90,  91,  92,  93,  94,  95,  96,  97,  98,  99],\n",
              "       [100, 101, 102, 103, 104, 105, 106, 107, 108, 109],\n",
              "       [110, 111, 112, 113, 114, 115, 116, 117, 118, 119],\n",
              "       [120, 121, 122, 123, 124, 125, 126, 127, 128, 129],\n",
              "       [130, 131, 132, 133, 134, 135, 136, 137, 138, 139],\n",
              "       [140, 141, 142, 143, 144, 145, 146, 147, 148, 149]])"
            ]
          },
          "metadata": {},
          "execution_count": 32
        }
      ]
    },
    {
      "cell_type": "markdown",
      "source": [
        "Áp dụng 5 hàm ở trên cho từng hàng của ma trận A"
      ],
      "metadata": {
        "id": "5EQnAwCc7Uqp"
      }
    },
    {
      "cell_type": "code",
      "source": [
        "print(\"Giá trị trung bình cho từng hàng của ma trận A là: \\n\", np.apply_along_axis(gia_tri_trung_binh, 1, ma_tran_A))"
      ],
      "metadata": {
        "colab": {
          "base_uri": "https://localhost:8080/"
        },
        "id": "rcNjG7XB7fU2",
        "outputId": "004862d6-c10e-47f0-d110-b66a7da8afe4"
      },
      "execution_count": 27,
      "outputs": [
        {
          "output_type": "stream",
          "name": "stdout",
          "text": [
            "Giá trị trung bình cho từng hàng của ma trận A là: \n",
            " [  4.5  14.5  24.5  34.5  44.5  54.5  64.5  74.5  84.5  94.5 104.5 114.5\n",
            " 124.5 134.5 144.5]\n"
          ]
        }
      ]
    },
    {
      "cell_type": "code",
      "source": [
        "print(\"Giá trị trung vị cho từng hàng của ma trận A là: \\n\", np.apply_along_axis(gia_tri_trung_vi, 1, ma_tran_A))"
      ],
      "metadata": {
        "colab": {
          "base_uri": "https://localhost:8080/"
        },
        "id": "DIT3kkDR7ffS",
        "outputId": "66ecb96f-6559-4571-e9c5-1051d4d9e5c0"
      },
      "execution_count": 33,
      "outputs": [
        {
          "output_type": "stream",
          "name": "stdout",
          "text": [
            "Giá trị trung vị cho từng hàng của ma trận A là: \n",
            " [  4.5  14.5  24.5  34.5  44.5  54.5  64.5  74.5  84.5  94.5 104.5 114.5\n",
            " 124.5 134.5 144.5]\n"
          ]
        }
      ]
    },
    {
      "cell_type": "code",
      "source": [
        ""
      ],
      "metadata": {
        "id": "DMfvzuop-6B-"
      },
      "execution_count": null,
      "outputs": []
    },
    {
      "cell_type": "code",
      "source": [
        "print(\"Phương sai cho từng hàng của ma trận A là: \\n\", np.apply_along_axis(phuong_sai, 1, ma_tran_A))"
      ],
      "metadata": {
        "colab": {
          "base_uri": "https://localhost:8080/"
        },
        "id": "0tkE1UCo-6M8",
        "outputId": "d74879b4-e791-4360-bf44-1176cd16088e"
      },
      "execution_count": 34,
      "outputs": [
        {
          "output_type": "stream",
          "name": "stdout",
          "text": [
            "Phương sai cho từng hàng của ma trận A là: \n",
            " [9 9 9 9 9 9 9 9 9 9 9 9 9 9 9]\n"
          ]
        }
      ]
    },
    {
      "cell_type": "code",
      "source": [
        "print(\"Độ lệch chuẩn cho từng hàng của ma trận A là: \\n\", np.apply_along_axis(do_lech_chuan, 1, ma_tran_A))"
      ],
      "metadata": {
        "colab": {
          "base_uri": "https://localhost:8080/"
        },
        "id": "r4WZllMz_Bhx",
        "outputId": "a32da60b-3871-42e4-b928-48973d33a559"
      },
      "execution_count": 35,
      "outputs": [
        {
          "output_type": "stream",
          "name": "stdout",
          "text": [
            "Độ lệch chuẩn cho từng hàng của ma trận A là: \n",
            " [3. 3. 3. 3. 3. 3. 3. 3. 3. 3. 3. 3. 3. 3. 3.]\n"
          ]
        }
      ]
    },
    {
      "cell_type": "markdown",
      "source": [
        "Áp dụng 5 hàm ở trên cho từng cột của ma trận A"
      ],
      "metadata": {
        "id": "muvVcD7J_MBG"
      }
    },
    {
      "cell_type": "code",
      "source": [
        "print(\"Giá trị trung bình cho từng cột của ma trận A là: \\n\", np.apply_along_axis(gia_tri_trung_binh, 0, ma_tran_A))"
      ],
      "metadata": {
        "colab": {
          "base_uri": "https://localhost:8080/"
        },
        "id": "PdZ5I1wl_Q7U",
        "outputId": "f18533cd-224d-4c2d-c14c-c718d08351db"
      },
      "execution_count": 36,
      "outputs": [
        {
          "output_type": "stream",
          "name": "stdout",
          "text": [
            "Giá trị trung bình cho từng cột của ma trận A là: \n",
            " [70. 71. 72. 73. 74. 75. 76. 77. 78. 79.]\n"
          ]
        }
      ]
    },
    {
      "cell_type": "code",
      "source": [
        "print(\"Giá trị trung vị cho từng cột của ma trận A là: \\n\", np.apply_along_axis(gia_tri_trung_vi, 0, ma_tran_A))"
      ],
      "metadata": {
        "colab": {
          "base_uri": "https://localhost:8080/"
        },
        "id": "RQpVf324_jsP",
        "outputId": "584f1bc4-e9fd-4aef-f483-04aa195992c0"
      },
      "execution_count": 37,
      "outputs": [
        {
          "output_type": "stream",
          "name": "stdout",
          "text": [
            "Giá trị trung vị cho từng cột của ma trận A là: \n",
            " [70. 71. 72. 73. 74. 75. 76. 77. 78. 79.]\n"
          ]
        }
      ]
    },
    {
      "cell_type": "code",
      "source": [
        ""
      ],
      "metadata": {
        "id": "R3vL2Ih9_p9Q"
      },
      "execution_count": null,
      "outputs": []
    },
    {
      "cell_type": "code",
      "source": [
        "print(\"Phương sai cho từng cột của ma trận A là: \\n\", np.apply_along_axis(phuong_sai, 0, ma_tran_A))"
      ],
      "metadata": {
        "colab": {
          "base_uri": "https://localhost:8080/"
        },
        "id": "KbYmyUwI_qGk",
        "outputId": "fa0caa93-b0bb-4487-fed4-2c5c02242938"
      },
      "execution_count": 38,
      "outputs": [
        {
          "output_type": "stream",
          "name": "stdout",
          "text": [
            "Phương sai cho từng cột của ma trận A là: \n",
            " [2000 2000 2000 2000 2000 2000 2000 2000 2000 2000]\n"
          ]
        }
      ]
    },
    {
      "cell_type": "code",
      "source": [
        "print(\"Độ lệch chuẩn cho từng cột của ma trận A là: \\n\", np.apply_along_axis(do_lech_chuan, 0, ma_tran_A))"
      ],
      "metadata": {
        "colab": {
          "base_uri": "https://localhost:8080/"
        },
        "id": "-Jy4JA0-_wS3",
        "outputId": "7b88abb6-9e24-4710-8b97-9672c156b873"
      },
      "execution_count": 41,
      "outputs": [
        {
          "output_type": "stream",
          "name": "stdout",
          "text": [
            "Độ lệch chuẩn cho từng cột của ma trận A là: \n",
            " [44.72135955 44.72135955 44.72135955 44.72135955 44.72135955 44.72135955\n",
            " 44.72135955 44.72135955 44.72135955 44.72135955]\n"
          ]
        }
      ]
    }
  ]
}