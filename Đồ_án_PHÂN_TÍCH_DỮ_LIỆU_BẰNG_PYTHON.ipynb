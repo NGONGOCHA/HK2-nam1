{
  "nbformat": 4,
  "nbformat_minor": 0,
  "metadata": {
    "colab": {
      "name": "Đồ án PHÂN TÍCH DỮ LIỆU BẰNG PYTHON",
      "provenance": [],
      "mount_file_id": "1dKJ7799uNvqBJpCBjlwR5AXaUkOZ36Ko",
      "authorship_tag": "ABX9TyM22l3k3cdB+cwxKAtAYMXO",
      "include_colab_link": true
    },
    "kernelspec": {
      "name": "python3",
      "display_name": "Python 3"
    },
    "language_info": {
      "name": "python"
    }
  },
  "cells": [
    {
      "cell_type": "markdown",
      "metadata": {
        "id": "view-in-github",
        "colab_type": "text"
      },
      "source": [
        "<a href=\"https://colab.research.google.com/github/NGONGOCHA/HK2-nam1/blob/main/%C4%90%E1%BB%93_%C3%A1n_PH%C3%82N_T%C3%8DCH_D%E1%BB%AE_LI%E1%BB%86U_B%E1%BA%B0NG_PYTHON.ipynb\" target=\"_parent\"><img src=\"https://colab.research.google.com/assets/colab-badge.svg\" alt=\"Open In Colab\"/></a>"
      ]
    },
    {
      "cell_type": "markdown",
      "source": [
        "#**1) Sử dụng tập tin Inc_Exp_Data.csv để thực hiện phân tích thống kê mô tả về tập dữ liệu này**"
      ],
      "metadata": {
        "id": "39FaZhCb1GTi"
      }
    },
    {
      "cell_type": "code",
      "execution_count": null,
      "metadata": {
        "id": "fT-VwUFD05sh"
      },
      "outputs": [],
      "source": [
        "import pandas as pd\n",
        "import numpy as np\n",
        "import statistics as sta\n",
        "import seaborn as sns\n",
        "import matplotlib.pyplot as plt\n",
        "import plotly.graph_objs as go"
      ]
    },
    {
      "cell_type": "markdown",
      "source": [
        "Đọc dữ liệu từ file csv"
      ],
      "metadata": {
        "id": "XU8CSQ9t6T13"
      }
    },
    {
      "cell_type": "code",
      "source": [
        "df = pd.read_csv(\"/content/drive/MyDrive/Classroom/Phân tích dữ liệu với Python - K2 Phần cơ sở/ĐỒ ÁN/Inc_Exp_Data.csv\")\n",
        "df.head()"
      ],
      "metadata": {
        "colab": {
          "base_uri": "https://localhost:8080/",
          "height": 206
        },
        "id": "2tIJvPXk5h03",
        "outputId": "da4ec206-ec66-4b30-9b3f-6074b1fc637a"
      },
      "execution_count": null,
      "outputs": [
        {
          "output_type": "execute_result",
          "data": {
            "text/plain": [
              "   Mthly_HH_Income  Mthly_HH_Expense  No_of_Fly_Members  Emi_or_Rent_Amt  \\\n",
              "0             5000              8000                  3             2000   \n",
              "1             6000              7000                  2             3000   \n",
              "2            10000              4500                  2                0   \n",
              "3            10000              2000                  1                0   \n",
              "4            12500             12000                  2             3000   \n",
              "\n",
              "   Annual_HH_Income Highest_Qualified_Member  No_of_Earning_Members  \n",
              "0             64200           Under-Graduate                      1  \n",
              "1             79920               Illiterate                      1  \n",
              "2            112800           Under-Graduate                      1  \n",
              "3             97200               Illiterate                      1  \n",
              "4            147000                 Graduate                      1  "
            ],
            "text/html": [
              "\n",
              "  <div id=\"df-172abd2a-1e1e-42fa-806c-08158e70828f\">\n",
              "    <div class=\"colab-df-container\">\n",
              "      <div>\n",
              "<style scoped>\n",
              "    .dataframe tbody tr th:only-of-type {\n",
              "        vertical-align: middle;\n",
              "    }\n",
              "\n",
              "    .dataframe tbody tr th {\n",
              "        vertical-align: top;\n",
              "    }\n",
              "\n",
              "    .dataframe thead th {\n",
              "        text-align: right;\n",
              "    }\n",
              "</style>\n",
              "<table border=\"1\" class=\"dataframe\">\n",
              "  <thead>\n",
              "    <tr style=\"text-align: right;\">\n",
              "      <th></th>\n",
              "      <th>Mthly_HH_Income</th>\n",
              "      <th>Mthly_HH_Expense</th>\n",
              "      <th>No_of_Fly_Members</th>\n",
              "      <th>Emi_or_Rent_Amt</th>\n",
              "      <th>Annual_HH_Income</th>\n",
              "      <th>Highest_Qualified_Member</th>\n",
              "      <th>No_of_Earning_Members</th>\n",
              "    </tr>\n",
              "  </thead>\n",
              "  <tbody>\n",
              "    <tr>\n",
              "      <th>0</th>\n",
              "      <td>5000</td>\n",
              "      <td>8000</td>\n",
              "      <td>3</td>\n",
              "      <td>2000</td>\n",
              "      <td>64200</td>\n",
              "      <td>Under-Graduate</td>\n",
              "      <td>1</td>\n",
              "    </tr>\n",
              "    <tr>\n",
              "      <th>1</th>\n",
              "      <td>6000</td>\n",
              "      <td>7000</td>\n",
              "      <td>2</td>\n",
              "      <td>3000</td>\n",
              "      <td>79920</td>\n",
              "      <td>Illiterate</td>\n",
              "      <td>1</td>\n",
              "    </tr>\n",
              "    <tr>\n",
              "      <th>2</th>\n",
              "      <td>10000</td>\n",
              "      <td>4500</td>\n",
              "      <td>2</td>\n",
              "      <td>0</td>\n",
              "      <td>112800</td>\n",
              "      <td>Under-Graduate</td>\n",
              "      <td>1</td>\n",
              "    </tr>\n",
              "    <tr>\n",
              "      <th>3</th>\n",
              "      <td>10000</td>\n",
              "      <td>2000</td>\n",
              "      <td>1</td>\n",
              "      <td>0</td>\n",
              "      <td>97200</td>\n",
              "      <td>Illiterate</td>\n",
              "      <td>1</td>\n",
              "    </tr>\n",
              "    <tr>\n",
              "      <th>4</th>\n",
              "      <td>12500</td>\n",
              "      <td>12000</td>\n",
              "      <td>2</td>\n",
              "      <td>3000</td>\n",
              "      <td>147000</td>\n",
              "      <td>Graduate</td>\n",
              "      <td>1</td>\n",
              "    </tr>\n",
              "  </tbody>\n",
              "</table>\n",
              "</div>\n",
              "      <button class=\"colab-df-convert\" onclick=\"convertToInteractive('df-172abd2a-1e1e-42fa-806c-08158e70828f')\"\n",
              "              title=\"Convert this dataframe to an interactive table.\"\n",
              "              style=\"display:none;\">\n",
              "        \n",
              "  <svg xmlns=\"http://www.w3.org/2000/svg\" height=\"24px\"viewBox=\"0 0 24 24\"\n",
              "       width=\"24px\">\n",
              "    <path d=\"M0 0h24v24H0V0z\" fill=\"none\"/>\n",
              "    <path d=\"M18.56 5.44l.94 2.06.94-2.06 2.06-.94-2.06-.94-.94-2.06-.94 2.06-2.06.94zm-11 1L8.5 8.5l.94-2.06 2.06-.94-2.06-.94L8.5 2.5l-.94 2.06-2.06.94zm10 10l.94 2.06.94-2.06 2.06-.94-2.06-.94-.94-2.06-.94 2.06-2.06.94z\"/><path d=\"M17.41 7.96l-1.37-1.37c-.4-.4-.92-.59-1.43-.59-.52 0-1.04.2-1.43.59L10.3 9.45l-7.72 7.72c-.78.78-.78 2.05 0 2.83L4 21.41c.39.39.9.59 1.41.59.51 0 1.02-.2 1.41-.59l7.78-7.78 2.81-2.81c.8-.78.8-2.07 0-2.86zM5.41 20L4 18.59l7.72-7.72 1.47 1.35L5.41 20z\"/>\n",
              "  </svg>\n",
              "      </button>\n",
              "      \n",
              "  <style>\n",
              "    .colab-df-container {\n",
              "      display:flex;\n",
              "      flex-wrap:wrap;\n",
              "      gap: 12px;\n",
              "    }\n",
              "\n",
              "    .colab-df-convert {\n",
              "      background-color: #E8F0FE;\n",
              "      border: none;\n",
              "      border-radius: 50%;\n",
              "      cursor: pointer;\n",
              "      display: none;\n",
              "      fill: #1967D2;\n",
              "      height: 32px;\n",
              "      padding: 0 0 0 0;\n",
              "      width: 32px;\n",
              "    }\n",
              "\n",
              "    .colab-df-convert:hover {\n",
              "      background-color: #E2EBFA;\n",
              "      box-shadow: 0px 1px 2px rgba(60, 64, 67, 0.3), 0px 1px 3px 1px rgba(60, 64, 67, 0.15);\n",
              "      fill: #174EA6;\n",
              "    }\n",
              "\n",
              "    [theme=dark] .colab-df-convert {\n",
              "      background-color: #3B4455;\n",
              "      fill: #D2E3FC;\n",
              "    }\n",
              "\n",
              "    [theme=dark] .colab-df-convert:hover {\n",
              "      background-color: #434B5C;\n",
              "      box-shadow: 0px 1px 3px 1px rgba(0, 0, 0, 0.15);\n",
              "      filter: drop-shadow(0px 1px 2px rgba(0, 0, 0, 0.3));\n",
              "      fill: #FFFFFF;\n",
              "    }\n",
              "  </style>\n",
              "\n",
              "      <script>\n",
              "        const buttonEl =\n",
              "          document.querySelector('#df-172abd2a-1e1e-42fa-806c-08158e70828f button.colab-df-convert');\n",
              "        buttonEl.style.display =\n",
              "          google.colab.kernel.accessAllowed ? 'block' : 'none';\n",
              "\n",
              "        async function convertToInteractive(key) {\n",
              "          const element = document.querySelector('#df-172abd2a-1e1e-42fa-806c-08158e70828f');\n",
              "          const dataTable =\n",
              "            await google.colab.kernel.invokeFunction('convertToInteractive',\n",
              "                                                     [key], {});\n",
              "          if (!dataTable) return;\n",
              "\n",
              "          const docLinkHtml = 'Like what you see? Visit the ' +\n",
              "            '<a target=\"_blank\" href=https://colab.research.google.com/notebooks/data_table.ipynb>data table notebook</a>'\n",
              "            + ' to learn more about interactive tables.';\n",
              "          element.innerHTML = '';\n",
              "          dataTable['output_type'] = 'display_data';\n",
              "          await google.colab.output.renderOutput(dataTable, element);\n",
              "          const docLink = document.createElement('div');\n",
              "          docLink.innerHTML = docLinkHtml;\n",
              "          element.appendChild(docLink);\n",
              "        }\n",
              "      </script>\n",
              "    </div>\n",
              "  </div>\n",
              "  "
            ]
          },
          "metadata": {},
          "execution_count": 2
        }
      ]
    },
    {
      "cell_type": "markdown",
      "source": [
        "hiển thị kích thước của tập dữ liệu\n"
      ],
      "metadata": {
        "id": "CqvU-h1j6cOn"
      }
    },
    {
      "cell_type": "code",
      "source": [
        "df.shape"
      ],
      "metadata": {
        "colab": {
          "base_uri": "https://localhost:8080/"
        },
        "id": "Rlw1qrrW5r0p",
        "outputId": "856e1136-e953-4214-8b83-84a0fec7e0e0"
      },
      "execution_count": null,
      "outputs": [
        {
          "output_type": "execute_result",
          "data": {
            "text/plain": [
              "(50, 7)"
            ]
          },
          "metadata": {},
          "execution_count": 3
        }
      ]
    },
    {
      "cell_type": "markdown",
      "source": [
        "Hiển thị thông tin của từng cột dữ liệu "
      ],
      "metadata": {
        "id": "HcVymCTc8dbr"
      }
    },
    {
      "cell_type": "code",
      "source": [
        "df.info()"
      ],
      "metadata": {
        "colab": {
          "base_uri": "https://localhost:8080/"
        },
        "id": "Vg1KVv1J8f4j",
        "outputId": "f3a16ad2-c690-42e2-ca65-587d3c24c67d"
      },
      "execution_count": null,
      "outputs": [
        {
          "output_type": "stream",
          "name": "stdout",
          "text": [
            "<class 'pandas.core.frame.DataFrame'>\n",
            "RangeIndex: 50 entries, 0 to 49\n",
            "Data columns (total 7 columns):\n",
            " #   Column                    Non-Null Count  Dtype \n",
            "---  ------                    --------------  ----- \n",
            " 0   Mthly_HH_Income           50 non-null     int64 \n",
            " 1   Mthly_HH_Expense          50 non-null     int64 \n",
            " 2   No_of_Fly_Members         50 non-null     int64 \n",
            " 3   Emi_or_Rent_Amt           50 non-null     int64 \n",
            " 4   Annual_HH_Income          50 non-null     int64 \n",
            " 5   Highest_Qualified_Member  50 non-null     object\n",
            " 6   No_of_Earning_Members     50 non-null     int64 \n",
            "dtypes: int64(6), object(1)\n",
            "memory usage: 2.9+ KB\n"
          ]
        }
      ]
    },
    {
      "cell_type": "markdown",
      "source": [
        "Giải thích ý nghĩa các cột dữ liệu \n",
        "\n",
        "- Mthly_HH_Income : Thu nhập hàng tháng\n",
        "- Mthly_HH_Expense : Chi tiêu hàng tháng\n",
        "- No_of_Fly_Members : Số thành viên trong gia đình\n",
        "- Emi_or_Rent_Amt : Chi phí phát sinh hàng tháng\n",
        "- Annual_HH_Income : Thu nhập hàng năm\n",
        "- Highest_Qualified_Member : Trình độ học vấn của các thành viên trong gia đình\n",
        "- No_of_Earning_Members : Thành viên không kiếm ra tiền "
      ],
      "metadata": {
        "id": "biX8K2t8GYfr"
      }
    },
    {
      "cell_type": "markdown",
      "source": [
        "**TÍNH CÁC CHỈ SỐ THỐNG KÊ VỚI CÁC CỘT DỮ LIỆU ĐỊNH LƯỢNG**"
      ],
      "metadata": {
        "id": "STWVVBmyBxBg"
      }
    },
    {
      "cell_type": "markdown",
      "source": [
        "Các cột dữ liệu định lượng là:\n",
        "- Mthly_HH_Income : Thu nhập hàng tháng\n",
        "- Mthly_HH_Expense : Chi tiêu hàng tháng\n",
        "- Emi_or_Rent_Amt : Chi phí phát sinh hàng tháng\n",
        "- Annual_HH_Income : Thu nhập hàng năm"
      ],
      "metadata": {
        "id": "0E2OxzzA80BU"
      }
    },
    {
      "cell_type": "code",
      "source": [
        "df2 = pd.DataFrame(columns = ['Mthly_HH_Income', 'Mthly_HH_Expense',  'Emi_or_Rent_Amt','Annual_HH_Income'], data = df)\n",
        "df2.describe()"
      ],
      "metadata": {
        "colab": {
          "base_uri": "https://localhost:8080/",
          "height": 300
        },
        "id": "sDU8Cz4LBxN8",
        "outputId": "3c50f804-7770-4664-90fe-c4c9ba23e11a"
      },
      "execution_count": null,
      "outputs": [
        {
          "output_type": "execute_result",
          "data": {
            "text/plain": [
              "       Mthly_HH_Income  Mthly_HH_Expense  Emi_or_Rent_Amt  Annual_HH_Income\n",
              "count        50.000000         50.000000        50.000000      5.000000e+01\n",
              "mean      41558.000000      18818.000000      3060.000000      4.900190e+05\n",
              "std       26097.908979      12090.216824      6241.434948      3.201358e+05\n",
              "min        5000.000000       2000.000000         0.000000      6.420000e+04\n",
              "25%       23550.000000      10000.000000         0.000000      2.587500e+05\n",
              "50%       35000.000000      15500.000000         0.000000      4.474200e+05\n",
              "75%       50375.000000      25000.000000      3500.000000      5.947200e+05\n",
              "max      100000.000000      50000.000000     35000.000000      1.404000e+06"
            ],
            "text/html": [
              "\n",
              "  <div id=\"df-7d1147cb-060a-4e2a-a2fd-f30f0e9bcd6f\">\n",
              "    <div class=\"colab-df-container\">\n",
              "      <div>\n",
              "<style scoped>\n",
              "    .dataframe tbody tr th:only-of-type {\n",
              "        vertical-align: middle;\n",
              "    }\n",
              "\n",
              "    .dataframe tbody tr th {\n",
              "        vertical-align: top;\n",
              "    }\n",
              "\n",
              "    .dataframe thead th {\n",
              "        text-align: right;\n",
              "    }\n",
              "</style>\n",
              "<table border=\"1\" class=\"dataframe\">\n",
              "  <thead>\n",
              "    <tr style=\"text-align: right;\">\n",
              "      <th></th>\n",
              "      <th>Mthly_HH_Income</th>\n",
              "      <th>Mthly_HH_Expense</th>\n",
              "      <th>Emi_or_Rent_Amt</th>\n",
              "      <th>Annual_HH_Income</th>\n",
              "    </tr>\n",
              "  </thead>\n",
              "  <tbody>\n",
              "    <tr>\n",
              "      <th>count</th>\n",
              "      <td>50.000000</td>\n",
              "      <td>50.000000</td>\n",
              "      <td>50.000000</td>\n",
              "      <td>5.000000e+01</td>\n",
              "    </tr>\n",
              "    <tr>\n",
              "      <th>mean</th>\n",
              "      <td>41558.000000</td>\n",
              "      <td>18818.000000</td>\n",
              "      <td>3060.000000</td>\n",
              "      <td>4.900190e+05</td>\n",
              "    </tr>\n",
              "    <tr>\n",
              "      <th>std</th>\n",
              "      <td>26097.908979</td>\n",
              "      <td>12090.216824</td>\n",
              "      <td>6241.434948</td>\n",
              "      <td>3.201358e+05</td>\n",
              "    </tr>\n",
              "    <tr>\n",
              "      <th>min</th>\n",
              "      <td>5000.000000</td>\n",
              "      <td>2000.000000</td>\n",
              "      <td>0.000000</td>\n",
              "      <td>6.420000e+04</td>\n",
              "    </tr>\n",
              "    <tr>\n",
              "      <th>25%</th>\n",
              "      <td>23550.000000</td>\n",
              "      <td>10000.000000</td>\n",
              "      <td>0.000000</td>\n",
              "      <td>2.587500e+05</td>\n",
              "    </tr>\n",
              "    <tr>\n",
              "      <th>50%</th>\n",
              "      <td>35000.000000</td>\n",
              "      <td>15500.000000</td>\n",
              "      <td>0.000000</td>\n",
              "      <td>4.474200e+05</td>\n",
              "    </tr>\n",
              "    <tr>\n",
              "      <th>75%</th>\n",
              "      <td>50375.000000</td>\n",
              "      <td>25000.000000</td>\n",
              "      <td>3500.000000</td>\n",
              "      <td>5.947200e+05</td>\n",
              "    </tr>\n",
              "    <tr>\n",
              "      <th>max</th>\n",
              "      <td>100000.000000</td>\n",
              "      <td>50000.000000</td>\n",
              "      <td>35000.000000</td>\n",
              "      <td>1.404000e+06</td>\n",
              "    </tr>\n",
              "  </tbody>\n",
              "</table>\n",
              "</div>\n",
              "      <button class=\"colab-df-convert\" onclick=\"convertToInteractive('df-7d1147cb-060a-4e2a-a2fd-f30f0e9bcd6f')\"\n",
              "              title=\"Convert this dataframe to an interactive table.\"\n",
              "              style=\"display:none;\">\n",
              "        \n",
              "  <svg xmlns=\"http://www.w3.org/2000/svg\" height=\"24px\"viewBox=\"0 0 24 24\"\n",
              "       width=\"24px\">\n",
              "    <path d=\"M0 0h24v24H0V0z\" fill=\"none\"/>\n",
              "    <path d=\"M18.56 5.44l.94 2.06.94-2.06 2.06-.94-2.06-.94-.94-2.06-.94 2.06-2.06.94zm-11 1L8.5 8.5l.94-2.06 2.06-.94-2.06-.94L8.5 2.5l-.94 2.06-2.06.94zm10 10l.94 2.06.94-2.06 2.06-.94-2.06-.94-.94-2.06-.94 2.06-2.06.94z\"/><path d=\"M17.41 7.96l-1.37-1.37c-.4-.4-.92-.59-1.43-.59-.52 0-1.04.2-1.43.59L10.3 9.45l-7.72 7.72c-.78.78-.78 2.05 0 2.83L4 21.41c.39.39.9.59 1.41.59.51 0 1.02-.2 1.41-.59l7.78-7.78 2.81-2.81c.8-.78.8-2.07 0-2.86zM5.41 20L4 18.59l7.72-7.72 1.47 1.35L5.41 20z\"/>\n",
              "  </svg>\n",
              "      </button>\n",
              "      \n",
              "  <style>\n",
              "    .colab-df-container {\n",
              "      display:flex;\n",
              "      flex-wrap:wrap;\n",
              "      gap: 12px;\n",
              "    }\n",
              "\n",
              "    .colab-df-convert {\n",
              "      background-color: #E8F0FE;\n",
              "      border: none;\n",
              "      border-radius: 50%;\n",
              "      cursor: pointer;\n",
              "      display: none;\n",
              "      fill: #1967D2;\n",
              "      height: 32px;\n",
              "      padding: 0 0 0 0;\n",
              "      width: 32px;\n",
              "    }\n",
              "\n",
              "    .colab-df-convert:hover {\n",
              "      background-color: #E2EBFA;\n",
              "      box-shadow: 0px 1px 2px rgba(60, 64, 67, 0.3), 0px 1px 3px 1px rgba(60, 64, 67, 0.15);\n",
              "      fill: #174EA6;\n",
              "    }\n",
              "\n",
              "    [theme=dark] .colab-df-convert {\n",
              "      background-color: #3B4455;\n",
              "      fill: #D2E3FC;\n",
              "    }\n",
              "\n",
              "    [theme=dark] .colab-df-convert:hover {\n",
              "      background-color: #434B5C;\n",
              "      box-shadow: 0px 1px 3px 1px rgba(0, 0, 0, 0.15);\n",
              "      filter: drop-shadow(0px 1px 2px rgba(0, 0, 0, 0.3));\n",
              "      fill: #FFFFFF;\n",
              "    }\n",
              "  </style>\n",
              "\n",
              "      <script>\n",
              "        const buttonEl =\n",
              "          document.querySelector('#df-7d1147cb-060a-4e2a-a2fd-f30f0e9bcd6f button.colab-df-convert');\n",
              "        buttonEl.style.display =\n",
              "          google.colab.kernel.accessAllowed ? 'block' : 'none';\n",
              "\n",
              "        async function convertToInteractive(key) {\n",
              "          const element = document.querySelector('#df-7d1147cb-060a-4e2a-a2fd-f30f0e9bcd6f');\n",
              "          const dataTable =\n",
              "            await google.colab.kernel.invokeFunction('convertToInteractive',\n",
              "                                                     [key], {});\n",
              "          if (!dataTable) return;\n",
              "\n",
              "          const docLinkHtml = 'Like what you see? Visit the ' +\n",
              "            '<a target=\"_blank\" href=https://colab.research.google.com/notebooks/data_table.ipynb>data table notebook</a>'\n",
              "            + ' to learn more about interactive tables.';\n",
              "          element.innerHTML = '';\n",
              "          dataTable['output_type'] = 'display_data';\n",
              "          await google.colab.output.renderOutput(dataTable, element);\n",
              "          const docLink = document.createElement('div');\n",
              "          docLink.innerHTML = docLinkHtml;\n",
              "          element.appendChild(docLink);\n",
              "        }\n",
              "      </script>\n",
              "    </div>\n",
              "  </div>\n",
              "  "
            ]
          },
          "metadata": {},
          "execution_count": 5
        }
      ]
    },
    {
      "cell_type": "markdown",
      "source": [
        "Giá trị trung vị - median;"
      ],
      "metadata": {
        "id": "B2Alm8gE7pX_"
      }
    },
    {
      "cell_type": "code",
      "source": [
        "df2[['Mthly_HH_Income', 'Mthly_HH_Expense',  'Emi_or_Rent_Amt','Annual_HH_Income']].median().astype(int)"
      ],
      "metadata": {
        "colab": {
          "base_uri": "https://localhost:8080/"
        },
        "id": "7wlf3_Hm7sWp",
        "outputId": "c023e7e3-cb18-47bb-d324-22b606a0fff6"
      },
      "execution_count": null,
      "outputs": [
        {
          "output_type": "execute_result",
          "data": {
            "text/plain": [
              "Mthly_HH_Income      35000\n",
              "Mthly_HH_Expense     15500\n",
              "Emi_or_Rent_Amt          0\n",
              "Annual_HH_Income    447420\n",
              "dtype: int64"
            ]
          },
          "metadata": {},
          "execution_count": 6
        }
      ]
    },
    {
      "cell_type": "markdown",
      "source": [
        "Phương sai - variance;"
      ],
      "metadata": {
        "id": "kdkd5VwM7siy"
      }
    },
    {
      "cell_type": "code",
      "source": [
        "print(df2.var())"
      ],
      "metadata": {
        "colab": {
          "base_uri": "https://localhost:8080/"
        },
        "id": "TqiA1GV8nPC6",
        "outputId": "ff9bc7c5-7f7e-4c4a-84b9-2c6c782ce7ca"
      },
      "execution_count": null,
      "outputs": [
        {
          "output_type": "stream",
          "name": "stdout",
          "text": [
            "Mthly_HH_Income     6.811009e+08\n",
            "Mthly_HH_Expense    1.461733e+08\n",
            "Emi_or_Rent_Amt     3.895551e+07\n",
            "Annual_HH_Income    1.024869e+11\n",
            "dtype: float64\n"
          ]
        }
      ]
    },
    {
      "cell_type": "markdown",
      "source": [
        "Giá trị Yếu vị - Mode"
      ],
      "metadata": {
        "id": "LJqrMIK_7sYM"
      }
    },
    {
      "cell_type": "code",
      "source": [
        "print(df2.mode())"
      ],
      "metadata": {
        "colab": {
          "base_uri": "https://localhost:8080/"
        },
        "id": "C-BFGMcC7xK9",
        "outputId": "66861954-6617-4079-f70a-020cdfb02e8c"
      },
      "execution_count": null,
      "outputs": [
        {
          "output_type": "stream",
          "name": "stdout",
          "text": [
            "   Mthly_HH_Income  Mthly_HH_Expense  Emi_or_Rent_Amt  Annual_HH_Income\n",
            "0            45000             25000                0            590400\n"
          ]
        }
      ]
    },
    {
      "cell_type": "markdown",
      "source": [
        "Độ trải giữa - IQR"
      ],
      "metadata": {
        "id": "PyVd_i0nfszb"
      }
    },
    {
      "cell_type": "code",
      "source": [
        "print(\"Độ trải giữa IQR là: \")\n",
        "df2.quantile(0.75) - df2.quantile(0.25)"
      ],
      "metadata": {
        "colab": {
          "base_uri": "https://localhost:8080/"
        },
        "id": "EsDmJRStT1px",
        "outputId": "0323c2ad-3bfe-408c-ced8-9e6d91276d6f"
      },
      "execution_count": null,
      "outputs": [
        {
          "output_type": "stream",
          "name": "stdout",
          "text": [
            "Độ trải giữa IQR là: \n"
          ]
        },
        {
          "output_type": "execute_result",
          "data": {
            "text/plain": [
              "Mthly_HH_Income      26825.0\n",
              "Mthly_HH_Expense     15000.0\n",
              "Emi_or_Rent_Amt       3500.0\n",
              "Annual_HH_Income    335970.0\n",
              "dtype: float64"
            ]
          },
          "metadata": {},
          "execution_count": 9
        }
      ]
    },
    {
      "cell_type": "markdown",
      "source": [
        "ĐỘ TƯƠNG QUAN (CORRELATION) GIỮA CÁC CỘT ĐỊNH LƯỢNG"
      ],
      "metadata": {
        "id": "zjocJTmiDoXQ"
      }
    },
    {
      "cell_type": "code",
      "source": [
        "correlation = df2.corr(method=\"pearson\")\n",
        "correlation"
      ],
      "metadata": {
        "colab": {
          "base_uri": "https://localhost:8080/",
          "height": 175
        },
        "id": "gqNiacXBDt5z",
        "outputId": "284cff9e-43aa-4e1e-fd31-7ec97118a7e2"
      },
      "execution_count": null,
      "outputs": [
        {
          "output_type": "execute_result",
          "data": {
            "text/plain": [
              "                  Mthly_HH_Income  Mthly_HH_Expense  Emi_or_Rent_Amt  \\\n",
              "Mthly_HH_Income          1.000000          0.649215         0.036976   \n",
              "Mthly_HH_Expense         0.649215          1.000000         0.405280   \n",
              "Emi_or_Rent_Amt          0.036976          0.405280         1.000000   \n",
              "Annual_HH_Income         0.970315          0.591222         0.002716   \n",
              "\n",
              "                  Annual_HH_Income  \n",
              "Mthly_HH_Income           0.970315  \n",
              "Mthly_HH_Expense          0.591222  \n",
              "Emi_or_Rent_Amt           0.002716  \n",
              "Annual_HH_Income          1.000000  "
            ],
            "text/html": [
              "\n",
              "  <div id=\"df-395957a1-fba3-4b64-9e90-85e576b8a784\">\n",
              "    <div class=\"colab-df-container\">\n",
              "      <div>\n",
              "<style scoped>\n",
              "    .dataframe tbody tr th:only-of-type {\n",
              "        vertical-align: middle;\n",
              "    }\n",
              "\n",
              "    .dataframe tbody tr th {\n",
              "        vertical-align: top;\n",
              "    }\n",
              "\n",
              "    .dataframe thead th {\n",
              "        text-align: right;\n",
              "    }\n",
              "</style>\n",
              "<table border=\"1\" class=\"dataframe\">\n",
              "  <thead>\n",
              "    <tr style=\"text-align: right;\">\n",
              "      <th></th>\n",
              "      <th>Mthly_HH_Income</th>\n",
              "      <th>Mthly_HH_Expense</th>\n",
              "      <th>Emi_or_Rent_Amt</th>\n",
              "      <th>Annual_HH_Income</th>\n",
              "    </tr>\n",
              "  </thead>\n",
              "  <tbody>\n",
              "    <tr>\n",
              "      <th>Mthly_HH_Income</th>\n",
              "      <td>1.000000</td>\n",
              "      <td>0.649215</td>\n",
              "      <td>0.036976</td>\n",
              "      <td>0.970315</td>\n",
              "    </tr>\n",
              "    <tr>\n",
              "      <th>Mthly_HH_Expense</th>\n",
              "      <td>0.649215</td>\n",
              "      <td>1.000000</td>\n",
              "      <td>0.405280</td>\n",
              "      <td>0.591222</td>\n",
              "    </tr>\n",
              "    <tr>\n",
              "      <th>Emi_or_Rent_Amt</th>\n",
              "      <td>0.036976</td>\n",
              "      <td>0.405280</td>\n",
              "      <td>1.000000</td>\n",
              "      <td>0.002716</td>\n",
              "    </tr>\n",
              "    <tr>\n",
              "      <th>Annual_HH_Income</th>\n",
              "      <td>0.970315</td>\n",
              "      <td>0.591222</td>\n",
              "      <td>0.002716</td>\n",
              "      <td>1.000000</td>\n",
              "    </tr>\n",
              "  </tbody>\n",
              "</table>\n",
              "</div>\n",
              "      <button class=\"colab-df-convert\" onclick=\"convertToInteractive('df-395957a1-fba3-4b64-9e90-85e576b8a784')\"\n",
              "              title=\"Convert this dataframe to an interactive table.\"\n",
              "              style=\"display:none;\">\n",
              "        \n",
              "  <svg xmlns=\"http://www.w3.org/2000/svg\" height=\"24px\"viewBox=\"0 0 24 24\"\n",
              "       width=\"24px\">\n",
              "    <path d=\"M0 0h24v24H0V0z\" fill=\"none\"/>\n",
              "    <path d=\"M18.56 5.44l.94 2.06.94-2.06 2.06-.94-2.06-.94-.94-2.06-.94 2.06-2.06.94zm-11 1L8.5 8.5l.94-2.06 2.06-.94-2.06-.94L8.5 2.5l-.94 2.06-2.06.94zm10 10l.94 2.06.94-2.06 2.06-.94-2.06-.94-.94-2.06-.94 2.06-2.06.94z\"/><path d=\"M17.41 7.96l-1.37-1.37c-.4-.4-.92-.59-1.43-.59-.52 0-1.04.2-1.43.59L10.3 9.45l-7.72 7.72c-.78.78-.78 2.05 0 2.83L4 21.41c.39.39.9.59 1.41.59.51 0 1.02-.2 1.41-.59l7.78-7.78 2.81-2.81c.8-.78.8-2.07 0-2.86zM5.41 20L4 18.59l7.72-7.72 1.47 1.35L5.41 20z\"/>\n",
              "  </svg>\n",
              "      </button>\n",
              "      \n",
              "  <style>\n",
              "    .colab-df-container {\n",
              "      display:flex;\n",
              "      flex-wrap:wrap;\n",
              "      gap: 12px;\n",
              "    }\n",
              "\n",
              "    .colab-df-convert {\n",
              "      background-color: #E8F0FE;\n",
              "      border: none;\n",
              "      border-radius: 50%;\n",
              "      cursor: pointer;\n",
              "      display: none;\n",
              "      fill: #1967D2;\n",
              "      height: 32px;\n",
              "      padding: 0 0 0 0;\n",
              "      width: 32px;\n",
              "    }\n",
              "\n",
              "    .colab-df-convert:hover {\n",
              "      background-color: #E2EBFA;\n",
              "      box-shadow: 0px 1px 2px rgba(60, 64, 67, 0.3), 0px 1px 3px 1px rgba(60, 64, 67, 0.15);\n",
              "      fill: #174EA6;\n",
              "    }\n",
              "\n",
              "    [theme=dark] .colab-df-convert {\n",
              "      background-color: #3B4455;\n",
              "      fill: #D2E3FC;\n",
              "    }\n",
              "\n",
              "    [theme=dark] .colab-df-convert:hover {\n",
              "      background-color: #434B5C;\n",
              "      box-shadow: 0px 1px 3px 1px rgba(0, 0, 0, 0.15);\n",
              "      filter: drop-shadow(0px 1px 2px rgba(0, 0, 0, 0.3));\n",
              "      fill: #FFFFFF;\n",
              "    }\n",
              "  </style>\n",
              "\n",
              "      <script>\n",
              "        const buttonEl =\n",
              "          document.querySelector('#df-395957a1-fba3-4b64-9e90-85e576b8a784 button.colab-df-convert');\n",
              "        buttonEl.style.display =\n",
              "          google.colab.kernel.accessAllowed ? 'block' : 'none';\n",
              "\n",
              "        async function convertToInteractive(key) {\n",
              "          const element = document.querySelector('#df-395957a1-fba3-4b64-9e90-85e576b8a784');\n",
              "          const dataTable =\n",
              "            await google.colab.kernel.invokeFunction('convertToInteractive',\n",
              "                                                     [key], {});\n",
              "          if (!dataTable) return;\n",
              "\n",
              "          const docLinkHtml = 'Like what you see? Visit the ' +\n",
              "            '<a target=\"_blank\" href=https://colab.research.google.com/notebooks/data_table.ipynb>data table notebook</a>'\n",
              "            + ' to learn more about interactive tables.';\n",
              "          element.innerHTML = '';\n",
              "          dataTable['output_type'] = 'display_data';\n",
              "          await google.colab.output.renderOutput(dataTable, element);\n",
              "          const docLink = document.createElement('div');\n",
              "          docLink.innerHTML = docLinkHtml;\n",
              "          element.appendChild(docLink);\n",
              "        }\n",
              "      </script>\n",
              "    </div>\n",
              "  </div>\n",
              "  "
            ]
          },
          "metadata": {},
          "execution_count": 10
        }
      ]
    },
    {
      "cell_type": "markdown",
      "source": [
        "BIỂU ĐỒ BOXPLOT CHO TỪNG CỘT DỮ LIỆU ĐỊNH LƯỢNG"
      ],
      "metadata": {
        "id": "E0OSzYNlC8ic"
      }
    },
    {
      "cell_type": "code",
      "source": [
        "df2.boxplot(['Mthly_HH_Income'])"
      ],
      "metadata": {
        "colab": {
          "base_uri": "https://localhost:8080/",
          "height": 283
        },
        "id": "6pxoWD_bCAIm",
        "outputId": "15442db6-1b8c-4594-ee80-25ec56d47e60"
      },
      "execution_count": null,
      "outputs": [
        {
          "output_type": "execute_result",
          "data": {
            "text/plain": [
              "<matplotlib.axes._subplots.AxesSubplot at 0x7f86b4b9c6d0>"
            ]
          },
          "metadata": {},
          "execution_count": 11
        },
        {
          "output_type": "display_data",
          "data": {
            "text/plain": [
              "<Figure size 432x288 with 1 Axes>"
            ],
            "image/png": "[encoded data removed]"
          },
          "metadata": {
            "needs_background": "light"
          }
        }
      ]
    },
    {
      "cell_type": "code",
      "source": [
        "df2.boxplot(['Mthly_HH_Expense'])"
      ],
      "metadata": {
        "colab": {
          "base_uri": "https://localhost:8080/",
          "height": 283
        },
        "id": "1I4-18zSCMKS",
        "outputId": "dba1e9de-f777-48b1-d217-8feafcdd270d"
      },
      "execution_count": null,
      "outputs": [
        {
          "output_type": "execute_result",
          "data": {
            "text/plain": [
              "<matplotlib.axes._subplots.AxesSubplot at 0x7f86b4ae0c90>"
            ]
          },
          "metadata": {},
          "execution_count": 12
        },
        {
          "output_type": "display_data",
          "data": {
            "text/plain": [
              "<Figure size 432x288 with 1 Axes>"
            ],
            "image/png": "[encoded data removed]"
          },
          "metadata": {
            "needs_background": "light"
          }
        }
      ]
    },
    {
      "cell_type": "code",
      "source": [
        "df2.boxplot(['Emi_or_Rent_Amt'])"
      ],
      "metadata": {
        "colab": {
          "base_uri": "https://localhost:8080/",
          "height": 283
        },
        "id": "H1e8V8tuCRyz",
        "outputId": "096ece45-a89a-4c8a-c6ee-26dc48c7ce94"
      },
      "execution_count": null,
      "outputs": [
        {
          "output_type": "execute_result",
          "data": {
            "text/plain": [
              "<matplotlib.axes._subplots.AxesSubplot at 0x7f86b45969d0>"
            ]
          },
          "metadata": {},
          "execution_count": 13
        },
        {
          "output_type": "display_data",
          "data": {
            "text/plain": [
              "<Figure size 432x288 with 1 Axes>"
            ],
            "image/png": "[encoded data removed]"
          },
          "metadata": {
            "needs_background": "light"
          }
        }
      ]
    },
    {
      "cell_type": "code",
      "source": [
        "df2.boxplot(['Annual_HH_Income'])"
      ],
      "metadata": {
        "colab": {
          "base_uri": "https://localhost:8080/",
          "height": 294
        },
        "id": "z0LKOntcCTY5",
        "outputId": "8eba7658-bd79-485e-be50-53b16a9d7d25"
      },
      "execution_count": null,
      "outputs": [
        {
          "output_type": "execute_result",
          "data": {
            "text/plain": [
              "<matplotlib.axes._subplots.AxesSubplot at 0x7f86b4609f10>"
            ]
          },
          "metadata": {},
          "execution_count": 14
        },
        {
          "output_type": "display_data",
          "data": {
            "text/plain": [
              "<Figure size 432x288 with 1 Axes>"
            ],
            "image/png": "[encoded data removed]"
          },
          "metadata": {
            "needs_background": "light"
          }
        }
      ]
    },
    {
      "cell_type": "markdown",
      "source": [
        "BIỂU ĐỒ NHIỆT (HEATMAP)"
      ],
      "metadata": {
        "id": "LXg_iq4dD-yw"
      }
    },
    {
      "cell_type": "code",
      "source": [
        "heat_map = sns.heatmap(correlation,vmin = 0,vmax=1)"
      ],
      "metadata": {
        "colab": {
          "base_uri": "https://localhost:8080/",
          "height": 356
        },
        "id": "kvFgtSFXEIh-",
        "outputId": "8fb3bb60-fca0-44bd-b0a8-2ff04d246cb6"
      },
      "execution_count": null,
      "outputs": [
        {
          "output_type": "display_data",
          "data": {
            "text/plain": [
              "<Figure size 432x288 with 2 Axes>"
            ],
            "image/png": "[encoded data removed]"
          },
          "metadata": {
            "needs_background": "light"
          }
        }
      ]
    },
    {
      "cell_type": "markdown",
      "source": [
        "BIỂU ĐỒ CẶP (PAIR PLOT)"
      ],
      "metadata": {
        "id": "R_V6bw9QEdHF"
      }
    },
    {
      "cell_type": "code",
      "source": [
        "sns.pairplot(df2)"
      ],
      "metadata": {
        "colab": {
          "base_uri": "https://localhost:8080/",
          "height": 743
        },
        "id": "C2tGPWGPEt4I",
        "outputId": "929af3ac-cffa-484e-9445-c3eaa65174a1"
      },
      "execution_count": null,
      "outputs": [
        {
          "output_type": "execute_result",
          "data": {
            "text/plain": [
              "<seaborn.axisgrid.PairGrid at 0x7f86b0322450>"
            ]
          },
          "metadata": {},
          "execution_count": 38
        },
        {
          "output_type": "display_data",
          "data": {
            "text/plain": [
              "<Figure size 720x720 with 20 Axes>"
            ],
            "image/png": "[encoded data removed]"
          },
          "metadata": {
            "needs_background": "light"
          }
        }
      ]
    },
    {
      "cell_type": "markdown",
      "source": [
        "BIỂU ĐỒ DẠNG CỘT ĐỨNG"
      ],
      "metadata": {
        "id": "qfcUnexFNues"
      }
    },
    {
      "cell_type": "code",
      "source": [
        "fig, ax = plt.subplots()\n",
        "ax.hist(df2['Mthly_HH_Income'])"
      ],
      "metadata": {
        "colab": {
          "base_uri": "https://localhost:8080/",
          "height": 334
        },
        "id": "40IFb0A_KJ3u",
        "outputId": "0d8636f7-b86f-47f4-8d31-3358acc645e7"
      },
      "execution_count": null,
      "outputs": [
        {
          "output_type": "execute_result",
          "data": {
            "text/plain": [
              "(array([6., 7., 9., 7., 9., 3., 2., 1., 2., 4.]),\n",
              " array([  5000.,  14500.,  24000.,  33500.,  43000.,  52500.,  62000.,\n",
              "         71500.,  81000.,  90500., 100000.]),\n",
              " <a list of 10 Patch objects>)"
            ]
          },
          "metadata": {},
          "execution_count": 39
        },
        {
          "output_type": "display_data",
          "data": {
            "text/plain": [
              "<Figure size 432x288 with 1 Axes>"
            ],
            "image/png": "[encoded data removed]"
          },
          "metadata": {
            "needs_background": "light"
          }
        }
      ]
    },
    {
      "cell_type": "code",
      "source": [
        "fig, ax = plt.subplots()\n",
        "ax.hist(df2['Mthly_HH_Expense'])"
      ],
      "metadata": {
        "colab": {
          "base_uri": "https://localhost:8080/",
          "height": 334
        },
        "id": "Xo2XYAySKoq9",
        "outputId": "d23ceeca-7655-4baf-ec64-79ffd50e78d0"
      },
      "execution_count": null,
      "outputs": [
        {
          "output_type": "execute_result",
          "data": {
            "text/plain": [
              "(array([ 4., 13.,  9.,  8.,  9.,  1.,  0.,  2.,  1.,  3.]),\n",
              " array([ 2000.,  6800., 11600., 16400., 21200., 26000., 30800., 35600.,\n",
              "        40400., 45200., 50000.]),\n",
              " <a list of 10 Patch objects>)"
            ]
          },
          "metadata": {},
          "execution_count": 40
        },
        {
          "output_type": "display_data",
          "data": {
            "text/plain": [
              "<Figure size 432x288 with 1 Axes>"
            ],
            "image/png": "[encoded data removed]"
          },
          "metadata": {
            "needs_background": "light"
          }
        }
      ]
    },
    {
      "cell_type": "code",
      "source": [
        "fig, ax = plt.subplots()\n",
        "ax.hist(df2['Emi_or_Rent_Amt'])"
      ],
      "metadata": {
        "colab": {
          "base_uri": "https://localhost:8080/",
          "height": 334
        },
        "id": "POn8iQQxKu4W",
        "outputId": "340122d3-e386-4fd3-a8f3-37ba2fd2337c"
      },
      "execution_count": null,
      "outputs": [
        {
          "output_type": "execute_result",
          "data": {
            "text/plain": [
              "(array([36.,  6.,  4.,  2.,  0.,  1.,  0.,  0.,  0.,  1.]),\n",
              " array([    0.,  3500.,  7000., 10500., 14000., 17500., 21000., 24500.,\n",
              "        28000., 31500., 35000.]),\n",
              " <a list of 10 Patch objects>)"
            ]
          },
          "metadata": {},
          "execution_count": 41
        },
        {
          "output_type": "display_data",
          "data": {
            "text/plain": [
              "<Figure size 432x288 with 1 Axes>"
            ],
            "image/png": "[encoded data removed]"
          },
          "metadata": {
            "needs_background": "light"
          }
        }
      ]
    },
    {
      "cell_type": "code",
      "source": [
        "fig, ax = plt.subplots()\n",
        "ax.hist(df2['Annual_HH_Income'])"
      ],
      "metadata": {
        "colab": {
          "base_uri": "https://localhost:8080/",
          "height": 347
        },
        "id": "lPWOqyXbyglQ",
        "outputId": "9ce4b12d-76c5-4631-f66c-bf711cce6cf3"
      },
      "execution_count": null,
      "outputs": [
        {
          "output_type": "execute_result",
          "data": {
            "text/plain": [
              "(array([ 7., 12.,  8., 11.,  4.,  1.,  1.,  2.,  2.,  2.]),\n",
              " array([  64200.,  198180.,  332160.,  466140.,  600120.,  734100.,\n",
              "         868080., 1002060., 1136040., 1270020., 1404000.]),\n",
              " <a list of 10 Patch objects>)"
            ]
          },
          "metadata": {},
          "execution_count": 42
        },
        {
          "output_type": "display_data",
          "data": {
            "text/plain": [
              "<Figure size 432x288 with 1 Axes>"
            ],
            "image/png": "[encoded data removed]"
          },
          "metadata": {
            "needs_background": "light"
          }
        }
      ]
    },
    {
      "cell_type": "markdown",
      "source": [
        "**THỐNG KÊ MÔ TẢ VỚI CÁC CỘT DỮ LIỆU ĐỊNH TÍNH**"
      ],
      "metadata": {
        "id": "GB7EGpxk6-lE"
      }
    },
    {
      "cell_type": "markdown",
      "source": [
        "Các cột dữ liệu định tính là:\n",
        "- No_of_Fly_Members : Số thành viên trong gia đình\n",
        "- Highest_Qualified_Member : Trình độ học vấn của các thành viên trong gia đình\n",
        "- No_of_Earning_Members : Thành viên không kiếm ra tiền"
      ],
      "metadata": {
        "id": "vzGMKZ1mIo4g"
      }
    },
    {
      "cell_type": "code",
      "source": [
        "df3 = pd.DataFrame(columns = ['No_of_Fly_Members', 'Highest_Qualified_Member', 'No_of_Earning_Members'], data = df)\n",
        "df3.describe()"
      ],
      "metadata": {
        "colab": {
          "base_uri": "https://localhost:8080/",
          "height": 300
        },
        "id": "NPQbzid5OEf2",
        "outputId": "71acd43a-c253-4cb2-bcfa-3bebed921be4"
      },
      "execution_count": 89,
      "outputs": [
        {
          "output_type": "execute_result",
          "data": {
            "text/plain": [
              "       No_of_Fly_Members  No_of_Earning_Members\n",
              "count          50.000000              50.000000\n",
              "mean            4.060000               1.460000\n",
              "std             1.517382               0.734291\n",
              "min             1.000000               1.000000\n",
              "25%             3.000000               1.000000\n",
              "50%             4.000000               1.000000\n",
              "75%             5.000000               2.000000\n",
              "max             7.000000               4.000000"
            ],
            "text/html": [
              "\n",
              "  <div id=\"df-8d85d33d-5fd5-46e3-a7df-5f73f28eca73\">\n",
              "    <div class=\"colab-df-container\">\n",
              "      <div>\n",
              "<style scoped>\n",
              "    .dataframe tbody tr th:only-of-type {\n",
              "        vertical-align: middle;\n",
              "    }\n",
              "\n",
              "    .dataframe tbody tr th {\n",
              "        vertical-align: top;\n",
              "    }\n",
              "\n",
              "    .dataframe thead th {\n",
              "        text-align: right;\n",
              "    }\n",
              "</style>\n",
              "<table border=\"1\" class=\"dataframe\">\n",
              "  <thead>\n",
              "    <tr style=\"text-align: right;\">\n",
              "      <th></th>\n",
              "      <th>No_of_Fly_Members</th>\n",
              "      <th>No_of_Earning_Members</th>\n",
              "    </tr>\n",
              "  </thead>\n",
              "  <tbody>\n",
              "    <tr>\n",
              "      <th>count</th>\n",
              "      <td>50.000000</td>\n",
              "      <td>50.000000</td>\n",
              "    </tr>\n",
              "    <tr>\n",
              "      <th>mean</th>\n",
              "      <td>4.060000</td>\n",
              "      <td>1.460000</td>\n",
              "    </tr>\n",
              "    <tr>\n",
              "      <th>std</th>\n",
              "      <td>1.517382</td>\n",
              "      <td>0.734291</td>\n",
              "    </tr>\n",
              "    <tr>\n",
              "      <th>min</th>\n",
              "      <td>1.000000</td>\n",
              "      <td>1.000000</td>\n",
              "    </tr>\n",
              "    <tr>\n",
              "      <th>25%</th>\n",
              "      <td>3.000000</td>\n",
              "      <td>1.000000</td>\n",
              "    </tr>\n",
              "    <tr>\n",
              "      <th>50%</th>\n",
              "      <td>4.000000</td>\n",
              "      <td>1.000000</td>\n",
              "    </tr>\n",
              "    <tr>\n",
              "      <th>75%</th>\n",
              "      <td>5.000000</td>\n",
              "      <td>2.000000</td>\n",
              "    </tr>\n",
              "    <tr>\n",
              "      <th>max</th>\n",
              "      <td>7.000000</td>\n",
              "      <td>4.000000</td>\n",
              "    </tr>\n",
              "  </tbody>\n",
              "</table>\n",
              "</div>\n",
              "      <button class=\"colab-df-convert\" onclick=\"convertToInteractive('df-8d85d33d-5fd5-46e3-a7df-5f73f28eca73')\"\n",
              "              title=\"Convert this dataframe to an interactive table.\"\n",
              "              style=\"display:none;\">\n",
              "        \n",
              "  <svg xmlns=\"http://www.w3.org/2000/svg\" height=\"24px\"viewBox=\"0 0 24 24\"\n",
              "       width=\"24px\">\n",
              "    <path d=\"M0 0h24v24H0V0z\" fill=\"none\"/>\n",
              "    <path d=\"M18.56 5.44l.94 2.06.94-2.06 2.06-.94-2.06-.94-.94-2.06-.94 2.06-2.06.94zm-11 1L8.5 8.5l.94-2.06 2.06-.94-2.06-.94L8.5 2.5l-.94 2.06-2.06.94zm10 10l.94 2.06.94-2.06 2.06-.94-2.06-.94-.94-2.06-.94 2.06-2.06.94z\"/><path d=\"M17.41 7.96l-1.37-1.37c-.4-.4-.92-.59-1.43-.59-.52 0-1.04.2-1.43.59L10.3 9.45l-7.72 7.72c-.78.78-.78 2.05 0 2.83L4 21.41c.39.39.9.59 1.41.59.51 0 1.02-.2 1.41-.59l7.78-7.78 2.81-2.81c.8-.78.8-2.07 0-2.86zM5.41 20L4 18.59l7.72-7.72 1.47 1.35L5.41 20z\"/>\n",
              "  </svg>\n",
              "      </button>\n",
              "      \n",
              "  <style>\n",
              "    .colab-df-container {\n",
              "      display:flex;\n",
              "      flex-wrap:wrap;\n",
              "      gap: 12px;\n",
              "    }\n",
              "\n",
              "    .colab-df-convert {\n",
              "      background-color: #E8F0FE;\n",
              "      border: none;\n",
              "      border-radius: 50%;\n",
              "      cursor: pointer;\n",
              "      display: none;\n",
              "      fill: #1967D2;\n",
              "      height: 32px;\n",
              "      padding: 0 0 0 0;\n",
              "      width: 32px;\n",
              "    }\n",
              "\n",
              "    .colab-df-convert:hover {\n",
              "      background-color: #E2EBFA;\n",
              "      box-shadow: 0px 1px 2px rgba(60, 64, 67, 0.3), 0px 1px 3px 1px rgba(60, 64, 67, 0.15);\n",
              "      fill: #174EA6;\n",
              "    }\n",
              "\n",
              "    [theme=dark] .colab-df-convert {\n",
              "      background-color: #3B4455;\n",
              "      fill: #D2E3FC;\n",
              "    }\n",
              "\n",
              "    [theme=dark] .colab-df-convert:hover {\n",
              "      background-color: #434B5C;\n",
              "      box-shadow: 0px 1px 3px 1px rgba(0, 0, 0, 0.15);\n",
              "      filter: drop-shadow(0px 1px 2px rgba(0, 0, 0, 0.3));\n",
              "      fill: #FFFFFF;\n",
              "    }\n",
              "  </style>\n",
              "\n",
              "      <script>\n",
              "        const buttonEl =\n",
              "          document.querySelector('#df-8d85d33d-5fd5-46e3-a7df-5f73f28eca73 button.colab-df-convert');\n",
              "        buttonEl.style.display =\n",
              "          google.colab.kernel.accessAllowed ? 'block' : 'none';\n",
              "\n",
              "        async function convertToInteractive(key) {\n",
              "          const element = document.querySelector('#df-8d85d33d-5fd5-46e3-a7df-5f73f28eca73');\n",
              "          const dataTable =\n",
              "            await google.colab.kernel.invokeFunction('convertToInteractive',\n",
              "                                                     [key], {});\n",
              "          if (!dataTable) return;\n",
              "\n",
              "          const docLinkHtml = 'Like what you see? Visit the ' +\n",
              "            '<a target=\"_blank\" href=https://colab.research.google.com/notebooks/data_table.ipynb>data table notebook</a>'\n",
              "            + ' to learn more about interactive tables.';\n",
              "          element.innerHTML = '';\n",
              "          dataTable['output_type'] = 'display_data';\n",
              "          await google.colab.output.renderOutput(dataTable, element);\n",
              "          const docLink = document.createElement('div');\n",
              "          docLink.innerHTML = docLinkHtml;\n",
              "          element.appendChild(docLink);\n",
              "        }\n",
              "      </script>\n",
              "    </div>\n",
              "  </div>\n",
              "  "
            ]
          },
          "metadata": {},
          "execution_count": 89
        }
      ]
    },
    {
      "cell_type": "code",
      "source": [
        "a = df3['No_of_Fly_Members']\n",
        "from collections import Counter\n",
        "Counter(a)"
      ],
      "metadata": {
        "colab": {
          "base_uri": "https://localhost:8080/"
        },
        "id": "WzZjNVxO9WON",
        "outputId": "7fb574d7-cd8c-453d-ddaa-9e1c06b21a8a"
      },
      "execution_count": 90,
      "outputs": [
        {
          "output_type": "execute_result",
          "data": {
            "text/plain": [
              "Counter({1: 1, 2: 8, 3: 9, 4: 15, 5: 5, 6: 10, 7: 2})"
            ]
          },
          "metadata": {},
          "execution_count": 90
        }
      ]
    },
    {
      "cell_type": "code",
      "source": [
        "b = df3['No_of_Earning_Members']\n",
        "Counter(b)"
      ],
      "metadata": {
        "colab": {
          "base_uri": "https://localhost:8080/"
        },
        "id": "dQbWpXsO9fBO",
        "outputId": "9232e448-7e63-4101-81b1-0c7bf712bfba"
      },
      "execution_count": 91,
      "outputs": [
        {
          "output_type": "execute_result",
          "data": {
            "text/plain": [
              "Counter({1: 33, 2: 12, 3: 4, 4: 1})"
            ]
          },
          "metadata": {},
          "execution_count": 91
        }
      ]
    },
    {
      "cell_type": "markdown",
      "source": [
        "'Còn đi học' : Under-Graduate,\n",
        "\n",
        "'Mù chữ' : Illiterate,\n",
        "\n",
        "'Tốt nghiệp' : Graduate,\n",
        "\n",
        "'Học cao học' : Post-Graduate,\n",
        "\n",
        "'Công việc ổn định' : Professional"
      ],
      "metadata": {
        "id": "XePoYd7Y6x4G"
      }
    },
    {
      "cell_type": "code",
      "source": [
        "c = df3['Highest_Qualified_Member']\n",
        "Counter(c)"
      ],
      "metadata": {
        "colab": {
          "base_uri": "https://localhost:8080/"
        },
        "id": "pgr2QvTu42xA",
        "outputId": "c8b0f741-96ed-4a0c-c83a-1f89fd0d2d51"
      },
      "execution_count": 92,
      "outputs": [
        {
          "output_type": "execute_result",
          "data": {
            "text/plain": [
              "Counter({'Graduate': 19,\n",
              "         'Illiterate': 5,\n",
              "         'Post-Graduate': 6,\n",
              "         'Professional': 10,\n",
              "         'Under-Graduate': 10})"
            ]
          },
          "metadata": {},
          "execution_count": 92
        }
      ]
    }
  ]
}