{
  "nbformat": 4,
  "nbformat_minor": 0,
  "metadata": {
    "colab": {
      "name": "bài tập numpy số 2",
      "provenance": [],
      "authorship_tag": "ABX9TyOnXeWosJUSo6SNLfp0fT0t",
      "include_colab_link": true
    },
    "kernelspec": {
      "name": "python3",
      "display_name": "Python 3"
    },
    "language_info": {
      "name": "python"
    }
  },
  "cells": [
    {
      "cell_type": "markdown",
      "metadata": {
        "id": "view-in-github",
        "colab_type": "text"
      },
      "source": [
        "<a href=\"https://colab.research.google.com/github/NGONGOCHA/HK2-nam1/blob/main/b%C3%A0i_t%E1%BA%ADp_numpy_s%E1%BB%91_2.ipynb\" target=\"_parent\"><img src=\"https://colab.research.google.com/assets/colab-badge.svg\" alt=\"Open In Colab\"/></a>"
      ]
    },
    {
      "cell_type": "markdown",
      "source": [
        "Bài 1: Sử dụng thư viện NumPy, hãy tạo ra một ma trận A ∈ R7×5, giá trị các phần tử của ma trận được sinh ngẫu nhiên. Kết quả xuất ra màn hình."
      ],
      "metadata": {
        "id": "r1kWbEPmTSso"
      }
    },
    {
      "cell_type": "code",
      "execution_count": null,
      "metadata": {
        "colab": {
          "base_uri": "https://localhost:8080/"
        },
        "id": "LM3lePDZS4z6",
        "outputId": "c36af178-83c5-471c-8072-61e2875141d2"
      },
      "outputs": [
        {
          "output_type": "stream",
          "name": "stdout",
          "text": [
            "[[-10  -2  -4   0   7]\n",
            " [  0   1   3  -5  -4]\n",
            " [  6   5  -2   1  -1]\n",
            " [ -3  -8   9  -1  -3]\n",
            " [-10   9  -9   6  -7]\n",
            " [ -6  -9   2   8  -7]\n",
            " [ -5   0  -1  -5   7]]\n"
          ]
        }
      ],
      "source": [
        "import numpy as np\n",
        "\n",
        "A =np.random.randint(low=-10, high=10, size=(7,5))\n",
        "print(A)"
      ]
    },
    {
      "cell_type": "markdown",
      "source": [
        "Bài 2 – Ma trận không (zero matrix): Ma trận Am×n được gọi là ma trận không khi ai,j = 0, ∀i,j.Sử dụng thư viện NumPy, hãy tạo một ma trận 0 - A6×7. Gợi ý: sử dụng hàm numpy.zeros((m,n)).\n",
        "Kết quả xuất ra màn hình."
      ],
      "metadata": {
        "id": "iplIjxcHUOe4"
      }
    },
    {
      "cell_type": "code",
      "source": [
        "import numpy as np\n",
        "\n",
        "A = np.zeros((6,7))\n",
        "print(A)"
      ],
      "metadata": {
        "colab": {
          "base_uri": "https://localhost:8080/"
        },
        "id": "3lA-TTEfUVjA",
        "outputId": "489429e0-e4e7-428b-c3e6-5c3563a311e9"
      },
      "execution_count": null,
      "outputs": [
        {
          "output_type": "stream",
          "name": "stdout",
          "text": [
            "[[0. 0. 0. 0. 0. 0. 0.]\n",
            " [0. 0. 0. 0. 0. 0. 0.]\n",
            " [0. 0. 0. 0. 0. 0. 0.]\n",
            " [0. 0. 0. 0. 0. 0. 0.]\n",
            " [0. 0. 0. 0. 0. 0. 0.]\n",
            " [0. 0. 0. 0. 0. 0. 0.]]\n"
          ]
        }
      ]
    },
    {
      "cell_type": "markdown",
      "source": [
        "Bài 3 – Ma trận vuông: Là ma trận có số hàng và số cột bằng nhau. Sử dụng thư viện NumPy, hãy tạo ra một ma trận A ∈ R7×7, giá trị các phần tử của ma trận được sinh ngẫu nhiên. Kết quả xuất ra màn hình."
      ],
      "metadata": {
        "id": "H026-dUBUo4k"
      }
    },
    {
      "cell_type": "code",
      "source": [
        "import numpy as np\n",
        "\n",
        "A = np.random.randint(low=-10, high=10, size=(7,7))\n",
        "print(A)"
      ],
      "metadata": {
        "colab": {
          "base_uri": "https://localhost:8080/"
        },
        "id": "TKx4h1tAUxSB",
        "outputId": "33a28a76-6efe-4154-910c-afe54960de97"
      },
      "execution_count": null,
      "outputs": [
        {
          "output_type": "stream",
          "name": "stdout",
          "text": [
            "[[-10  -7  -9   0  -4  -3  -8]\n",
            " [ -7  -5  -8  -6  -2   0  -9]\n",
            " [ -2   5  -7 -10  -2   2  -8]\n",
            " [ -9  -9  -6   9  -3  -5  -4]\n",
            " [  2  -5  -4   0   4   5  -5]\n",
            " [  8   3  -8  -4  -6   9   7]\n",
            " [  0   1  -6  -1   6  -6  -6]]\n"
          ]
        }
      ]
    },
    {
      "cell_type": "markdown",
      "source": [
        "Bài 4 – Ma trận chéo (diagonal matrix): Ma trận vuông có các phần tử trên đường chéo ai,i ≠ 0 trong khi các phần tử còn lại ai,j = 0, ∀i ≠ j.\n",
        "Sử dụng thư viện NumPy, hãy tạo một ma trận chéo A6×6 với phần tử nằm trên đường chéo có giá trị là 15. Gợi ý: sử dụng kết hợp hàm numpy.zeros() và numpy.fill_diagonal(). Kết quả xuất ra màn hình."
      ],
      "metadata": {
        "id": "lJNFupeMZ3Cc"
      }
    },
    {
      "cell_type": "code",
      "source": [
        "import numpy as np\n",
        "\n",
        "A = np.zeros((6,6))\n",
        "np.fill_diagonal(A,15)\n",
        "print(A)"
      ],
      "metadata": {
        "colab": {
          "base_uri": "https://localhost:8080/"
        },
        "id": "WWvYHKgMaBCu",
        "outputId": "be7082de-31de-414f-e580-e91f8539f69a"
      },
      "execution_count": null,
      "outputs": [
        {
          "output_type": "stream",
          "name": "stdout",
          "text": [
            "[[15.  0.  0.  0.  0.  0.]\n",
            " [ 0. 15.  0.  0.  0.  0.]\n",
            " [ 0.  0. 15.  0.  0.  0.]\n",
            " [ 0.  0.  0. 15.  0.  0.]\n",
            " [ 0.  0.  0.  0. 15.  0.]\n",
            " [ 0.  0.  0.  0.  0. 15.]]\n"
          ]
        }
      ]
    },
    {
      "cell_type": "markdown",
      "source": [
        "Bài 5 – Ma trận tam giác trên (upper triangular matrix): Ma trận vuông An×n được gọi là ma trận tam giác trên nếu các phần tử nằm trên đường chéo đều khác 0 và các phần tử nằm dưới đường chéo đều bằng 0.\n",
        "Sử dụng thư viện NumPy, hãy tạo một ma trận tam giác trên A8×8. Gợi ý: sử dụng hàm numpy.triu(). Kết quả xuất ra màn hình."
      ],
      "metadata": {
        "id": "40ZaWb-MaxuG"
      }
    },
    {
      "cell_type": "code",
      "source": [
        "import numpy as np\n",
        "\n",
        "A = np.random.randint(low=-10, high=10, size=(8,8))\n",
        "AA = np.triu(A,1)\n",
        "print(AA)"
      ],
      "metadata": {
        "colab": {
          "base_uri": "https://localhost:8080/"
        },
        "id": "JpMLgAxSa-KD",
        "outputId": "50fa42ce-e216-4cf5-fc36-dad02345ae39"
      },
      "execution_count": null,
      "outputs": [
        {
          "output_type": "stream",
          "name": "stdout",
          "text": [
            "[[ 0  3 -3 -5  8  7 -6  3]\n",
            " [ 0  0 -4 -7  3  7 -2  0]\n",
            " [ 0  0  0  2  3 -6  6  6]\n",
            " [ 0  0  0  0 -6 -8 -5 -2]\n",
            " [ 0  0  0  0  0  3 -6 -7]\n",
            " [ 0  0  0  0  0  0 -6 -2]\n",
            " [ 0  0  0  0  0  0  0 -9]\n",
            " [ 0  0  0  0  0  0  0  0]]\n"
          ]
        }
      ]
    },
    {
      "cell_type": "markdown",
      "source": [
        "Bài 6 – Ma trận tam giác dưới (lower triangular matrix): Tương tự bài 5, bạn hãy xây dựng\n",
        "ma trận tam giác dưới. Kết quả xuất ra màn hình."
      ],
      "metadata": {
        "id": "y7FfDtqMcc5e"
      }
    },
    {
      "cell_type": "code",
      "source": [
        "import numpy as np\n",
        "\n",
        "A = np.random.randint(low=-10, high=10, size=(8,8))\n",
        "AA = np.tril(A,-1)\n",
        "print(AA)"
      ],
      "metadata": {
        "colab": {
          "base_uri": "https://localhost:8080/"
        },
        "id": "vHVDrpIMcheW",
        "outputId": "36f9924b-fd67-46ae-c6bd-3334a8290d06"
      },
      "execution_count": null,
      "outputs": [
        {
          "output_type": "stream",
          "name": "stdout",
          "text": [
            "[[  0   0   0   0   0   0   0   0]\n",
            " [ -4   0   0   0   0   0   0   0]\n",
            " [ -7   8   0   0   0   0   0   0]\n",
            " [  6   5   5   0   0   0   0   0]\n",
            " [ -7  -8  -9   3   0   0   0   0]\n",
            " [  5  -6  -2  -2   8   0   0   0]\n",
            " [  3  -1  -7   5   8   3   0   0]\n",
            " [  2  -7   7   0  -7  -9 -10   0]]\n"
          ]
        }
      ]
    },
    {
      "cell_type": "markdown",
      "source": [
        "Bài 7 – Ma trận đơn vị (identity matrix): Ma trận đơn vị In có số chiều n là một ma trận vuông\n",
        "mà mọi phần tử trên đường chéo chính bằng 1. Sử dụng thư viện NumPy, hãy tạo ra một ma trận\n",
        "I9\n",
        ". Kết quả xuất ra màn hình. Gợi ý: sử dụng hàm numpy.identity()"
      ],
      "metadata": {
        "id": "fvVlTB1ZcyG6"
      }
    },
    {
      "cell_type": "code",
      "source": [
        "import numpy as np\n",
        "\n",
        "I = np.identity(9)\n",
        "print(I)"
      ],
      "metadata": {
        "colab": {
          "base_uri": "https://localhost:8080/"
        },
        "id": "eqZ1GKsVc2gd",
        "outputId": "bcfe9f3b-7544-4c76-dc58-9d55ba64b921"
      },
      "execution_count": null,
      "outputs": [
        {
          "output_type": "stream",
          "name": "stdout",
          "text": [
            "[[1. 0. 0. 0. 0. 0. 0. 0. 0.]\n",
            " [0. 1. 0. 0. 0. 0. 0. 0. 0.]\n",
            " [0. 0. 1. 0. 0. 0. 0. 0. 0.]\n",
            " [0. 0. 0. 1. 0. 0. 0. 0. 0.]\n",
            " [0. 0. 0. 0. 1. 0. 0. 0. 0.]\n",
            " [0. 0. 0. 0. 0. 1. 0. 0. 0.]\n",
            " [0. 0. 0. 0. 0. 0. 1. 0. 0.]\n",
            " [0. 0. 0. 0. 0. 0. 0. 1. 0.]\n",
            " [0. 0. 0. 0. 0. 0. 0. 0. 1.]]\n"
          ]
        }
      ]
    },
    {
      "cell_type": "markdown",
      "source": [
        "Bài 8 – Phép toán trên ma trận: sử dụng thư viện NumPy để thực hiện các yêu cầu sau:"
      ],
      "metadata": {
        "id": "nT0rg4XkdYpM"
      }
    },
    {
      "cell_type": "code",
      "source": [
        "import numpy as np\n",
        "\n",
        "#Sinh ngẫu nhiên 2 ma trận có kích thước 6x7. \n",
        "#Thực hiện phép cộng 2 ma trận trên. Xuất giá trị các ma trận ra màn hình.\n",
        "\n",
        "max1 = np.random.randint(low=-10, high=10, size=(6,7))\n",
        "print(\"ma trận A: \\n\", max1)\n",
        "max2 = np.random.randint(low=-10, high=10, size=(6,7))\n",
        "print(\"ma trận B: \\n\", max2)\n",
        "\n",
        "print(\"ma trận C: \\n\", max1 + max2)"
      ],
      "metadata": {
        "colab": {
          "base_uri": "https://localhost:8080/"
        },
        "id": "0CKqBE8LdiG1",
        "outputId": "e3ed53bd-440e-4b88-ad04-b528504cf9f7"
      },
      "execution_count": null,
      "outputs": [
        {
          "output_type": "stream",
          "name": "stdout",
          "text": [
            "ma trận A: \n",
            " [[ -8  -8   1   6  -9  -9   0]\n",
            " [  3   0  -2  -5   9   3   1]\n",
            " [ -7  -8  -1  -4   2   0   1]\n",
            " [ -1  -4 -10  -9  -9   5   1]\n",
            " [  1   5 -10   0  -5   6 -10]\n",
            " [  6  -1  -3   5   4  -9   2]]\n",
            "ma trận B: \n",
            " [[  9   4  -5 -10  -2   7  -9]\n",
            " [  9  -5   4  -9  -4   7   2]\n",
            " [ -6   8  -7   0   0   0   1]\n",
            " [  2  -3   2  -1   7 -10   0]\n",
            " [  8   4   4   7  -1   0  -2]\n",
            " [  8 -10  -8  -5   3  -2  -1]]\n",
            "ma trận C: \n",
            " [[  1  -4  -4  -4 -11  -2  -9]\n",
            " [ 12  -5   2 -14   5  10   3]\n",
            " [-13   0  -8  -4   2   0   2]\n",
            " [  1  -7  -8 -10  -2  -5   1]\n",
            " [  9   9  -6   7  -6   6 -12]\n",
            " [ 14 -11 -11   0   7 -11   1]]\n"
          ]
        }
      ]
    },
    {
      "cell_type": "code",
      "source": [
        "# sinh ngẫu nhiên 1 ma trận có kích thước 5x8. \n",
        "# Thực hiện nhân vô hướng 1 số được nhập từ bàn phím với ma trận này.\n",
        "# Kết quả xuất ra màn hình.\n",
        "import numpy as np\n",
        "\n",
        "max3 = np.random.randint(low=-10, high=10, size=(5,8))\n",
        "m = int(input(\"nhập 1 số: \"))\n",
        "print(\"phép nhân vô hướng\", m, \"với ma trận: \\n\", m*max3)"
      ],
      "metadata": {
        "colab": {
          "base_uri": "https://localhost:8080/"
        },
        "id": "F3OFcKvIhF4h",
        "outputId": "c28d4d64-570a-40c4-a6bd-dca1c6564d47"
      },
      "execution_count": null,
      "outputs": [
        {
          "output_type": "stream",
          "name": "stdout",
          "text": [
            "nhập 1 số: 2\n",
            "phép nhân vô hướng 2 với ma trận: \n",
            " [[-10  14  12 -16  -6   0 -16  -6]\n",
            " [-10  12  18 -10 -18  12 -12 -12]\n",
            " [ -4   8  16 -18  18   2 -18 -14]\n",
            " [-16 -20  12  10 -10  -8  14 -10]\n",
            " [ 16  -2  -6   8 -20   2   2  -6]]\n"
          ]
        }
      ]
    },
    {
      "cell_type": "code",
      "source": [
        "# Sinh ngẫu nhiên một ma trận có kích thước 3x7. \n",
        "# Thực hiện phép chuyển vị đối với ma trận này. \n",
        "# Xuất các ma trận này ra màn hình.\n",
        "import numpy as np\n",
        "\n",
        "max4 = np.random.randint(low=-10, high=10, size=(3,7))\n",
        "print(\"ma trận: \\n\", max4)\n",
        "print(\"Phép chuyển vị ma trận: \\n\", max4.T)"
      ],
      "metadata": {
        "colab": {
          "base_uri": "https://localhost:8080/"
        },
        "id": "nEk2mORoiGCR",
        "outputId": "6aefdecf-7d95-4cfa-9140-3dd12243f2c3"
      },
      "execution_count": null,
      "outputs": [
        {
          "output_type": "stream",
          "name": "stdout",
          "text": [
            "ma trận: \n",
            " [[ -6   4   5   6  -7  -7   7]\n",
            " [  8  -6  -5   3   6  -8   2]\n",
            " [  2 -10   3  -9  -8  -7  -3]]\n",
            "Phép chuyển vị ma trận: \n",
            " [[ -6   8   2]\n",
            " [  4  -6 -10]\n",
            " [  5  -5   3]\n",
            " [  6   3  -9]\n",
            " [ -7   6  -8]\n",
            " [ -7  -8  -7]\n",
            " [  7   2  -3]]\n"
          ]
        }
      ]
    },
    {
      "cell_type": "code",
      "source": [
        "# Hãy sinh ngẫu nhiên 2 ma trận A5×7 và B7×3,\n",
        "# tiến hành nhân 2 ma trận này để thu được ma trận C5×3. \n",
        "# Xuất các ma trận trên ra màn hình. Gợi ý: sử dụng hàm numpy.dot()\n",
        "import numpy as np\n",
        "\n",
        "max5 = np.random.randint(low=-10, high=10, size=(5,7))\n",
        "print(\"ma trận A5x7: \\n\", max5)\n",
        "max6 = np.random.randint(low=-10, high=10, size=(7,3))\n",
        "print(\"ma trận B7x3: \\n\", max6)\n",
        "\n",
        "print(\"ma trận C5x3: \\n\" , np.dot(max5,max6))"
      ],
      "metadata": {
        "colab": {
          "base_uri": "https://localhost:8080/"
        },
        "id": "2u1_rJkNinIV",
        "outputId": "e4bd8095-5ff9-47f3-bcbe-637448f00d16"
      },
      "execution_count": null,
      "outputs": [
        {
          "output_type": "stream",
          "name": "stdout",
          "text": [
            "ma trận A5x7: \n",
            " [[ -5  -3   9 -10  -4   5  -8]\n",
            " [-10   1   9  -1   4   5   2]\n",
            " [  2  -7  -7  -5   7   9   2]\n",
            " [  7  -8   5   8   5  -7  -9]\n",
            " [ -8   0  -3   0  -9   0   1]]\n",
            "ma trận B7x3: \n",
            " [[ -1   2   4]\n",
            " [  7  -5   1]\n",
            " [  9  -9   1]\n",
            " [ -7   4  -7]\n",
            " [-10  -1  -6]\n",
            " [ -7  -8  -1]\n",
            " [  7   1  -5]]\n",
            "ma trận C5x3: \n",
            " [[  84 -160  115]\n",
            " [  44 -152  -62]\n",
            " [-198    5  -32]\n",
            " [-138   83   -9]\n",
            " [  78   21   14]]\n"
          ]
        }
      ]
    },
    {
      "cell_type": "code",
      "source": [
        "# Cho ma trận A5×7, hãy tính ma trận khả nghịch của A. \n",
        "# Gợi ý: sử dụng hàm numpy.linalg.inv()\n",
        "import numpy as np\n",
        "\n",
        "max7 = np.array([[1, 2, 3], [2, 5, 3], [1, 0, 8]])\n",
        "print(\"ma trận A5x7: \\n\", max7)\n",
        "print(\"ma trận khả nghịch của A là: \\n\", np.linalg.inv(max7))"
      ],
      "metadata": {
        "colab": {
          "base_uri": "https://localhost:8080/"
        },
        "id": "f6zmhcbwkN2v",
        "outputId": "b95ad15d-ff37-4090-b2f4-b930836cd71b"
      },
      "execution_count": 1,
      "outputs": [
        {
          "output_type": "stream",
          "name": "stdout",
          "text": [
            "ma trận A5x7: \n",
            " [[1 2 3]\n",
            " [2 5 3]\n",
            " [1 0 8]]\n",
            "ma trận khả nghịch của A là: \n",
            " [[-40.  16.   9.]\n",
            " [ 13.  -5.  -3.]\n",
            " [  5.  -2.  -1.]]\n"
          ]
        }
      ]
    },
    {
      "cell_type": "markdown",
      "source": [
        "Bài 9 – Vector là dạng ma trận đặc biệt: Sử dụng numpy để thực hiện các yêu cầu sau"
      ],
      "metadata": {
        "id": "Aw8-XBRZmiiZ"
      }
    },
    {
      "cell_type": "code",
      "source": [
        "# Vector hàng (row vector) thực chất là ma trận có kích thước 1 × n. \n",
        "# Hãy tạo ngẫu nhiên 1 vector hàng x có kích thước 1 × 8. \n",
        "# Kết quả xuất ra màn hình.\n",
        "import numpy as np\n",
        "\n",
        "row_vector = np.random.randint(low=-10, high=10, size=(1,8))\n",
        "print(row_vector)"
      ],
      "metadata": {
        "colab": {
          "base_uri": "https://localhost:8080/"
        },
        "id": "JRmp1aYUmeSW",
        "outputId": "433ac510-1d80-455b-a34e-2b11c945dc94"
      },
      "execution_count": null,
      "outputs": [
        {
          "output_type": "stream",
          "name": "stdout",
          "text": [
            "[[ -5   3  -1  -6  -3 -10   5   8]]\n"
          ]
        }
      ]
    },
    {
      "cell_type": "code",
      "source": [
        "# Vector cột (column vector) thực chất là ma trận có kích thước m × 1. \n",
        "# Hãy tạo ngẫu nhiên 1 vector cột x có kích thước 8 × 1. \n",
        "# Kết quả xuất ra màn hình.\n",
        "import numpy as np\n",
        "\n",
        "column_vector = np.random.randint(low=-10, high=10, size=(8,1))\n",
        "print(column_vector)"
      ],
      "metadata": {
        "colab": {
          "base_uri": "https://localhost:8080/"
        },
        "id": "bnHEWZuwnM_s",
        "outputId": "573a442d-cb88-40ed-e08c-fa43b1ac1556"
      },
      "execution_count": null,
      "outputs": [
        {
          "output_type": "stream",
          "name": "stdout",
          "text": [
            "[[ 3]\n",
            " [ 9]\n",
            " [-8]\n",
            " [ 3]\n",
            " [-8]\n",
            " [-3]\n",
            " [ 8]\n",
            " [-6]]\n"
          ]
        }
      ]
    },
    {
      "cell_type": "markdown",
      "source": [
        "Bài 10 - Hệ phương trình tuyến tính:"
      ],
      "metadata": {
        "id": "IxUZYrZXnk0Y"
      }
    },
    {
      "cell_type": "code",
      "source": [
        ""
      ],
      "metadata": {
        "id": "L6I8S9fvnrpV"
      },
      "execution_count": null,
      "outputs": []
    }
  ]
}