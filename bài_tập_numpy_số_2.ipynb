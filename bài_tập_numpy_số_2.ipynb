{
  "nbformat": 4,
  "nbformat_minor": 0,
  "metadata": {
    "colab": {
      "name": "bài tập numpy số 2",
      "provenance": [],
      "authorship_tag": "ABX9TyMSrHm7QPT8RuhCrEAQVlF9",
      "include_colab_link": true
    },
    "kernelspec": {
      "name": "python3",
      "display_name": "Python 3"
    },
    "language_info": {
      "name": "python"
    }
  },
  "cells": [
    {
      "cell_type": "markdown",
      "metadata": {
        "id": "view-in-github",
        "colab_type": "text"
      },
      "source": [
        "<a href=\"https://colab.research.google.com/github/NGONGOCHA/HK2-nam1/blob/main/b%C3%A0i_t%E1%BA%ADp_numpy_s%E1%BB%91_2.ipynb\" target=\"_parent\"><img src=\"https://colab.research.google.com/assets/colab-badge.svg\" alt=\"Open In Colab\"/></a>"
      ]
    },
    {
      "cell_type": "markdown",
      "source": [
        "Bài 1: Sử dụng thư viện NumPy, hãy tạo ra một ma trận A ∈ R7×5, giá trị các phần tử của ma trận được sinh ngẫu nhiên. Kết quả xuất ra màn hình."
      ],
      "metadata": {
        "id": "r1kWbEPmTSso"
      }
    },
    {
      "cell_type": "code",
      "execution_count": 2,
      "metadata": {
        "colab": {
          "base_uri": "https://localhost:8080/"
        },
        "id": "LM3lePDZS4z6",
        "outputId": "49615c05-4d67-4c3d-b0a1-fb48ec21d92f"
      },
      "outputs": [
        {
          "output_type": "stream",
          "name": "stdout",
          "text": [
            "[[ -2  -5  -6   2   9]\n",
            " [ -5  -7 -10  -3  -5]\n",
            " [ -3   1  -2   0  -4]\n",
            " [ -4   6  -4  -6   4]\n",
            " [  4   7  -6 -10   1]\n",
            " [ -2  -8  -9  -4   1]\n",
            " [  8  -8  -1  -5   8]]\n"
          ]
        }
      ],
      "source": [
        "import numpy as np\n",
        "\n",
        "A =np.random.randint(low=-10, high=10, size=(7,5))\n",
        "print(A)"
      ]
    },
    {
      "cell_type": "markdown",
      "source": [
        "Bài 2 – Ma trận không (zero matrix): Ma trận Am×n được gọi là ma trận không khi ai,j = 0, ∀i,j.Sử dụng thư viện NumPy, hãy tạo một ma trận 0 - A6×7. Gợi ý: sử dụng hàm numpy.zeros((m,n)).\n",
        "Kết quả xuất ra màn hình."
      ],
      "metadata": {
        "id": "iplIjxcHUOe4"
      }
    },
    {
      "cell_type": "code",
      "source": [
        "import numpy as np\n",
        "\n",
        "A = np.zeros((6,7))\n",
        "print(A)"
      ],
      "metadata": {
        "colab": {
          "base_uri": "https://localhost:8080/"
        },
        "id": "3lA-TTEfUVjA",
        "outputId": "0edc72bb-8a03-47ac-ef60-838b8c66bbaf"
      },
      "execution_count": 3,
      "outputs": [
        {
          "output_type": "stream",
          "name": "stdout",
          "text": [
            "[[0. 0. 0. 0. 0. 0. 0.]\n",
            " [0. 0. 0. 0. 0. 0. 0.]\n",
            " [0. 0. 0. 0. 0. 0. 0.]\n",
            " [0. 0. 0. 0. 0. 0. 0.]\n",
            " [0. 0. 0. 0. 0. 0. 0.]\n",
            " [0. 0. 0. 0. 0. 0. 0.]]\n"
          ]
        }
      ]
    },
    {
      "cell_type": "markdown",
      "source": [
        "Bài 3 – Ma trận vuông: Là ma trận có số hàng và số cột bằng nhau. Sử dụng thư viện NumPy, hãy tạo ra một ma trận A ∈ R7×7, giá trị các phần tử của ma trận được sinh ngẫu nhiên. Kết quả xuất ra màn hình."
      ],
      "metadata": {
        "id": "H026-dUBUo4k"
      }
    },
    {
      "cell_type": "code",
      "source": [
        "import numpy as np\n",
        "\n",
        "A = np.random.randint(low=-10, high=10, size=(7,7))\n",
        "print(A)"
      ],
      "metadata": {
        "colab": {
          "base_uri": "https://localhost:8080/"
        },
        "id": "TKx4h1tAUxSB",
        "outputId": "befcf3b1-2132-4b1a-c5a9-b87ccaa3d318"
      },
      "execution_count": 4,
      "outputs": [
        {
          "output_type": "stream",
          "name": "stdout",
          "text": [
            "[[  2   0  -8  -7   3  -1  -6]\n",
            " [ -9   9   6  -5  -8   0   9]\n",
            " [ -6  -5   8  -9  -6   9   2]\n",
            " [ -7   3  -1   7   6  -8  -6]\n",
            " [-10  -3 -10  -1   5  -6  -8]\n",
            " [  0   9  -1  -1  -4  -4   6]\n",
            " [  7  -6  -2  -9  -6  -6  -3]]\n"
          ]
        }
      ]
    },
    {
      "cell_type": "markdown",
      "source": [
        "Bài 4 – Ma trận chéo (diagonal matrix): Ma trận vuông có các phần tử trên đường chéo ai,i ≠ 0 trong khi các phần tử còn lại ai,j = 0, ∀i ≠ j.\n",
        "Sử dụng thư viện NumPy, hãy tạo một ma trận chéo A6×6 với phần tử nằm trên đường chéo có giá trị là 15. Gợi ý: sử dụng kết hợp hàm numpy.zeros() và numpy.fill_diagonal(). Kết quả xuất ra màn hình."
      ],
      "metadata": {
        "id": "lJNFupeMZ3Cc"
      }
    },
    {
      "cell_type": "code",
      "source": [
        "import numpy as np\n",
        "\n",
        "A = np.zeros((6,6))\n",
        "np.fill_diagonal(A,15)\n",
        "print(A)"
      ],
      "metadata": {
        "colab": {
          "base_uri": "https://localhost:8080/"
        },
        "id": "WWvYHKgMaBCu",
        "outputId": "cf62244d-9c7f-4eb3-fd89-8b375a07d072"
      },
      "execution_count": 5,
      "outputs": [
        {
          "output_type": "stream",
          "name": "stdout",
          "text": [
            "[[15.  0.  0.  0.  0.  0.]\n",
            " [ 0. 15.  0.  0.  0.  0.]\n",
            " [ 0.  0. 15.  0.  0.  0.]\n",
            " [ 0.  0.  0. 15.  0.  0.]\n",
            " [ 0.  0.  0.  0. 15.  0.]\n",
            " [ 0.  0.  0.  0.  0. 15.]]\n"
          ]
        }
      ]
    },
    {
      "cell_type": "markdown",
      "source": [
        "Bài 5 – Ma trận tam giác trên (upper triangular matrix): Ma trận vuông An×n được gọi là ma trận tam giác trên nếu các phần tử nằm trên đường chéo đều khác 0 và các phần tử nằm dưới đường chéo đều bằng 0.\n",
        "Sử dụng thư viện NumPy, hãy tạo một ma trận tam giác trên A8×8. Gợi ý: sử dụng hàm numpy.triu(). Kết quả xuất ra màn hình."
      ],
      "metadata": {
        "id": "40ZaWb-MaxuG"
      }
    },
    {
      "cell_type": "code",
      "source": [
        "import numpy as np\n",
        "\n",
        "A = np.random.randint(low=-10, high=10, size=(8,8))\n",
        "AA = np.triu(A,1)\n",
        "print(AA)"
      ],
      "metadata": {
        "colab": {
          "base_uri": "https://localhost:8080/"
        },
        "id": "JpMLgAxSa-KD",
        "outputId": "ad787ef9-9cdf-49ff-b098-cc47305cf240"
      },
      "execution_count": 6,
      "outputs": [
        {
          "output_type": "stream",
          "name": "stdout",
          "text": [
            "[[  0  -2   0   6   2   2   3  -8]\n",
            " [  0   0   3   0 -10  -2  -5   6]\n",
            " [  0   0   0  -8   0  -8   1  -7]\n",
            " [  0   0   0   0  -5  -1  -6   9]\n",
            " [  0   0   0   0   0 -10  -8   3]\n",
            " [  0   0   0   0   0   0  -8   3]\n",
            " [  0   0   0   0   0   0   0   5]\n",
            " [  0   0   0   0   0   0   0   0]]\n"
          ]
        }
      ]
    },
    {
      "cell_type": "markdown",
      "source": [
        "Bài 6 – Ma trận tam giác dưới (lower triangular matrix): Tương tự bài 5, bạn hãy xây dựng\n",
        "ma trận tam giác dưới. Kết quả xuất ra màn hình."
      ],
      "metadata": {
        "id": "y7FfDtqMcc5e"
      }
    },
    {
      "cell_type": "code",
      "source": [
        "import numpy as np\n",
        "\n",
        "A = np.random.randint(low=-10, high=10, size=(8,8))\n",
        "AA = np.tril(A,-1)\n",
        "print(AA)"
      ],
      "metadata": {
        "colab": {
          "base_uri": "https://localhost:8080/"
        },
        "id": "vHVDrpIMcheW",
        "outputId": "728237f4-aa4a-4c36-c0d0-d4839a5be9aa"
      },
      "execution_count": 7,
      "outputs": [
        {
          "output_type": "stream",
          "name": "stdout",
          "text": [
            "[[  0   0   0   0   0   0   0   0]\n",
            " [  8   0   0   0   0   0   0   0]\n",
            " [  6   9   0   0   0   0   0   0]\n",
            " [ -4   5   1   0   0   0   0   0]\n",
            " [  4   8  -9 -10   0   0   0   0]\n",
            " [ -3   6  -6  -7   7   0   0   0]\n",
            " [ -9  -7   5   3  -7  -8   0   0]\n",
            " [  3  -6  -7  -4  -8  -6   7   0]]\n"
          ]
        }
      ]
    },
    {
      "cell_type": "markdown",
      "source": [
        "Bài 7 – Ma trận đơn vị (identity matrix): Ma trận đơn vị In có số chiều n là một ma trận vuông\n",
        "mà mọi phần tử trên đường chéo chính bằng 1. Sử dụng thư viện NumPy, hãy tạo ra một ma trận\n",
        "I9\n",
        ". Kết quả xuất ra màn hình. Gợi ý: sử dụng hàm numpy.identity()"
      ],
      "metadata": {
        "id": "fvVlTB1ZcyG6"
      }
    },
    {
      "cell_type": "code",
      "source": [
        "import numpy as np\n",
        "\n",
        "I = np.identity(9)\n",
        "print(I)"
      ],
      "metadata": {
        "colab": {
          "base_uri": "https://localhost:8080/"
        },
        "id": "eqZ1GKsVc2gd",
        "outputId": "e9a578ec-f8a7-4fc6-e846-4553518660d0"
      },
      "execution_count": 8,
      "outputs": [
        {
          "output_type": "stream",
          "name": "stdout",
          "text": [
            "[[1. 0. 0. 0. 0. 0. 0. 0. 0.]\n",
            " [0. 1. 0. 0. 0. 0. 0. 0. 0.]\n",
            " [0. 0. 1. 0. 0. 0. 0. 0. 0.]\n",
            " [0. 0. 0. 1. 0. 0. 0. 0. 0.]\n",
            " [0. 0. 0. 0. 1. 0. 0. 0. 0.]\n",
            " [0. 0. 0. 0. 0. 1. 0. 0. 0.]\n",
            " [0. 0. 0. 0. 0. 0. 1. 0. 0.]\n",
            " [0. 0. 0. 0. 0. 0. 0. 1. 0.]\n",
            " [0. 0. 0. 0. 0. 0. 0. 0. 1.]]\n"
          ]
        }
      ]
    },
    {
      "cell_type": "markdown",
      "source": [
        "Bài 8 – Phép toán trên ma trận: sử dụng thư viện NumPy để thực hiện các yêu cầu sau:"
      ],
      "metadata": {
        "id": "nT0rg4XkdYpM"
      }
    },
    {
      "cell_type": "code",
      "source": [
        "import numpy as np\n",
        "\n",
        "#Sinh ngẫu nhiên 2 ma trận có kích thước 6x7. \n",
        "#Thực hiện phép cộng 2 ma trận trên. Xuất giá trị các ma trận ra màn hình.\n",
        "\n",
        "max1 = np.random.randint(low=-10, high=10, size=(6,7))\n",
        "print(\"ma trận A: \\n\", max1)\n",
        "max2 = np.random.randint(low=-10, high=10, size=(6,7))\n",
        "print(\"ma trận B: \\n\", max2)\n",
        "\n",
        "print(\"ma trận C: \\n\", max1 + max2)"
      ],
      "metadata": {
        "colab": {
          "base_uri": "https://localhost:8080/"
        },
        "id": "0CKqBE8LdiG1",
        "outputId": "84cb33cb-a271-4eb3-dd59-18e063054012"
      },
      "execution_count": 9,
      "outputs": [
        {
          "output_type": "stream",
          "name": "stdout",
          "text": [
            "ma trận A: \n",
            " [[ 5 -7 -4  2 -6 -5 -1]\n",
            " [-8  8  9  7  1 -1  0]\n",
            " [ 1  8  8  7  5 -3  7]\n",
            " [ 5  9 -8 -1  2 -5 -3]\n",
            " [ 0  5  5 -6 -3  8 -8]\n",
            " [-6 -5  4  8  1  5 -8]]\n",
            "ma trận B: \n",
            " [[-6 -4 -3  5  3 -4 -7]\n",
            " [-6 -7 -8  5 -6 -1 -3]\n",
            " [ 3 -6  9  7  9  3  1]\n",
            " [ 3 -1  7 -1  9  2 -6]\n",
            " [-5  0 -2  4  0 -4 -2]\n",
            " [-5 -2  2  9 -8  3  0]]\n",
            "ma trận C: \n",
            " [[ -1 -11  -7   7  -3  -9  -8]\n",
            " [-14   1   1  12  -5  -2  -3]\n",
            " [  4   2  17  14  14   0   8]\n",
            " [  8   8  -1  -2  11  -3  -9]\n",
            " [ -5   5   3  -2  -3   4 -10]\n",
            " [-11  -7   6  17  -7   8  -8]]\n"
          ]
        }
      ]
    },
    {
      "cell_type": "code",
      "source": [
        "# sinh ngẫu nhiên 1 ma trận có kích thước 5x8. \n",
        "# Thực hiện nhân vô hướng 1 số được nhập từ bàn phím với ma trận này.\n",
        "# Kết quả xuất ra màn hình.\n",
        "import numpy as np\n",
        "\n",
        "max3 = np.random.randint(low=-10, high=10, size=(5,8))\n",
        "m = int(input(\"nhập 1 số: \"))\n",
        "print(\"phép nhân vô hướng\", m, \"với ma trận: \\n\", m*max3)"
      ],
      "metadata": {
        "colab": {
          "base_uri": "https://localhost:8080/"
        },
        "id": "F3OFcKvIhF4h",
        "outputId": "661c0511-6522-4c95-d0f7-ed9188af831d"
      },
      "execution_count": 10,
      "outputs": [
        {
          "output_type": "stream",
          "name": "stdout",
          "text": [
            "nhập 1 số: 4\n",
            "phép nhân vô hướng 4 với ma trận: \n",
            " [[ 32 -24  36  -8  32  32   8 -36]\n",
            " [-12 -28 -28 -36  -8   8 -32   4]\n",
            " [ -4 -32  16   4   8 -20 -24 -28]\n",
            " [ 20 -20 -24 -20  16 -16  24  36]\n",
            " [-16  20  12 -28  28 -12  16  16]]\n"
          ]
        }
      ]
    },
    {
      "cell_type": "code",
      "source": [
        "# Sinh ngẫu nhiên một ma trận có kích thước 3x7. \n",
        "# Thực hiện phép chuyển vị đối với ma trận này. \n",
        "# Xuất các ma trận này ra màn hình.\n",
        "import numpy as np\n",
        "\n",
        "max4 = np.random.randint(low=-10, high=10, size=(3,7))\n",
        "print(\"ma trận: \\n\", max4)\n",
        "print(\"Phép chuyển vị ma trận: \\n\", max4.T)"
      ],
      "metadata": {
        "colab": {
          "base_uri": "https://localhost:8080/"
        },
        "id": "nEk2mORoiGCR",
        "outputId": "7e1388d6-6904-422e-b663-f6a45ed91eaa"
      },
      "execution_count": 11,
      "outputs": [
        {
          "output_type": "stream",
          "name": "stdout",
          "text": [
            "ma trận: \n",
            " [[  5 -10  -8   9  -7 -10  -7]\n",
            " [ -2   8  -5  -1   4  -6   2]\n",
            " [  6  -2  -4  -9   8   6  -2]]\n",
            "Phép chuyển vị ma trận: \n",
            " [[  5  -2   6]\n",
            " [-10   8  -2]\n",
            " [ -8  -5  -4]\n",
            " [  9  -1  -9]\n",
            " [ -7   4   8]\n",
            " [-10  -6   6]\n",
            " [ -7   2  -2]]\n"
          ]
        }
      ]
    },
    {
      "cell_type": "code",
      "source": [
        "# Hãy sinh ngẫu nhiên 2 ma trận A5×7 và B7×3,\n",
        "# tiến hành nhân 2 ma trận này để thu được ma trận C5×3. \n",
        "# Xuất các ma trận trên ra màn hình. Gợi ý: sử dụng hàm numpy.dot()\n",
        "import numpy as np\n",
        "\n",
        "max5 = np.random.randint(low=-10, high=10, size=(5,7))\n",
        "print(\"ma trận A5x7: \\n\", max5)\n",
        "max6 = np.random.randint(low=-10, high=10, size=(7,3))\n",
        "print(\"ma trận B7x3: \\n\", max6)\n",
        "\n",
        "print(\"ma trận C5x3: \\n\" , np.dot(max5,max6))"
      ],
      "metadata": {
        "colab": {
          "base_uri": "https://localhost:8080/"
        },
        "id": "2u1_rJkNinIV",
        "outputId": "232a2454-d4e6-4286-bbdb-c3d616fe1518"
      },
      "execution_count": 12,
      "outputs": [
        {
          "output_type": "stream",
          "name": "stdout",
          "text": [
            "ma trận A5x7: \n",
            " [[  6   0   6   7  -8   6   8]\n",
            " [ -4  -5   5  -4   0   4   3]\n",
            " [ -6   3   9  -9  -6  -6 -10]\n",
            " [  0   4   8   2   0  -6   6]\n",
            " [ -9  -3   3  -4  -2   7   6]]\n",
            "ma trận B7x3: \n",
            " [[ 9 -7  3]\n",
            " [-7 -5 -1]\n",
            " [-9 -7 -7]\n",
            " [ 8  6 -7]\n",
            " [ 7 -6 -2]\n",
            " [ 6  1  8]\n",
            " [ 3  2  0]]\n",
            "ma trận C5x3: \n",
            " [[  60   28   -9]\n",
            " [ -45    4   18]\n",
            " [-336  -80  -57]\n",
            " [-102  -58 -122]\n",
            " [ -73   64   43]]\n"
          ]
        }
      ]
    },
    {
      "cell_type": "code",
      "source": [
        "# Cho ma trận A5×7, hãy tính ma trận khả nghịch của A. \n",
        "# Gợi ý: sử dụng hàm numpy.linalg.inv()\n",
        "import numpy as np\n",
        "\n",
        "max7 = np.array([[1, 2, 3], [2, 5, 3], [1, 0, 8]])\n",
        "print(\"ma trận A5x7: \\n\", max7)\n",
        "print(\"ma trận khả nghịch của A là: \\n\", np.linalg.inv(max7))"
      ],
      "metadata": {
        "colab": {
          "base_uri": "https://localhost:8080/"
        },
        "id": "f6zmhcbwkN2v",
        "outputId": "b95ad15d-ff37-4090-b2f4-b930836cd71b"
      },
      "execution_count": null,
      "outputs": [
        {
          "output_type": "stream",
          "name": "stdout",
          "text": [
            "ma trận A5x7: \n",
            " [[1 2 3]\n",
            " [2 5 3]\n",
            " [1 0 8]]\n",
            "ma trận khả nghịch của A là: \n",
            " [[-40.  16.   9.]\n",
            " [ 13.  -5.  -3.]\n",
            " [  5.  -2.  -1.]]\n"
          ]
        }
      ]
    },
    {
      "cell_type": "markdown",
      "source": [
        "Bài 9 – Vector là dạng ma trận đặc biệt: Sử dụng numpy để thực hiện các yêu cầu sau"
      ],
      "metadata": {
        "id": "Aw8-XBRZmiiZ"
      }
    },
    {
      "cell_type": "code",
      "source": [
        "# Vector hàng (row vector) thực chất là ma trận có kích thước 1 × n. \n",
        "# Hãy tạo ngẫu nhiên 1 vector hàng x có kích thước 1 × 8. \n",
        "# Kết quả xuất ra màn hình.\n",
        "import numpy as np\n",
        "\n",
        "row_vector = np.random.randint(low=-10, high=10, size=(1,8))\n",
        "print(row_vector)"
      ],
      "metadata": {
        "colab": {
          "base_uri": "https://localhost:8080/"
        },
        "id": "JRmp1aYUmeSW",
        "outputId": "433ac510-1d80-455b-a34e-2b11c945dc94"
      },
      "execution_count": null,
      "outputs": [
        {
          "output_type": "stream",
          "name": "stdout",
          "text": [
            "[[ -5   3  -1  -6  -3 -10   5   8]]\n"
          ]
        }
      ]
    },
    {
      "cell_type": "code",
      "source": [
        "# Vector cột (column vector) thực chất là ma trận có kích thước m × 1. \n",
        "# Hãy tạo ngẫu nhiên 1 vector cột x có kích thước 8 × 1. \n",
        "# Kết quả xuất ra màn hình.\n",
        "import numpy as np\n",
        "\n",
        "column_vector = np.random.randint(low=-10, high=10, size=(8,1))\n",
        "print(column_vector)"
      ],
      "metadata": {
        "colab": {
          "base_uri": "https://localhost:8080/"
        },
        "id": "bnHEWZuwnM_s",
        "outputId": "573a442d-cb88-40ed-e08c-fa43b1ac1556"
      },
      "execution_count": null,
      "outputs": [
        {
          "output_type": "stream",
          "name": "stdout",
          "text": [
            "[[ 3]\n",
            " [ 9]\n",
            " [-8]\n",
            " [ 3]\n",
            " [-8]\n",
            " [-3]\n",
            " [ 8]\n",
            " [-6]]\n"
          ]
        }
      ]
    },
    {
      "cell_type": "markdown",
      "source": [
        "Bài 10 - Hệ phương trình tuyến tính:"
      ],
      "metadata": {
        "id": "IxUZYrZXnk0Y"
      }
    },
    {
      "cell_type": "code",
      "source": [
        "A = np.array([[4, 3, -5], \n",
        "              [-2, -4, 5], \n",
        "              [8, 8, 0]])\n",
        "y = np.array([2, 5, -3])\n",
        "\n",
        "x = np.linalg.solve(A, y)\n",
        "x"
      ],
      "metadata": {
        "id": "L6I8S9fvnrpV",
        "colab": {
          "base_uri": "https://localhost:8080/"
        },
        "outputId": "6c10e70b-9a5e-46dd-c897-3410d403c2ed"
      },
      "execution_count": 13,
      "outputs": [
        {
          "output_type": "execute_result",
          "data": {
            "text/plain": [
              "array([ 2.20833333, -2.58333333, -0.18333333])"
            ]
          },
          "metadata": {},
          "execution_count": 13
        }
      ]
    },
    {
      "cell_type": "code",
      "source": [
        "#ma trận khả nghịch\n",
        "A_inv = np.linalg.pinv(A)\n",
        "x = np.dot(A_inv, y)\n",
        "print(\"ma trận khả nghịch:\")\n",
        "x"
      ],
      "metadata": {
        "colab": {
          "base_uri": "https://localhost:8080/"
        },
        "id": "0SSvoUWf-5cf",
        "outputId": "4c1f5d07-9133-40c0-e753-32953ae4106d"
      },
      "execution_count": 14,
      "outputs": [
        {
          "output_type": "stream",
          "name": "stdout",
          "text": [
            "ma trận khả nghịch:\n"
          ]
        },
        {
          "output_type": "execute_result",
          "data": {
            "text/plain": [
              "array([ 2.20833333, -2.58333333, -0.18333333])"
            ]
          },
          "metadata": {},
          "execution_count": 14
        }
      ]
    }
  ]
}