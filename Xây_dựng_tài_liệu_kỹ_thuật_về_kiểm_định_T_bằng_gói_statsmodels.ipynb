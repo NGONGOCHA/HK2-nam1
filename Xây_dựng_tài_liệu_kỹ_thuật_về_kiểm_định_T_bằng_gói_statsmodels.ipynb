{
  "nbformat": 4,
  "nbformat_minor": 0,
  "metadata": {
    "colab": {
      "name": "Xây dựng tài liệu kỹ thuật về kiểm định T bằng gói statsmodels",
      "provenance": [],
      "authorship_tag": "ABX9TyMbqtotb+9WMZXjmIhqYl7C",
      "include_colab_link": true
    },
    "kernelspec": {
      "name": "python3",
      "display_name": "Python 3"
    },
    "language_info": {
      "name": "python"
    }
  },
  "cells": [
    {
      "cell_type": "markdown",
      "metadata": {
        "id": "view-in-github",
        "colab_type": "text"
      },
      "source": [
        "<a href=\"https://colab.research.google.com/github/NGONGOCHA/HK2-nam1/blob/main/X%C3%A2y_d%E1%BB%B1ng_t%C3%A0i_li%E1%BB%87u_k%E1%BB%B9_thu%E1%BA%ADt_v%E1%BB%81_ki%E1%BB%83m_%C4%91%E1%BB%8Bnh_T_b%E1%BA%B1ng_g%C3%B3i_statsmodels.ipynb\" target=\"_parent\"><img src=\"https://colab.research.google.com/assets/colab-badge.svg\" alt=\"Open In Colab\"/></a>"
      ]
    },
    {
      "cell_type": "markdown",
      "source": [
        "1. Các Thư viện"
      ],
      "metadata": {
        "id": "fT_YlDlXTFuk"
      }
    },
    {
      "cell_type": "code",
      "execution_count": 1,
      "metadata": {
        "id": "hDgcyp2xTBgQ",
        "colab": {
          "base_uri": "https://localhost:8080/"
        },
        "outputId": "9198b608-d4d2-4d66-b0ad-83c01f6206d9"
      },
      "outputs": [
        {
          "output_type": "stream",
          "name": "stderr",
          "text": [
            "/usr/local/lib/python3.7/dist-packages/statsmodels/tools/_testing.py:19: FutureWarning: pandas.util.testing is deprecated. Use the functions in the public API at pandas.testing instead.\n",
            "  import pandas.util.testing as tm\n"
          ]
        }
      ],
      "source": [
        "import numpy as np\n",
        "import pandas as pd\n",
        "import random \n",
        "from scipy import stats\n",
        "from statsmodels.stats.weightstats import ttest_ind\n",
        "import math\n",
        "import statsmodels.stats.weightstats\n",
        "import matplotlib.pyplot as plt\n",
        "import seaborn as sns\n",
        "import warnings\n"
      ]
    },
    {
      "cell_type": "markdown",
      "source": [
        "2. Thiết lập định dạng hình ảnh"
      ],
      "metadata": {
        "id": "LDa51ezTZJMS"
      }
    },
    {
      "cell_type": "code",
      "source": [
        "sns.set(rc={'figure.figsize':(13, 7.5)})\n",
        "sns.set_context('talk')"
      ],
      "metadata": {
        "id": "QWd_7ysVZOn1"
      },
      "execution_count": 2,
      "outputs": []
    },
    {
      "cell_type": "markdown",
      "source": [
        "3. Tắt các cảnh báo của scipy"
      ],
      "metadata": {
        "id": "7dcpN1iBZRNi"
      }
    },
    {
      "cell_type": "code",
      "source": [
        "warnings.filterwarnings('ignore')"
      ],
      "metadata": {
        "id": "vwp18e4LZfT7"
      },
      "execution_count": 3,
      "outputs": []
    },
    {
      "cell_type": "markdown",
      "source": [
        "4. Một số lưu ý khi kiểm định giả thuyết trong thống kê suy diễn\n",
        "\n",
        "\n",
        "(1) Cỡ mẫu nhỏ (n<30) để có ý nghĩa thống kê\n",
        "\n",
        "(2) Các mẫu quan sát được (sample observations) phải được lựa chọn ngẫu nhiên từ quần thể\n",
        "\n",
        "(3) Các đại lượng như trung bình mẫu (sample mean), độ lệch chuẩn của mẫu (standard deviation), phương sai mẫu (sample variance) được tính từ tập mẫu quan sát được.\n",
        "\n",
        "(4) Giả định rằng quần thể được nghiên cứu lấy mẫu xấp xỉ với phân phối chuẩn."
      ],
      "metadata": {
        "id": "v_qBskyY6fD-"
      }
    },
    {
      "cell_type": "markdown",
      "source": [
        "5. Các bước kiểm định:\n",
        "\n",
        "Bước 1: Thực hiện các phép đo, hay thu thập dữ liệu quan sát\n",
        "\n",
        "Bước 2: Phát biểu giả thuyết  $H_0$  và giả thuyết thay thế  $H_A$\n",
        "\n",
        "Bước 3: Xác định mức  $\\alpha$  (hay khoảng tin cậy)\n",
        "\n",
        "Bước 4: Lấy mẫu và tính toán các đại lượng thống kê của mẫu\n",
        "\n",
        "Bước 5: Thực hiện kiểm định t (t-test)\n",
        "\n",
        "Bước 6: Kết luận dựa vào kết quả kiểm định"
      ],
      "metadata": {
        "id": "RGrQxz4V6S2X"
      }
    },
    {
      "cell_type": "markdown",
      "source": [
        "6. Xây dựng một kiểm định t cụ thể với số liệu được sinh ngẫu nhiên theo phân phối chuẩn\n",
        "\n",
        "Bài toán: : Tiền lương hàng tháng của 20 công nhân cơ khí tại Bình Dương có trung bình mẫu là 12 triệu đồng và độ lệch chuẩn mẫu là 2,5 triệu đồng. Tiền lương trung bình hàng tháng của công nhân cơ khí tại Đà Nẵng là 14 triệu đồng. Với mức ý nghĩa 5%, có thể cho rằng tiền lương trung bình hàng tháng của công nhân cơ khí tại Bình Dương thấp hơn tại Đà Nẵng hay không? \n",
        "\n",
        "**Kiểm định 1 đuôi**\n",
        "\n",
        "Xây dựng giả thuyết:\n",
        "\n",
        "$$H_0 : \\mu = 14$$\n",
        "\n",
        "Giả thuyết thay thế:\n",
        "\n",
        "$$H_a : \\mu < 14$$\n",
        "\n",
        "với:\n",
        "- Hệ số alpha : 0,05  \n",
        "- Chỉ số t với bậc tự do 19 (20-1) tương ứng với α/2 = 0.025 là 2.093 (bảng phân phối t)\n",
        "\n",
        "Công thức:  \n",
        "$$t = \\frac{(\\overline{\\rm X} - \\mu_0)}{(s / \\sqrt{n})}$$\n",
        "với:\n",
        "- $\\overline{\\rm X}$: trung bình mẫu\n",
        "- $\\mu_{0}$: trung bình của tổng thể cần so sánh\n",
        "- s: độ lệch chuẩn hiệu chỉnh mẫu\n",
        "- n: cỡ mẫu\n",
        "\n",
        "Áp dụng với các giá trị nêu trên:\n",
        "- $\\overline{\\rm X}$: 12\n",
        "- $\\mu_{0}$: 14\n",
        "- s : 2,5\n",
        "- n: 20\n",
        "$$t = \\frac{(12 - 14)}{(2,5 / \\sqrt{20})} \\approx -3,577$$\n",
        "\n",
        "Giá trị $|t|$ = -3,577 < 2,093 nên không có bằng chứng để bác bỏ giả thuyết $H_0$\n",
        "\n",
        "\n"
      ],
      "metadata": {
        "id": "VhVBg4Js1Lc-"
      }
    },
    {
      "cell_type": "code",
      "source": [
        "#Sinh ngẫu nhiên 20 mẫu tuân theo phân phối chuẩn có trung bình mẫu là 12 và độ lệch chuẩn là 2.5\n",
        "samples = np.random.normal(12, scale=2.5,size = 20)\n",
        "# print(samples[:10])\n",
        "samples"
      ],
      "metadata": {
        "id": "-mwb3oM2XP6s",
        "colab": {
          "base_uri": "https://localhost:8080/"
        },
        "outputId": "8b391bac-7be6-4283-ad21-75667a9e42c6"
      },
      "execution_count": 4,
      "outputs": [
        {
          "output_type": "execute_result",
          "data": {
            "text/plain": [
              "array([14.90280386, 10.02323511,  9.60774262,  9.98772943, 13.35872667,\n",
              "       14.39848268,  9.40305546, 10.99331824, 14.32061989,  9.87115686,\n",
              "       12.21264712, 13.22703204, 10.98035321, 10.48489466, 17.07040812,\n",
              "       13.0700839 , 10.61186508, 11.37922526, 10.44104547,  7.69158047])"
            ]
          },
          "metadata": {},
          "execution_count": 4
        }
      ]
    },
    {
      "cell_type": "code",
      "source": [
        "#Xác định các thông số\n",
        "null_mean = 20\n",
        "alpha = 0.05"
      ],
      "metadata": {
        "id": "8G3WryFg_NmT"
      },
      "execution_count": 5,
      "outputs": []
    },
    {
      "cell_type": "code",
      "source": [
        "#Kiem dinh t \n",
        "t_test, p_value= stats.ttest_1samp(samples, null_mean)\n",
        "print(\"p_value: \",p_value)\n",
        "if(p_value < alpha):\n",
        "  print(\"Có bằng chứng để bác bỏ giả thuyết H0\")\n",
        "else:\n",
        "  print(\"Chưa có bằng chứng để bác bỏ giả thuyết H0\")"
      ],
      "metadata": {
        "colab": {
          "base_uri": "https://localhost:8080/"
        },
        "id": "2lDCBlba_eJR",
        "outputId": "3d6f257f-48bc-44fa-fc78-51b1e3711e90"
      },
      "execution_count": 6,
      "outputs": [
        {
          "output_type": "stream",
          "name": "stdout",
          "text": [
            "p_value:  1.5337965989791384e-12\n",
            "Có bằng chứng để bác bỏ giả thuyết H0\n"
          ]
        }
      ]
    },
    {
      "cell_type": "markdown",
      "source": [
        "**Kiểm định 2-đuôi**\n",
        "\n",
        "Bài toán: : Tiền lương hàng tháng của 20 công nhân cơ khí tại Bình Dương có trung bình mẫu là 12 triệu đồng và độ lệch chuẩn mẫu là 2,5 triệu đồng. Tiền lương trung bình hàng tháng của công nhân cơ khí tại Đà Nẵng là 14 triệu đồng. Với mức ý nghĩa 5%, có thể cho rằng tiền lương trung bình hàng tháng của công nhân cơ khí tại Bình Dương và tại Đà Nẵng như nhau hay không? \n",
        "\n",
        "Xây dựng giả thuyết:\n",
        "\\begin{align}\n",
        "        H_0: μ = 14\n",
        "    \\end{align}\n",
        "\n",
        "Giả thuyết thay thế:\n",
        "\\begin{align}\n",
        "        H_a: μ_1 \\ne 14\n",
        "    \\end{align}\n",
        "\n",
        "với:\n",
        "- Hệ số alpha : 0,05  \n",
        "- Chỉ số t với bậc tự do 19 (20-1) tương ứng với α/2 = 0.025 là 2.093 (bảng phân phối t)\n",
        "\n",
        "\n",
        "Công thức:  \n",
        "$$t = \\frac{(\\overline{\\rm X} - \\mu_0)}{(s / \\sqrt{n})}$$\n",
        "với:\n",
        "- $\\overline{\\rm X}$: trung bình mẫu\n",
        "- $\\mu_{0}$: trung bình của tổng thể cần so sánh\n",
        "- s: độ lệch chuẩn hiệu chỉnh mẫu\n",
        "- n: cỡ mẫu\n",
        "\n",
        "Áp dụng với các giá trị nêu trên:\n",
        "- $\\overline{\\rm X}$: 12\n",
        "- $\\mu_{0}$: 14\n",
        "- s : 2,5\n",
        "- n: 20\n",
        "$$t = \\frac{(12 - 14)}{(2,5 / \\sqrt{20})} \\approx -3,577$$\n",
        "\n",
        "Giá trị $|t|$ = -3,577 < 2,093 nên không có bằng chứng để bác bỏ giả thuyết $H_0$"
      ],
      "metadata": {
        "id": "-jmR3O-PaWPp"
      }
    },
    {
      "cell_type": "code",
      "source": [
        "#Sinh ngẫu nhiên sample 1 có 20 mẫu với trung bình mẫu là 12 và độ lệch chuẩn là 2.5\n",
        "samples1 = np.random.normal(12, scale=2.5,size = 20)\n",
        "# print(samples[:10])\n",
        "samples1"
      ],
      "metadata": {
        "colab": {
          "base_uri": "https://localhost:8080/"
        },
        "id": "PYgcGvqWZCrg",
        "outputId": "5d723c59-1d44-4c53-b21a-46ca245613f9"
      },
      "execution_count": 16,
      "outputs": [
        {
          "output_type": "execute_result",
          "data": {
            "text/plain": [
              "array([10.88799592, 18.7910172 , 12.60517682, 10.21711532, 13.66885003,\n",
              "       14.15708361, 10.06189532, 15.48916001, 14.02046725, 13.2374674 ,\n",
              "       14.8757299 ,  8.4094741 , 10.6840859 , 13.19376185, 12.66067036,\n",
              "       14.78854395, 12.10168097, 10.81086517, 14.85718222,  9.45400516])"
            ]
          },
          "metadata": {},
          "execution_count": 16
        }
      ]
    },
    {
      "cell_type": "code",
      "source": [
        "#Sinh ngẫu nhiên sample 2 có 20 mẫu với trung bình mẫu là 12 và độ lệch chuẩn là 2.5\n",
        "samples2 = np.random.normal(12, scale=2.5,size = 20)\n",
        "# print(samples[:10])\n",
        "samples2"
      ],
      "metadata": {
        "colab": {
          "base_uri": "https://localhost:8080/"
        },
        "id": "-eJ4MLghZ_NN",
        "outputId": "824fcc62-fecb-4220-addd-47546c98570e"
      },
      "execution_count": 12,
      "outputs": [
        {
          "output_type": "execute_result",
          "data": {
            "text/plain": [
              "array([12.36868669,  9.78270223, 11.42130298, 12.7777311 , 16.95249354,\n",
              "       14.87922588,  9.5401131 ,  9.50032767, 12.44621221, 11.72791158,\n",
              "       10.8865929 , 10.06876614, 12.07486159, 12.38736114, 10.44539136,\n",
              "       12.06918052, 17.41270172,  8.71476709, 11.41310971,  8.52345732])"
            ]
          },
          "metadata": {},
          "execution_count": 12
        }
      ]
    },
    {
      "cell_type": "code",
      "source": [
        "#Kiểm định giả thuyết \n",
        "alpha = 0.05\n",
        "t_test, p_value,df = ttest_ind(x1 = samples1, x2 = samples2, value = 14-12 , alternative = 'two-sided')\n",
        "print('t = ', t_test, '; p = ', p_value)\n",
        "if(p_value <  alpha):\n",
        "  print(\"Có bằng chứng để bác bỏ giả thuyết H0\")\n",
        "else:\n",
        "  print(\"Chưa có bằng chứng để bác bỏ giả thuyết H0\")"
      ],
      "metadata": {
        "colab": {
          "base_uri": "https://localhost:8080/"
        },
        "id": "sotjQt8dZ5lP",
        "outputId": "b17d4f70-802f-4b33-e05d-71499c0a5b78"
      },
      "execution_count": 17,
      "outputs": [
        {
          "output_type": "stream",
          "name": "stdout",
          "text": [
            "t =  -1.3191266868928138 ; p =  0.19502075754168163\n",
            "Chưa có bằng chứng để bác bỏ giả thuyết H0\n"
          ]
        }
      ]
    }
  ]
}