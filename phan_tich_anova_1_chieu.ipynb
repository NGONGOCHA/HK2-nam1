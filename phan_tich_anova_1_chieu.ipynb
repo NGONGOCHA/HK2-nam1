{
  "cells": [
    {
      "cell_type": "markdown",
      "metadata": {
        "id": "view-in-github",
        "colab_type": "text"
      },
      "source": [
        "<a href=\"https://colab.research.google.com/github/NGONGOCHA/HK2-nam1/blob/main/phan_tich_anova_1_chieu.ipynb\" target=\"_parent\"><img src=\"https://colab.research.google.com/assets/colab-badge.svg\" alt=\"Open In Colab\"/></a>"
      ]
    },
    {
      "cell_type": "markdown",
      "metadata": {
        "id": "050zTJ6Zh3Fr"
      },
      "source": [
        "Hãy sử dụng các tập dữ liệu sau và tiến hành phân tích ANOVA 1 chiều\n",
        "\n",
        "- [Excavation Depth and Archaeology](https://college.cengage.com/mathematics/brase/understandable_statistics/7e/students/datasets/owan/frames/owan01.html)\n",
        "- [Apple Orchard Experiment](https://college.cengage.com/mathematics/brase/understandable_statistics/7e/students/datasets/owan/frames/owan02.html)\n",
        "- [Red Dye Number 40](https://college.cengage.com/mathematics/brase/understandable_statistics/7e/students/datasets/owan/frames/owan03.html)\n",
        "- [Business Startup Costs](https://college.cengage.com/mathematics/brase/understandable_statistics/7e/students/datasets/owan/frames/owan04.html)\n",
        "- [Weights of Football Players](https://college.cengage.com/mathematics/brase/understandable_statistics/7e/students/datasets/owan/frames/owan05.html)"
      ]
    },
    {
      "cell_type": "code",
      "source": [
        "import pandas as pd\n",
        "import numpy as np\n",
        "import scipy.stats as st"
      ],
      "metadata": {
        "id": "va-WQuqBmEJW"
      },
      "execution_count": 1,
      "outputs": []
    },
    {
      "cell_type": "code",
      "source": [
        "from google.colab import drive\n",
        "drive.mount('/content/drive')"
      ],
      "metadata": {
        "colab": {
          "base_uri": "https://localhost:8080/"
        },
        "id": "3LyFTLc3aKQd",
        "outputId": "0dd65f19-861f-47b2-e809-8c66aa9b32e5"
      },
      "execution_count": 3,
      "outputs": [
        {
          "output_type": "stream",
          "name": "stdout",
          "text": [
            "Drive already mounted at /content/drive; to attempt to forcibly remount, call drive.mount(\"/content/drive\", force_remount=True).\n"
          ]
        }
      ]
    },
    {
      "cell_type": "markdown",
      "source": [
        "***1. Excavation Depth and Archaeology (Độ sâu khai quật và khảo cổ học)***"
      ],
      "metadata": {
        "id": "c726VBeLqhoK"
      }
    },
    {
      "cell_type": "markdown",
      "source": [
        "Bốn địa điểm khai quật khác nhau tại một khu vực khảo cổ ở New Mexico đã đưa ra độ sâu sau (cm) cho những khám phá khảo cổ học quan trọng.\n",
        "\n",
        "X1 = độ sâu tại Vị trí I\n",
        "\n",
        "X2 = độ sâu tại Vị trí II\n",
        "\n",
        "X3 = độ sâu tại Vị trí III\n",
        "\n",
        "X4 = độ sâu tại Vị trí IV"
      ],
      "metadata": {
        "id": "BsMgJhqnrAMx"
      }
    },
    {
      "cell_type": "code",
      "source": [
        "#Đọc file csv\n",
        "df1 = pd.read_csv(\"/content/drive/MyDrive/Tài liệu/owan/owan01.csv\")\n",
        "df1"
      ],
      "metadata": {
        "colab": {
          "base_uri": "https://localhost:8080/",
          "height": 520
        },
        "id": "AM3ZA8eaoDHD",
        "outputId": "43addfd0-d446-4941-c4f2-5ad74cc2b820"
      },
      "execution_count": 39,
      "outputs": [
        {
          "output_type": "execute_result",
          "data": {
            "text/plain": [
              "     X1    X2     X3    X4\n",
              "0    93  85.0  100.0  96.0\n",
              "1   120  45.0   75.0  58.0\n",
              "2    65  80.0   65.0  95.0\n",
              "3   105  28.0   40.0  90.0\n",
              "4   115  75.0   73.0  65.0\n",
              "5    82  70.0   65.0  80.0\n",
              "6    99  65.0   50.0  85.0\n",
              "7    87  55.0   30.0  95.0\n",
              "8   100  50.0   45.0  82.0\n",
              "9    90  40.0   50.0   NaN\n",
              "10   78   NaN   45.0   NaN\n",
              "11   95   NaN   55.0   NaN\n",
              "12   93   NaN    NaN   NaN\n",
              "13   88   NaN    NaN   NaN\n",
              "14  110   NaN    NaN   NaN"
            ],
            "text/html": [
              "\n",
              "  <div id=\"df-45ea2a50-4e76-481a-a99d-177f53633c85\">\n",
              "    <div class=\"colab-df-container\">\n",
              "      <div>\n",
              "<style scoped>\n",
              "    .dataframe tbody tr th:only-of-type {\n",
              "        vertical-align: middle;\n",
              "    }\n",
              "\n",
              "    .dataframe tbody tr th {\n",
              "        vertical-align: top;\n",
              "    }\n",
              "\n",
              "    .dataframe thead th {\n",
              "        text-align: right;\n",
              "    }\n",
              "</style>\n",
              "<table border=\"1\" class=\"dataframe\">\n",
              "  <thead>\n",
              "    <tr style=\"text-align: right;\">\n",
              "      <th></th>\n",
              "      <th>X1</th>\n",
              "      <th>X2</th>\n",
              "      <th>X3</th>\n",
              "      <th>X4</th>\n",
              "    </tr>\n",
              "  </thead>\n",
              "  <tbody>\n",
              "    <tr>\n",
              "      <th>0</th>\n",
              "      <td>93</td>\n",
              "      <td>85.0</td>\n",
              "      <td>100.0</td>\n",
              "      <td>96.0</td>\n",
              "    </tr>\n",
              "    <tr>\n",
              "      <th>1</th>\n",
              "      <td>120</td>\n",
              "      <td>45.0</td>\n",
              "      <td>75.0</td>\n",
              "      <td>58.0</td>\n",
              "    </tr>\n",
              "    <tr>\n",
              "      <th>2</th>\n",
              "      <td>65</td>\n",
              "      <td>80.0</td>\n",
              "      <td>65.0</td>\n",
              "      <td>95.0</td>\n",
              "    </tr>\n",
              "    <tr>\n",
              "      <th>3</th>\n",
              "      <td>105</td>\n",
              "      <td>28.0</td>\n",
              "      <td>40.0</td>\n",
              "      <td>90.0</td>\n",
              "    </tr>\n",
              "    <tr>\n",
              "      <th>4</th>\n",
              "      <td>115</td>\n",
              "      <td>75.0</td>\n",
              "      <td>73.0</td>\n",
              "      <td>65.0</td>\n",
              "    </tr>\n",
              "    <tr>\n",
              "      <th>5</th>\n",
              "      <td>82</td>\n",
              "      <td>70.0</td>\n",
              "      <td>65.0</td>\n",
              "      <td>80.0</td>\n",
              "    </tr>\n",
              "    <tr>\n",
              "      <th>6</th>\n",
              "      <td>99</td>\n",
              "      <td>65.0</td>\n",
              "      <td>50.0</td>\n",
              "      <td>85.0</td>\n",
              "    </tr>\n",
              "    <tr>\n",
              "      <th>7</th>\n",
              "      <td>87</td>\n",
              "      <td>55.0</td>\n",
              "      <td>30.0</td>\n",
              "      <td>95.0</td>\n",
              "    </tr>\n",
              "    <tr>\n",
              "      <th>8</th>\n",
              "      <td>100</td>\n",
              "      <td>50.0</td>\n",
              "      <td>45.0</td>\n",
              "      <td>82.0</td>\n",
              "    </tr>\n",
              "    <tr>\n",
              "      <th>9</th>\n",
              "      <td>90</td>\n",
              "      <td>40.0</td>\n",
              "      <td>50.0</td>\n",
              "      <td>NaN</td>\n",
              "    </tr>\n",
              "    <tr>\n",
              "      <th>10</th>\n",
              "      <td>78</td>\n",
              "      <td>NaN</td>\n",
              "      <td>45.0</td>\n",
              "      <td>NaN</td>\n",
              "    </tr>\n",
              "    <tr>\n",
              "      <th>11</th>\n",
              "      <td>95</td>\n",
              "      <td>NaN</td>\n",
              "      <td>55.0</td>\n",
              "      <td>NaN</td>\n",
              "    </tr>\n",
              "    <tr>\n",
              "      <th>12</th>\n",
              "      <td>93</td>\n",
              "      <td>NaN</td>\n",
              "      <td>NaN</td>\n",
              "      <td>NaN</td>\n",
              "    </tr>\n",
              "    <tr>\n",
              "      <th>13</th>\n",
              "      <td>88</td>\n",
              "      <td>NaN</td>\n",
              "      <td>NaN</td>\n",
              "      <td>NaN</td>\n",
              "    </tr>\n",
              "    <tr>\n",
              "      <th>14</th>\n",
              "      <td>110</td>\n",
              "      <td>NaN</td>\n",
              "      <td>NaN</td>\n",
              "      <td>NaN</td>\n",
              "    </tr>\n",
              "  </tbody>\n",
              "</table>\n",
              "</div>\n",
              "      <button class=\"colab-df-convert\" onclick=\"convertToInteractive('df-45ea2a50-4e76-481a-a99d-177f53633c85')\"\n",
              "              title=\"Convert this dataframe to an interactive table.\"\n",
              "              style=\"display:none;\">\n",
              "        \n",
              "  <svg xmlns=\"http://www.w3.org/2000/svg\" height=\"24px\"viewBox=\"0 0 24 24\"\n",
              "       width=\"24px\">\n",
              "    <path d=\"M0 0h24v24H0V0z\" fill=\"none\"/>\n",
              "    <path d=\"M18.56 5.44l.94 2.06.94-2.06 2.06-.94-2.06-.94-.94-2.06-.94 2.06-2.06.94zm-11 1L8.5 8.5l.94-2.06 2.06-.94-2.06-.94L8.5 2.5l-.94 2.06-2.06.94zm10 10l.94 2.06.94-2.06 2.06-.94-2.06-.94-.94-2.06-.94 2.06-2.06.94z\"/><path d=\"M17.41 7.96l-1.37-1.37c-.4-.4-.92-.59-1.43-.59-.52 0-1.04.2-1.43.59L10.3 9.45l-7.72 7.72c-.78.78-.78 2.05 0 2.83L4 21.41c.39.39.9.59 1.41.59.51 0 1.02-.2 1.41-.59l7.78-7.78 2.81-2.81c.8-.78.8-2.07 0-2.86zM5.41 20L4 18.59l7.72-7.72 1.47 1.35L5.41 20z\"/>\n",
              "  </svg>\n",
              "      </button>\n",
              "      \n",
              "  <style>\n",
              "    .colab-df-container {\n",
              "      display:flex;\n",
              "      flex-wrap:wrap;\n",
              "      gap: 12px;\n",
              "    }\n",
              "\n",
              "    .colab-df-convert {\n",
              "      background-color: #E8F0FE;\n",
              "      border: none;\n",
              "      border-radius: 50%;\n",
              "      cursor: pointer;\n",
              "      display: none;\n",
              "      fill: #1967D2;\n",
              "      height: 32px;\n",
              "      padding: 0 0 0 0;\n",
              "      width: 32px;\n",
              "    }\n",
              "\n",
              "    .colab-df-convert:hover {\n",
              "      background-color: #E2EBFA;\n",
              "      box-shadow: 0px 1px 2px rgba(60, 64, 67, 0.3), 0px 1px 3px 1px rgba(60, 64, 67, 0.15);\n",
              "      fill: #174EA6;\n",
              "    }\n",
              "\n",
              "    [theme=dark] .colab-df-convert {\n",
              "      background-color: #3B4455;\n",
              "      fill: #D2E3FC;\n",
              "    }\n",
              "\n",
              "    [theme=dark] .colab-df-convert:hover {\n",
              "      background-color: #434B5C;\n",
              "      box-shadow: 0px 1px 3px 1px rgba(0, 0, 0, 0.15);\n",
              "      filter: drop-shadow(0px 1px 2px rgba(0, 0, 0, 0.3));\n",
              "      fill: #FFFFFF;\n",
              "    }\n",
              "  </style>\n",
              "\n",
              "      <script>\n",
              "        const buttonEl =\n",
              "          document.querySelector('#df-45ea2a50-4e76-481a-a99d-177f53633c85 button.colab-df-convert');\n",
              "        buttonEl.style.display =\n",
              "          google.colab.kernel.accessAllowed ? 'block' : 'none';\n",
              "\n",
              "        async function convertToInteractive(key) {\n",
              "          const element = document.querySelector('#df-45ea2a50-4e76-481a-a99d-177f53633c85');\n",
              "          const dataTable =\n",
              "            await google.colab.kernel.invokeFunction('convertToInteractive',\n",
              "                                                     [key], {});\n",
              "          if (!dataTable) return;\n",
              "\n",
              "          const docLinkHtml = 'Like what you see? Visit the ' +\n",
              "            '<a target=\"_blank\" href=https://colab.research.google.com/notebooks/data_table.ipynb>data table notebook</a>'\n",
              "            + ' to learn more about interactive tables.';\n",
              "          element.innerHTML = '';\n",
              "          dataTable['output_type'] = 'display_data';\n",
              "          await google.colab.output.renderOutput(dataTable, element);\n",
              "          const docLink = document.createElement('div');\n",
              "          docLink.innerHTML = docLinkHtml;\n",
              "          element.appendChild(docLink);\n",
              "        }\n",
              "      </script>\n",
              "    </div>\n",
              "  </div>\n",
              "  "
            ]
          },
          "metadata": {},
          "execution_count": 39
        }
      ]
    },
    {
      "cell_type": "code",
      "source": [
        "#Loại bỏ các giá trị NaN\n",
        "df1 = df1.dropna()\n",
        "df1"
      ],
      "metadata": {
        "id": "_b3Q7ybDqxcI",
        "colab": {
          "base_uri": "https://localhost:8080/",
          "height": 332
        },
        "outputId": "dec3ba09-24f2-4fe9-84ae-ce1c40d605e6"
      },
      "execution_count": 5,
      "outputs": [
        {
          "output_type": "execute_result",
          "data": {
            "text/plain": [
              "    X1    X2     X3    X4\n",
              "0   93  85.0  100.0  96.0\n",
              "1  120  45.0   75.0  58.0\n",
              "2   65  80.0   65.0  95.0\n",
              "3  105  28.0   40.0  90.0\n",
              "4  115  75.0   73.0  65.0\n",
              "5   82  70.0   65.0  80.0\n",
              "6   99  65.0   50.0  85.0\n",
              "7   87  55.0   30.0  95.0\n",
              "8  100  50.0   45.0  82.0"
            ],
            "text/html": [
              "\n",
              "  <div id=\"df-9c5a167a-4378-4bed-b8ee-95978e44462a\">\n",
              "    <div class=\"colab-df-container\">\n",
              "      <div>\n",
              "<style scoped>\n",
              "    .dataframe tbody tr th:only-of-type {\n",
              "        vertical-align: middle;\n",
              "    }\n",
              "\n",
              "    .dataframe tbody tr th {\n",
              "        vertical-align: top;\n",
              "    }\n",
              "\n",
              "    .dataframe thead th {\n",
              "        text-align: right;\n",
              "    }\n",
              "</style>\n",
              "<table border=\"1\" class=\"dataframe\">\n",
              "  <thead>\n",
              "    <tr style=\"text-align: right;\">\n",
              "      <th></th>\n",
              "      <th>X1</th>\n",
              "      <th>X2</th>\n",
              "      <th>X3</th>\n",
              "      <th>X4</th>\n",
              "    </tr>\n",
              "  </thead>\n",
              "  <tbody>\n",
              "    <tr>\n",
              "      <th>0</th>\n",
              "      <td>93</td>\n",
              "      <td>85.0</td>\n",
              "      <td>100.0</td>\n",
              "      <td>96.0</td>\n",
              "    </tr>\n",
              "    <tr>\n",
              "      <th>1</th>\n",
              "      <td>120</td>\n",
              "      <td>45.0</td>\n",
              "      <td>75.0</td>\n",
              "      <td>58.0</td>\n",
              "    </tr>\n",
              "    <tr>\n",
              "      <th>2</th>\n",
              "      <td>65</td>\n",
              "      <td>80.0</td>\n",
              "      <td>65.0</td>\n",
              "      <td>95.0</td>\n",
              "    </tr>\n",
              "    <tr>\n",
              "      <th>3</th>\n",
              "      <td>105</td>\n",
              "      <td>28.0</td>\n",
              "      <td>40.0</td>\n",
              "      <td>90.0</td>\n",
              "    </tr>\n",
              "    <tr>\n",
              "      <th>4</th>\n",
              "      <td>115</td>\n",
              "      <td>75.0</td>\n",
              "      <td>73.0</td>\n",
              "      <td>65.0</td>\n",
              "    </tr>\n",
              "    <tr>\n",
              "      <th>5</th>\n",
              "      <td>82</td>\n",
              "      <td>70.0</td>\n",
              "      <td>65.0</td>\n",
              "      <td>80.0</td>\n",
              "    </tr>\n",
              "    <tr>\n",
              "      <th>6</th>\n",
              "      <td>99</td>\n",
              "      <td>65.0</td>\n",
              "      <td>50.0</td>\n",
              "      <td>85.0</td>\n",
              "    </tr>\n",
              "    <tr>\n",
              "      <th>7</th>\n",
              "      <td>87</td>\n",
              "      <td>55.0</td>\n",
              "      <td>30.0</td>\n",
              "      <td>95.0</td>\n",
              "    </tr>\n",
              "    <tr>\n",
              "      <th>8</th>\n",
              "      <td>100</td>\n",
              "      <td>50.0</td>\n",
              "      <td>45.0</td>\n",
              "      <td>82.0</td>\n",
              "    </tr>\n",
              "  </tbody>\n",
              "</table>\n",
              "</div>\n",
              "      <button class=\"colab-df-convert\" onclick=\"convertToInteractive('df-9c5a167a-4378-4bed-b8ee-95978e44462a')\"\n",
              "              title=\"Convert this dataframe to an interactive table.\"\n",
              "              style=\"display:none;\">\n",
              "        \n",
              "  <svg xmlns=\"http://www.w3.org/2000/svg\" height=\"24px\"viewBox=\"0 0 24 24\"\n",
              "       width=\"24px\">\n",
              "    <path d=\"M0 0h24v24H0V0z\" fill=\"none\"/>\n",
              "    <path d=\"M18.56 5.44l.94 2.06.94-2.06 2.06-.94-2.06-.94-.94-2.06-.94 2.06-2.06.94zm-11 1L8.5 8.5l.94-2.06 2.06-.94-2.06-.94L8.5 2.5l-.94 2.06-2.06.94zm10 10l.94 2.06.94-2.06 2.06-.94-2.06-.94-.94-2.06-.94 2.06-2.06.94z\"/><path d=\"M17.41 7.96l-1.37-1.37c-.4-.4-.92-.59-1.43-.59-.52 0-1.04.2-1.43.59L10.3 9.45l-7.72 7.72c-.78.78-.78 2.05 0 2.83L4 21.41c.39.39.9.59 1.41.59.51 0 1.02-.2 1.41-.59l7.78-7.78 2.81-2.81c.8-.78.8-2.07 0-2.86zM5.41 20L4 18.59l7.72-7.72 1.47 1.35L5.41 20z\"/>\n",
              "  </svg>\n",
              "      </button>\n",
              "      \n",
              "  <style>\n",
              "    .colab-df-container {\n",
              "      display:flex;\n",
              "      flex-wrap:wrap;\n",
              "      gap: 12px;\n",
              "    }\n",
              "\n",
              "    .colab-df-convert {\n",
              "      background-color: #E8F0FE;\n",
              "      border: none;\n",
              "      border-radius: 50%;\n",
              "      cursor: pointer;\n",
              "      display: none;\n",
              "      fill: #1967D2;\n",
              "      height: 32px;\n",
              "      padding: 0 0 0 0;\n",
              "      width: 32px;\n",
              "    }\n",
              "\n",
              "    .colab-df-convert:hover {\n",
              "      background-color: #E2EBFA;\n",
              "      box-shadow: 0px 1px 2px rgba(60, 64, 67, 0.3), 0px 1px 3px 1px rgba(60, 64, 67, 0.15);\n",
              "      fill: #174EA6;\n",
              "    }\n",
              "\n",
              "    [theme=dark] .colab-df-convert {\n",
              "      background-color: #3B4455;\n",
              "      fill: #D2E3FC;\n",
              "    }\n",
              "\n",
              "    [theme=dark] .colab-df-convert:hover {\n",
              "      background-color: #434B5C;\n",
              "      box-shadow: 0px 1px 3px 1px rgba(0, 0, 0, 0.15);\n",
              "      filter: drop-shadow(0px 1px 2px rgba(0, 0, 0, 0.3));\n",
              "      fill: #FFFFFF;\n",
              "    }\n",
              "  </style>\n",
              "\n",
              "      <script>\n",
              "        const buttonEl =\n",
              "          document.querySelector('#df-9c5a167a-4378-4bed-b8ee-95978e44462a button.colab-df-convert');\n",
              "        buttonEl.style.display =\n",
              "          google.colab.kernel.accessAllowed ? 'block' : 'none';\n",
              "\n",
              "        async function convertToInteractive(key) {\n",
              "          const element = document.querySelector('#df-9c5a167a-4378-4bed-b8ee-95978e44462a');\n",
              "          const dataTable =\n",
              "            await google.colab.kernel.invokeFunction('convertToInteractive',\n",
              "                                                     [key], {});\n",
              "          if (!dataTable) return;\n",
              "\n",
              "          const docLinkHtml = 'Like what you see? Visit the ' +\n",
              "            '<a target=\"_blank\" href=https://colab.research.google.com/notebooks/data_table.ipynb>data table notebook</a>'\n",
              "            + ' to learn more about interactive tables.';\n",
              "          element.innerHTML = '';\n",
              "          dataTable['output_type'] = 'display_data';\n",
              "          await google.colab.output.renderOutput(dataTable, element);\n",
              "          const docLink = document.createElement('div');\n",
              "          docLink.innerHTML = docLinkHtml;\n",
              "          element.appendChild(docLink);\n",
              "        }\n",
              "      </script>\n",
              "    </div>\n",
              "  </div>\n",
              "  "
            ]
          },
          "metadata": {},
          "execution_count": 5
        }
      ]
    },
    {
      "cell_type": "markdown",
      "source": [
        "Phát biểu giả thuyết :\n",
        "\n",
        "Giả thuyết null:\n",
        "\n",
        "$$H_0 : \\text{Các nhóm được lấy từ phân phối chuẩn}$$\n",
        "\n",
        "Giả thuyết thay thế: \n",
        "\n",
        "$$H_a:\\text{Các nhóm không được lấy từ phân phối chuẩn}$$ "
      ],
      "metadata": {
        "id": "_j8D2oYal8FL"
      }
    },
    {
      "cell_type": "code",
      "source": [
        "stats, p_value = st.shapiro(df1[\"X1\"])\n",
        "print(\"p_value:\",p_value)\n",
        "if p_value < 0.05:\n",
        "  print(\"Có bằng chứng bác bỏ giả thuyết mẫu lấy từ phân phối chuẩn\")\n",
        "else:\n",
        "  print(\"Không có bằng chứng bác bỏ giả thuyết mẫu lấy từ phân phối chuẩn\")"
      ],
      "metadata": {
        "colab": {
          "base_uri": "https://localhost:8080/"
        },
        "id": "QhSYYZRUDdkz",
        "outputId": "5da6d838-c17c-4734-c474-b941bd180bfa"
      },
      "execution_count": 6,
      "outputs": [
        {
          "output_type": "stream",
          "name": "stdout",
          "text": [
            "p_value: 0.9508695602416992\n",
            "Không có bằng chứng bác bỏ giả thuyết mẫu lấy từ phân phối chuẩn\n"
          ]
        }
      ]
    },
    {
      "cell_type": "code",
      "source": [
        "stats, p_value = st.shapiro(df1[\"X2\"])\n",
        "print(\"p_value:\",p_value)\n",
        "if p_value < 0.05:\n",
        "  print(\"Có bằng chứng bác bỏ giả thuyết mẫu lấy từ phân phối chuẩn\")\n",
        "else:\n",
        "  print(\"Không có bằng chứng bác bỏ giả thuyết mẫu lấy từ phân phối chuẩn\")"
      ],
      "metadata": {
        "colab": {
          "base_uri": "https://localhost:8080/"
        },
        "id": "MeATEWlMF9OC",
        "outputId": "53aa2887-3058-4311-9289-a867df400b69"
      },
      "execution_count": 7,
      "outputs": [
        {
          "output_type": "stream",
          "name": "stdout",
          "text": [
            "p_value: 0.8324363231658936\n",
            "Không có bằng chứng bác bỏ giả thuyết mẫu lấy từ phân phối chuẩn\n"
          ]
        }
      ]
    },
    {
      "cell_type": "code",
      "source": [
        "stats, p_value = st.shapiro(df1[\"X3\"])\n",
        "print(\"p_value:\",p_value)\n",
        "if p_value < 0.05:\n",
        "  print(\"Có bằng chứng bác bỏ giả thuyết mẫu lấy từ phân phối chuẩn\")\n",
        "else:\n",
        "  print(\"Không có bằng chứng bác bỏ giả thuyết mẫu lấy từ phân phối chuẩn\")"
      ],
      "metadata": {
        "colab": {
          "base_uri": "https://localhost:8080/"
        },
        "id": "cbam9PEWF-gf",
        "outputId": "5883c30e-40c7-40d4-a968-2fe4907ec9a2"
      },
      "execution_count": 8,
      "outputs": [
        {
          "output_type": "stream",
          "name": "stdout",
          "text": [
            "p_value: 0.8603958487510681\n",
            "Không có bằng chứng bác bỏ giả thuyết mẫu lấy từ phân phối chuẩn\n"
          ]
        }
      ]
    },
    {
      "cell_type": "code",
      "source": [
        "stats, p_value = st.shapiro(df1[\"X4\"])\n",
        "print(\"p_value:\",p_value)\n",
        "if p_value < 0.05:\n",
        "  print(\"Có bằng chứng bác bỏ giả thuyết mẫu lấy từ phân phối chuẩn\")\n",
        "else:\n",
        "  print(\"Không có bằng chứng bác bỏ giả thuyết mẫu lấy từ phân phối chuẩn\")"
      ],
      "metadata": {
        "colab": {
          "base_uri": "https://localhost:8080/"
        },
        "id": "ok3axXEfF_QB",
        "outputId": "e71f91bb-62f9-4abc-bbf1-575a07a94c57"
      },
      "execution_count": 9,
      "outputs": [
        {
          "output_type": "stream",
          "name": "stdout",
          "text": [
            "p_value: 0.13579683005809784\n",
            "Không có bằng chứng bác bỏ giả thuyết mẫu lấy từ phân phối chuẩn\n"
          ]
        }
      ]
    },
    {
      "cell_type": "markdown",
      "source": [
        "**Kiểm định phương sai**"
      ],
      "metadata": {
        "id": "lkBRtzpAGWfw"
      }
    },
    {
      "cell_type": "markdown",
      "source": [
        "Phát biểu giả thuyết\n",
        "\n",
        "Giả thuyết null:\n",
        "\n",
        "$$H_0 : \\text{Các nhóm có phương sai giống nhau}$$\n",
        "\n",
        "Giả thuyết thay thế: \n",
        "\n",
        "$$H_a:\\text{Các nhóm có phương sai không giống nhau}$$ "
      ],
      "metadata": {
        "id": "n8fziOuVHA1X"
      }
    },
    {
      "cell_type": "code",
      "source": [
        "stats, p_value = st.bartlett(df1[\"X1\"], df1[\"X2\"], df1[\"X3\"], df1[\"X4\"])\n",
        "print(\"p_value:\",p_value)\n",
        "if p_value < 0.05:\n",
        "  print(\"Có bằng chứng bác bỏ giả thuyết phương sai các nhóm bằng nhau\")\n",
        "else:\n",
        "  print(\"Không có bằng chứng bác bỏ giả thuyết phương sai các nhóm bằng nhau\")"
      ],
      "metadata": {
        "colab": {
          "base_uri": "https://localhost:8080/"
        },
        "id": "Mw899Mh9HH9s",
        "outputId": "435e1b10-3fde-44e4-e03b-872dcb99b11b"
      },
      "execution_count": 10,
      "outputs": [
        {
          "output_type": "stream",
          "name": "stdout",
          "text": [
            "p_value: 0.6593319405510176\n",
            "Không có bằng chứng bác bỏ giả thuyết phương sai các nhóm bằng nhau\n"
          ]
        }
      ]
    },
    {
      "cell_type": "markdown",
      "source": [
        "**Kiểm định ANOVA**"
      ],
      "metadata": {
        "id": "0lPEFpQYHY8k"
      }
    },
    {
      "cell_type": "markdown",
      "source": [
        "Phát biểu giả thuyết\n",
        "\n",
        "Giả thuyết null:\n",
        "\n",
        "$$H_0 : \\text{Độ sâu trung bình của 4 địa điểm khai quật không có sự khác biệt}$$\n",
        "\n",
        "Giả thuyết thay thế: \n",
        "\n",
        "$$H_a:\\text{Tồn tại ít nhất sự khác biệt giữa Độ sâu trung bình của 4 địa điểm khai quật}$$"
      ],
      "metadata": {
        "id": "1xTcbK_zHfM0"
      }
    },
    {
      "cell_type": "code",
      "source": [
        "stats, p_value = st.f_oneway(df1[\"X1\"], df1[\"X2\"], df1[\"X3\"], df1[\"X4\"])\n",
        "print(\"p_value:\",p_value)\n",
        "if p_value < 0.05:\n",
        "  print(\"Có bằng chứng bác bỏ giả thuyết H0\")\n",
        "else:\n",
        "  print(\"Không có bằng chứng bác bỏ giả thuyết H0\")"
      ],
      "metadata": {
        "colab": {
          "base_uri": "https://localhost:8080/"
        },
        "id": "2fAaPDwTHw3e",
        "outputId": "b38c61d6-59a9-40b5-edff-8128d8f7aa9d"
      },
      "execution_count": 11,
      "outputs": [
        {
          "output_type": "stream",
          "name": "stdout",
          "text": [
            "p_value: 0.0002462096906673732\n",
            "Có bằng chứng bác bỏ giả thuyết H0\n"
          ]
        }
      ]
    },
    {
      "cell_type": "markdown",
      "source": [
        "Như vậy độ sâu trung bình của 4 địa điểm khai quật không có sự khác biệt\n"
      ],
      "metadata": {
        "id": "gs_HQrUzGTYb"
      }
    },
    {
      "cell_type": "markdown",
      "source": [
        "***2. Apple Orchard Experiment (Thử nghiệm Apple Orchard)***"
      ],
      "metadata": {
        "id": "hhHP8GW-IZPs"
      }
    },
    {
      "cell_type": "markdown",
      "source": [
        "Năm loại gốc rễ đã được sử dụng trong một thí nghiệm ghép vườn táo. Dữ liệu sau đây thể hiện mức tăng trưởng mở rộng (cm) sau bốn năm.\n",
        "\n",
        "X1 = tăng trưởng mở rộng cho loại I\n",
        "\n",
        "X2 = tăng trưởng mở rộng cho loại II\n",
        "\n",
        "X3 = tăng trưởng mở rộng cho loại III\n",
        "\n",
        "X4 = tăng trưởng mở rộng cho loại IV\n",
        "\n",
        "X5 = tăng trưởng mở rộng cho loại V"
      ],
      "metadata": {
        "id": "xPCQEUinIpze"
      }
    },
    {
      "cell_type": "code",
      "source": [
        "#Đọc file csv\n",
        "df2 = pd.read_csv(\"/content/drive/MyDrive/Tài liệu/owan/owan02.csv\")\n",
        "df2"
      ],
      "metadata": {
        "colab": {
          "base_uri": "https://localhost:8080/",
          "height": 300
        },
        "id": "RikPZanoIqZ4",
        "outputId": "94d56d65-34f3-41b4-bcaa-bbcb05ad9f0b"
      },
      "execution_count": 40,
      "outputs": [
        {
          "output_type": "execute_result",
          "data": {
            "text/plain": [
              "     X1    X2    X3    X4    X5\n",
              "0  2569  2074  2505  2838  1532\n",
              "1  2928  2885  2315  2351  2552\n",
              "2  2865  3378  2667  3001  3083\n",
              "3  3844  3906  2390  2439  2330\n",
              "4  3027  2782  3021  2199  2079\n",
              "5  2336  3018  3085  3318  3366\n",
              "6  3211  3383  3308  3601  2416\n",
              "7  3037  3447  3231  3291  3100"
            ],
            "text/html": [
              "\n",
              "  <div id=\"df-b327f48d-3d7d-4c22-b2c0-68f7a2353db3\">\n",
              "    <div class=\"colab-df-container\">\n",
              "      <div>\n",
              "<style scoped>\n",
              "    .dataframe tbody tr th:only-of-type {\n",
              "        vertical-align: middle;\n",
              "    }\n",
              "\n",
              "    .dataframe tbody tr th {\n",
              "        vertical-align: top;\n",
              "    }\n",
              "\n",
              "    .dataframe thead th {\n",
              "        text-align: right;\n",
              "    }\n",
              "</style>\n",
              "<table border=\"1\" class=\"dataframe\">\n",
              "  <thead>\n",
              "    <tr style=\"text-align: right;\">\n",
              "      <th></th>\n",
              "      <th>X1</th>\n",
              "      <th>X2</th>\n",
              "      <th>X3</th>\n",
              "      <th>X4</th>\n",
              "      <th>X5</th>\n",
              "    </tr>\n",
              "  </thead>\n",
              "  <tbody>\n",
              "    <tr>\n",
              "      <th>0</th>\n",
              "      <td>2569</td>\n",
              "      <td>2074</td>\n",
              "      <td>2505</td>\n",
              "      <td>2838</td>\n",
              "      <td>1532</td>\n",
              "    </tr>\n",
              "    <tr>\n",
              "      <th>1</th>\n",
              "      <td>2928</td>\n",
              "      <td>2885</td>\n",
              "      <td>2315</td>\n",
              "      <td>2351</td>\n",
              "      <td>2552</td>\n",
              "    </tr>\n",
              "    <tr>\n",
              "      <th>2</th>\n",
              "      <td>2865</td>\n",
              "      <td>3378</td>\n",
              "      <td>2667</td>\n",
              "      <td>3001</td>\n",
              "      <td>3083</td>\n",
              "    </tr>\n",
              "    <tr>\n",
              "      <th>3</th>\n",
              "      <td>3844</td>\n",
              "      <td>3906</td>\n",
              "      <td>2390</td>\n",
              "      <td>2439</td>\n",
              "      <td>2330</td>\n",
              "    </tr>\n",
              "    <tr>\n",
              "      <th>4</th>\n",
              "      <td>3027</td>\n",
              "      <td>2782</td>\n",
              "      <td>3021</td>\n",
              "      <td>2199</td>\n",
              "      <td>2079</td>\n",
              "    </tr>\n",
              "    <tr>\n",
              "      <th>5</th>\n",
              "      <td>2336</td>\n",
              "      <td>3018</td>\n",
              "      <td>3085</td>\n",
              "      <td>3318</td>\n",
              "      <td>3366</td>\n",
              "    </tr>\n",
              "    <tr>\n",
              "      <th>6</th>\n",
              "      <td>3211</td>\n",
              "      <td>3383</td>\n",
              "      <td>3308</td>\n",
              "      <td>3601</td>\n",
              "      <td>2416</td>\n",
              "    </tr>\n",
              "    <tr>\n",
              "      <th>7</th>\n",
              "      <td>3037</td>\n",
              "      <td>3447</td>\n",
              "      <td>3231</td>\n",
              "      <td>3291</td>\n",
              "      <td>3100</td>\n",
              "    </tr>\n",
              "  </tbody>\n",
              "</table>\n",
              "</div>\n",
              "      <button class=\"colab-df-convert\" onclick=\"convertToInteractive('df-b327f48d-3d7d-4c22-b2c0-68f7a2353db3')\"\n",
              "              title=\"Convert this dataframe to an interactive table.\"\n",
              "              style=\"display:none;\">\n",
              "        \n",
              "  <svg xmlns=\"http://www.w3.org/2000/svg\" height=\"24px\"viewBox=\"0 0 24 24\"\n",
              "       width=\"24px\">\n",
              "    <path d=\"M0 0h24v24H0V0z\" fill=\"none\"/>\n",
              "    <path d=\"M18.56 5.44l.94 2.06.94-2.06 2.06-.94-2.06-.94-.94-2.06-.94 2.06-2.06.94zm-11 1L8.5 8.5l.94-2.06 2.06-.94-2.06-.94L8.5 2.5l-.94 2.06-2.06.94zm10 10l.94 2.06.94-2.06 2.06-.94-2.06-.94-.94-2.06-.94 2.06-2.06.94z\"/><path d=\"M17.41 7.96l-1.37-1.37c-.4-.4-.92-.59-1.43-.59-.52 0-1.04.2-1.43.59L10.3 9.45l-7.72 7.72c-.78.78-.78 2.05 0 2.83L4 21.41c.39.39.9.59 1.41.59.51 0 1.02-.2 1.41-.59l7.78-7.78 2.81-2.81c.8-.78.8-2.07 0-2.86zM5.41 20L4 18.59l7.72-7.72 1.47 1.35L5.41 20z\"/>\n",
              "  </svg>\n",
              "      </button>\n",
              "      \n",
              "  <style>\n",
              "    .colab-df-container {\n",
              "      display:flex;\n",
              "      flex-wrap:wrap;\n",
              "      gap: 12px;\n",
              "    }\n",
              "\n",
              "    .colab-df-convert {\n",
              "      background-color: #E8F0FE;\n",
              "      border: none;\n",
              "      border-radius: 50%;\n",
              "      cursor: pointer;\n",
              "      display: none;\n",
              "      fill: #1967D2;\n",
              "      height: 32px;\n",
              "      padding: 0 0 0 0;\n",
              "      width: 32px;\n",
              "    }\n",
              "\n",
              "    .colab-df-convert:hover {\n",
              "      background-color: #E2EBFA;\n",
              "      box-shadow: 0px 1px 2px rgba(60, 64, 67, 0.3), 0px 1px 3px 1px rgba(60, 64, 67, 0.15);\n",
              "      fill: #174EA6;\n",
              "    }\n",
              "\n",
              "    [theme=dark] .colab-df-convert {\n",
              "      background-color: #3B4455;\n",
              "      fill: #D2E3FC;\n",
              "    }\n",
              "\n",
              "    [theme=dark] .colab-df-convert:hover {\n",
              "      background-color: #434B5C;\n",
              "      box-shadow: 0px 1px 3px 1px rgba(0, 0, 0, 0.15);\n",
              "      filter: drop-shadow(0px 1px 2px rgba(0, 0, 0, 0.3));\n",
              "      fill: #FFFFFF;\n",
              "    }\n",
              "  </style>\n",
              "\n",
              "      <script>\n",
              "        const buttonEl =\n",
              "          document.querySelector('#df-b327f48d-3d7d-4c22-b2c0-68f7a2353db3 button.colab-df-convert');\n",
              "        buttonEl.style.display =\n",
              "          google.colab.kernel.accessAllowed ? 'block' : 'none';\n",
              "\n",
              "        async function convertToInteractive(key) {\n",
              "          const element = document.querySelector('#df-b327f48d-3d7d-4c22-b2c0-68f7a2353db3');\n",
              "          const dataTable =\n",
              "            await google.colab.kernel.invokeFunction('convertToInteractive',\n",
              "                                                     [key], {});\n",
              "          if (!dataTable) return;\n",
              "\n",
              "          const docLinkHtml = 'Like what you see? Visit the ' +\n",
              "            '<a target=\"_blank\" href=https://colab.research.google.com/notebooks/data_table.ipynb>data table notebook</a>'\n",
              "            + ' to learn more about interactive tables.';\n",
              "          element.innerHTML = '';\n",
              "          dataTable['output_type'] = 'display_data';\n",
              "          await google.colab.output.renderOutput(dataTable, element);\n",
              "          const docLink = document.createElement('div');\n",
              "          docLink.innerHTML = docLinkHtml;\n",
              "          element.appendChild(docLink);\n",
              "        }\n",
              "      </script>\n",
              "    </div>\n",
              "  </div>\n",
              "  "
            ]
          },
          "metadata": {},
          "execution_count": 40
        }
      ]
    },
    {
      "cell_type": "markdown",
      "source": [
        "Phát biểu giả thuyết :\n",
        "\n",
        "Giả thuyết null:\n",
        "\n",
        "$$H_0 : \\text{Các nhóm được lấy từ phân phối chuẩn}$$\n",
        "\n",
        "Giả thuyết thay thế: \n",
        "\n",
        "$$H_a:\\text{Các nhóm không được lấy từ phân phối chuẩn}$$ "
      ],
      "metadata": {
        "id": "NmXbpOQQJ7fd"
      }
    },
    {
      "cell_type": "code",
      "source": [
        "stats, p_value = st.shapiro(df2[\"X1\"])\n",
        "print(\"p_value:\",p_value)\n",
        "if p_value < 0.05:\n",
        "  print(\"Có bằng chứng bác bỏ giả thuyết mẫu lấy từ phân phối chuẩn\")\n",
        "else:\n",
        "  print(\"Không có bằng chứng bác bỏ giả thuyết mẫu lấy từ phân phối chuẩn\")"
      ],
      "metadata": {
        "colab": {
          "base_uri": "https://localhost:8080/"
        },
        "id": "tigwe4kqKGxf",
        "outputId": "2dba413d-9428-45d3-fccd-c54885e184c8"
      },
      "execution_count": 13,
      "outputs": [
        {
          "output_type": "stream",
          "name": "stdout",
          "text": [
            "p_value: 0.644533634185791\n",
            "Không có bằng chứng bác bỏ giả thuyết mẫu lấy từ phân phối chuẩn\n"
          ]
        }
      ]
    },
    {
      "cell_type": "code",
      "source": [
        "stats, p_value = st.shapiro(df2[\"X2\"])\n",
        "print(\"p_value:\",p_value)\n",
        "if p_value < 0.05:\n",
        "  print(\"Có bằng chứng bác bỏ giả thuyết mẫu lấy từ phân phối chuẩn\")\n",
        "else:\n",
        "  print(\"Không có bằng chứng bác bỏ giả thuyết mẫu lấy từ phân phối chuẩn\")"
      ],
      "metadata": {
        "colab": {
          "base_uri": "https://localhost:8080/"
        },
        "id": "n9sErW4sKP4D",
        "outputId": "471202f5-b421-47aa-99ee-093c9e48a9fe"
      },
      "execution_count": 14,
      "outputs": [
        {
          "output_type": "stream",
          "name": "stdout",
          "text": [
            "p_value: 0.7472830414772034\n",
            "Không có bằng chứng bác bỏ giả thuyết mẫu lấy từ phân phối chuẩn\n"
          ]
        }
      ]
    },
    {
      "cell_type": "code",
      "source": [
        "stats, p_value = st.shapiro(df2[\"X3\"])\n",
        "print(\"p_value:\",p_value)\n",
        "if p_value < 0.05:\n",
        "  print(\"Có bằng chứng bác bỏ giả thuyết mẫu lấy từ phân phối chuẩn\")\n",
        "else:\n",
        "  print(\"Không có bằng chứng bác bỏ giả thuyết mẫu lấy từ phân phối chuẩn\")"
      ],
      "metadata": {
        "colab": {
          "base_uri": "https://localhost:8080/"
        },
        "id": "hRKyp4F8KRxX",
        "outputId": "ff7b1d3e-6e1b-4e29-de9f-550fd42f20e7"
      },
      "execution_count": 15,
      "outputs": [
        {
          "output_type": "stream",
          "name": "stdout",
          "text": [
            "p_value: 0.3169650137424469\n",
            "Không có bằng chứng bác bỏ giả thuyết mẫu lấy từ phân phối chuẩn\n"
          ]
        }
      ]
    },
    {
      "cell_type": "code",
      "source": [
        "stats, p_value = st.shapiro(df2[\"X4\"])\n",
        "print(\"p_value:\",p_value)\n",
        "if p_value < 0.05:\n",
        "  print(\"Có bằng chứng bác bỏ giả thuyết mẫu lấy từ phân phối chuẩn\")\n",
        "else:\n",
        "  print(\"Không có bằng chứng bác bỏ giả thuyết mẫu lấy từ phân phối chuẩn\")"
      ],
      "metadata": {
        "colab": {
          "base_uri": "https://localhost:8080/"
        },
        "id": "vxWTBWo3KU3k",
        "outputId": "8986baa8-1bf3-4a5e-f102-32f2436b978d"
      },
      "execution_count": 16,
      "outputs": [
        {
          "output_type": "stream",
          "name": "stdout",
          "text": [
            "p_value: 0.5994704365730286\n",
            "Không có bằng chứng bác bỏ giả thuyết mẫu lấy từ phân phối chuẩn\n"
          ]
        }
      ]
    },
    {
      "cell_type": "code",
      "source": [
        "stats, p_value = st.shapiro(df2[\"X5\"])\n",
        "print(\"p_value:\",p_value)\n",
        "if p_value < 0.05:\n",
        "  print(\"Có bằng chứng bác bỏ giả thuyết mẫu lấy từ phân phối chuẩn\")\n",
        "else:\n",
        "  print(\"Không có bằng chứng bác bỏ giả thuyết mẫu lấy từ phân phối chuẩn\")"
      ],
      "metadata": {
        "colab": {
          "base_uri": "https://localhost:8080/"
        },
        "id": "oOlWQMTZKWl7",
        "outputId": "2590343a-c820-46aa-d4cd-8c2b20d4e6c7"
      },
      "execution_count": 17,
      "outputs": [
        {
          "output_type": "stream",
          "name": "stdout",
          "text": [
            "p_value: 0.803491473197937\n",
            "Không có bằng chứng bác bỏ giả thuyết mẫu lấy từ phân phối chuẩn\n"
          ]
        }
      ]
    },
    {
      "cell_type": "markdown",
      "source": [
        "**Kiểm định phương sai**\n",
        "\n",
        "Phát biểu giả thuyết\n",
        "\n",
        "Giả thuyết null:\n",
        "\n",
        "$$H_0 : \\text{Các nhóm có phương sai giống nhau}$$\n",
        "\n",
        "Giả thuyết thay thế: \n",
        "\n",
        "$$H_a:\\text{Các nhóm có phương sai không giống nhau}$$ "
      ],
      "metadata": {
        "id": "5w3qg5A7KGO_"
      }
    },
    {
      "cell_type": "code",
      "source": [
        "stats, p_value = st.bartlett(df2[\"X1\"], df2[\"X2\"], df2[\"X3\"], df2[\"X4\"], df2[\"X5\"])\n",
        "print(\"p_value:\",p_value)\n",
        "if p_value < 0.05:\n",
        "  print(\"Có bằng chứng bác bỏ giả thuyết phương sai các nhóm bằng nhau\")\n",
        "else:\n",
        "  print(\"Không có bằng chứng bác bỏ giả thuyết phương sai các nhóm bằng nhau\")\n"
      ],
      "metadata": {
        "colab": {
          "base_uri": "https://localhost:8080/"
        },
        "id": "4jtUnkzcZ2OA",
        "outputId": "4c435c00-9d94-4734-b43d-fe370a805601"
      },
      "execution_count": 18,
      "outputs": [
        {
          "output_type": "stream",
          "name": "stdout",
          "text": [
            "p_value: 0.825688088344803\n",
            "Không có bằng chứng bác bỏ giả thuyết phương sai các nhóm bằng nhau\n"
          ]
        }
      ]
    },
    {
      "cell_type": "markdown",
      "source": [
        "**Kiểm định ANOVA**\n",
        "\n",
        "Phát biểu giả thuyết\n",
        "\n",
        "Giả thuyết null:\n",
        "\n",
        "$$H_0 : \\text{Mức tăng trưởng mở rộng sau 4 năm của các loại không có sự khác nhau}$$\n",
        "\n",
        "Giả thuyết thay thế: \n",
        "\n",
        "$$H_a:\\text{Tồn tại ít nhất một loại có mức tăng trưởng mở rộng sau 4 năm khác các loại còn lại}$$\n"
      ],
      "metadata": {
        "id": "pIJuA04sE-9E"
      }
    },
    {
      "cell_type": "code",
      "source": [
        "stats, p_value = st.f_oneway(df2[\"X1\"], df2[\"X2\"], df2[\"X3\"], df2[\"X4\"], df2[\"X5\"])\n",
        "print(\"p_value:\",p_value)\n",
        "if p_value < 0.05:\n",
        "  print(\"Có bằng chứng bác bỏ giả thuyết H0\")\n",
        "else:\n",
        "  print(\"Không có bằng chứng bác bỏ giả thuyết H0\")"
      ],
      "metadata": {
        "colab": {
          "base_uri": "https://localhost:8080/"
        },
        "id": "AeheSeTXF7WF",
        "outputId": "c73d0c1e-76d8-4b01-e0ee-b02654573e20"
      },
      "execution_count": 19,
      "outputs": [
        {
          "output_type": "stream",
          "name": "stdout",
          "text": [
            "p_value: 0.28382583646160114\n",
            "Không có bằng chứng bác bỏ giả thuyết H0\n"
          ]
        }
      ]
    },
    {
      "cell_type": "markdown",
      "source": [
        "Như vậy mức tăng trưởng mở rông sau 4 năm của các loại không có sự khác biệt\n"
      ],
      "metadata": {
        "id": "qRi6KbomGJT3"
      }
    },
    {
      "cell_type": "markdown",
      "source": [
        "***3. Red Dye Number 40 (Thuốc nhuộm đỏ số 40)***"
      ],
      "metadata": {
        "id": "gykrRSniGeqh"
      }
    },
    {
      "cell_type": "markdown",
      "source": [
        "S.W. Laagakos và F. Mosteller của Đại học Harvard cho chuột ăn các liều thuốc nhuộm đỏ số 40 khác nhau và ghi lại thời gian chết trong nhiều tuần. Kết quả đối với chuột cái, liều lượng và thời gian chết được hiển thị trong dữ liệu\n",
        "\n",
        "X1 = thời gian chết cho nhóm kiểm soát\n",
        "\n",
        "X2 = thời gian tử vong của nhóm sử dụng liều lượng thấp\n",
        "\n",
        "X3 = thời gian tử vong của nhóm sử dụng liều lượng trung bình\n",
        "\n",
        "X4 = thời gian tử vong của nhóm sử dụng liều lượng cao"
      ],
      "metadata": {
        "id": "BRzV3DxMGkSM"
      }
    },
    {
      "cell_type": "code",
      "source": [
        "#Đọc file csv\n",
        "df3 = pd.read_csv(\"/content/drive/MyDrive/Tài liệu/owan/owan03.csv\")\n",
        "df3"
      ],
      "metadata": {
        "colab": {
          "base_uri": "https://localhost:8080/",
          "height": 394
        },
        "id": "uA2r4QjFHDv6",
        "outputId": "15e82c89-13cf-446a-95f8-dc964612dc91"
      },
      "execution_count": 41,
      "outputs": [
        {
          "output_type": "execute_result",
          "data": {
            "text/plain": [
              "     X1    X2    X3     X4\n",
              "0    70  49.0  30.0   34.0\n",
              "1    77  60.0  37.0   36.0\n",
              "2    83  63.0  56.0   48.0\n",
              "3    87  67.0  65.0   48.0\n",
              "4    92  70.0  76.0   65.0\n",
              "5    93  74.0  83.0   91.0\n",
              "6   100  77.0  87.0   98.0\n",
              "7   102  80.0  90.0  102.0\n",
              "8   102  89.0  94.0    NaN\n",
              "9   103   NaN  97.0    NaN\n",
              "10   96   NaN   NaN    NaN"
            ],
            "text/html": [
              "\n",
              "  <div id=\"df-4cc470b4-cfb8-489e-ba16-f7b368bee8df\">\n",
              "    <div class=\"colab-df-container\">\n",
              "      <div>\n",
              "<style scoped>\n",
              "    .dataframe tbody tr th:only-of-type {\n",
              "        vertical-align: middle;\n",
              "    }\n",
              "\n",
              "    .dataframe tbody tr th {\n",
              "        vertical-align: top;\n",
              "    }\n",
              "\n",
              "    .dataframe thead th {\n",
              "        text-align: right;\n",
              "    }\n",
              "</style>\n",
              "<table border=\"1\" class=\"dataframe\">\n",
              "  <thead>\n",
              "    <tr style=\"text-align: right;\">\n",
              "      <th></th>\n",
              "      <th>X1</th>\n",
              "      <th>X2</th>\n",
              "      <th>X3</th>\n",
              "      <th>X4</th>\n",
              "    </tr>\n",
              "  </thead>\n",
              "  <tbody>\n",
              "    <tr>\n",
              "      <th>0</th>\n",
              "      <td>70</td>\n",
              "      <td>49.0</td>\n",
              "      <td>30.0</td>\n",
              "      <td>34.0</td>\n",
              "    </tr>\n",
              "    <tr>\n",
              "      <th>1</th>\n",
              "      <td>77</td>\n",
              "      <td>60.0</td>\n",
              "      <td>37.0</td>\n",
              "      <td>36.0</td>\n",
              "    </tr>\n",
              "    <tr>\n",
              "      <th>2</th>\n",
              "      <td>83</td>\n",
              "      <td>63.0</td>\n",
              "      <td>56.0</td>\n",
              "      <td>48.0</td>\n",
              "    </tr>\n",
              "    <tr>\n",
              "      <th>3</th>\n",
              "      <td>87</td>\n",
              "      <td>67.0</td>\n",
              "      <td>65.0</td>\n",
              "      <td>48.0</td>\n",
              "    </tr>\n",
              "    <tr>\n",
              "      <th>4</th>\n",
              "      <td>92</td>\n",
              "      <td>70.0</td>\n",
              "      <td>76.0</td>\n",
              "      <td>65.0</td>\n",
              "    </tr>\n",
              "    <tr>\n",
              "      <th>5</th>\n",
              "      <td>93</td>\n",
              "      <td>74.0</td>\n",
              "      <td>83.0</td>\n",
              "      <td>91.0</td>\n",
              "    </tr>\n",
              "    <tr>\n",
              "      <th>6</th>\n",
              "      <td>100</td>\n",
              "      <td>77.0</td>\n",
              "      <td>87.0</td>\n",
              "      <td>98.0</td>\n",
              "    </tr>\n",
              "    <tr>\n",
              "      <th>7</th>\n",
              "      <td>102</td>\n",
              "      <td>80.0</td>\n",
              "      <td>90.0</td>\n",
              "      <td>102.0</td>\n",
              "    </tr>\n",
              "    <tr>\n",
              "      <th>8</th>\n",
              "      <td>102</td>\n",
              "      <td>89.0</td>\n",
              "      <td>94.0</td>\n",
              "      <td>NaN</td>\n",
              "    </tr>\n",
              "    <tr>\n",
              "      <th>9</th>\n",
              "      <td>103</td>\n",
              "      <td>NaN</td>\n",
              "      <td>97.0</td>\n",
              "      <td>NaN</td>\n",
              "    </tr>\n",
              "    <tr>\n",
              "      <th>10</th>\n",
              "      <td>96</td>\n",
              "      <td>NaN</td>\n",
              "      <td>NaN</td>\n",
              "      <td>NaN</td>\n",
              "    </tr>\n",
              "  </tbody>\n",
              "</table>\n",
              "</div>\n",
              "      <button class=\"colab-df-convert\" onclick=\"convertToInteractive('df-4cc470b4-cfb8-489e-ba16-f7b368bee8df')\"\n",
              "              title=\"Convert this dataframe to an interactive table.\"\n",
              "              style=\"display:none;\">\n",
              "        \n",
              "  <svg xmlns=\"http://www.w3.org/2000/svg\" height=\"24px\"viewBox=\"0 0 24 24\"\n",
              "       width=\"24px\">\n",
              "    <path d=\"M0 0h24v24H0V0z\" fill=\"none\"/>\n",
              "    <path d=\"M18.56 5.44l.94 2.06.94-2.06 2.06-.94-2.06-.94-.94-2.06-.94 2.06-2.06.94zm-11 1L8.5 8.5l.94-2.06 2.06-.94-2.06-.94L8.5 2.5l-.94 2.06-2.06.94zm10 10l.94 2.06.94-2.06 2.06-.94-2.06-.94-.94-2.06-.94 2.06-2.06.94z\"/><path d=\"M17.41 7.96l-1.37-1.37c-.4-.4-.92-.59-1.43-.59-.52 0-1.04.2-1.43.59L10.3 9.45l-7.72 7.72c-.78.78-.78 2.05 0 2.83L4 21.41c.39.39.9.59 1.41.59.51 0 1.02-.2 1.41-.59l7.78-7.78 2.81-2.81c.8-.78.8-2.07 0-2.86zM5.41 20L4 18.59l7.72-7.72 1.47 1.35L5.41 20z\"/>\n",
              "  </svg>\n",
              "      </button>\n",
              "      \n",
              "  <style>\n",
              "    .colab-df-container {\n",
              "      display:flex;\n",
              "      flex-wrap:wrap;\n",
              "      gap: 12px;\n",
              "    }\n",
              "\n",
              "    .colab-df-convert {\n",
              "      background-color: #E8F0FE;\n",
              "      border: none;\n",
              "      border-radius: 50%;\n",
              "      cursor: pointer;\n",
              "      display: none;\n",
              "      fill: #1967D2;\n",
              "      height: 32px;\n",
              "      padding: 0 0 0 0;\n",
              "      width: 32px;\n",
              "    }\n",
              "\n",
              "    .colab-df-convert:hover {\n",
              "      background-color: #E2EBFA;\n",
              "      box-shadow: 0px 1px 2px rgba(60, 64, 67, 0.3), 0px 1px 3px 1px rgba(60, 64, 67, 0.15);\n",
              "      fill: #174EA6;\n",
              "    }\n",
              "\n",
              "    [theme=dark] .colab-df-convert {\n",
              "      background-color: #3B4455;\n",
              "      fill: #D2E3FC;\n",
              "    }\n",
              "\n",
              "    [theme=dark] .colab-df-convert:hover {\n",
              "      background-color: #434B5C;\n",
              "      box-shadow: 0px 1px 3px 1px rgba(0, 0, 0, 0.15);\n",
              "      filter: drop-shadow(0px 1px 2px rgba(0, 0, 0, 0.3));\n",
              "      fill: #FFFFFF;\n",
              "    }\n",
              "  </style>\n",
              "\n",
              "      <script>\n",
              "        const buttonEl =\n",
              "          document.querySelector('#df-4cc470b4-cfb8-489e-ba16-f7b368bee8df button.colab-df-convert');\n",
              "        buttonEl.style.display =\n",
              "          google.colab.kernel.accessAllowed ? 'block' : 'none';\n",
              "\n",
              "        async function convertToInteractive(key) {\n",
              "          const element = document.querySelector('#df-4cc470b4-cfb8-489e-ba16-f7b368bee8df');\n",
              "          const dataTable =\n",
              "            await google.colab.kernel.invokeFunction('convertToInteractive',\n",
              "                                                     [key], {});\n",
              "          if (!dataTable) return;\n",
              "\n",
              "          const docLinkHtml = 'Like what you see? Visit the ' +\n",
              "            '<a target=\"_blank\" href=https://colab.research.google.com/notebooks/data_table.ipynb>data table notebook</a>'\n",
              "            + ' to learn more about interactive tables.';\n",
              "          element.innerHTML = '';\n",
              "          dataTable['output_type'] = 'display_data';\n",
              "          await google.colab.output.renderOutput(dataTable, element);\n",
              "          const docLink = document.createElement('div');\n",
              "          docLink.innerHTML = docLinkHtml;\n",
              "          element.appendChild(docLink);\n",
              "        }\n",
              "      </script>\n",
              "    </div>\n",
              "  </div>\n",
              "  "
            ]
          },
          "metadata": {},
          "execution_count": 41
        }
      ]
    },
    {
      "cell_type": "code",
      "source": [
        "#loại bỏ các giá trị NaN\n",
        "df3 = df3.dropna()\n",
        "df3"
      ],
      "metadata": {
        "colab": {
          "base_uri": "https://localhost:8080/",
          "height": 300
        },
        "id": "6GqIRqc0I0gn",
        "outputId": "fd8d1fca-3c19-41fd-ed49-d0773d3c27cc"
      },
      "execution_count": 24,
      "outputs": [
        {
          "output_type": "execute_result",
          "data": {
            "text/plain": [
              "    X1    X2    X3     X4\n",
              "0   70  49.0  30.0   34.0\n",
              "1   77  60.0  37.0   36.0\n",
              "2   83  63.0  56.0   48.0\n",
              "3   87  67.0  65.0   48.0\n",
              "4   92  70.0  76.0   65.0\n",
              "5   93  74.0  83.0   91.0\n",
              "6  100  77.0  87.0   98.0\n",
              "7  102  80.0  90.0  102.0"
            ],
            "text/html": [
              "\n",
              "  <div id=\"df-ccb7d76c-728d-4876-990f-d02e8ea05872\">\n",
              "    <div class=\"colab-df-container\">\n",
              "      <div>\n",
              "<style scoped>\n",
              "    .dataframe tbody tr th:only-of-type {\n",
              "        vertical-align: middle;\n",
              "    }\n",
              "\n",
              "    .dataframe tbody tr th {\n",
              "        vertical-align: top;\n",
              "    }\n",
              "\n",
              "    .dataframe thead th {\n",
              "        text-align: right;\n",
              "    }\n",
              "</style>\n",
              "<table border=\"1\" class=\"dataframe\">\n",
              "  <thead>\n",
              "    <tr style=\"text-align: right;\">\n",
              "      <th></th>\n",
              "      <th>X1</th>\n",
              "      <th>X2</th>\n",
              "      <th>X3</th>\n",
              "      <th>X4</th>\n",
              "    </tr>\n",
              "  </thead>\n",
              "  <tbody>\n",
              "    <tr>\n",
              "      <th>0</th>\n",
              "      <td>70</td>\n",
              "      <td>49.0</td>\n",
              "      <td>30.0</td>\n",
              "      <td>34.0</td>\n",
              "    </tr>\n",
              "    <tr>\n",
              "      <th>1</th>\n",
              "      <td>77</td>\n",
              "      <td>60.0</td>\n",
              "      <td>37.0</td>\n",
              "      <td>36.0</td>\n",
              "    </tr>\n",
              "    <tr>\n",
              "      <th>2</th>\n",
              "      <td>83</td>\n",
              "      <td>63.0</td>\n",
              "      <td>56.0</td>\n",
              "      <td>48.0</td>\n",
              "    </tr>\n",
              "    <tr>\n",
              "      <th>3</th>\n",
              "      <td>87</td>\n",
              "      <td>67.0</td>\n",
              "      <td>65.0</td>\n",
              "      <td>48.0</td>\n",
              "    </tr>\n",
              "    <tr>\n",
              "      <th>4</th>\n",
              "      <td>92</td>\n",
              "      <td>70.0</td>\n",
              "      <td>76.0</td>\n",
              "      <td>65.0</td>\n",
              "    </tr>\n",
              "    <tr>\n",
              "      <th>5</th>\n",
              "      <td>93</td>\n",
              "      <td>74.0</td>\n",
              "      <td>83.0</td>\n",
              "      <td>91.0</td>\n",
              "    </tr>\n",
              "    <tr>\n",
              "      <th>6</th>\n",
              "      <td>100</td>\n",
              "      <td>77.0</td>\n",
              "      <td>87.0</td>\n",
              "      <td>98.0</td>\n",
              "    </tr>\n",
              "    <tr>\n",
              "      <th>7</th>\n",
              "      <td>102</td>\n",
              "      <td>80.0</td>\n",
              "      <td>90.0</td>\n",
              "      <td>102.0</td>\n",
              "    </tr>\n",
              "  </tbody>\n",
              "</table>\n",
              "</div>\n",
              "      <button class=\"colab-df-convert\" onclick=\"convertToInteractive('df-ccb7d76c-728d-4876-990f-d02e8ea05872')\"\n",
              "              title=\"Convert this dataframe to an interactive table.\"\n",
              "              style=\"display:none;\">\n",
              "        \n",
              "  <svg xmlns=\"http://www.w3.org/2000/svg\" height=\"24px\"viewBox=\"0 0 24 24\"\n",
              "       width=\"24px\">\n",
              "    <path d=\"M0 0h24v24H0V0z\" fill=\"none\"/>\n",
              "    <path d=\"M18.56 5.44l.94 2.06.94-2.06 2.06-.94-2.06-.94-.94-2.06-.94 2.06-2.06.94zm-11 1L8.5 8.5l.94-2.06 2.06-.94-2.06-.94L8.5 2.5l-.94 2.06-2.06.94zm10 10l.94 2.06.94-2.06 2.06-.94-2.06-.94-.94-2.06-.94 2.06-2.06.94z\"/><path d=\"M17.41 7.96l-1.37-1.37c-.4-.4-.92-.59-1.43-.59-.52 0-1.04.2-1.43.59L10.3 9.45l-7.72 7.72c-.78.78-.78 2.05 0 2.83L4 21.41c.39.39.9.59 1.41.59.51 0 1.02-.2 1.41-.59l7.78-7.78 2.81-2.81c.8-.78.8-2.07 0-2.86zM5.41 20L4 18.59l7.72-7.72 1.47 1.35L5.41 20z\"/>\n",
              "  </svg>\n",
              "      </button>\n",
              "      \n",
              "  <style>\n",
              "    .colab-df-container {\n",
              "      display:flex;\n",
              "      flex-wrap:wrap;\n",
              "      gap: 12px;\n",
              "    }\n",
              "\n",
              "    .colab-df-convert {\n",
              "      background-color: #E8F0FE;\n",
              "      border: none;\n",
              "      border-radius: 50%;\n",
              "      cursor: pointer;\n",
              "      display: none;\n",
              "      fill: #1967D2;\n",
              "      height: 32px;\n",
              "      padding: 0 0 0 0;\n",
              "      width: 32px;\n",
              "    }\n",
              "\n",
              "    .colab-df-convert:hover {\n",
              "      background-color: #E2EBFA;\n",
              "      box-shadow: 0px 1px 2px rgba(60, 64, 67, 0.3), 0px 1px 3px 1px rgba(60, 64, 67, 0.15);\n",
              "      fill: #174EA6;\n",
              "    }\n",
              "\n",
              "    [theme=dark] .colab-df-convert {\n",
              "      background-color: #3B4455;\n",
              "      fill: #D2E3FC;\n",
              "    }\n",
              "\n",
              "    [theme=dark] .colab-df-convert:hover {\n",
              "      background-color: #434B5C;\n",
              "      box-shadow: 0px 1px 3px 1px rgba(0, 0, 0, 0.15);\n",
              "      filter: drop-shadow(0px 1px 2px rgba(0, 0, 0, 0.3));\n",
              "      fill: #FFFFFF;\n",
              "    }\n",
              "  </style>\n",
              "\n",
              "      <script>\n",
              "        const buttonEl =\n",
              "          document.querySelector('#df-ccb7d76c-728d-4876-990f-d02e8ea05872 button.colab-df-convert');\n",
              "        buttonEl.style.display =\n",
              "          google.colab.kernel.accessAllowed ? 'block' : 'none';\n",
              "\n",
              "        async function convertToInteractive(key) {\n",
              "          const element = document.querySelector('#df-ccb7d76c-728d-4876-990f-d02e8ea05872');\n",
              "          const dataTable =\n",
              "            await google.colab.kernel.invokeFunction('convertToInteractive',\n",
              "                                                     [key], {});\n",
              "          if (!dataTable) return;\n",
              "\n",
              "          const docLinkHtml = 'Like what you see? Visit the ' +\n",
              "            '<a target=\"_blank\" href=https://colab.research.google.com/notebooks/data_table.ipynb>data table notebook</a>'\n",
              "            + ' to learn more about interactive tables.';\n",
              "          element.innerHTML = '';\n",
              "          dataTable['output_type'] = 'display_data';\n",
              "          await google.colab.output.renderOutput(dataTable, element);\n",
              "          const docLink = document.createElement('div');\n",
              "          docLink.innerHTML = docLinkHtml;\n",
              "          element.appendChild(docLink);\n",
              "        }\n",
              "      </script>\n",
              "    </div>\n",
              "  </div>\n",
              "  "
            ]
          },
          "metadata": {},
          "execution_count": 24
        }
      ]
    },
    {
      "cell_type": "markdown",
      "source": [
        "\n",
        "Phát biểu giả thuyết :\n",
        "\n",
        "Giả thuyết null:\n",
        "\n",
        "$$H_0 : \\text{Các nhóm được lấy từ phân phối chuẩn}$$\n",
        "\n",
        "Giả thuyết thay thế:\n",
        "$$H_a : \\text{Các nhóm không được lấy từ phân phối chuẩn}$$"
      ],
      "metadata": {
        "id": "cIEy5oXlJH0V"
      }
    },
    {
      "cell_type": "code",
      "source": [
        "stats, p_value = st.shapiro(df3[\"X1\"])\n",
        "print(\"p_value:\",p_value)\n",
        "if p_value < 0.05:\n",
        "  print(\"Có bằng chứng bác bỏ giả thuyết mẫu lấy từ phân phối chuẩn\")\n",
        "else:\n",
        "  print(\"Không có bằng chứng bác bỏ giả thuyết mẫu lấy từ phân phối chuẩn\")"
      ],
      "metadata": {
        "colab": {
          "base_uri": "https://localhost:8080/"
        },
        "id": "mhH_7R32Jb5V",
        "outputId": "e0a9ad7a-1a3a-4e52-8e94-cd48d37fa1db"
      },
      "execution_count": 29,
      "outputs": [
        {
          "output_type": "stream",
          "name": "stdout",
          "text": [
            "p_value: 0.8542101979255676\n",
            "Không có bằng chứng bác bỏ giả thuyết mẫu lấy từ phân phối chuẩn\n"
          ]
        }
      ]
    },
    {
      "cell_type": "code",
      "source": [
        "stats, p_value = st.shapiro(df3[\"X2\"])\n",
        "print(\"p_value:\", p_value)\n",
        "if p_value < 0.05:\n",
        "  print(\"Có chứng cứ bác bỏ giả thuyết mẫu lấy từ phân phối chuẩn\")\n",
        "else:\n",
        "  print(\"Không có bằng chứng bác bỏ giả thuyết mẫu lấy từ phân phối chuẩn\")"
      ],
      "metadata": {
        "colab": {
          "base_uri": "https://localhost:8080/"
        },
        "id": "4efPFIYgJi4E",
        "outputId": "e56c20fa-3005-4ed9-e68d-ee0cb7b48973"
      },
      "execution_count": 28,
      "outputs": [
        {
          "output_type": "stream",
          "name": "stdout",
          "text": [
            "p_value: 0.8434385061264038\n",
            "Không có bằng chứng bác bỏ giả thuyết mẫu lấy từ phân phối chuẩn\n"
          ]
        }
      ]
    },
    {
      "cell_type": "code",
      "source": [
        "stats, p_value = st.shapiro(df3[\"X3\"])\n",
        "print(\"p_value:\", p_value)\n",
        "if p_value < 0.05:\n",
        "  print(\"Có bằng chứng bác bỏ giả thuyết mẫu lấy từ phân phối chuẩn\")\n",
        "else:\n",
        "  print(\"Không có bằng chứng bác bỏ giả thuyết mẫu lấy từ phân phối chuẩn\")"
      ],
      "metadata": {
        "colab": {
          "base_uri": "https://localhost:8080/"
        },
        "id": "ilsC8xqtKSTH",
        "outputId": "3d69342b-f775-4028-d08d-9e5390f28f60"
      },
      "execution_count": 27,
      "outputs": [
        {
          "output_type": "stream",
          "name": "stdout",
          "text": [
            "p_value: 0.3321065306663513\n",
            "Không có bằng chứng bác bỏ giả thuyết mẫu lấy từ phân phối chuẩn\n"
          ]
        }
      ]
    },
    {
      "cell_type": "code",
      "source": [
        "stats, p_value = st.shapiro(df3[\"X4\"])\n",
        "print(\"p_value:\", p_value)\n",
        "if p_value < 0.05:\n",
        "  print(\"Có bằng chứng bác bỏ giả thuyết mẫu lấy từ phân phối chuẩn\")\n",
        "else:\n",
        "  print(\"Không có bằng chứng bác bỏ giả thuyết mẫu lấy từ phân phối chuẩn\")"
      ],
      "metadata": {
        "colab": {
          "base_uri": "https://localhost:8080/"
        },
        "id": "Mq0GQqp_LDaN",
        "outputId": "637b8181-8f88-47cb-dd5d-713bc8fef3db"
      },
      "execution_count": 26,
      "outputs": [
        {
          "output_type": "stream",
          "name": "stdout",
          "text": [
            "p_value: 0.14956821501255035\n",
            "Không có bằng chứng bác bỏ giả thuyết mẫu lấy từ phân phối chuẩn\n"
          ]
        }
      ]
    },
    {
      "cell_type": "markdown",
      "source": [
        "**Kiểm định phương sai**\n",
        "\n",
        "Phát biểu giả thuyết\n",
        "\n",
        "Giả thuyết null:\n",
        "\n",
        "$$H_0 : \\text{Các nhóm có phương sai giống nhau}$$\n",
        "\n",
        "Giả thuyết thay thế: \n",
        "\n",
        "$$H_a:\\text{Các nhóm có phương sai không giống nhau}$$ "
      ],
      "metadata": {
        "id": "hqE3W1JgMZft"
      }
    },
    {
      "cell_type": "code",
      "source": [
        "stats, p_value = st.bartlett(df3[\"X1\"], df3[\"X2\"], df3[\"X3\"], df3[\"X4\"])\n",
        "print(\"p_value:\",p_value)\n",
        "if p_value < 0.05:\n",
        "  print(\"Có bằng chứng bác bỏ giả thuyết phương sai các nhóm bằng nhau\")\n",
        "else:\n",
        "  print(\"Không có bằng chứng bác bỏ giả thuyết phương sai các nhóm bằng nhau\")"
      ],
      "metadata": {
        "colab": {
          "base_uri": "https://localhost:8080/"
        },
        "id": "M725UfUoNEvY",
        "outputId": "05bc9db0-640e-4ac8-e7fb-be742b1b7ddb"
      },
      "execution_count": 30,
      "outputs": [
        {
          "output_type": "stream",
          "name": "stdout",
          "text": [
            "p_value: 0.023106804849423433\n",
            "Có bằng chứng bác bỏ giả thuyết phương sai các nhóm bằng nhau\n"
          ]
        }
      ]
    },
    {
      "cell_type": "markdown",
      "source": [
        "**Như vậy không thể tiến hành phân tích ANOVA 1 chiều với dữ liệu vì phương sai giữa các nhóm khác nhau**"
      ],
      "metadata": {
        "id": "E_0kpmZuNhju"
      }
    },
    {
      "cell_type": "markdown",
      "source": [
        "***4. Business Startup Costs (Chi phí khởi nghiệp kinh doanh)***"
      ],
      "metadata": {
        "id": "WvZtMhTHNyNq"
      }
    },
    {
      "cell_type": "markdown",
      "source": [
        "Dữ liệu sau thể hiện chi phí khởi động kinh doanh (hàng nghìn đô la) cho các cửa hàng.\n",
        "\n",
        "X1 = chi phí khởi động cho bánh pizza\n",
        "\n",
        "X2 = chi phí khởi động cho thợ làm bánh / bánh rán\n",
        "\n",
        "X3 = chi phí khởi động cho các cửa hàng giày\n",
        "\n",
        "X4 = chi phí khởi động cho các cửa hàng quà tặng\n",
        "\n",
        "X5 = chi phí khởi động cho các cửa hàng thú cưng"
      ],
      "metadata": {
        "id": "4Cfd9xaBOwgE"
      }
    },
    {
      "cell_type": "code",
      "source": [
        "#đọc file csv\n",
        "df4 = pd.read_csv(\"/content/drive/MyDrive/Tài liệu/owan/owan04.csv\")\n",
        "df4"
      ],
      "metadata": {
        "colab": {
          "base_uri": "https://localhost:8080/",
          "height": 551
        },
        "id": "VCs5FU6ONw2S",
        "outputId": "2661f735-354e-42a8-cdc7-75c6ae2effb6"
      },
      "execution_count": 42,
      "outputs": [
        {
          "output_type": "execute_result",
          "data": {
            "text/plain": [
              "       X1     X2     X3     X4   X5\n",
              "0    80.0  150.0   48.0  100.0   25\n",
              "1   125.0   40.0   35.0   96.0   80\n",
              "2    35.0  120.0   95.0   35.0   30\n",
              "3    58.0   75.0   45.0   99.0   35\n",
              "4   110.0  160.0   75.0   75.0   30\n",
              "5   140.0   60.0  115.0  150.0   28\n",
              "6    97.0   45.0   42.0   45.0   20\n",
              "7    50.0  100.0   78.0  100.0   75\n",
              "8    65.0   86.0   65.0  120.0   48\n",
              "9    79.0   87.0  125.0   50.0   20\n",
              "10   35.0   90.0    NaN    NaN   50\n",
              "11   85.0    NaN    NaN    NaN   75\n",
              "12  120.0    NaN    NaN    NaN   55\n",
              "13    NaN    NaN    NaN    NaN   60\n",
              "14    NaN    NaN    NaN    NaN   85\n",
              "15    NaN    NaN    NaN    NaN  110"
            ],
            "text/html": [
              "\n",
              "  <div id=\"df-9ba12956-6810-42c5-bbdd-efa33b7d36ef\">\n",
              "    <div class=\"colab-df-container\">\n",
              "      <div>\n",
              "<style scoped>\n",
              "    .dataframe tbody tr th:only-of-type {\n",
              "        vertical-align: middle;\n",
              "    }\n",
              "\n",
              "    .dataframe tbody tr th {\n",
              "        vertical-align: top;\n",
              "    }\n",
              "\n",
              "    .dataframe thead th {\n",
              "        text-align: right;\n",
              "    }\n",
              "</style>\n",
              "<table border=\"1\" class=\"dataframe\">\n",
              "  <thead>\n",
              "    <tr style=\"text-align: right;\">\n",
              "      <th></th>\n",
              "      <th>X1</th>\n",
              "      <th>X2</th>\n",
              "      <th>X3</th>\n",
              "      <th>X4</th>\n",
              "      <th>X5</th>\n",
              "    </tr>\n",
              "  </thead>\n",
              "  <tbody>\n",
              "    <tr>\n",
              "      <th>0</th>\n",
              "      <td>80.0</td>\n",
              "      <td>150.0</td>\n",
              "      <td>48.0</td>\n",
              "      <td>100.0</td>\n",
              "      <td>25</td>\n",
              "    </tr>\n",
              "    <tr>\n",
              "      <th>1</th>\n",
              "      <td>125.0</td>\n",
              "      <td>40.0</td>\n",
              "      <td>35.0</td>\n",
              "      <td>96.0</td>\n",
              "      <td>80</td>\n",
              "    </tr>\n",
              "    <tr>\n",
              "      <th>2</th>\n",
              "      <td>35.0</td>\n",
              "      <td>120.0</td>\n",
              "      <td>95.0</td>\n",
              "      <td>35.0</td>\n",
              "      <td>30</td>\n",
              "    </tr>\n",
              "    <tr>\n",
              "      <th>3</th>\n",
              "      <td>58.0</td>\n",
              "      <td>75.0</td>\n",
              "      <td>45.0</td>\n",
              "      <td>99.0</td>\n",
              "      <td>35</td>\n",
              "    </tr>\n",
              "    <tr>\n",
              "      <th>4</th>\n",
              "      <td>110.0</td>\n",
              "      <td>160.0</td>\n",
              "      <td>75.0</td>\n",
              "      <td>75.0</td>\n",
              "      <td>30</td>\n",
              "    </tr>\n",
              "    <tr>\n",
              "      <th>5</th>\n",
              "      <td>140.0</td>\n",
              "      <td>60.0</td>\n",
              "      <td>115.0</td>\n",
              "      <td>150.0</td>\n",
              "      <td>28</td>\n",
              "    </tr>\n",
              "    <tr>\n",
              "      <th>6</th>\n",
              "      <td>97.0</td>\n",
              "      <td>45.0</td>\n",
              "      <td>42.0</td>\n",
              "      <td>45.0</td>\n",
              "      <td>20</td>\n",
              "    </tr>\n",
              "    <tr>\n",
              "      <th>7</th>\n",
              "      <td>50.0</td>\n",
              "      <td>100.0</td>\n",
              "      <td>78.0</td>\n",
              "      <td>100.0</td>\n",
              "      <td>75</td>\n",
              "    </tr>\n",
              "    <tr>\n",
              "      <th>8</th>\n",
              "      <td>65.0</td>\n",
              "      <td>86.0</td>\n",
              "      <td>65.0</td>\n",
              "      <td>120.0</td>\n",
              "      <td>48</td>\n",
              "    </tr>\n",
              "    <tr>\n",
              "      <th>9</th>\n",
              "      <td>79.0</td>\n",
              "      <td>87.0</td>\n",
              "      <td>125.0</td>\n",
              "      <td>50.0</td>\n",
              "      <td>20</td>\n",
              "    </tr>\n",
              "    <tr>\n",
              "      <th>10</th>\n",
              "      <td>35.0</td>\n",
              "      <td>90.0</td>\n",
              "      <td>NaN</td>\n",
              "      <td>NaN</td>\n",
              "      <td>50</td>\n",
              "    </tr>\n",
              "    <tr>\n",
              "      <th>11</th>\n",
              "      <td>85.0</td>\n",
              "      <td>NaN</td>\n",
              "      <td>NaN</td>\n",
              "      <td>NaN</td>\n",
              "      <td>75</td>\n",
              "    </tr>\n",
              "    <tr>\n",
              "      <th>12</th>\n",
              "      <td>120.0</td>\n",
              "      <td>NaN</td>\n",
              "      <td>NaN</td>\n",
              "      <td>NaN</td>\n",
              "      <td>55</td>\n",
              "    </tr>\n",
              "    <tr>\n",
              "      <th>13</th>\n",
              "      <td>NaN</td>\n",
              "      <td>NaN</td>\n",
              "      <td>NaN</td>\n",
              "      <td>NaN</td>\n",
              "      <td>60</td>\n",
              "    </tr>\n",
              "    <tr>\n",
              "      <th>14</th>\n",
              "      <td>NaN</td>\n",
              "      <td>NaN</td>\n",
              "      <td>NaN</td>\n",
              "      <td>NaN</td>\n",
              "      <td>85</td>\n",
              "    </tr>\n",
              "    <tr>\n",
              "      <th>15</th>\n",
              "      <td>NaN</td>\n",
              "      <td>NaN</td>\n",
              "      <td>NaN</td>\n",
              "      <td>NaN</td>\n",
              "      <td>110</td>\n",
              "    </tr>\n",
              "  </tbody>\n",
              "</table>\n",
              "</div>\n",
              "      <button class=\"colab-df-convert\" onclick=\"convertToInteractive('df-9ba12956-6810-42c5-bbdd-efa33b7d36ef')\"\n",
              "              title=\"Convert this dataframe to an interactive table.\"\n",
              "              style=\"display:none;\">\n",
              "        \n",
              "  <svg xmlns=\"http://www.w3.org/2000/svg\" height=\"24px\"viewBox=\"0 0 24 24\"\n",
              "       width=\"24px\">\n",
              "    <path d=\"M0 0h24v24H0V0z\" fill=\"none\"/>\n",
              "    <path d=\"M18.56 5.44l.94 2.06.94-2.06 2.06-.94-2.06-.94-.94-2.06-.94 2.06-2.06.94zm-11 1L8.5 8.5l.94-2.06 2.06-.94-2.06-.94L8.5 2.5l-.94 2.06-2.06.94zm10 10l.94 2.06.94-2.06 2.06-.94-2.06-.94-.94-2.06-.94 2.06-2.06.94z\"/><path d=\"M17.41 7.96l-1.37-1.37c-.4-.4-.92-.59-1.43-.59-.52 0-1.04.2-1.43.59L10.3 9.45l-7.72 7.72c-.78.78-.78 2.05 0 2.83L4 21.41c.39.39.9.59 1.41.59.51 0 1.02-.2 1.41-.59l7.78-7.78 2.81-2.81c.8-.78.8-2.07 0-2.86zM5.41 20L4 18.59l7.72-7.72 1.47 1.35L5.41 20z\"/>\n",
              "  </svg>\n",
              "      </button>\n",
              "      \n",
              "  <style>\n",
              "    .colab-df-container {\n",
              "      display:flex;\n",
              "      flex-wrap:wrap;\n",
              "      gap: 12px;\n",
              "    }\n",
              "\n",
              "    .colab-df-convert {\n",
              "      background-color: #E8F0FE;\n",
              "      border: none;\n",
              "      border-radius: 50%;\n",
              "      cursor: pointer;\n",
              "      display: none;\n",
              "      fill: #1967D2;\n",
              "      height: 32px;\n",
              "      padding: 0 0 0 0;\n",
              "      width: 32px;\n",
              "    }\n",
              "\n",
              "    .colab-df-convert:hover {\n",
              "      background-color: #E2EBFA;\n",
              "      box-shadow: 0px 1px 2px rgba(60, 64, 67, 0.3), 0px 1px 3px 1px rgba(60, 64, 67, 0.15);\n",
              "      fill: #174EA6;\n",
              "    }\n",
              "\n",
              "    [theme=dark] .colab-df-convert {\n",
              "      background-color: #3B4455;\n",
              "      fill: #D2E3FC;\n",
              "    }\n",
              "\n",
              "    [theme=dark] .colab-df-convert:hover {\n",
              "      background-color: #434B5C;\n",
              "      box-shadow: 0px 1px 3px 1px rgba(0, 0, 0, 0.15);\n",
              "      filter: drop-shadow(0px 1px 2px rgba(0, 0, 0, 0.3));\n",
              "      fill: #FFFFFF;\n",
              "    }\n",
              "  </style>\n",
              "\n",
              "      <script>\n",
              "        const buttonEl =\n",
              "          document.querySelector('#df-9ba12956-6810-42c5-bbdd-efa33b7d36ef button.colab-df-convert');\n",
              "        buttonEl.style.display =\n",
              "          google.colab.kernel.accessAllowed ? 'block' : 'none';\n",
              "\n",
              "        async function convertToInteractive(key) {\n",
              "          const element = document.querySelector('#df-9ba12956-6810-42c5-bbdd-efa33b7d36ef');\n",
              "          const dataTable =\n",
              "            await google.colab.kernel.invokeFunction('convertToInteractive',\n",
              "                                                     [key], {});\n",
              "          if (!dataTable) return;\n",
              "\n",
              "          const docLinkHtml = 'Like what you see? Visit the ' +\n",
              "            '<a target=\"_blank\" href=https://colab.research.google.com/notebooks/data_table.ipynb>data table notebook</a>'\n",
              "            + ' to learn more about interactive tables.';\n",
              "          element.innerHTML = '';\n",
              "          dataTable['output_type'] = 'display_data';\n",
              "          await google.colab.output.renderOutput(dataTable, element);\n",
              "          const docLink = document.createElement('div');\n",
              "          docLink.innerHTML = docLinkHtml;\n",
              "          element.appendChild(docLink);\n",
              "        }\n",
              "      </script>\n",
              "    </div>\n",
              "  </div>\n",
              "  "
            ]
          },
          "metadata": {},
          "execution_count": 42
        }
      ]
    },
    {
      "cell_type": "code",
      "source": [
        "#loại bỏ các giá trị NaN\n",
        "df4 = df4.dropna()\n",
        "df4"
      ],
      "metadata": {
        "colab": {
          "base_uri": "https://localhost:8080/",
          "height": 363
        },
        "id": "XMrH_CB2PHve",
        "outputId": "0514e68b-9516-4f00-88f2-d1dafbbc55f3"
      },
      "execution_count": 32,
      "outputs": [
        {
          "output_type": "execute_result",
          "data": {
            "text/plain": [
              "      X1     X2     X3     X4  X5\n",
              "0   80.0  150.0   48.0  100.0  25\n",
              "1  125.0   40.0   35.0   96.0  80\n",
              "2   35.0  120.0   95.0   35.0  30\n",
              "3   58.0   75.0   45.0   99.0  35\n",
              "4  110.0  160.0   75.0   75.0  30\n",
              "5  140.0   60.0  115.0  150.0  28\n",
              "6   97.0   45.0   42.0   45.0  20\n",
              "7   50.0  100.0   78.0  100.0  75\n",
              "8   65.0   86.0   65.0  120.0  48\n",
              "9   79.0   87.0  125.0   50.0  20"
            ],
            "text/html": [
              "\n",
              "  <div id=\"df-42048a29-2944-42d8-b085-2fcc17a45878\">\n",
              "    <div class=\"colab-df-container\">\n",
              "      <div>\n",
              "<style scoped>\n",
              "    .dataframe tbody tr th:only-of-type {\n",
              "        vertical-align: middle;\n",
              "    }\n",
              "\n",
              "    .dataframe tbody tr th {\n",
              "        vertical-align: top;\n",
              "    }\n",
              "\n",
              "    .dataframe thead th {\n",
              "        text-align: right;\n",
              "    }\n",
              "</style>\n",
              "<table border=\"1\" class=\"dataframe\">\n",
              "  <thead>\n",
              "    <tr style=\"text-align: right;\">\n",
              "      <th></th>\n",
              "      <th>X1</th>\n",
              "      <th>X2</th>\n",
              "      <th>X3</th>\n",
              "      <th>X4</th>\n",
              "      <th>X5</th>\n",
              "    </tr>\n",
              "  </thead>\n",
              "  <tbody>\n",
              "    <tr>\n",
              "      <th>0</th>\n",
              "      <td>80.0</td>\n",
              "      <td>150.0</td>\n",
              "      <td>48.0</td>\n",
              "      <td>100.0</td>\n",
              "      <td>25</td>\n",
              "    </tr>\n",
              "    <tr>\n",
              "      <th>1</th>\n",
              "      <td>125.0</td>\n",
              "      <td>40.0</td>\n",
              "      <td>35.0</td>\n",
              "      <td>96.0</td>\n",
              "      <td>80</td>\n",
              "    </tr>\n",
              "    <tr>\n",
              "      <th>2</th>\n",
              "      <td>35.0</td>\n",
              "      <td>120.0</td>\n",
              "      <td>95.0</td>\n",
              "      <td>35.0</td>\n",
              "      <td>30</td>\n",
              "    </tr>\n",
              "    <tr>\n",
              "      <th>3</th>\n",
              "      <td>58.0</td>\n",
              "      <td>75.0</td>\n",
              "      <td>45.0</td>\n",
              "      <td>99.0</td>\n",
              "      <td>35</td>\n",
              "    </tr>\n",
              "    <tr>\n",
              "      <th>4</th>\n",
              "      <td>110.0</td>\n",
              "      <td>160.0</td>\n",
              "      <td>75.0</td>\n",
              "      <td>75.0</td>\n",
              "      <td>30</td>\n",
              "    </tr>\n",
              "    <tr>\n",
              "      <th>5</th>\n",
              "      <td>140.0</td>\n",
              "      <td>60.0</td>\n",
              "      <td>115.0</td>\n",
              "      <td>150.0</td>\n",
              "      <td>28</td>\n",
              "    </tr>\n",
              "    <tr>\n",
              "      <th>6</th>\n",
              "      <td>97.0</td>\n",
              "      <td>45.0</td>\n",
              "      <td>42.0</td>\n",
              "      <td>45.0</td>\n",
              "      <td>20</td>\n",
              "    </tr>\n",
              "    <tr>\n",
              "      <th>7</th>\n",
              "      <td>50.0</td>\n",
              "      <td>100.0</td>\n",
              "      <td>78.0</td>\n",
              "      <td>100.0</td>\n",
              "      <td>75</td>\n",
              "    </tr>\n",
              "    <tr>\n",
              "      <th>8</th>\n",
              "      <td>65.0</td>\n",
              "      <td>86.0</td>\n",
              "      <td>65.0</td>\n",
              "      <td>120.0</td>\n",
              "      <td>48</td>\n",
              "    </tr>\n",
              "    <tr>\n",
              "      <th>9</th>\n",
              "      <td>79.0</td>\n",
              "      <td>87.0</td>\n",
              "      <td>125.0</td>\n",
              "      <td>50.0</td>\n",
              "      <td>20</td>\n",
              "    </tr>\n",
              "  </tbody>\n",
              "</table>\n",
              "</div>\n",
              "      <button class=\"colab-df-convert\" onclick=\"convertToInteractive('df-42048a29-2944-42d8-b085-2fcc17a45878')\"\n",
              "              title=\"Convert this dataframe to an interactive table.\"\n",
              "              style=\"display:none;\">\n",
              "        \n",
              "  <svg xmlns=\"http://www.w3.org/2000/svg\" height=\"24px\"viewBox=\"0 0 24 24\"\n",
              "       width=\"24px\">\n",
              "    <path d=\"M0 0h24v24H0V0z\" fill=\"none\"/>\n",
              "    <path d=\"M18.56 5.44l.94 2.06.94-2.06 2.06-.94-2.06-.94-.94-2.06-.94 2.06-2.06.94zm-11 1L8.5 8.5l.94-2.06 2.06-.94-2.06-.94L8.5 2.5l-.94 2.06-2.06.94zm10 10l.94 2.06.94-2.06 2.06-.94-2.06-.94-.94-2.06-.94 2.06-2.06.94z\"/><path d=\"M17.41 7.96l-1.37-1.37c-.4-.4-.92-.59-1.43-.59-.52 0-1.04.2-1.43.59L10.3 9.45l-7.72 7.72c-.78.78-.78 2.05 0 2.83L4 21.41c.39.39.9.59 1.41.59.51 0 1.02-.2 1.41-.59l7.78-7.78 2.81-2.81c.8-.78.8-2.07 0-2.86zM5.41 20L4 18.59l7.72-7.72 1.47 1.35L5.41 20z\"/>\n",
              "  </svg>\n",
              "      </button>\n",
              "      \n",
              "  <style>\n",
              "    .colab-df-container {\n",
              "      display:flex;\n",
              "      flex-wrap:wrap;\n",
              "      gap: 12px;\n",
              "    }\n",
              "\n",
              "    .colab-df-convert {\n",
              "      background-color: #E8F0FE;\n",
              "      border: none;\n",
              "      border-radius: 50%;\n",
              "      cursor: pointer;\n",
              "      display: none;\n",
              "      fill: #1967D2;\n",
              "      height: 32px;\n",
              "      padding: 0 0 0 0;\n",
              "      width: 32px;\n",
              "    }\n",
              "\n",
              "    .colab-df-convert:hover {\n",
              "      background-color: #E2EBFA;\n",
              "      box-shadow: 0px 1px 2px rgba(60, 64, 67, 0.3), 0px 1px 3px 1px rgba(60, 64, 67, 0.15);\n",
              "      fill: #174EA6;\n",
              "    }\n",
              "\n",
              "    [theme=dark] .colab-df-convert {\n",
              "      background-color: #3B4455;\n",
              "      fill: #D2E3FC;\n",
              "    }\n",
              "\n",
              "    [theme=dark] .colab-df-convert:hover {\n",
              "      background-color: #434B5C;\n",
              "      box-shadow: 0px 1px 3px 1px rgba(0, 0, 0, 0.15);\n",
              "      filter: drop-shadow(0px 1px 2px rgba(0, 0, 0, 0.3));\n",
              "      fill: #FFFFFF;\n",
              "    }\n",
              "  </style>\n",
              "\n",
              "      <script>\n",
              "        const buttonEl =\n",
              "          document.querySelector('#df-42048a29-2944-42d8-b085-2fcc17a45878 button.colab-df-convert');\n",
              "        buttonEl.style.display =\n",
              "          google.colab.kernel.accessAllowed ? 'block' : 'none';\n",
              "\n",
              "        async function convertToInteractive(key) {\n",
              "          const element = document.querySelector('#df-42048a29-2944-42d8-b085-2fcc17a45878');\n",
              "          const dataTable =\n",
              "            await google.colab.kernel.invokeFunction('convertToInteractive',\n",
              "                                                     [key], {});\n",
              "          if (!dataTable) return;\n",
              "\n",
              "          const docLinkHtml = 'Like what you see? Visit the ' +\n",
              "            '<a target=\"_blank\" href=https://colab.research.google.com/notebooks/data_table.ipynb>data table notebook</a>'\n",
              "            + ' to learn more about interactive tables.';\n",
              "          element.innerHTML = '';\n",
              "          dataTable['output_type'] = 'display_data';\n",
              "          await google.colab.output.renderOutput(dataTable, element);\n",
              "          const docLink = document.createElement('div');\n",
              "          docLink.innerHTML = docLinkHtml;\n",
              "          element.appendChild(docLink);\n",
              "        }\n",
              "      </script>\n",
              "    </div>\n",
              "  </div>\n",
              "  "
            ]
          },
          "metadata": {},
          "execution_count": 32
        }
      ]
    },
    {
      "cell_type": "markdown",
      "source": [
        "Phát biểu giả thuyết:\n",
        "\n",
        "Giả thuyết Null:\n",
        "\n",
        "$$H_0 : \\text{Các nhóm được lấy từ phân phối chuẩn}$$\n",
        "\n",
        "Giả thuyết thay thế:\n",
        "\n",
        "$$H_a : \\text{Các nhóm không được lấy từ phân phối chuẩn}$$"
      ],
      "metadata": {
        "id": "d4-xPGYFPeci"
      }
    },
    {
      "cell_type": "code",
      "source": [
        "stats, p_value = st.shapiro(df4[\"X1\"])\n",
        "print(\"p_value:\", p_value)\n",
        "if p_value < 0.05:\n",
        "  print(\"Có bằng chứng bác bỏ giả thuyết mẫu được lấy từ phân phối chuẩn\")\n",
        "else:\n",
        "  print(\"Không có bằng chứng bác bỏ giả thuyết mẫu được lấy từ phân phối chuẩn\")"
      ],
      "metadata": {
        "colab": {
          "base_uri": "https://localhost:8080/"
        },
        "id": "n8jxbT6wQBOf",
        "outputId": "d88b25bb-4a4b-4f1d-f349-364685035b70"
      },
      "execution_count": 33,
      "outputs": [
        {
          "output_type": "stream",
          "name": "stdout",
          "text": [
            "p_value: 0.9062873125076294\n",
            "Không có bằng chứng bác bỏ giả thuyết mẫu được lấy từ phân phối chuẩn\n"
          ]
        }
      ]
    },
    {
      "cell_type": "code",
      "source": [
        "stats, p_value = st.shapiro(df4[\"X2\"])\n",
        "print(\"p_value:\", p_value)\n",
        "if p_value < 0.05:\n",
        "  print(\"Có bằng chứng bác bỏ giả thuyết mẫu được lấy từ phân phối chuẩn\")\n",
        "else:\n",
        "  print(\"Không có bằng chứng bác bỏ giả thuyết mẫu được lấy từ phân phối chuẩn\")"
      ],
      "metadata": {
        "colab": {
          "base_uri": "https://localhost:8080/"
        },
        "id": "86Cqosk_Qxc8",
        "outputId": "975db7bf-64fe-4a8d-ff9a-1571480f9fa7"
      },
      "execution_count": 34,
      "outputs": [
        {
          "output_type": "stream",
          "name": "stdout",
          "text": [
            "p_value: 0.5765353441238403\n",
            "Không có bằng chứng bác bỏ giả thuyết mẫu được lấy từ phân phối chuẩn\n"
          ]
        }
      ]
    },
    {
      "cell_type": "code",
      "source": [
        "stats, p_value = st.shapiro(df4[\"X3\"])\n",
        "print(\"p_value:\", p_value)\n",
        "if p_value < 0.05:\n",
        "  print(\"Có bằng chứng bác bỏ giả thuyết mẫu được lấy từ phân phối chuẩn\")\n",
        "else:\n",
        "  print(\"Không có bằng chứng bác bỏ giả thuyết mẫu được lấy từ phân phối chuẩn\")"
      ],
      "metadata": {
        "colab": {
          "base_uri": "https://localhost:8080/"
        },
        "id": "93Zft9l3QyYr",
        "outputId": "19b99a34-8b63-493c-b975-879254c9cf6a"
      },
      "execution_count": 35,
      "outputs": [
        {
          "output_type": "stream",
          "name": "stdout",
          "text": [
            "p_value: 0.3917592167854309\n",
            "Không có bằng chứng bác bỏ giả thuyết mẫu được lấy từ phân phối chuẩn\n"
          ]
        }
      ]
    },
    {
      "cell_type": "code",
      "source": [
        "stats, p_value = st.shapiro(df4[\"X4\"])\n",
        "print(\"p_value:\", p_value)\n",
        "if p_value < 0.05:\n",
        "  print(\"Có bằng chứng bác bỏ giả thuyết mẫu được lấy từ phân phối chuẩn\")\n",
        "else:\n",
        "  print(\"Không có bằng chứng bác bỏ giả thuyết mẫu được lấy từ phân phối chuẩn\")"
      ],
      "metadata": {
        "colab": {
          "base_uri": "https://localhost:8080/"
        },
        "id": "t_9fv6x8Qy3z",
        "outputId": "0b1f4400-e788-489f-85e7-ae1f4aab8221"
      },
      "execution_count": 36,
      "outputs": [
        {
          "output_type": "stream",
          "name": "stdout",
          "text": [
            "p_value: 0.5785742998123169\n",
            "Không có bằng chứng bác bỏ giả thuyết mẫu được lấy từ phân phối chuẩn\n"
          ]
        }
      ]
    },
    {
      "cell_type": "code",
      "source": [
        "stats, p_value = st.shapiro(df4[\"X5\"])\n",
        "print(\"p_value:\", p_value)\n",
        "if p_value < 0.05:\n",
        "  print(\"Có bằng chứng bác bỏ giả thuyết mẫu được lấy từ phân phối chuẩn\")\n",
        "else:\n",
        "  print(\"Không có bằng chứng bác bỏ giả thuyết mẫu được lấy từ phân phối chuẩn\")"
      ],
      "metadata": {
        "colab": {
          "base_uri": "https://localhost:8080/"
        },
        "id": "xYGMF6nIRe5Y",
        "outputId": "b05e8cbc-ec57-468d-ef79-ae4e81472921"
      },
      "execution_count": 37,
      "outputs": [
        {
          "output_type": "stream",
          "name": "stdout",
          "text": [
            "p_value: 0.012689383700489998\n",
            "Có bằng chứng bác bỏ giả thuyết mẫu được lấy từ phân phối chuẩn\n"
          ]
        }
      ]
    },
    {
      "cell_type": "markdown",
      "source": [
        "**Không thể tiến hành kiểm định ANOVA vì mẫu không được lấy từ phân phối chuẩn**"
      ],
      "metadata": {
        "id": "Wihxd-gtRhJa"
      }
    },
    {
      "cell_type": "markdown",
      "source": [
        "***5. Weights of Football Players (Trọng lượng của các cầu thủ bóng đá)***"
      ],
      "metadata": {
        "id": "3DLEOY0CSGGJ"
      }
    },
    {
      "cell_type": "markdown",
      "source": [
        "Dữ liệu sau đây đại diện cho trọng lượng (pound) của một mẫu ngẫu nhiên các cầu thủ bóng đá chuyên nghiệp của các đội sau đây.\n",
        "\n",
        "X1 = trọng số của những người chơi cho Dallas Cowboys\n",
        "\n",
        "X2 = trọng lượng của người chơi cho Green Bay Packers\n",
        "\n",
        "X3 = trọng số của người chơi cho Denver Broncos\n",
        "\n",
        "X4 = trọng lượng của người chơi cho Miami Dolphins\n",
        "\n",
        "X5 = trọng số của người chơi cho San Francisco Forty Niners"
      ],
      "metadata": {
        "id": "GSO7HBv6T9sJ"
      }
    },
    {
      "cell_type": "code",
      "source": [
        "#đọc file csv\n",
        "df5 = pd.read_csv(\"/content/drive/MyDrive/Tài liệu/owan/owan05.csv\")\n",
        "df5"
      ],
      "metadata": {
        "colab": {
          "base_uri": "https://localhost:8080/",
          "height": 582
        },
        "id": "ru6d5N2yWlCg",
        "outputId": "cec69136-6da3-47cf-e172-10ee2c1f6f69"
      },
      "execution_count": 38,
      "outputs": [
        {
          "output_type": "execute_result",
          "data": {
            "text/plain": [
              "     X1   X2   X3   X4   X5\n",
              "0   250  260  270  260  247\n",
              "1   255  271  250  255  249\n",
              "2   255  258  281  265  255\n",
              "3   264  263  273  257  247\n",
              "4   250  267  257  268  244\n",
              "5   265  254  264  263  245\n",
              "6   245  255  233  247  249\n",
              "7   252  250  254  253  260\n",
              "8   266  248  268  251  217\n",
              "9   246  240  252  252  208\n",
              "10  251  254  256  266  228\n",
              "11  263  275  265  264  253\n",
              "12  248  270  252  210  249\n",
              "13  228  225  256  236  223\n",
              "14  221  222  235  225  221\n",
              "15  223  230  216  230  228\n",
              "16  220  225  241  232  271"
            ],
            "text/html": [
              "\n",
              "  <div id=\"df-41039931-7bca-4838-a632-afea3d51c83c\">\n",
              "    <div class=\"colab-df-container\">\n",
              "      <div>\n",
              "<style scoped>\n",
              "    .dataframe tbody tr th:only-of-type {\n",
              "        vertical-align: middle;\n",
              "    }\n",
              "\n",
              "    .dataframe tbody tr th {\n",
              "        vertical-align: top;\n",
              "    }\n",
              "\n",
              "    .dataframe thead th {\n",
              "        text-align: right;\n",
              "    }\n",
              "</style>\n",
              "<table border=\"1\" class=\"dataframe\">\n",
              "  <thead>\n",
              "    <tr style=\"text-align: right;\">\n",
              "      <th></th>\n",
              "      <th>X1</th>\n",
              "      <th>X2</th>\n",
              "      <th>X3</th>\n",
              "      <th>X4</th>\n",
              "      <th>X5</th>\n",
              "    </tr>\n",
              "  </thead>\n",
              "  <tbody>\n",
              "    <tr>\n",
              "      <th>0</th>\n",
              "      <td>250</td>\n",
              "      <td>260</td>\n",
              "      <td>270</td>\n",
              "      <td>260</td>\n",
              "      <td>247</td>\n",
              "    </tr>\n",
              "    <tr>\n",
              "      <th>1</th>\n",
              "      <td>255</td>\n",
              "      <td>271</td>\n",
              "      <td>250</td>\n",
              "      <td>255</td>\n",
              "      <td>249</td>\n",
              "    </tr>\n",
              "    <tr>\n",
              "      <th>2</th>\n",
              "      <td>255</td>\n",
              "      <td>258</td>\n",
              "      <td>281</td>\n",
              "      <td>265</td>\n",
              "      <td>255</td>\n",
              "    </tr>\n",
              "    <tr>\n",
              "      <th>3</th>\n",
              "      <td>264</td>\n",
              "      <td>263</td>\n",
              "      <td>273</td>\n",
              "      <td>257</td>\n",
              "      <td>247</td>\n",
              "    </tr>\n",
              "    <tr>\n",
              "      <th>4</th>\n",
              "      <td>250</td>\n",
              "      <td>267</td>\n",
              "      <td>257</td>\n",
              "      <td>268</td>\n",
              "      <td>244</td>\n",
              "    </tr>\n",
              "    <tr>\n",
              "      <th>5</th>\n",
              "      <td>265</td>\n",
              "      <td>254</td>\n",
              "      <td>264</td>\n",
              "      <td>263</td>\n",
              "      <td>245</td>\n",
              "    </tr>\n",
              "    <tr>\n",
              "      <th>6</th>\n",
              "      <td>245</td>\n",
              "      <td>255</td>\n",
              "      <td>233</td>\n",
              "      <td>247</td>\n",
              "      <td>249</td>\n",
              "    </tr>\n",
              "    <tr>\n",
              "      <th>7</th>\n",
              "      <td>252</td>\n",
              "      <td>250</td>\n",
              "      <td>254</td>\n",
              "      <td>253</td>\n",
              "      <td>260</td>\n",
              "    </tr>\n",
              "    <tr>\n",
              "      <th>8</th>\n",
              "      <td>266</td>\n",
              "      <td>248</td>\n",
              "      <td>268</td>\n",
              "      <td>251</td>\n",
              "      <td>217</td>\n",
              "    </tr>\n",
              "    <tr>\n",
              "      <th>9</th>\n",
              "      <td>246</td>\n",
              "      <td>240</td>\n",
              "      <td>252</td>\n",
              "      <td>252</td>\n",
              "      <td>208</td>\n",
              "    </tr>\n",
              "    <tr>\n",
              "      <th>10</th>\n",
              "      <td>251</td>\n",
              "      <td>254</td>\n",
              "      <td>256</td>\n",
              "      <td>266</td>\n",
              "      <td>228</td>\n",
              "    </tr>\n",
              "    <tr>\n",
              "      <th>11</th>\n",
              "      <td>263</td>\n",
              "      <td>275</td>\n",
              "      <td>265</td>\n",
              "      <td>264</td>\n",
              "      <td>253</td>\n",
              "    </tr>\n",
              "    <tr>\n",
              "      <th>12</th>\n",
              "      <td>248</td>\n",
              "      <td>270</td>\n",
              "      <td>252</td>\n",
              "      <td>210</td>\n",
              "      <td>249</td>\n",
              "    </tr>\n",
              "    <tr>\n",
              "      <th>13</th>\n",
              "      <td>228</td>\n",
              "      <td>225</td>\n",
              "      <td>256</td>\n",
              "      <td>236</td>\n",
              "      <td>223</td>\n",
              "    </tr>\n",
              "    <tr>\n",
              "      <th>14</th>\n",
              "      <td>221</td>\n",
              "      <td>222</td>\n",
              "      <td>235</td>\n",
              "      <td>225</td>\n",
              "      <td>221</td>\n",
              "    </tr>\n",
              "    <tr>\n",
              "      <th>15</th>\n",
              "      <td>223</td>\n",
              "      <td>230</td>\n",
              "      <td>216</td>\n",
              "      <td>230</td>\n",
              "      <td>228</td>\n",
              "    </tr>\n",
              "    <tr>\n",
              "      <th>16</th>\n",
              "      <td>220</td>\n",
              "      <td>225</td>\n",
              "      <td>241</td>\n",
              "      <td>232</td>\n",
              "      <td>271</td>\n",
              "    </tr>\n",
              "  </tbody>\n",
              "</table>\n",
              "</div>\n",
              "      <button class=\"colab-df-convert\" onclick=\"convertToInteractive('df-41039931-7bca-4838-a632-afea3d51c83c')\"\n",
              "              title=\"Convert this dataframe to an interactive table.\"\n",
              "              style=\"display:none;\">\n",
              "        \n",
              "  <svg xmlns=\"http://www.w3.org/2000/svg\" height=\"24px\"viewBox=\"0 0 24 24\"\n",
              "       width=\"24px\">\n",
              "    <path d=\"M0 0h24v24H0V0z\" fill=\"none\"/>\n",
              "    <path d=\"M18.56 5.44l.94 2.06.94-2.06 2.06-.94-2.06-.94-.94-2.06-.94 2.06-2.06.94zm-11 1L8.5 8.5l.94-2.06 2.06-.94-2.06-.94L8.5 2.5l-.94 2.06-2.06.94zm10 10l.94 2.06.94-2.06 2.06-.94-2.06-.94-.94-2.06-.94 2.06-2.06.94z\"/><path d=\"M17.41 7.96l-1.37-1.37c-.4-.4-.92-.59-1.43-.59-.52 0-1.04.2-1.43.59L10.3 9.45l-7.72 7.72c-.78.78-.78 2.05 0 2.83L4 21.41c.39.39.9.59 1.41.59.51 0 1.02-.2 1.41-.59l7.78-7.78 2.81-2.81c.8-.78.8-2.07 0-2.86zM5.41 20L4 18.59l7.72-7.72 1.47 1.35L5.41 20z\"/>\n",
              "  </svg>\n",
              "      </button>\n",
              "      \n",
              "  <style>\n",
              "    .colab-df-container {\n",
              "      display:flex;\n",
              "      flex-wrap:wrap;\n",
              "      gap: 12px;\n",
              "    }\n",
              "\n",
              "    .colab-df-convert {\n",
              "      background-color: #E8F0FE;\n",
              "      border: none;\n",
              "      border-radius: 50%;\n",
              "      cursor: pointer;\n",
              "      display: none;\n",
              "      fill: #1967D2;\n",
              "      height: 32px;\n",
              "      padding: 0 0 0 0;\n",
              "      width: 32px;\n",
              "    }\n",
              "\n",
              "    .colab-df-convert:hover {\n",
              "      background-color: #E2EBFA;\n",
              "      box-shadow: 0px 1px 2px rgba(60, 64, 67, 0.3), 0px 1px 3px 1px rgba(60, 64, 67, 0.15);\n",
              "      fill: #174EA6;\n",
              "    }\n",
              "\n",
              "    [theme=dark] .colab-df-convert {\n",
              "      background-color: #3B4455;\n",
              "      fill: #D2E3FC;\n",
              "    }\n",
              "\n",
              "    [theme=dark] .colab-df-convert:hover {\n",
              "      background-color: #434B5C;\n",
              "      box-shadow: 0px 1px 3px 1px rgba(0, 0, 0, 0.15);\n",
              "      filter: drop-shadow(0px 1px 2px rgba(0, 0, 0, 0.3));\n",
              "      fill: #FFFFFF;\n",
              "    }\n",
              "  </style>\n",
              "\n",
              "      <script>\n",
              "        const buttonEl =\n",
              "          document.querySelector('#df-41039931-7bca-4838-a632-afea3d51c83c button.colab-df-convert');\n",
              "        buttonEl.style.display =\n",
              "          google.colab.kernel.accessAllowed ? 'block' : 'none';\n",
              "\n",
              "        async function convertToInteractive(key) {\n",
              "          const element = document.querySelector('#df-41039931-7bca-4838-a632-afea3d51c83c');\n",
              "          const dataTable =\n",
              "            await google.colab.kernel.invokeFunction('convertToInteractive',\n",
              "                                                     [key], {});\n",
              "          if (!dataTable) return;\n",
              "\n",
              "          const docLinkHtml = 'Like what you see? Visit the ' +\n",
              "            '<a target=\"_blank\" href=https://colab.research.google.com/notebooks/data_table.ipynb>data table notebook</a>'\n",
              "            + ' to learn more about interactive tables.';\n",
              "          element.innerHTML = '';\n",
              "          dataTable['output_type'] = 'display_data';\n",
              "          await google.colab.output.renderOutput(dataTable, element);\n",
              "          const docLink = document.createElement('div');\n",
              "          docLink.innerHTML = docLinkHtml;\n",
              "          element.appendChild(docLink);\n",
              "        }\n",
              "      </script>\n",
              "    </div>\n",
              "  </div>\n",
              "  "
            ]
          },
          "metadata": {},
          "execution_count": 38
        }
      ]
    },
    {
      "cell_type": "markdown",
      "source": [
        "Phát biểu giả thuyết:\n",
        "\n",
        "Giả thuyết null:\n",
        "\n",
        "$$H_0 : \\text{Các nhóm được lấy từ phân phối chuẩn}$$\n",
        "\n",
        "Giả thuyết thay thế:\n",
        "\n",
        "$$H_a : \\text{Các nhóm không được lấy từ phân phối chuẩn}$$\n"
      ],
      "metadata": {
        "id": "o4vYL_fvUCb3"
      }
    },
    {
      "cell_type": "code",
      "source": [
        "stats, p_value = st.shapiro(df5[\"X1\"])\n",
        "print(\"p_value:\", p_value)\n",
        "if p_value < 0.05:\n",
        "  print('Có bằng chứng bác bỏ giả thuyết mẫu được lấy từ phân phối chuẩn')\n",
        "else:\n",
        "  print('Không có bằng chứng bác bỏ giả thuyết mẫu được lấy từ phân phối chuẩn')"
      ],
      "metadata": {
        "colab": {
          "base_uri": "https://localhost:8080/"
        },
        "id": "51Z7Dd8XUxHz",
        "outputId": "168570b7-7c0d-4ecf-ce89-7f767f0f5273"
      },
      "execution_count": 43,
      "outputs": [
        {
          "output_type": "stream",
          "name": "stdout",
          "text": [
            "p_value: 0.028549334034323692\n",
            "Có bằng chứng bác bỏ giả thuyết mẫu được lấy từ phân phối chuẩn\n"
          ]
        }
      ]
    },
    {
      "cell_type": "code",
      "source": [
        "stats, p_value = st.shapiro(df5[\"X2\"])\n",
        "print(\"p_value:\", p_value)\n",
        "if p_value < 0.05:\n",
        "  print('Có bằng chứng bác bỏ giả thuyết mẫu được lấy từ phân phối chuẩn')\n",
        "else:\n",
        "  print('Không có bằng chứng bác bỏ giả thuyết mẫu được lấy từ phân phối chuẩn')"
      ],
      "metadata": {
        "colab": {
          "base_uri": "https://localhost:8080/"
        },
        "id": "RL11jB2YXJnh",
        "outputId": "6a66a57c-a54b-4fa0-8b42-b14a6c1b7386"
      },
      "execution_count": 47,
      "outputs": [
        {
          "output_type": "stream",
          "name": "stdout",
          "text": [
            "p_value: 0.16341625154018402\n",
            "Không có bằng chứng bác bỏ giả thuyết mẫu được lấy từ phân phối chuẩn\n"
          ]
        }
      ]
    },
    {
      "cell_type": "code",
      "source": [
        "stats, p_value = st.shapiro(df5[\"X3\"])\n",
        "print(\"p_value:\", p_value)\n",
        "if p_value < 0.05:\n",
        "  print('Có bằng chứng bác bỏ giả thuyết mẫu được lấy từ phân phối chuẩn')\n",
        "else:\n",
        "  print('Không có bằng chứng bác bỏ giả thuyết mẫu được lấy từ phân phối chuẩn')"
      ],
      "metadata": {
        "colab": {
          "base_uri": "https://localhost:8080/"
        },
        "id": "Sxd5vEg8XKHA",
        "outputId": "087b8bd4-c53f-4fcb-995f-9a700e079333"
      },
      "execution_count": 46,
      "outputs": [
        {
          "output_type": "stream",
          "name": "stdout",
          "text": [
            "p_value: 0.6627115607261658\n",
            "Không có bằng chứng bác bỏ giả thuyết mẫu được lấy từ phân phối chuẩn\n"
          ]
        }
      ]
    },
    {
      "cell_type": "code",
      "source": [
        "stats, p_value = st.shapiro(df5[\"X4\"])\n",
        "print(\"p_value:\", p_value)\n",
        "if p_value < 0.05:\n",
        "  print('Có bằng chứng bác bỏ giả thuyết mẫu được lấy từ phân phối chuẩn')\n",
        "else:\n",
        "  print('Không có bằng chứng bác bỏ giả thuyết mẫu được lấy từ phân phối chuẩn')"
      ],
      "metadata": {
        "colab": {
          "base_uri": "https://localhost:8080/"
        },
        "id": "CFwu9rNQXKbj",
        "outputId": "f1e5fd8d-0a53-43cd-971f-a08e80f14360"
      },
      "execution_count": 45,
      "outputs": [
        {
          "output_type": "stream",
          "name": "stdout",
          "text": [
            "p_value: 0.06506332755088806\n",
            "Không có bằng chứng bác bỏ giả thuyết mẫu được lấy từ phân phối chuẩn\n"
          ]
        }
      ]
    },
    {
      "cell_type": "code",
      "source": [
        "stats, p_value = st.shapiro(df5[\"X5\"])\n",
        "print(\"p_value:\", p_value)\n",
        "if p_value < 0.05:\n",
        "  print('Có bằng chứng bác bỏ giả thuyết mẫu được lấy từ phân phối chuẩn')\n",
        "else:\n",
        "  print('Không có bằng chứng bác bỏ giả thuyết mẫu được lấy từ phân phối chuẩn')"
      ],
      "metadata": {
        "colab": {
          "base_uri": "https://localhost:8080/"
        },
        "id": "OdHKPaEZXL7U",
        "outputId": "a6e678b4-e68e-435d-e022-6ca33dee8118"
      },
      "execution_count": 44,
      "outputs": [
        {
          "output_type": "stream",
          "name": "stdout",
          "text": [
            "p_value: 0.3383376896381378\n",
            "Không có bằng chứng bác bỏ giả thuyết mẫu được lấy từ phân phối chuẩn\n"
          ]
        }
      ]
    },
    {
      "cell_type": "markdown",
      "source": [
        "**Không thể tiến hành kiểm định ANOVA vì mẫu không được lấy từ phân phối chuẩn**"
      ],
      "metadata": {
        "id": "obEu82u5XVEx"
      }
    }
  ],
  "metadata": {
    "kernelspec": {
      "display_name": "Python 3",
      "language": "python",
      "name": "python3"
    },
    "language_info": {
      "codemirror_mode": {
        "name": "ipython",
        "version": 3
      },
      "file_extension": ".py",
      "mimetype": "text/x-python",
      "name": "python",
      "nbconvert_exporter": "python",
      "pygments_lexer": "ipython3",
      "version": "3.7.3"
    },
    "colab": {
      "name": "phan-tich-anova-1-chieu",
      "provenance": [],
      "collapsed_sections": [],
      "include_colab_link": true
    }
  },
  "nbformat": 4,
  "nbformat_minor": 0
}