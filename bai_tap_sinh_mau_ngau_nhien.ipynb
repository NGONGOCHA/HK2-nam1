{
  "cells": [
    {
      "cell_type": "markdown",
      "metadata": {
        "id": "view-in-github",
        "colab_type": "text"
      },
      "source": [
        "<a href=\"https://colab.research.google.com/github/NGONGOCHA/HK2-nam1/blob/main/bai_tap_sinh_mau_ngau_nhien.ipynb\" target=\"_parent\"><img src=\"https://colab.research.google.com/assets/colab-badge.svg\" alt=\"Open In Colab\"/></a>"
      ]
    },
    {
      "cell_type": "code",
      "source": [
        "import numpy as np\n",
        "from scipy import stats"
      ],
      "metadata": {
        "id": "gbKdtFr1WQBK"
      },
      "execution_count": 1,
      "outputs": []
    },
    {
      "cell_type": "markdown",
      "metadata": {
        "id": "NQNbEhv3Vqx0"
      },
      "source": [
        "Sử dụng thư viện Numpy\n",
        "\n",
        "1. Sinh mẫu ngẫu nhiên bằng hàm arange trong khoảng [-15, 27] với khoảng cách là 0.7 và in kết quả ra màn hình"
      ]
    },
    {
      "cell_type": "code",
      "execution_count": 2,
      "metadata": {
        "id": "VH9hYBjzVqx4",
        "colab": {
          "base_uri": "https://localhost:8080/"
        },
        "outputId": "a057f857-9625-4fae-d895-491a72258778"
      },
      "outputs": [
        {
          "output_type": "execute_result",
          "data": {
            "text/plain": [
              "array([-15. , -14.3, -13.6, -12.9, -12.2, -11.5, -10.8, -10.1,  -9.4,\n",
              "        -8.7,  -8. ,  -7.3,  -6.6,  -5.9,  -5.2,  -4.5,  -3.8,  -3.1,\n",
              "        -2.4,  -1.7,  -1. ,  -0.3,   0.4,   1.1,   1.8,   2.5,   3.2,\n",
              "         3.9,   4.6,   5.3,   6. ,   6.7,   7.4,   8.1,   8.8,   9.5,\n",
              "        10.2,  10.9,  11.6,  12.3,  13. ,  13.7,  14.4,  15.1,  15.8,\n",
              "        16.5,  17.2,  17.9,  18.6,  19.3,  20. ,  20.7,  21.4,  22.1,\n",
              "        22.8,  23.5,  24.2,  24.9,  25.6,  26.3,  27. ])"
            ]
          },
          "metadata": {},
          "execution_count": 2
        }
      ],
      "source": [
        "samples_1 = np.arange(-15, 27, 0.7)\n",
        "samples_1"
      ]
    },
    {
      "cell_type": "markdown",
      "metadata": {
        "id": "5CyZN23AVqx6"
      },
      "source": [
        "2. Sinh mẫu ngẫu nhiên theo phân phối chuẩn với mean = 2.7 std = 1.2 và size = 40\n",
        "In kết quả ra màn hình"
      ]
    },
    {
      "cell_type": "code",
      "execution_count": 4,
      "metadata": {
        "id": "kpeI4H3XVqx7",
        "colab": {
          "base_uri": "https://localhost:8080/"
        },
        "outputId": "7a99c2c4-3dd0-4051-c768-bb7a1739d08f"
      },
      "outputs": [
        {
          "output_type": "execute_result",
          "data": {
            "text/plain": [
              "array([ 4.08332155,  3.12006974,  1.60368079,  3.69965442,  4.73259331,\n",
              "        2.03084111,  3.80244725,  2.58180036,  2.38467633,  0.67430126,\n",
              "        2.87441167,  5.24737575,  0.56925143,  3.31047033, -0.07178426,\n",
              "        3.70014073,  2.67335965,  2.95205502,  3.92729667,  2.96496179,\n",
              "        3.02924234,  2.00670405,  3.17924472,  2.33497478,  3.8212941 ,\n",
              "        1.98530494,  3.02827357,  1.11148009,  4.25147762,  0.7603577 ,\n",
              "        2.52921137,  1.39720857,  1.45752727,  2.39456741,  2.16408567,\n",
              "        2.43282676,  1.87606662,  3.26520266,  3.01989345,  1.10470745])"
            ]
          },
          "metadata": {},
          "execution_count": 4
        }
      ],
      "source": [
        "samples_2 = np.random.normal(2.7, 1.2, 40)\n",
        "samples_2"
      ]
    },
    {
      "cell_type": "markdown",
      "metadata": {
        "id": "EtOEGhfbVqx8"
      },
      "source": [
        "3. Sinh mẫu ngẫu nhiên từ vector ['Viet Nam', 'Britain', 'France', 'Russia', 'Singapore'] \n",
        "\n",
        "với kích thước là 17 theo phân phối chuẩn"
      ]
    },
    {
      "cell_type": "code",
      "execution_count": 6,
      "metadata": {
        "id": "GeALIwDrVqx9",
        "colab": {
          "base_uri": "https://localhost:8080/"
        },
        "outputId": "1a8db1e6-5fbe-4da3-88cb-a8548d12e23a"
      },
      "outputs": [
        {
          "output_type": "execute_result",
          "data": {
            "text/plain": [
              "array(['Britain', 'Singapore', 'Viet Nam', 'France', 'Viet Nam',\n",
              "       'Viet Nam', 'Russia', 'Britain', 'Britain', 'Singapore', 'Russia',\n",
              "       'France', 'Viet Nam', 'Singapore', 'Russia', 'Viet Nam', 'Russia'],\n",
              "      dtype='<U9')"
            ]
          },
          "metadata": {},
          "execution_count": 6
        }
      ],
      "source": [
        "samples_3 = np.random.choice(['Viet Nam', 'Britain', 'France', 'Russia', 'Singapore'], 17)\n",
        "samples_3"
      ]
    },
    {
      "cell_type": "markdown",
      "metadata": {
        "id": "ZVcV3egOVqx-"
      },
      "source": [
        "4. Sinh mẫu ngẫu nhiên ở câu 3 nhưng không theo phân phối chuẩn mà theo 1 vector đặc tả giá trị xác suất do bạn chọn"
      ]
    },
    {
      "cell_type": "code",
      "execution_count": 10,
      "metadata": {
        "id": "oJhyIZVCVqx-",
        "colab": {
          "base_uri": "https://localhost:8080/"
        },
        "outputId": "26b5dc58-8954-448c-8dd7-ec261292c2f8"
      },
      "outputs": [
        {
          "output_type": "stream",
          "name": "stdout",
          "text": [
            "['Viet Nam' 'Russia' 'Russia' 'Singapore' 'Russia' 'Russia' 'Viet Nam'\n",
            " 'France' 'Viet Nam' 'France']\n"
          ]
        }
      ],
      "source": [
        "#Sinh ngẫu nhiên chuỗi các thành phố ở trên nhưng không theo phân phối chuẩn mà theo đặc tả xác suất sau [0.2, 0.1, 0.2, 0.3, 0.2]\n",
        "#Lưu ý: tổng các xác suất của p bằng 1\n",
        "samples_4 = np.random.choice(['Viet Nam', 'Britain', 'France', 'Russia', 'Singapore'], 10, p = [0.2, 0.1, 0.2, 0.3, 0.2])\n",
        "print(samples_4)"
      ]
    },
    {
      "cell_type": "markdown",
      "metadata": {
        "id": "S0v_Gak5Vqx_"
      },
      "source": [
        "Sử dụng thư việc scipy.stats để sinh mẫu ngẫu nhiên\n",
        "\n",
        "1. Sinh mẫu ngẫu nhiên theo phân phối chuẩn với mean = 12.7, std = 2.6 và size = 30. In kết quả ra màn hình"
      ]
    },
    {
      "cell_type": "code",
      "execution_count": 11,
      "metadata": {
        "id": "Beuz4VyLVqx_",
        "colab": {
          "base_uri": "https://localhost:8080/"
        },
        "outputId": "b8acccc8-8c70-42aa-e999-5a048533fc5e"
      },
      "outputs": [
        {
          "output_type": "stream",
          "name": "stdout",
          "text": [
            "[10.6498093   8.36802291 10.60269216 11.70454889 18.29312222 12.5115547\n",
            " 11.80731195 12.31732249 10.26265114 13.02712379]\n"
          ]
        }
      ],
      "source": [
        "samples_5 = stats.norm.rvs(loc = 12.7, scale = 2.6, size = 30)\n",
        "print(samples_5[:10])"
      ]
    },
    {
      "cell_type": "markdown",
      "metadata": {
        "id": "ssz11SiqVqyA"
      },
      "source": [
        "2. Hãy sinh một mẫu ngẫu nhiên theo phân phối Poisson"
      ]
    },
    {
      "cell_type": "code",
      "execution_count": 17,
      "metadata": {
        "id": "UgDD_CTVVqyA",
        "colab": {
          "base_uri": "https://localhost:8080/"
        },
        "outputId": "0c8e639b-347a-4f61-f143-9c0fde6108ba"
      },
      "outputs": [
        {
          "output_type": "stream",
          "name": "stdout",
          "text": [
            "[ 88  80  94 101  81  87  88  87 106  93]\n"
          ]
        }
      ],
      "source": [
        "samples_6 = stats.poisson.rvs(loc=56, mu = 34, size = 200)\n",
        "print(samples_6[:10])"
      ]
    },
    {
      "cell_type": "code",
      "execution_count": null,
      "metadata": {
        "id": "H7Rel_QJVqyA"
      },
      "outputs": [],
      "source": [
        ""
      ]
    }
  ],
  "metadata": {
    "kernelspec": {
      "display_name": "Python 3",
      "language": "python",
      "name": "python3"
    },
    "language_info": {
      "codemirror_mode": {
        "name": "ipython",
        "version": 3
      },
      "file_extension": ".py",
      "mimetype": "text/x-python",
      "name": "python",
      "nbconvert_exporter": "python",
      "pygments_lexer": "ipython3",
      "version": "3.7.3"
    },
    "colab": {
      "name": "bai-tap-sinh-mau-ngau-nhien",
      "provenance": [],
      "include_colab_link": true
    }
  },
  "nbformat": 4,
  "nbformat_minor": 0
}