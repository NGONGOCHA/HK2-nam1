{
  "cells": [
    {
      "cell_type": "markdown",
      "metadata": {
        "id": "view-in-github",
        "colab_type": "text"
      },
      "source": [
        "<a href=\"https://colab.research.google.com/github/NGONGOCHA/HK2-nam1/blob/main/b%C3%A0i_t%E1%BA%ADp_numpy_s%E1%BB%91_1.ipynb\" target=\"_parent\"><img src=\"https://colab.research.google.com/assets/colab-badge.svg\" alt=\"Open In Colab\"/></a>"
      ]
    },
    {
      "cell_type": "markdown",
      "source": [
        "SƠ LƯỢC NUMPY:\n",
        "- **Numpy** là một thư viện lõi phục vụ cho khoa học máy tính của Python, hỗ trợ cho việc tính toán các mảng nhiều chiều, có kích thước lớn với các hàm đã được tối ưu áp dụng lên các mảng nhiều chiều đó. Numpy đặc biệt hữu ích khi thực hiện các hàm liên quan tới Đại Số Tuyến Tính.\n",
        "- Khai báo numpy: ***import numpy as np***"
      ],
      "metadata": {
        "id": "9Rx7ykzoSsVw"
      }
    },
    {
      "cell_type": "markdown",
      "metadata": {
        "id": "AlJtXNTBCXje"
      },
      "source": [
        "Bài 1: Xét không gian $R^3$, một điểm A trong không gian này có tọa độ là (5, 7, 14). Hãy khởi tạo giá trị của điểm A nêu trên bằng Numpy."
      ]
    },
    {
      "cell_type": "code",
      "execution_count": 1,
      "metadata": {
        "colab": {
          "base_uri": "https://localhost:8080/"
        },
        "id": "xF-L-EyeCSKx",
        "outputId": "786901eb-d330-4bb9-a821-04ed2f782c34"
      },
      "outputs": [
        {
          "output_type": "stream",
          "name": "stdout",
          "text": [
            "[ 5  7 14]\n"
          ]
        }
      ],
      "source": [
        "import numpy as np\n",
        "A = np.array([5,7,14]) #khởi tạo mảng 1 chiều\n",
        "print(A)"
      ]
    },
    {
      "cell_type": "markdown",
      "metadata": {
        "id": "HoA0eASjCwc-"
      },
      "source": [
        "Bài 2: Mở rộng không gian lên $R^15$, điểm A trong không gian này có tọa độ là (1, 2, 3, 4, 5, 6, 7, 8, 9, 10, 11, 12, 13, 14, 15). Hãy khởi tạo điểm A trong không gian 15 chiều này bằng Numpy."
      ]
    },
    {
      "cell_type": "code",
      "execution_count": 2,
      "metadata": {
        "colab": {
          "base_uri": "https://localhost:8080/"
        },
        "id": "3pYWLOJQC2hF",
        "outputId": "b90b375a-9023-4ffd-8463-3502994ddbb6"
      },
      "outputs": [
        {
          "output_type": "stream",
          "name": "stdout",
          "text": [
            "[ 1  2  3  4  5  6  7  8  9 10 11 12 13 14 15]\n"
          ]
        }
      ],
      "source": [
        "import numpy as np\n",
        "A = np.array([i+1 for i in range(15)]) #khởi tạo mảng 1 chiều\n",
        "print(A)"
      ]
    },
    {
      "cell_type": "markdown",
      "metadata": {
        "id": "W90JPkBtDFEt"
      },
      "source": [
        "Bài 3: Hãy viết chương trình sinh ngẫu nhiên một vector trong không gian $R^n$ với n là số nguyên dương được nhập vào từ bàn phím. Yêu cầu: sử dụng Numpy."
      ]
    },
    {
      "cell_type": "code",
      "execution_count": 7,
      "metadata": {
        "colab": {
          "base_uri": "https://localhost:8080/"
        },
        "id": "srRN4-VEDS1s",
        "outputId": "fb596ac1-82a0-4f6b-feeb-0b3253cbc395"
      },
      "outputs": [
        {
          "output_type": "stream",
          "name": "stdout",
          "text": [
            "Nhập n: 5\n",
            "[-7 -1 -5  4 -6]\n"
          ]
        }
      ],
      "source": [
        "import numpy as np\n",
        "\n",
        "n = int(input(\"Nhập n: \"))\n",
        "A = np.random.randint(-10, 10, n)\n",
        "print(A)"
      ]
    },
    {
      "cell_type": "markdown",
      "metadata": {
        "id": "V8MjDrWoEpAS"
      },
      "source": [
        "Bài 4: Hãy viết chương trình tính chiều dài của vector OA=[7,-5,8]"
      ]
    },
    {
      "cell_type": "code",
      "execution_count": 8,
      "metadata": {
        "colab": {
          "base_uri": "https://localhost:8080/"
        },
        "id": "UNHumumgEyw8",
        "outputId": "4cc969e0-8575-4146-8b81-5d2ca136868a"
      },
      "outputs": [
        {
          "output_type": "stream",
          "name": "stdout",
          "text": [
            "[ 7 -5  8]\n",
            "Chiều dài vector OA là:  11.74734012447073\n"
          ]
        }
      ],
      "source": [
        "import numpy as np\n",
        "\n",
        "OA = np.array([7,-5,8])\n",
        "print(OA)\n",
        "chieu_dai_vector_OA = np.sqrt((OA[0])**2 + (OA[1])**2 + (OA[2])**2)\n",
        "print(\"Chiều dài vector OA là: \", chieu_dai_vector_OA)"
      ]
    },
    {
      "cell_type": "markdown",
      "metadata": {
        "id": "YLW4R9-vJ6BS"
      },
      "source": [
        "Bài 5: Trong không gian $R^n$, hãy sinh ngẫu nhiên 2 điểm A và B. Xác định vector AB và tính chiều dài của vector này ‖AB‖. Lưu ý: sử dụng Numpy."
      ]
    },
    {
      "cell_type": "code",
      "execution_count": 11,
      "metadata": {
        "colab": {
          "base_uri": "https://localhost:8080/"
        },
        "id": "XyOS_1qRKYWk",
        "outputId": "88d57ca5-0b68-491b-c080-66f7d399cdc4"
      },
      "outputs": [
        {
          "output_type": "stream",
          "name": "stdout",
          "text": [
            "Nhập n: 4\n",
            "[ 0  2  5 -9]\n",
            "[-6 -2  2 -9]\n",
            "Vector AB là:  [-6 -4 -3  0]\n",
            "Chiều dài vector AB là:  7.810249675906654\n"
          ]
        }
      ],
      "source": [
        "import numpy as np\n",
        "\n",
        "n = int(input(\"Nhập n: \"))\n",
        "A = np.random.randint(-10, 10, n)\n",
        "print(A)\n",
        "B = np.random.randint(-10, 10, n)\n",
        "print(B)\n",
        "\n",
        "vector_AB = B-A\n",
        "print(\"Vector AB là: \", vector_AB)\n",
        "\n",
        "chieu_dai_vector_AB = np.sqrt((vector_AB[0])**2 + (vector_AB[1])**2 + (vector_AB[2])**2)\n",
        "print(\"Chiều dài vector AB là: \", chieu_dai_vector_AB)"
      ]
    },
    {
      "cell_type": "markdown",
      "metadata": {
        "id": "_YJpZulQMptT"
      },
      "source": [
        "Bài 6: Trong không gian $R^n$, hãy sinh ngẫu nhiên 2 vector a & b và tính tích vô hướng của 2 vector này.\n",
        "Lưu ý: sử dụng numpy để tính tích vô hướng và số nguyên dương n được nhập vào từ bàn phím.\n",
        "Gợi ý: sử dụng hàm numpy.inner()"
      ]
    },
    {
      "cell_type": "code",
      "execution_count": 12,
      "metadata": {
        "colab": {
          "base_uri": "https://localhost:8080/"
        },
        "id": "mCJOFRbtM4wi",
        "outputId": "8cb15536-341f-4710-e68a-b90803f1fefb"
      },
      "outputs": [
        {
          "output_type": "stream",
          "name": "stdout",
          "text": [
            "Nhập n: 4\n",
            "vector a là:  [9 7 9 5]\n",
            "vector b là:  [ -2   3 -10  -6]\n",
            "tích vô hướng của 2 vector a và b là:  -117\n"
          ]
        }
      ],
      "source": [
        "import numpy as np\n",
        "\n",
        "n = int(input(\"Nhập n: \"))\n",
        "\n",
        "a = np.random.randint(-10, 10, n)\n",
        "print(\"vector a là: \", a)\n",
        "\n",
        "b = np.random.randint(-10, 10, n)\n",
        "print(\"vector b là: \", b)\n",
        "\n",
        "tich_vo_huong = np.inner(a, b)\n",
        "print(\"tích vô hướng của 2 vector a và b là: \", tich_vo_huong)"
      ]
    },
    {
      "cell_type": "markdown",
      "metadata": {
        "id": "GQU0yeJy6LAG"
      },
      "source": [
        "Bài 7: Trong không gian $R^n$, hãy sinh ngẫu nhiên 2 vector a & b và tính tích hữu hướng của 2 vector này.\n",
        "Lưu ý: sử dụng numpy để tính tích vô hướng và số nguyên dương n được nhập vào từ bàn phím.\n",
        "Gợi ý: sử dụng hàm numpy.cross()"
      ]
    },
    {
      "cell_type": "code",
      "execution_count": 14,
      "metadata": {
        "colab": {
          "base_uri": "https://localhost:8080/"
        },
        "id": "k9agF7D86VdL",
        "outputId": "3813ff1b-b45a-45a9-e8ec-b308ef867f1e"
      },
      "outputs": [
        {
          "output_type": "stream",
          "name": "stdout",
          "text": [
            "Nhập n: 3\n",
            "vector a là:  [ -4 -10   9]\n",
            "vector b là:  [7 4 1]\n",
            "tích hữu hướng của 2 vector a và b là:  [-46  67  54]\n"
          ]
        }
      ],
      "source": [
        "import numpy as np\n",
        "\n",
        "n = int(input(\"Nhập n: \"))\n",
        "\n",
        "a = np.random.randint(-10, 10, n)\n",
        "print(\"vector a là: \", a)\n",
        "\n",
        "b = np.random.randint(-10, 10, n)\n",
        "print(\"vector b là: \", b)\n",
        "\n",
        "tich_huu_huong = np.cross(a, b)\n",
        "print(\"tích hữu hướng của 2 vector a và b là: \", tich_huu_huong)"
      ]
    },
    {
      "cell_type": "markdown",
      "metadata": {
        "id": "BSPjfqjg7VIY"
      },
      "source": [
        "Bài 8 - Phép chuyển vị (transpose): trong numpy, một vector a khi thực hiện chuyển vị sẽ được thực hiện thông qua thao tác a.T\n",
        "Hãy viết chương trình sinh ngẫu nhiên một vector a trong không gian $R^n$, số nguyên dương n được nhập vào từ bàn phím. Xuất ra màn hình giá của vector a và chuyển vị của vector a ."
      ]
    },
    {
      "cell_type": "code",
      "execution_count": 16,
      "metadata": {
        "colab": {
          "base_uri": "https://localhost:8080/"
        },
        "id": "CIw3B7Wv9Jfq",
        "outputId": "b4ee5e60-e5cf-4a6d-a13d-2a9e489115f7"
      },
      "outputs": [
        {
          "output_type": "stream",
          "name": "stdout",
          "text": [
            "Nhập n: 5\n",
            "vector a là: \n",
            "[-3  6  5  0  8]\n",
            "Chuyển vị của vector a là: \n",
            "[-3  6  5  0  8]\n"
          ]
        }
      ],
      "source": [
        "import numpy as np\n",
        "\n",
        "n = int(input(\"Nhập n: \"))\n",
        "\n",
        "a = np.random.randint(-10, 10, n)\n",
        "print(\"vector a là: \", a, sep = '\\n')\n",
        "\n",
        "print(\"Chuyển vị của vector a là: \", a.T, sep = '\\n')"
      ]
    },
    {
      "cell_type": "markdown",
      "metadata": {
        "id": "0B4Y6hvCC84_"
      },
      "source": [
        "Bài 9 - Kết hợp cấu trúc list với Numpy:\n",
        "1. a = [1, 2, 3, 4, 5]\n",
        "2. b = [[1], [2], [3], [4], [5]]\n",
        "\n",
        "Hãy:\n",
        "- Xuất a và b ra màn hình\n",
        "- Tạo vector tương ứng từ a và b, xuất kết quả ra màn hình\n",
        "- Thực hiện phép chuyển vị đối với 2 vector ở trên và xuất kết quả ra màn hình."
      ]
    },
    {
      "cell_type": "code",
      "execution_count": 17,
      "metadata": {
        "colab": {
          "base_uri": "https://localhost:8080/"
        },
        "id": "WzdUn5cyDFkO",
        "outputId": "519bc657-bb5c-447d-a670-afffefd4894c"
      },
      "outputs": [
        {
          "output_type": "stream",
          "name": "stdout",
          "text": [
            "[1, 2, 3, 4, 5]\n",
            "[[1], [2], [3], [4], [5]]\n",
            "vector a là:  [1 2 3 4 5]\n",
            "vector b là: \n",
            "[[1]\n",
            " [2]\n",
            " [3]\n",
            " [4]\n",
            " [5]]\n",
            "Chuyển vị của vector a là:  [1 2 3 4 5]\n",
            "Chuyển vị của vector b là:  [[1 2 3 4 5]]\n"
          ]
        }
      ],
      "source": [
        "import numpy as np\n",
        "\n",
        "a = [1, 2, 3, 4, 5]\n",
        "b = [[1], [2], [3], [4], [5]]\n",
        "\n",
        "aa = np.array(a)\n",
        "bb = np.array(b)\n",
        "\n",
        "print(a)\n",
        "print(b)\n",
        "\n",
        "print(\"vector a là: \", aa)\n",
        "print(\"vector b là: \", bb, sep = '\\n')\n",
        "\n",
        "print(\"Chuyển vị của vector a là: \", aa.T)\n",
        "print(\"Chuyển vị của vector b là: \", bb.T)"
      ]
    },
    {
      "cell_type": "markdown",
      "metadata": {
        "id": "Jc68bfiTGL5E"
      },
      "source": [
        "Bài 10: Trong không gian $R^n$, hãy sinh ngẫu nhiên vector a và b, n là số nguyên dương nhập vào từ bàn phím. \n",
        "\n",
        "Hãy:\n",
        "\n",
        "-Thực hiện phép nhân: ma với m là số bất kỳ, xuất kết quả ra màn hình\n",
        "\n",
        "-Thực hiện phép cộng 2 vector: a + b và xuất kết quả ra màn hình."
      ]
    },
    {
      "cell_type": "code",
      "execution_count": 18,
      "metadata": {
        "colab": {
          "base_uri": "https://localhost:8080/"
        },
        "id": "hFgRtxY_GcM4",
        "outputId": "dd23f6a4-7245-4686-f23f-b6c7f03171c7"
      },
      "outputs": [
        {
          "output_type": "stream",
          "name": "stdout",
          "text": [
            "nhập n: 4\n",
            "[-9  9  1 -8]\n",
            "[ 0  7  6 -6]\n",
            "nhập m: 3\n",
            "a*m: \n",
            " [-27  27   3 -24]\n",
            "a+b là: \n",
            " [ -9  16   7 -14]\n"
          ]
        }
      ],
      "source": [
        "import numpy as np\n",
        "import random\n",
        "\n",
        "n = int(input(\"nhập n: \"))\n",
        "\n",
        "a = np.random.randint(-10, 10, n)\n",
        "print(a)\n",
        "b = np.random.randint(-10, 10, n)\n",
        "print(b)\n",
        "\n",
        "m = int(input(\"nhập m: \"))\n",
        "\n",
        "print(\"a*m: \\n\", a*m)\n",
        "print(\"a+b là: \\n\", a+b)"
      ]
    }
  ],
  "metadata": {
    "colab": {
      "name": "bài tập numpy số 1",
      "provenance": [],
      "authorship_tag": "ABX9TyMz3Y9Gr5fx5BdXZI8c9Okn",
      "include_colab_link": true
    },
    "kernelspec": {
      "display_name": "Python 3",
      "name": "python3"
    },
    "language_info": {
      "name": "python"
    }
  },
  "nbformat": 4,
  "nbformat_minor": 0
}