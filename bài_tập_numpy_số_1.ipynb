{
  "cells": [
    {
      "cell_type": "markdown",
      "metadata": {
        "id": "view-in-github",
        "colab_type": "text"
      },
      "source": [
        "<a href=\"https://colab.research.google.com/github/NGONGOCHA/HK2-nam1/blob/main/b%C3%A0i_t%E1%BA%ADp_numpy_s%E1%BB%91_1.ipynb\" target=\"_parent\"><img src=\"https://colab.research.google.com/assets/colab-badge.svg\" alt=\"Open In Colab\"/></a>"
      ]
    },
    {
      "cell_type": "markdown",
      "metadata": {
        "id": "AlJtXNTBCXje"
      },
      "source": [
        "Bài 1: Xét không gian R3, một điểm A trong không gian này có tọa độ là (5, 7, 14). Hãy khởi tạo giá trị của điểm A nêu trên bằng Numpy."
      ]
    },
    {
      "cell_type": "code",
      "execution_count": null,
      "metadata": {
        "colab": {
          "base_uri": "https://localhost:8080/"
        },
        "id": "xF-L-EyeCSKx",
        "outputId": "f2d19d6d-7f92-443e-fd5e-83671c2f3cb5"
      },
      "outputs": [
        {
          "name": "stdout",
          "output_type": "stream",
          "text": [
            "[ 5  7 14]\n"
          ]
        }
      ],
      "source": [
        "import numpy as np\n",
        "A = np.array([5,7,14])\n",
        "print(A)"
      ]
    },
    {
      "cell_type": "markdown",
      "metadata": {
        "id": "HoA0eASjCwc-"
      },
      "source": [
        "Bài 2: Mở rộng không gian lên R15, điểm A trong không gian này có tọa độ là (1, 2, 3, 4, 5, 6, 7, 8, 9, 10, 11, 12, 13, 14, 15). Hãy khởi tạo điểm A trong không gian 15 chiều này bằng Numpy."
      ]
    },
    {
      "cell_type": "code",
      "execution_count": null,
      "metadata": {
        "colab": {
          "base_uri": "https://localhost:8080/"
        },
        "id": "3pYWLOJQC2hF",
        "outputId": "68bd014d-8b5c-4f02-9f78-d0eb021a677b"
      },
      "outputs": [
        {
          "name": "stdout",
          "output_type": "stream",
          "text": [
            "[ 1  2  3  4  5  6  7  8  9 10 11 12 13 14 15]\n"
          ]
        }
      ],
      "source": [
        "import numpy as np\n",
        "A = np.array([1, 2, 3, 4, 5, 6, 7, 8, 9, 10, 11, 12, 13, 14, 15])\n",
        "print(A)"
      ]
    },
    {
      "cell_type": "markdown",
      "metadata": {
        "id": "W90JPkBtDFEt"
      },
      "source": [
        "Bài 3: Hãy viết chương trình sinh ngẫu nhiên một vector trong không gian Rn với n là số nguyên dương được nhập vào từ bàn phím. Yêu cầu: sử dụng Numpy."
      ]
    },
    {
      "cell_type": "code",
      "execution_count": null,
      "metadata": {
        "colab": {
          "base_uri": "https://localhost:8080/"
        },
        "id": "srRN4-VEDS1s",
        "outputId": "dab1c62b-5b70-4c4b-dc8d-75a100976ff2"
      },
      "outputs": [
        {
          "output_type": "stream",
          "name": "stdout",
          "text": [
            "Nhập n: 4\n",
            "[[ 0  7 -8 -9]]\n"
          ]
        }
      ],
      "source": [
        "import numpy as np\n",
        "\n",
        "n = int(input(\"Nhập n: \"))\n",
        "A = np.random.randint(low=-10, high=10, size=(1,n))\n",
        "print(A)"
      ]
    },
    {
      "cell_type": "markdown",
      "metadata": {
        "id": "V8MjDrWoEpAS"
      },
      "source": [
        "Bài 4: Hãy viết chương trình tính chiều dài của vector OA=[7,-5,8]"
      ]
    },
    {
      "cell_type": "code",
      "execution_count": null,
      "metadata": {
        "colab": {
          "base_uri": "https://localhost:8080/"
        },
        "id": "UNHumumgEyw8",
        "outputId": "5894b3e9-96c0-4c2c-a54e-175a1c4943de"
      },
      "outputs": [
        {
          "name": "stdout",
          "output_type": "stream",
          "text": [
            "[ 7 -5  8]\n",
            "Chiều dài vector OA là:  11.74734012447073\n"
          ]
        }
      ],
      "source": [
        "import numpy as np\n",
        "\n",
        "OA = np.array([7,-5,8])\n",
        "print(OA)\n",
        "chieu_dai_vector_OA = np.sqrt((OA[0])**2 + (OA[1])**2 + (OA[2])**2)\n",
        "print(\"Chiều dài vector OA là: \", chieu_dai_vector_OA)"
      ]
    },
    {
      "cell_type": "markdown",
      "metadata": {
        "id": "YLW4R9-vJ6BS"
      },
      "source": [
        "Bài 5: Trong không gian Rn, hãy sinh ngẫu nhiên 2 điểm A và B. Xác định vector AB và tính chiều dài của vector này ‖AB‖. Lưu ý: sử dụng Numpy."
      ]
    },
    {
      "cell_type": "code",
      "execution_count": null,
      "metadata": {
        "colab": {
          "base_uri": "https://localhost:8080/"
        },
        "id": "XyOS_1qRKYWk",
        "outputId": "2e53c8df-5e04-4d31-e00e-7bf104a4cc41"
      },
      "outputs": [
        {
          "output_type": "stream",
          "name": "stdout",
          "text": [
            "Nhập n: 4\n",
            "[[ 0  6 -8  8]]\n",
            "[[ 1  8 -3 -1]]\n",
            "Vector AB là:  [[ 1  2  5 -9]]\n",
            "Chiều dài vector AB là:  5.477225575051661\n"
          ]
        }
      ],
      "source": [
        "import numpy as np\n",
        "\n",
        "n = int(input(\"Nhập n: \"))\n",
        "A = np.random.randint(low=-10, high=10, size=(1,n))\n",
        "print(A)\n",
        "B = np.random.randint(low=-10, high=10, size=(1,n))\n",
        "print(B)\n",
        "\n",
        "vector_AB = B-A\n",
        "print(\"Vector AB là: \", vector_AB)\n",
        "\n",
        "chieu_dai_vector_AB = np.sqrt((vector_AB[0][0])**2 + (vector_AB[0][1])**2 + (vector_AB[0][2])**2)\n",
        "print(\"Chiều dài vector AB là: \", chieu_dai_vector_AB)"
      ]
    },
    {
      "cell_type": "markdown",
      "metadata": {
        "id": "_YJpZulQMptT"
      },
      "source": [
        "Bài 6: Trong không gian Rn, hãy sinh ngẫu nhiên 2 vector a & b và tính tích vô hướng của 2 vector này.\n",
        "Lưu ý: sử dụng numpy để tính tích vô hướng và số nguyên dương n được nhập vào từ bàn phím.\n",
        "Gợi ý: sử dụng hàm numpy.inner()"
      ]
    },
    {
      "cell_type": "code",
      "execution_count": null,
      "metadata": {
        "colab": {
          "base_uri": "https://localhost:8080/"
        },
        "id": "mCJOFRbtM4wi",
        "outputId": "e6c8c8cb-c726-4fbc-d1de-6cc5316daf6b"
      },
      "outputs": [
        {
          "output_type": "stream",
          "name": "stdout",
          "text": [
            "Nhập n: 5\n",
            "vector a là:  [[ -2   9 -10  -1   5]]\n",
            "vector b là:  [[ -6   9 -10   0  -3]]\n",
            "tích vô hướng của 2 vector a và b là:  [[178]]\n"
          ]
        }
      ],
      "source": [
        "import numpy as np\n",
        "\n",
        "n = int(input(\"Nhập n: \"))\n",
        "\n",
        "a = np.random.randint(low=-10, high=10, size=(1,n))\n",
        "print(\"vector a là: \", a)\n",
        "\n",
        "b = np.random.randint(low=-10, high=10, size=(1,n))\n",
        "print(\"vector b là: \", b)\n",
        "\n",
        "tich_vo_huong = np.inner(a, b)\n",
        "print(\"tích vô hướng của 2 vector a và b là: \", tich_vo_huong)"
      ]
    },
    {
      "cell_type": "markdown",
      "metadata": {
        "id": "GQU0yeJy6LAG"
      },
      "source": [
        "Bài 7: Trong không gian Rn, hãy sinh ngẫu nhiên 2 vector a & b và tính tích hữu hướng của 2 vector này.\n",
        "Lưu ý: sử dụng numpy để tính tích vô hướng và số nguyên dương n được nhập vào từ bàn phím.\n",
        "Gợi ý: sử dụng hàm numpy.cross()"
      ]
    },
    {
      "cell_type": "code",
      "execution_count": null,
      "metadata": {
        "colab": {
          "base_uri": "https://localhost:8080/"
        },
        "id": "k9agF7D86VdL",
        "outputId": "4d98552d-1a23-4bd7-a9cf-150369bbd31e"
      },
      "outputs": [
        {
          "output_type": "stream",
          "name": "stdout",
          "text": [
            "Nhập n: 3\n",
            "vector a là:  [[ 3 -8 -1]]\n",
            "vector b là:  [[-8 -6 -5]]\n",
            "tích hữu hướng của 2 vector a và b là:  [[ 34  23 -82]]\n"
          ]
        }
      ],
      "source": [
        "import numpy as np\n",
        "\n",
        "n = int(input(\"Nhập n: \"))\n",
        "\n",
        "a = np.random.randint(low=-10, high=10, size=(1,n))\n",
        "print(\"vector a là: \", a)\n",
        "\n",
        "b = np.random.randint(low=-10, high=10, size=(1,n))\n",
        "print(\"vector b là: \", b)\n",
        "\n",
        "tich_huu_huong = np.cross(a, b)\n",
        "print(\"tích hữu hướng của 2 vector a và b là: \", tich_huu_huong)"
      ]
    },
    {
      "cell_type": "markdown",
      "metadata": {
        "id": "BSPjfqjg7VIY"
      },
      "source": [
        "Bài 8 - Phép chuyển vị (transpose): trong numpy, một vector a khi thực hiện chuyển vị sẽ được thực hiện thông qua thao tác a.T\n",
        "Hãy viết chương trình sinh ngẫu nhiên một vector a trong không gian Rn, số nguyên dương n được nhập vào từ bàn phím. Xuất ra màn hình giá của vector a và chuyển vị của vector a ."
      ]
    },
    {
      "cell_type": "code",
      "execution_count": null,
      "metadata": {
        "colab": {
          "base_uri": "https://localhost:8080/"
        },
        "id": "CIw3B7Wv9Jfq",
        "outputId": "b0116f97-cb21-494c-96ea-0ad7f6ffb5ef"
      },
      "outputs": [
        {
          "output_type": "stream",
          "name": "stdout",
          "text": [
            "Nhập n: 8\n",
            "vector a là: \n",
            "[[-10   6  -9   9   8  -9   7   4]]\n",
            "Chuyển vị của vector a là: \n",
            "[[-10]\n",
            " [  6]\n",
            " [ -9]\n",
            " [  9]\n",
            " [  8]\n",
            " [ -9]\n",
            " [  7]\n",
            " [  4]]\n"
          ]
        }
      ],
      "source": [
        "import numpy as np\n",
        "\n",
        "n = int(input(\"Nhập n: \"))\n",
        "\n",
        "a = np.random.randint(low=-10, high=10, size=(1,n))\n",
        "print(\"vector a là: \", a, sep = '\\n')\n",
        "\n",
        "print(\"Chuyển vị của vector a là: \", a.T, sep = '\\n')"
      ]
    },
    {
      "cell_type": "markdown",
      "metadata": {
        "id": "0B4Y6hvCC84_"
      },
      "source": [
        "Bài 9 - Kết hợp cấu trúc list với Numpy:\n",
        "1. a = [1, 2, 3, 4, 5]\n",
        "2. b = [[1], [2], [3], [4], [5]]\n",
        "\n",
        "Hãy:\n",
        "- Xuất a và b ra màn hình\n",
        "- Tạo vector tương ứng từ a và b, xuất kết quả ra màn hình\n",
        "- Thực hiện phép chuyển vị đối với 2 vector ở trên và xuất kết quả ra màn hình."
      ]
    },
    {
      "cell_type": "code",
      "execution_count": null,
      "metadata": {
        "colab": {
          "base_uri": "https://localhost:8080/"
        },
        "id": "WzdUn5cyDFkO",
        "outputId": "20d7cd4f-cd7c-4746-d564-19e78059b1cd"
      },
      "outputs": [
        {
          "name": "stdout",
          "output_type": "stream",
          "text": [
            "[1, 2, 3, 4, 5]\n",
            "[[1], [2], [3], [4], [5]]\n",
            "vector a là:  [1 2 3 4 5]\n",
            "vector b là: \n",
            "[[1]\n",
            " [2]\n",
            " [3]\n",
            " [4]\n",
            " [5]]\n",
            "Chuyển vị của vector a là:  [1 2 3 4 5]\n",
            "Chuyển vị của vector a là:  [[1 2 3 4 5]]\n"
          ]
        }
      ],
      "source": [
        "import numpy as np\n",
        "\n",
        "a = [1, 2, 3, 4, 5]\n",
        "b = [[1], [2], [3], [4], [5]]\n",
        "\n",
        "aa = np.array(a)\n",
        "bb = np.array(b)\n",
        "\n",
        "print(a)\n",
        "print(b)\n",
        "\n",
        "print(\"vector a là: \", aa)\n",
        "print(\"vector b là: \", bb, sep = '\\n')\n",
        "\n",
        "print(\"Chuyển vị của vector a là: \", aa.T)\n",
        "print(\"Chuyển vị của vector b là: \", bb.T)"
      ]
    },
    {
      "cell_type": "markdown",
      "metadata": {
        "id": "Jc68bfiTGL5E"
      },
      "source": [
        "Bài 10: Trong không gian Rn, hãy sinh ngẫu nhiên vector a và b, n là số nguyên dương nhập vào từ bàn phím. \n",
        "\n",
        "Hãy:\n",
        "\n",
        "-Thực hiện phép nhân: ma với m là số bất kỳ, xuất kết quả ra màn hình\n",
        "\n",
        "-Thực hiện phép cộng 2 vector: a + b và xuất kết quả ra màn hình."
      ]
    },
    {
      "cell_type": "code",
      "execution_count": null,
      "metadata": {
        "colab": {
          "base_uri": "https://localhost:8080/"
        },
        "id": "hFgRtxY_GcM4",
        "outputId": "1bca8c11-2a70-49d2-bca8-566567d42374"
      },
      "outputs": [
        {
          "output_type": "stream",
          "name": "stdout",
          "text": [
            "nhập n: 5\n",
            "[[-1  8 -9  6  1]]\n",
            "[[ -9 -10   9   1   4]]\n",
            "nhập m: 4\n",
            "a*m: \n",
            " [[ -4  32 -36  24   4]]\n",
            "a+b là: \n",
            " [[-10  -2   0   7   5]]\n"
          ]
        }
      ],
      "source": [
        "import numpy as np\n",
        "import random\n",
        "\n",
        "n = int(input(\"nhập n: \"))\n",
        "\n",
        "a = np.random.randint(low=-10, high=10, size=(1,n))\n",
        "print(a)\n",
        "b = np.random.randint(low=-10, high=10, size=(1,n))\n",
        "print(b)\n",
        "\n",
        "m = int(input(\"nhập m: \"))\n",
        "\n",
        "print(\"a*m: \\n\", a*m)\n",
        "print(\"a+b là: \\n\", a+b)"
      ]
    }
  ],
  "metadata": {
    "colab": {
      "name": "bài tập numpy số 1",
      "provenance": [],
      "authorship_tag": "ABX9TyMerD97Jy+J6w371e5c+dZ8",
      "include_colab_link": true
    },
    "kernelspec": {
      "display_name": "Python 3",
      "name": "python3"
    },
    "language_info": {
      "name": "python"
    }
  },
  "nbformat": 4,
  "nbformat_minor": 0
}