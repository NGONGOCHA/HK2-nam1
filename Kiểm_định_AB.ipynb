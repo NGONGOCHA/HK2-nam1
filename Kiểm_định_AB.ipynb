{
  "nbformat": 4,
  "nbformat_minor": 0,
  "metadata": {
    "colab": {
      "name": "Kiểm định AB",
      "provenance": [],
      "include_colab_link": true
    },
    "kernelspec": {
      "name": "python3",
      "display_name": "Python 3"
    },
    "language_info": {
      "name": "python"
    }
  },
  "cells": [
    {
      "cell_type": "markdown",
      "metadata": {
        "id": "view-in-github",
        "colab_type": "text"
      },
      "source": [
        "<a href=\"https://colab.research.google.com/github/NGONGOCHA/HK2-nam1/blob/main/Ki%E1%BB%83m_%C4%91%E1%BB%8Bnh_AB.ipynb\" target=\"_parent\"><img src=\"https://colab.research.google.com/assets/colab-badge.svg\" alt=\"Open In Colab\"/></a>"
      ]
    },
    {
      "cell_type": "markdown",
      "source": [
        "**BÀI TẬP TỰ HỌC VỀ KIỂM ĐỊNH A/B**\n",
        "\n",
        "Sinh viên sử dụng tài liệu tham khảo \"Practical Statistics...\", Chương 3 để hoàn thành các yêu cầu sau."
      ],
      "metadata": {
        "id": "fw49i_jmb7ZK"
      }
    },
    {
      "cell_type": "markdown",
      "source": [
        "**Câu 1**: Trả lời các câu hỏi lý thuyết sau:\n",
        "\n",
        "\n",
        "1.   Kiểm định A/B là gì?\n",
        "2.   Thuật ngữ treatment trong ngữ cảnh của thống kê có thể dịch sang tiếng Việt không? nếu có thì là gì?\n",
        "3.   Nêu định nghĩa về treatment\n",
        "4.   Control group là gì? vai trò trong thí nghiệm của kiểm định A/B?\n",
        "5.   Treament group là gì? vai trò trong thí nghiệm của kiểm định A/B?\n",
        "6.   Hãy liệt kê một số kiểm định A/B trong thực tế?\n",
        "\n"
      ],
      "metadata": {
        "id": "EBsgDMSRcVy9"
      }
    },
    {
      "cell_type": "markdown",
      "source": [
        "Trả lời tại đây"
      ],
      "metadata": {
        "id": "NJmyUuh0dwh-"
      }
    },
    {
      "cell_type": "markdown",
      "source": [
        "1. Kiểm định A/B là một quy trình mà trong đó hai phiên bản (A và B) sẽ được cùng so sánh trong một môi trường / tình huống được xác định và qua đó đánh giá xem phiên bản nào hiệu quả hơn.\n",
        "2. Thuật ngữ Treatment trong ngữ cảnh của thống kê dịch ra tiếng việt có nghĩa là \"xử lý\"\n",
        "3. Treatment là một thuật ngữ tổng hợp có nghĩa là áp dụng bất kỳ phương pháp thống kê nào cho dữ liệu. Treatment được chia thành hai nhóm: thống kê mô tả, tóm tắt dữ liệu của bạn dưới dạng biểu đồ hoặc thống kê tóm tắt và thống kê suy luận, đưa ra dự đoán và kiểm tra giả thuyết về dữ liệu của bạn. Treatment có thể bao gồm:\n",
        "- Tìm độ lệch chuẩn\n",
        "- Tính toán hệ số tương quan.\n",
        "4. Control group là một phần thống kê quan trọng, nếu không có control group không có gì đảm bảo rằng “tất cả những thứ khác đều bình đẳng” và bất kỳ sự khác biệt nào thực sự là do xử lí (hoặc do sự thay đổi).\n",
        "5. Treatment group là tập hợp những người tham gia vào một nghiên cứu tiếp xúc với một số thao tác hoặc thay đổi có chủ đích trong biến số độc lập được quan tâm. Chúng là một phần không thể thiếu trong thiết kế nghiên cứu thử nghiệm giúp đo lường các tác động cũng như thiết lập quan hệ nhân quả.\n",
        "6. Một số kiểm định A/B\n",
        "- Treatment\n",
        "- Treatment group\n",
        "- Control group\n",
        "- Randomization\n",
        "- Subjects\n",
        "- Test statistic\n"
      ],
      "metadata": {
        "id": "pV0p8EbwuoVH"
      }
    },
    {
      "cell_type": "markdown",
      "source": [
        "**Câu 2**: Tại sao không có kiểm định A/B/C/D?\n",
        "\n",
        "\n",
        "Trả lời tại đây:"
      ],
      "metadata": {
        "id": "Ghp_lniLedz8"
      }
    },
    {
      "cell_type": "markdown",
      "source": [
        "Trong marketing với thương mại điện tử, thường người ta dùng phương pháp A/B testing để thử nghiệm coi phương án A hay B tốt hơn. Nhưng mà data scientist và trong thế giới phân tích thống kê thì người ta ko chỉ so sánh 2 phương án mà so nhiều phương án với nhau để tìm ra phương án tốt nhất. "
      ],
      "metadata": {
        "id": "q6CMShob-w21"
      }
    },
    {
      "cell_type": "markdown",
      "source": [
        "**Câu 3**: Lý thuyết về kiểm định giả thuyết. Trả lời các câu hỏi sau:\n",
        "\n",
        "\n",
        "1.   Nêu định nghĩa về kiểm định giả thuyết\n",
        "2.   Giả thuyết null là gì? cho ví dụ\n",
        "3.   Giả thuyết thay thế là gì? cho ví dụ\n",
        "4.   Kiểm định 1 chiều (hay 1 đuôi) là gì? cho ví dụ\n",
        "5.   Kiểm định 2 chiều (hay 2 đuôi) là gì?cho ví dụ\n",
        "6.   Nêu điểm khác biệt giữa kiểm định 1 chiều so với kiểm định 2 chiều?\n",
        "\n"
      ],
      "metadata": {
        "id": "4bRj6dX8fQKu"
      }
    },
    {
      "cell_type": "markdown",
      "source": [
        "Trả lời tại đây"
      ],
      "metadata": {
        "id": "xZHLM-16guTL"
      }
    },
    {
      "cell_type": "markdown",
      "source": [
        "1. Kiểm định giả thuyết, còn được gọi là kiểm định ý nghĩa, phổ biến trong phân tích thống kê truyền thống của các nghiên cứu đã xuất bản. Mục đích của chúng là giúp bạn tìm hiểu xem liệu cơ hội ngẫu nhiên có thể chịu trách nhiệm cho một hiệu ứng quan sát được hay không."
      ],
      "metadata": {
        "id": "obHEYSlItSey"
      }
    },
    {
      "cell_type": "markdown",
      "source": [
        "2. Giả thuyết null (giả thuyết không) là một loại giả thuyết được sử dụng trong thống kê giả định rằng không có sự khác biệt đáng kể tồn tại giữa tập hợp các biến. Giả thuyết không được cho là đúng cho đến khi có bằng chứng thống kê bác bỏ nó với một giả thuyết thay thế khác.\n"
      ],
      "metadata": {
        "id": "ePAxZgLVrJBA"
      }
    },
    {
      "cell_type": "markdown",
      "source": [
        "3. Giả thuyết thay thế được gọi là gỉa thuyết khác với giả thuyết null, nêu rõ rằng có một sự khác biệt đáng kể giữa tập hợp các biến"
      ],
      "metadata": {
        "id": "eTTbz-5duAGV"
      }
    },
    {
      "cell_type": "markdown",
      "source": [
        "**VÍ DỤ**\n",
        "\n",
        "Hiệu trưởng của trường THPT B báo cáo rằng học sinh lớp 12 trong trường đạt điểm trung bình 7/10 trong kì thi tốt nghiệp. Để kiểm định giả thuyết này, chúng ta chọn một mẫu là điểm của 30 học sinh trong toàn bộ 300 học sinh lớp 12 của trường và tính giá trị trung bình của mẫu đó. Sau đó, chúng ta có thể so sánh trung bình mẫu (đã tính toán) với giá trị trung bình tổng thể (được hiệu trưởng báo cáo) và xác nhận giả thuyết.\n",
        "\n",
        "Đối với ví dụ trên giả thuyết null sẽ là: **Học sinh lớp 12 của trường B đạt điểm trung bình 7/10 trong kì thi tốt nghiệp**\n",
        "\n",
        "Giả thuyết thay thế sẽ là: **Học sinh lớp 12 của trường B có điểm trung bình khác 7**"
      ],
      "metadata": {
        "id": "BlteDnzUtflP"
      }
    },
    {
      "cell_type": "markdown",
      "source": [
        "4. Thông thường trong thử nghiệm A / B, bạn đang thử nghiệm một tùy chọn mới (giả sử B) so với một tùy chọn mặc định đã thiết lập (A) và giả định là bạn sẽ gắn bó với tùy chọn mặc định trừ khi tùy chọn mới chứng tỏ bản thân nó tốt hơn một cách rõ ràng. Trong trường hợp như vậy, bạn muốn một bài kiểm tra giả thuyết để bảo vệ bạn khỏi tình cờ bị lừa theo hướng có lợi cho B. Bạn không quan tâm đến việc tình cờ bị lừa theo hướng khác, bởi vì bạn sẽ gắn bó với A trừ khi B chứng minh một cách chắc chắn tốt hơn. Vì vậy, bạn muốn một giả thuyết thay thế có hướng (B tốt hơn A). Trong trường hợp như vậy, bạn sử dụng kiểm tra giả thuyết một chiều (hoặc một đuôi). Điều này có nghĩa là cơ hội cực đoan chỉ có một hướng được tính vào giá trị p.\n",
        "\n"
      ],
      "metadata": {
        "id": "6kqI5G9Gv1ZN"
      }
    },
    {
      "cell_type": "markdown",
      "source": [
        "5. Nếu bạn muốn kiểm tra giả thuyết để bảo vệ bạn khỏi tình cờ bị lừa theo cả hai hướng, thì giả thuyết thay thế là hai chiều (A khác với B; có thể lớn hơn hoặc nhỏ hơn). Trong trường hợp như vậy, bạn sử dụng giả thuyết hai chiều (hoặc hai đuôi). Điều này có nghĩa là cơ hội cực đoan dẫn đến một trong hai hướng được tính vào giá trị p."
      ],
      "metadata": {
        "id": "pidn3OW8yH5c"
      }
    },
    {
      "cell_type": "markdown",
      "source": [
        "6. Sự khác biệt giữa kiểm định hai chiều và kiểm định 1 chiều:\n",
        "- Một thử nghiệm giả thuyết cho phép chúng tôi kiểm tra sự bằng nhau của ba hoặc nhiều phương tiện đồng thời sử dụng phương sai được gọi là Một chiều. Một kỹ thuật thống kê trong đó có thể nghiên cứu mối tương quan giữa các yếu tố, biến ảnh hưởng để đưa ra quyết định hiệu quả, được gọi là hai chiều.\n",
        "- Chỉ có một nhân tố hoặc biến độc lập theo một cách trong khi trong trường hợp hai chiều thì có hai biến độc lập.\n",
        "- Một chiều so sánh ba hoặc nhiều cấp độ (điều kiện) của một yếu tố. Mặt khác, hai chiều so sánh ảnh hưởng của nhiều cấp độ của hai yếu tố.\n",
        "- Một chiều, số lượng quan sát không cần giống nhau trong mỗi nhóm. Trong khi số lượng quan sát phải giống nhau trong trường hợp hai chiều.\n",
        "- Một chiều chỉ cần đáp ứng hai nguyên tắc thiết kế thí nghiệm, tức là sao chép và ngẫu nhiên hóa. Trái ngược với hai chiều, đáp ứng cả ba nguyên tắc thiết kế thí nghiệm là sao chép, ngẫu nhiên hóa và kiểm soát cục bộ."
      ],
      "metadata": {
        "id": "7uAmVz3Lywwn"
      }
    },
    {
      "cell_type": "markdown",
      "source": [
        "**Câu 4**: Lý thuyết về lấy mẫu (sampling). \n",
        "\n",
        "\n",
        "1.   Sampling là gì? cho ví dụ\n",
        "2.   Resampling là gì? cho ví dụ?\n",
        "3.   Hãy mô tả kỹ thuật permutation (hoặc quy trình của permutation test)? Xây dựng đoạn code lập trình permutation test\n",
        "\n",
        "\n"
      ],
      "metadata": {
        "id": "jpcORdODhElp"
      }
    },
    {
      "cell_type": "markdown",
      "source": [
        "Trả lời tại đây"
      ],
      "metadata": {
        "id": "HyDM-nFEiLW9"
      }
    },
    {
      "cell_type": "markdown",
      "source": [
        "1. Sampling là quá trình chọn ra một tập con của một quần thể với mục tiêu đánh giá các tính chất của quần thể đó. Cách thức lấy mẫu phụ thuộc trực tiếp vào mục tiêu đánh giá của chúng ta, do đó sampling nằm gần ranh giới giữa việc quan sát khách quan và việc thực hiện các thực nghiệm mang tính chủ quan"
      ],
      "metadata": {
        "id": "4ePTX7ROznO1"
      }
    },
    {
      "cell_type": "markdown",
      "source": [
        "2. Resampling trong thống kê có nghĩa là lấy mẫu lặp lại các giá trị từ dữ liệu được quan sát, với mục tiêu chung là đánh giá sự biến thiên ngẫu nhiên trong một thống kê. Nó cũng có thể được sử dụng để đánh giá và cải thiện độ chính xác của một số mô hình học máy (ví dụ: các dự đoán từ mô hình cây quyết định được xây dựng trên nhiều tập dữ liệu khởi động có thể được tính trung bình trong một quá trình được gọi là đóng gói. \n",
        "\n",
        " Có hai kiểu resampling chính: the bootstrap và permutation tests. Bootstrap được sử dụng để đánh giá độ tin cậy của một ước tính; permutation tests được sử dụng để kiểm tra các giả thuyết, thường liên quan đến hai hoặc nhiều nhóm."
      ],
      "metadata": {
        "id": "WzDeNaO20yxU"
      }
    },
    {
      "cell_type": "markdown",
      "source": [
        "3. "
      ],
      "metadata": {
        "id": "gykWAasB1tGr"
      }
    },
    {
      "cell_type": "code",
      "source": [
        "from itertools import combinations as comb\n",
        " \n",
        "def statistic(ab, a):\n",
        "    sumab, suma = sum(ab), sum(a)\n",
        "    return ( suma / len(a) - (sumab -suma) / (len(ab) - len(a)) )\n",
        " \n",
        "def permutationTest(a, b):\n",
        "    ab = a + b\n",
        "    Tobs = statistic(ab, a)\n",
        "    under = 0\n",
        "    for count, perm in enumerate(comb(ab, len(a)), 1):\n",
        "        if statistic(ab, perm) <= Tobs:\n",
        "            under += 1\n",
        "    return under * 100. / count\n",
        " \n",
        "treatmentGroup = [7, 29, 48, 22, 57, 13, 95, 86, 93]\n",
        "controlGroup   = [34, 98, 42, 13, 11, 59, 71, 26, 38, 45]\n",
        "under = permutationTest(treatmentGroup, controlGroup)\n",
        "print(\"under=%.2f%%, over=%.2f%%\" % (under, 100. - under))"
      ],
      "metadata": {
        "colab": {
          "base_uri": "https://localhost:8080/"
        },
        "id": "-fji-IBt1v47",
        "outputId": "897f2eb2-d38b-41f5-89da-b8c6cebec0b3"
      },
      "execution_count": 3,
      "outputs": [
        {
          "output_type": "stream",
          "name": "stdout",
          "text": [
            "under=67.51%, over=32.49%\n"
          ]
        }
      ]
    }
  ]
}