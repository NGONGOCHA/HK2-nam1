{
  "cells": [
    {
      "cell_type": "markdown",
      "metadata": {
        "id": "view-in-github",
        "colab_type": "text"
      },
      "source": [
        "<a href=\"https://colab.research.google.com/github/NGONGOCHA/HK2-nam1/blob/main/huong_dan_gia_dinh_ANOVA.ipynb\" target=\"_parent\"><img src=\"https://colab.research.google.com/assets/colab-badge.svg\" alt=\"Open In Colab\"/></a>"
      ]
    },
    {
      "cell_type": "markdown",
      "metadata": {
        "id": "n5s7xAKSFNU3"
      },
      "source": [
        "PHÂN TÍCH ANOVA MỘT CHIỀU\n",
        "\n",
        "Phân tích ANOVA chấp nhận các giả định sau:\n",
        "\n",
        "(1) Tất cả các nhóm đều độc lập với nhau\n",
        "\n",
        "(2) Dữ liệu của mỗi nhóm đều tuân theo phân phối chuẩn. Tính chất này có thể được kiểm định bằng phương pháp Shapiro-Wilks.\n",
        "\n",
        "(3) Phương sai (variance) của các nhóm bằng nhau. Tính chất này có thể được kiểm định bằng phương pháp kiểm định Bartlett hay Levene.\n",
        "\n",
        "Nếu dữ liệu hiện có thỏa mãn các tính chất trên thì chúng ta mới tiến hành kiểm định ANOVA. Do vậy trước khi tiến hành kiểm định ANOVA, chúng ta cần thực hiện kiểm tra tập dữ liệu cần thỏa mãn 3 tính chất trên.\n",
        "    "
      ]
    },
    {
      "cell_type": "code",
      "source": [
        "import numpy as np\n",
        "import pandas as pd\n",
        "import scipy.stats\n",
        "from scipy.stats import shapiro"
      ],
      "metadata": {
        "id": "hmoRmkJxF5ZJ"
      },
      "execution_count": 8,
      "outputs": []
    },
    {
      "cell_type": "code",
      "execution_count": 6,
      "metadata": {
        "id": "an6IoysUFNU8"
      },
      "outputs": [],
      "source": [
        "#Bước 1: Hãy tạo một tập dữ liệu mẫu sample_1 với kích thước 100 tuân theo phân phối chuẩn\n",
        "sample_1 = np.random.normal(size = 100)"
      ]
    },
    {
      "cell_type": "code",
      "execution_count": 15,
      "metadata": {
        "id": "v0T1k7WiFNU-"
      },
      "outputs": [],
      "source": [
        "#Bước 2: hãy tạo tập dữ liệu mẫu sample_2 với kích thước 100 tuân theo phân phối Poisson\n",
        "sample_2 = np.random.poisson(size = 100)"
      ]
    },
    {
      "cell_type": "markdown",
      "metadata": {
        "id": "HgOsSM6jFNU-"
      },
      "source": [
        "Hãy tham khảo các hướng dẫn sau để kiểm định tính chất thứ 2 bằng phương pháp Shapiro-Wilks đối với sample_1 và sample_2\n",
        "\n",
        "(1) [Tài liệu tham khảo scipy](https://docs.scipy.org/doc/scipy/reference/generated/scipy.stats.shapiro.html)\n",
        "\n",
        "(2) [Hướng dẫn cụ thể của statology](https://www.statology.org/shapiro-wilk-test-python/)"
      ]
    },
    {
      "cell_type": "markdown",
      "source": [
        "Phát biểu giả thuyết\n",
        "- Giả thuyết không: sample 1 được lấy theo phân phối chuẩn\n",
        "\n",
        "- Giả thuyết thay thế: sample 1 không được lấy theo phân phối chuẩn"
      ],
      "metadata": {
        "id": "vJPFb9mmG5ZC"
      }
    },
    {
      "cell_type": "code",
      "source": [
        "#Code kiểm định tính chất thứ 2 của sample_1\n",
        "statistic, pvalue = scipy.stats.shapiro(sample_1)\n",
        "print(\"p-value\", pvalue) #thống kê thử nghiệm và p-value"
      ],
      "metadata": {
        "colab": {
          "base_uri": "https://localhost:8080/"
        },
        "id": "-ZRipiNQHiKX",
        "outputId": "1ff87fb3-0b6d-4ccf-d91b-75a6495ecd62"
      },
      "execution_count": 24,
      "outputs": [
        {
          "output_type": "stream",
          "name": "stdout",
          "text": [
            "p-value 0.5795719027519226\n"
          ]
        }
      ]
    },
    {
      "cell_type": "markdown",
      "source": [
        "Vì p-value > 0.05 nên Không có bằng chứng để bác bỏ giả thuyết không"
      ],
      "metadata": {
        "id": "RAkknptVLBRc"
      }
    },
    {
      "cell_type": "markdown",
      "source": [
        "Phát biểu giả thuyết\n",
        "- Giả thuyết không: sample 2 được lấy theo phân phối chuẩn\n",
        "\n",
        "- Giả thuyết thay thế: sample 2 không được lấy theo phân phối chuẩn"
      ],
      "metadata": {
        "id": "xG02ZNN9JYcX"
      }
    },
    {
      "cell_type": "code",
      "execution_count": 27,
      "metadata": {
        "id": "IzPaPkMLFNU_",
        "colab": {
          "base_uri": "https://localhost:8080/"
        },
        "outputId": "d024a4e5-fc05-4d4b-807f-14672408a459"
      },
      "outputs": [
        {
          "output_type": "stream",
          "name": "stdout",
          "text": [
            "p-value 5.4155231410391025e-09\n"
          ]
        }
      ],
      "source": [
        "#Code kiểm định tính chất thứ 2 của sample_1\n",
        "statistic, pvalue = scipy.stats.shapiro(sample_2)\n",
        "print(\"p-value\", pvalue) #thống kê thử nghiệm và p-value"
      ]
    },
    {
      "cell_type": "markdown",
      "source": [
        "Vì p-value < 0.05 nên có bằng chứng để bác bỏ giả thuyết không"
      ],
      "metadata": {
        "id": "MWn9A0yfLPTd"
      }
    },
    {
      "cell_type": "markdown",
      "metadata": {
        "id": "-GhdXr8SFNU_"
      },
      "source": [
        "Hãy tham khảo các hướng dẫn sau để kiểm định tính chất thứ 3 bằng kiểm định Bartlett hoặc kiểm định Levene\n",
        "\n",
        "(1) [Hướng dẫn tổng quát](https://www.marsja.se/levenes-bartletts-test-of-equality-homogeneity-of-variance-in-python/)\n",
        "\n",
        "(2) [Hướng dẫn ở stackoverflow](https://stackoverflow.com/questions/36141254/how-to-test-for-homoscedasticity-having-the-same-population-variance-in-python)\n",
        "\n",
        "(3) Sử dụng bài giảng về kiểm định Bartlett và Levene ở buổi trước"
      ]
    },
    {
      "cell_type": "markdown",
      "source": [
        "Phát biểu giả thuyết:\n",
        "- Giả thuyết không: Phương sai (variance) của các nhóm bằng nhau\n",
        "- Giả thuyết thay thế: Phương sai (variance) của các nhóm không bằng nhau"
      ],
      "metadata": {
        "id": "U607oUkTL_Zk"
      }
    },
    {
      "cell_type": "code",
      "execution_count": null,
      "metadata": {
        "id": "mPrlxCiaFNU_"
      },
      "outputs": [],
      "source": [
        "#Code kiểm định tính đồng nhất về phương sai của các nhóm"
      ]
    },
    {
      "cell_type": "code",
      "execution_count": 34,
      "metadata": {
        "id": "-iwv6v-mFNVA",
        "colab": {
          "base_uri": "https://localhost:8080/"
        },
        "outputId": "43a34e26-7e50-4bb3-e2c9-8ab738129700"
      },
      "outputs": [
        {
          "output_type": "stream",
          "name": "stdout",
          "text": [
            "p-value: 0.24730107915576685\n"
          ]
        }
      ],
      "source": [
        "stat_value ,p_value = scipy.stats.levene(sample_1, sample_2)\n",
        "print(\"p-value:\", p_value)"
      ]
    },
    {
      "cell_type": "markdown",
      "source": [
        "vì p-value > 0.05 nên không có bằng chứng để bác bỏ giả thuyết không\n"
      ],
      "metadata": {
        "id": "-CH09qYONagg"
      }
    }
  ],
  "metadata": {
    "kernelspec": {
      "display_name": "Python 3",
      "language": "python",
      "name": "python3"
    },
    "language_info": {
      "codemirror_mode": {
        "name": "ipython",
        "version": 3
      },
      "file_extension": ".py",
      "mimetype": "text/x-python",
      "name": "python",
      "nbconvert_exporter": "python",
      "pygments_lexer": "ipython3",
      "version": "3.7.3"
    },
    "colab": {
      "name": "huong-dan-gia-dinh-ANOVA",
      "provenance": [],
      "include_colab_link": true
    }
  },
  "nbformat": 4,
  "nbformat_minor": 0
}