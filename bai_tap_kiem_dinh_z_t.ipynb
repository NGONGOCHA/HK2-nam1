{
  "cells": [
    {
      "cell_type": "markdown",
      "metadata": {
        "id": "view-in-github",
        "colab_type": "text"
      },
      "source": [
        "<a href=\"https://colab.research.google.com/github/NGONGOCHA/HK2-nam1/blob/main/bai_tap_kiem_dinh_z_t.ipynb\" target=\"_parent\"><img src=\"https://colab.research.google.com/assets/colab-badge.svg\" alt=\"Open In Colab\"/></a>"
      ]
    },
    {
      "cell_type": "markdown",
      "metadata": {
        "id": "0TvIkZeIvXcw"
      },
      "source": [
        "XÂY DỰNG CHƯƠNG TRÌNH KIỂM ĐỊNH Z (HOẶC T) CHO CÁC BÀI TẬP SAU\n",
        "\n",
        "Gợi ý:\n",
        "\n",
        "- Số liệu được sinh ngẫu nhiên theo phân phối chuẩn\n",
        "- Sử dụng gói phần mềm statsmodels để tiến hành kiểm định\n",
        "- Đối với các bài tập kiểm định giả thuyết thì sinh viên cần phát biểu các giả thuyết (bằng tiếng Việt) $H_{0}$ và $H_{a}$ trước khi lập trình kiểm định"
      ]
    },
    {
      "cell_type": "code",
      "source": [
        "from scipy import stats\n",
        "import numpy as np\n",
        "import math\n",
        "import scipy.stats as st\n",
        "from statsmodels.stats.weightstats import ztest"
      ],
      "metadata": {
        "colab": {
          "base_uri": "https://localhost:8080/"
        },
        "id": "g9loTrHfwyta",
        "outputId": "a84d5c78-6ea8-43fd-bfd7-6a604e27de4b"
      },
      "execution_count": 1,
      "outputs": [
        {
          "output_type": "stream",
          "name": "stderr",
          "text": [
            "/usr/local/lib/python3.7/dist-packages/statsmodels/tools/_testing.py:19: FutureWarning: pandas.util.testing is deprecated. Use the functions in the public API at pandas.testing instead.\n",
            "  import pandas.util.testing as tm\n"
          ]
        }
      ]
    },
    {
      "cell_type": "markdown",
      "metadata": {
        "id": "XsWjr0EjvXc5"
      },
      "source": [
        "Bài 1: You’re a Q/C inspector for Gallo. The sample standard deviation for 2-liter bottles is .05 liters.  A random sample of 100 bottles showed sample mean = 1.99 liters.  What is the 90%  confidence interval estimate of the true mean amount in 2-liter bottles? "
      ]
    },
    {
      "cell_type": "markdown",
      "source": [
        "Bài 1: Bạn là người kiểm tra Q / C cho Gallo. Độ lệch chuẩn của mẫu đối với chai 2 lít là 0,05 lít. Một mẫu ngẫu nhiên gồm 100 chai cho thấy trung bình của mẫu = 1,99 lít. Ước lượng khoảng tin cậy 90% của lượng trung bình thực trong chai 2 lít là bao nhiêu?"
      ],
      "metadata": {
        "id": "7Q9oOgfQw6Cn"
      }
    },
    {
      "cell_type": "code",
      "execution_count": 2,
      "metadata": {
        "id": "WspfWDm-vXc6",
        "colab": {
          "base_uri": "https://localhost:8080/"
        },
        "outputId": "19eb92c9-06a4-4a56-c91f-1e8627d08abd"
      },
      "outputs": [
        {
          "output_type": "execute_result",
          "data": {
            "text/plain": [
              "(1.9823511201301196, 1.9976488798698804)"
            ]
          },
          "metadata": {},
          "execution_count": 2
        }
      ],
      "source": [
        "std = 0.05\n",
        "N = 100\n",
        "mean = 1.99\n",
        "#sinh một mẫu ngẫu nhiên gồm 100 chai có trung bình mẫu = 1,99 và độ lệch chuẩn = 0,05\n",
        "sample = np.random.normal(mean,std,N)\n",
        "#dùng hàm st.norm.interval() khi chúng ta đang làm việc với các mẫu lớn hơn (n≥30)\n",
        "#st.sem : Tính sai số chuẩn của giá trị trung bình.\n",
        "st.norm.interval(alpha=0.9, loc=mean, scale=st.sem(sample))"
      ]
    },
    {
      "cell_type": "markdown",
      "metadata": {
        "id": "apLPcNOevXc7"
      },
      "source": [
        "Bài 2: You’re a time study analyst in manufacturing.  You’ve recorded the following task times (min.): 3.6, 4.2, 4.0, 3.5, 3.8, 3.1. What is the 90% confidence interval estimate of the population mean task time? "
      ]
    },
    {
      "cell_type": "markdown",
      "source": [
        "Bài 2: Bạn là một nhà phân tích nghiên cứu thời gian trong lĩnh vực sản xuất. Bạn đã ghi lại thời gian tác vụ sau (tối thiểu): 3.6, 4.2, 4.0, 3.5, 3.8, 3.1. Ước tính khoảng tin cậy 90% của thời gian thực hiện nhiệm vụ trung bình của tổng thể là bao nhiêu?"
      ],
      "metadata": {
        "id": "rAFz3oPRyJ55"
      }
    },
    {
      "cell_type": "code",
      "execution_count": 3,
      "metadata": {
        "id": "6EzR92CQvXc8",
        "colab": {
          "base_uri": "https://localhost:8080/"
        },
        "outputId": "d7340574-3d80-4d93-ba60-49c2d599827e"
      },
      "outputs": [
        {
          "output_type": "execute_result",
          "data": {
            "text/plain": [
              "(3.3792758632100677, 4.020724136789934)"
            ]
          },
          "metadata": {},
          "execution_count": 3
        }
      ],
      "source": [
        "data = [3.6, 4.2, 4.0, 3.5, 3.8, 3.1]\n",
        "#Sử dụng hàm t.interval() khi đang làm việc với một mẫu nhỏ (n <30)\n",
        "#ước tính khoảng tin cậy 90%\n",
        "st.t.interval(alpha=0.9,df= len(data)-1,loc=np.mean(data), scale=st.sem(data))"
      ]
    },
    {
      "cell_type": "markdown",
      "metadata": {
        "id": "kxvGdXKrvXc8"
      },
      "source": [
        "Bài 3: Does an average box of cereal contain 368 grams of cereal?  A random sample of 25 boxes had $\\overline{\\rm x}$ = 372.5.  The company has specified $\\sigma$ to be 25 grams.  Test at the .05 level of significance."
      ]
    },
    {
      "cell_type": "markdown",
      "source": [
        "Bài 3: Một hộp ngũ cốc trung bình có chứa 368 gam ngũ cốc? Một mẫu ngẫu nhiên gồm 25 hộp có $\\overline{\\rm x}$ = 372.5. Công ty đã quy định $\\sigma$ là 25 gam. Kiểm định ở mức ý nghĩa 0.05"
      ],
      "metadata": {
        "id": "MT7HJRBZy4Gu"
      }
    },
    {
      "cell_type": "markdown",
      "source": [
        "Giả thuyết không: Một hộp ngũ cốc trung bình có 368 gam ngũ cốc\n",
        "\n",
        "$$H_0 = 368 $$\n",
        "Giả thuyết thay thế : Một hộp ngũ cốc trung bình không có 368 gam ngũ cốc\n",
        "$$H_a \\ne 368 $$"
      ],
      "metadata": {
        "id": "0juFpfeCzsW5"
      }
    },
    {
      "cell_type": "code",
      "source": [
        "#Sinh ngẫu nhiên một mẫu 25 phần tử có trung bình mẫu là 372.5 và độ lệch chuẩn là 25 \n",
        "samples = np.random.normal(372.5, 25, 25)\n",
        "samples"
      ],
      "metadata": {
        "colab": {
          "base_uri": "https://localhost:8080/"
        },
        "id": "UkUIZcTz0Bf7",
        "outputId": "30a3ec40-62a1-4441-8de4-f951aa89252f"
      },
      "execution_count": 4,
      "outputs": [
        {
          "output_type": "execute_result",
          "data": {
            "text/plain": [
              "array([386.38617464, 390.52769951, 405.58009107, 346.02930611,\n",
              "       390.36614693, 369.48657281, 336.9880692 , 391.56676797,\n",
              "       342.0291392 , 388.62612151, 361.69306308, 384.72762126,\n",
              "       344.00968077, 360.93359244, 363.0044179 , 401.15120858,\n",
              "       338.97994203, 386.1838437 , 305.32075858, 383.61669759,\n",
              "       372.72177337, 358.14195828, 406.60930678, 330.43150635,\n",
              "       399.31468915])"
            ]
          },
          "metadata": {},
          "execution_count": 4
        }
      ]
    },
    {
      "cell_type": "code",
      "source": [
        "#Xác định các thông số\n",
        "null_mean = 368 \n",
        "alpha = 0.05"
      ],
      "metadata": {
        "id": "3JW14iTT0Y97"
      },
      "execution_count": 6,
      "outputs": []
    },
    {
      "cell_type": "code",
      "source": [
        "#Kiểm định z\n",
        "ztest_Score, p_value= ztest(samples, value = null_mean, alternative='larger')\n",
        "if(p_value <  alpha):\n",
        "  print(\"Có bằng chứng để bác bỏ giả thuyết H0\")\n",
        "else:\n",
        "  print(\"Chưa có bằng chứng để bác bỏ giả thuyết H0\")"
      ],
      "metadata": {
        "colab": {
          "base_uri": "https://localhost:8080/"
        },
        "id": "AS8XsIhK0STS",
        "outputId": "a3390f8c-ef7a-4037-9eed-9203c0d724f3"
      },
      "execution_count": 7,
      "outputs": [
        {
          "output_type": "stream",
          "name": "stdout",
          "text": [
            "Chưa có bằng chứng để bác bỏ giả thuyết H0\n"
          ]
        }
      ]
    },
    {
      "cell_type": "markdown",
      "metadata": {
        "id": "0OcdWH8mvXc9"
      },
      "source": [
        "Bài 4: You’re a Q/C inspector.  You want to find out if a new machine is making electrical cords to customer specification: average breaking strength of 70 lb. with $\\sigma$ = 3.5 lb.  You take a sample of 36 cords & compute a sample mean of 69.7 lb.  At the .05 level of significance, is there evidence that the machine is not meeting the average breaking strength?"
      ]
    },
    {
      "cell_type": "markdown",
      "source": [
        "Bài 4: Bạn là người kiểm tra Q / C. Bạn muốn tìm hiểu xem một chiếc máy mới có đang làm dây điện theo thông số kỹ thuật của khách hàng hay không: độ bền đứt trung bình là 70 lb. với σ = 3,5 lb. Bạn lấy mẫu 36 dây & tính giá trị trung bình mẫu là 69,7 lb. Tại 0,05 mức độ ý nghĩa, có bằng chứng cho thấy máy không đạt độ bền đứt trung bình không?"
      ],
      "metadata": {
        "id": "pMnZiMM81Hpc"
      }
    },
    {
      "cell_type": "markdown",
      "source": [
        "Giả thuyết không : chiếc máy mới đang làm dây điện theo thông số kỹ thuật của khách hàng\n",
        "$$H_0 = 70 $$\n",
        "Giả thuyết thay thế : chiếc máy mới không làm dây điện theo thông số kỹ thuật của khách hàng\n",
        "$$H_1 \\ne 70 $$"
      ],
      "metadata": {
        "id": "ips4zXY51cUR"
      }
    },
    {
      "cell_type": "code",
      "execution_count": 9,
      "metadata": {
        "id": "5nr7T-gMvXc-",
        "colab": {
          "base_uri": "https://localhost:8080/"
        },
        "outputId": "3c8f4896-1156-436d-eba1-c6e92232eca9"
      },
      "outputs": [
        {
          "output_type": "execute_result",
          "data": {
            "text/plain": [
              "array([68.92029165, 74.588728  , 73.881068  , 66.1923582 , 70.93071706,\n",
              "       73.38456975, 73.04505024, 75.81445976, 65.74772917, 69.42813155,\n",
              "       73.98693219, 69.80348722, 67.70088337, 71.22112965, 65.89707665,\n",
              "       65.73487488, 70.22848435, 70.9538861 , 69.86826875, 70.20482173,\n",
              "       68.94481936, 69.95899315, 72.46869992, 64.30848987, 73.15138583,\n",
              "       64.96090318, 69.60862871, 69.75879346, 66.21311532, 67.84076471,\n",
              "       68.91178741, 71.66307172, 71.15151979, 74.68099446, 68.99793194,\n",
              "       71.40388557])"
            ]
          },
          "metadata": {},
          "execution_count": 9
        }
      ],
      "source": [
        "mean = 69,7\n",
        "std = 3,5\n",
        "N = 36\n",
        "#Sinh ngẫu nhiên một mẫu 36 dây có trung bình mẫu là 69,7; độ lệch chuẩn là 3,5\n",
        "samples = np.random.normal(69.7, 3.5, 36)\n",
        "samples"
      ]
    },
    {
      "cell_type": "code",
      "source": [
        "#Xác định các thông số\n",
        "null_mean = 70 \n",
        "alpha = 0.05"
      ],
      "metadata": {
        "id": "8gpv6ui51P0s"
      },
      "execution_count": 10,
      "outputs": []
    },
    {
      "cell_type": "code",
      "source": [
        "#Kiểm định z\n",
        "ztest_Score, p_value= ztest(samples, value = null_mean, alternative='larger')\n",
        "if(p_value <  alpha):\n",
        "  print(\"Có bằng chứng để bác bỏ giả thuyết H0\")\n",
        "else:\n",
        "  print(\"Chưa có bằng chứng để bác bỏ giả thuyết H0\")"
      ],
      "metadata": {
        "colab": {
          "base_uri": "https://localhost:8080/"
        },
        "id": "38Tb-WgZ2NsH",
        "outputId": "7e714ebe-a666-4e59-b689-7ba2a045dc92"
      },
      "execution_count": 11,
      "outputs": [
        {
          "output_type": "stream",
          "name": "stdout",
          "text": [
            "Chưa có bằng chứng để bác bỏ giả thuyết H0\n"
          ]
        }
      ]
    },
    {
      "cell_type": "markdown",
      "metadata": {
        "id": "YuAdXHuIvXc_"
      },
      "source": [
        "Bài 5: Does an average box of cereal contain more than 368 grams of cereal?  A random sample of 25 boxes showed $\\overline{\\rm x}$ =  372.5.  The company has specified $\\sigma$ to be 25 grams.  Test at the .05 level of significance.\n",
        "\n",
        "Bài 5: Một hộp ngũ cốc trung bình có chứa nhiều hơn 368 gam ngũ cốc? Một mẫu ngẫu nhiên gồm 25 hộp có $\\overline{\\rm x}$ = 372.5. Công ty đã quy định $\\sigma$ là 25 gam. Kiểm định ở mức ý nghĩa 0.05"
      ]
    },
    {
      "cell_type": "markdown",
      "source": [
        "Giả thuyết không: Một hộp ngũ cốc trung bình có 368 gam ngũ cốc\n",
        "\n",
        "$$H_0 = 368 $$\n",
        "Giả thuyết thay thế : Một hộp ngũ cốc có nhiều hơn 368 gam ngũ cốc\n",
        "$$H_1 > 368 $$"
      ],
      "metadata": {
        "id": "tUakDCJz2UOl"
      }
    },
    {
      "cell_type": "code",
      "execution_count": 15,
      "metadata": {
        "id": "7UlRKpGTvXc_",
        "colab": {
          "base_uri": "https://localhost:8080/"
        },
        "outputId": "3bf3d7bd-7e57-4f1d-fd38-05cb817e69b9"
      },
      "outputs": [
        {
          "output_type": "stream",
          "name": "stdout",
          "text": [
            "[346.94219112 390.81553661 375.92692286 343.28872908 352.9885956\n",
            " 355.12660662 381.11318369 378.8107821  386.90701242 350.8389358 ]\n"
          ]
        }
      ],
      "source": [
        "#Sinh ngẫu nhiên một mẫu 25 phần tử có trung bình mẫu là 372.5 và độ lệch chuẩn là 25 \n",
        "samples = np.random.normal(372.5, 25, 25)\n",
        "print(samples[:10])"
      ]
    },
    {
      "cell_type": "code",
      "source": [
        "#Xác định các thông số\n",
        "null_mean = 368 \n",
        "alpha = 0.05"
      ],
      "metadata": {
        "id": "C8DapAg-27UO"
      },
      "execution_count": 16,
      "outputs": []
    },
    {
      "cell_type": "code",
      "source": [
        "#Kiểm định z\n",
        "ztest_Score, p_value= ztest(samples, value = null_mean, alternative='larger')\n",
        "if(p_value <  alpha):\n",
        "  print(\"Có bằng chứng để bác bỏ giả thuyết H0\")\n",
        "else:\n",
        "  print(\"Chưa có bằng chứng để bác bỏ giả thuyết H0\")"
      ],
      "metadata": {
        "colab": {
          "base_uri": "https://localhost:8080/"
        },
        "id": "AmnF3SLB2_6v",
        "outputId": "ea4c776c-4131-440d-af4b-6c8466d8fcbd"
      },
      "execution_count": 18,
      "outputs": [
        {
          "output_type": "stream",
          "name": "stdout",
          "text": [
            "Chưa có bằng chứng để bác bỏ giả thuyết H0\n"
          ]
        }
      ]
    },
    {
      "cell_type": "markdown",
      "metadata": {
        "id": "8xIA2wVevXdA"
      },
      "source": [
        "Bài 6: You’re an analyst for Ford.  You want to find out if the average miles per gallon of Escorts is at least 32 mpg. Similar models have a standard deviation of 3.8 mpg. You take a sample of 60 Escorts & compute a sample mean of 30.7 mpg. At the .01 level of significance, is there evidence that the miles per gallon is less than 32?"
      ]
    },
    {
      "cell_type": "markdown",
      "source": [
        "Bài 6: Bạn là nhà phân tích của Ford. Bạn muốn tìm hiểu xem liệu số dặm trung bình trên một gallon của Escorts đạt tối thiểu là 32 mpg hay không. Các mô hình tương tự có độ lệch chuẩn là 3,8 mpg. Bạn lấy mẫu 60 Escorts và tính giá trị trung bình mẫu là 30,7 mpg. Với mức ý nghĩa 0,01, có bằng chứng nào cho thấy dặm trên gallon nhỏ hơn 32 không?"
      ],
      "metadata": {
        "id": "Hz1k2Vq73X9k"
      }
    },
    {
      "cell_type": "markdown",
      "source": [
        "Giả thuyết không: Số dặm trung bình trên gallon là 32\n",
        "\n",
        "$$H_0 = 32 $$\n",
        "Giả thuyết thay thế : Số dặm trung bình trên gallon nhỏ hơn 32\n",
        "$$H_1 < 32 $$"
      ],
      "metadata": {
        "id": "En2SEKw_3iqj"
      }
    },
    {
      "cell_type": "code",
      "execution_count": 20,
      "metadata": {
        "id": "tCYN4mnAvXdA",
        "colab": {
          "base_uri": "https://localhost:8080/"
        },
        "outputId": "c9001976-c8fc-40cb-c59b-68c91450b7ea"
      },
      "outputs": [
        {
          "output_type": "stream",
          "name": "stdout",
          "text": [
            "[22.00371442 31.9974869  31.47451628 32.55301763 33.20752892 30.18860366\n",
            " 34.30333779 25.49688048 27.23412946 25.71061797]\n"
          ]
        }
      ],
      "source": [
        "N = 60\n",
        "std = 3.8\n",
        "mean = 30.7\n",
        "#Sinh ngẫu nhiên một mẫu 60 có trung bình mẫu là 30,7; độ lệch chuẩn là 3,8\n",
        "samples = np.random.normal(30.7, 3.8, 60)\n",
        "print(samples[:10])"
      ]
    },
    {
      "cell_type": "code",
      "source": [
        "#Xác định các thông số\n",
        "null_mean = 32  \n",
        "alpha = 0.01"
      ],
      "metadata": {
        "id": "Jj8yZEfg5Jzo"
      },
      "execution_count": 21,
      "outputs": []
    },
    {
      "cell_type": "code",
      "source": [
        "#Kiểm định z\n",
        "ztest_Score, p_value= ztest(samples, value = null_mean, alternative='larger')\n",
        "if(p_value <  alpha):\n",
        "  print(\"Có bằng chứng để bác bỏ giả thuyết H0\")\n",
        "else:\n",
        "  print(\"Chưa có bằng chứng để bác bỏ giả thuyết H0\")"
      ],
      "metadata": {
        "colab": {
          "base_uri": "https://localhost:8080/"
        },
        "id": "2ZI5oN3B5MTw",
        "outputId": "f11b09e9-4df7-4c18-8916-a42f225d263c"
      },
      "execution_count": 22,
      "outputs": [
        {
          "output_type": "stream",
          "name": "stdout",
          "text": [
            "Chưa có bằng chứng để bác bỏ giả thuyết H0\n"
          ]
        }
      ]
    },
    {
      "cell_type": "markdown",
      "metadata": {
        "id": "bzb8o9eivXdA"
      },
      "source": [
        "Bài 7: Does an average box of cereal contain 368 grams of cereal?  A random sample of 25 boxes showed $\\overline{\\rm x}$ = 372.5.  The company has specified $\\sigma$ to be 15 grams.  Find the p-Value."
      ]
    },
    {
      "cell_type": "markdown",
      "source": [
        "Bài 7: một hộp ngũ cốc trung bình có chứ 368 gam ngũ cốc? Một mẫu ngẫu nhiên gồm 25 hộp cho thấy $\\overline{\\rm x}$ = 372.5. Công ty đã quy định $\\sigma$ là 15 gam. Tìm giá trị p"
      ],
      "metadata": {
        "id": "6HgoL4__5YA7"
      }
    },
    {
      "cell_type": "markdown",
      "source": [
        "Giả thuyết không : Một hộp ngũ cốc trung bình có 368 gam ngũ cốc\n",
        "\n",
        "$$H_0 = 368 $$\n",
        "Giả thuyết thay thế : Một hộp ngũ cốc trung bình không có 368 gam ngũ cốc\n",
        "$$H_a \\ne 368 $$"
      ],
      "metadata": {
        "id": "NVv42Ah456c3"
      }
    },
    {
      "cell_type": "code",
      "execution_count": 23,
      "metadata": {
        "id": "v7VHYfO1vXdB",
        "colab": {
          "base_uri": "https://localhost:8080/"
        },
        "outputId": "6c9b4f57-4ffb-4ec1-b0b3-15855eb09585"
      },
      "outputs": [
        {
          "output_type": "stream",
          "name": "stdout",
          "text": [
            "[354.07505754 379.64962705 364.66862519 398.51071714 374.71045695\n",
            " 383.36953484 379.77401072 347.4985843  365.9498928  359.75626069]\n"
          ]
        }
      ],
      "source": [
        "#Sinh ngẫu nhiên một mẫu 25 phần tử có trung bình mẫu là 372,5, độ lệch chuẩn là 15 \n",
        "samples = np.random.normal(372.5, 15, 25)\n",
        "print(samples[:10])"
      ]
    },
    {
      "cell_type": "code",
      "source": [
        "#Xác định các thông số\n",
        "null_mean = 368 "
      ],
      "metadata": {
        "id": "osasONLO8o39"
      },
      "execution_count": 25,
      "outputs": []
    },
    {
      "cell_type": "code",
      "source": [
        "# Kiểm định z:\n",
        "ztest_Score, p_value= ztest(samples, value = null_mean, alternative='two-sided')\n",
        "print(f\"p-value: {p_value}\")"
      ],
      "metadata": {
        "colab": {
          "base_uri": "https://localhost:8080/"
        },
        "id": "5GdQ6MZO8rP4",
        "outputId": "d77c4f81-5c9b-4578-c948-a303a1df0241"
      },
      "execution_count": 26,
      "outputs": [
        {
          "output_type": "stream",
          "name": "stdout",
          "text": [
            "p-value: 0.13370202534974335\n"
          ]
        }
      ]
    },
    {
      "cell_type": "markdown",
      "metadata": {
        "id": "LrF7cJvJvXdB"
      },
      "source": [
        "Bài 8: Does an average box of cereal contain more than 368 grams of cereal?  A random sample of 25 boxes showed $\\overline{\\rm x}$ = 372.5.  The company has specified $\\sigma$ to be 15 grams.  Find the p-Value."
      ]
    },
    {
      "cell_type": "markdown",
      "source": [
        "Bài 8: Trung bình một hộp ngũ cốc có nhiều hơn 368 gam ngũ cốc? Một mẫu ngẫu nhiên gồm 25 hộp cho thấy $\\overline{\\rm x}$ = 372,5. Công ty đã quy định $\\sigma$ là 15 gam. Tìm giá trị p."
      ],
      "metadata": {
        "id": "IWk5G3_x81-_"
      }
    },
    {
      "cell_type": "markdown",
      "source": [
        "Giả thuyết không : Một hộp ngũ cốc trung bình có 368 gam ngũ cốc\n",
        "\n",
        "$$H_0 = 368 $$\n",
        "Giả thuyết thay thế : Một hộp ngũ cốc có nhiều hơn 368 gam ngũ cốc\n",
        "$$H_1 > 368 $$"
      ],
      "metadata": {
        "id": "_aSnXynG9ZgC"
      }
    },
    {
      "cell_type": "code",
      "execution_count": 27,
      "metadata": {
        "id": "j2jl1qM6vXdB",
        "colab": {
          "base_uri": "https://localhost:8080/"
        },
        "outputId": "fc2b7b27-d8dd-4616-e409-9f77435c94f0"
      },
      "outputs": [
        {
          "output_type": "stream",
          "name": "stdout",
          "text": [
            "[392.39365873 364.90654271 379.69251526 369.97367299 372.54277179\n",
            " 350.32365693 369.56471485 376.93959179 363.13612635 354.68550947]\n"
          ]
        }
      ],
      "source": [
        "#Sinh ngẫu nhiên một mẫu 25 phần tử có trung bình mẫu là 372,5, độ lệch chuẩn là 15 \n",
        "samples = np.random.normal(372.5, 15, 25)\n",
        "print(samples[:10])"
      ]
    },
    {
      "cell_type": "code",
      "source": [
        "#Xác định các thông số\n",
        "null_mean = 368 "
      ],
      "metadata": {
        "id": "h_EDwTF49nBf"
      },
      "execution_count": 28,
      "outputs": []
    },
    {
      "cell_type": "code",
      "source": [
        "# Kiểm định z:\n",
        "ztest_Score, p_value= ztest(samples, value = null_mean, alternative='larger')\n",
        "print(f\"p-value: {p_value}\")"
      ],
      "metadata": {
        "colab": {
          "base_uri": "https://localhost:8080/"
        },
        "id": "uBRzRUpo9sAx",
        "outputId": "2ae17500-a9e1-4fd3-f9b3-e3ab7a98f96b"
      },
      "execution_count": 29,
      "outputs": [
        {
          "output_type": "stream",
          "name": "stdout",
          "text": [
            "p-value: 0.05845975758138566\n"
          ]
        }
      ]
    },
    {
      "cell_type": "markdown",
      "metadata": {
        "id": "gdH6hBwJvXdC"
      },
      "source": [
        "Bài 9: You’re an analyst for Ford.  You want to find out if the average miles per gallon of Escorts is less than 32 mpg.   Similar models have a standard deviation of 3.8 mpg.  You take a sample of 60 Escorts & compute a sample mean of 30.7 mpg.  What is the value of the observed level of significance (p-Value)?"
      ]
    },
    {
      "cell_type": "markdown",
      "source": [
        "Bài 9: Bạn là nhà phân tích của Ford. Bạn muốn tìm hiểu xem số dặm trung bình trên mỗi gallon của Escorts đạt có nhỏ hơn 32 mpg hay không. Các mô hình tương tự có độ lệch chuẩn là 3,8 mpg. Bạn lấy mẫu 60 Escorts và tính giá trị trung bình mẫu là 30,7 mpg. Giá trị của mức ý nghĩa quan sát (p-Value) là bao nhiêu?"
      ],
      "metadata": {
        "id": "k98-HGG39zRQ"
      }
    },
    {
      "cell_type": "markdown",
      "source": [
        "Giả thuyết không: Số dặm trung bình trên gallon là 32\n",
        "\n",
        "$$H_0 = 32 $$\n",
        "Giả thuyết thay thế : Số dặm trung bình trên gallon nhỏ hơn 32\n",
        "$$H_1 < 32 $$"
      ],
      "metadata": {
        "id": "zCGeR8_C97Ed"
      }
    },
    {
      "cell_type": "code",
      "execution_count": 31,
      "metadata": {
        "id": "aO-_pG0WvXdC",
        "colab": {
          "base_uri": "https://localhost:8080/"
        },
        "outputId": "85733097-7771-4531-f7f6-a89c20b5f4a9"
      },
      "outputs": [
        {
          "output_type": "stream",
          "name": "stdout",
          "text": [
            "[33.17923898 29.2064456  25.93044463 29.86092442 33.07108767 26.25811923\n",
            " 32.84564478 38.81062108 33.22915179 28.01054711]\n"
          ]
        }
      ],
      "source": [
        "#sinh ngẫu nhiên một mẫu 60 phần tử có mean = 30.7, std = 3.8\n",
        "samples = np.random.normal(30.7, 3.8, 60)\n",
        "print(samples[:10])"
      ]
    },
    {
      "cell_type": "code",
      "source": [
        "#xác định thông số\n",
        "null_mean = 32"
      ],
      "metadata": {
        "id": "76M-yvL_-oGE"
      },
      "execution_count": 32,
      "outputs": []
    },
    {
      "cell_type": "code",
      "source": [
        "#thông số nhỏ nên có thể sử dụng kiểm định t\n",
        "#Kiểm định t:\n",
        "t_test, p_value= stats.ttest_1samp(samples, null_mean)\n",
        "print(\"p_value: \",p_value)"
      ],
      "metadata": {
        "colab": {
          "base_uri": "https://localhost:8080/"
        },
        "id": "_Wn307_0-xI_",
        "outputId": "c9de3000-20d6-4c56-9a38-be89a9884f3f"
      },
      "execution_count": 33,
      "outputs": [
        {
          "output_type": "stream",
          "name": "stdout",
          "text": [
            "p_value:  0.02763190520562438\n"
          ]
        }
      ]
    },
    {
      "cell_type": "markdown",
      "metadata": {
        "id": "PpkaNF5svXdC"
      },
      "source": [
        "Bài 10: Does an average box of cereal contain 368 grams of cereal?  A random sample of 36 boxes had a mean of 372.5 and a standard deviation of 12 grams. Test at the .05 level of significance."
      ]
    },
    {
      "cell_type": "markdown",
      "source": [
        "Bài 10: Một hộp ngũ cốc trung bình có 368 gam ngũ cốc? Một mẫu ngẫu nhiên gồm 36 hộp có giá trị trung bình là 372,5 và độ lệch chuẩn là 12 gam. Kiểm định ở mức ý nghĩa 0.05"
      ],
      "metadata": {
        "id": "yaDDw70l-4-z"
      }
    },
    {
      "cell_type": "markdown",
      "source": [
        "Giả thuyết không: Một hộp ngũ cốc trung bình có 368 gam ngũ cốc \n",
        "$$H_0 = 368 $$\n",
        "Giả thuyết thay thế : Một hộp ngũ cốc trung không có 368 gam cốm\n",
        "$$H_a \\ne 368 $$"
      ],
      "metadata": {
        "id": "vuY2o64m_Ger"
      }
    },
    {
      "cell_type": "code",
      "source": [
        "#sinh ngẫu nhiên một mẫu gồm 36 phần tử có mean = 372.5, std = 12\n",
        "samples = np.random.normal(372.5, 12, 36)\n",
        "print(samples[:10])"
      ],
      "metadata": {
        "colab": {
          "base_uri": "https://localhost:8080/"
        },
        "id": "a2g_s9rp_XkM",
        "outputId": "2115a6bd-2b75-4e1e-d49d-a40990608112"
      },
      "execution_count": 36,
      "outputs": [
        {
          "output_type": "stream",
          "name": "stdout",
          "text": [
            "[372.467637   382.58556907 355.31754851 380.29958215 367.39048397\n",
            " 383.55053565 353.94877383 374.24556364 384.34863439 365.41281623]\n"
          ]
        }
      ]
    },
    {
      "cell_type": "code",
      "execution_count": 37,
      "metadata": {
        "id": "1_Ctc8ALvXdD"
      },
      "outputs": [],
      "source": [
        "#xác định thông số\n",
        "null_mean = 368\n",
        "alpha = 0.05"
      ]
    },
    {
      "cell_type": "code",
      "source": [
        "#Kiểm định z\n",
        "ztest_Score, p_value= ztest(samples, value = null_mean, alternative='larger')\n",
        "if(p_value <  alpha):\n",
        "  print(\"Có bằng chứng để bác bỏ giả thuyết H0\")\n",
        "else:\n",
        "  print(\"Chưa có bằng chứng để bác bỏ giả thuyết H0\")"
      ],
      "metadata": {
        "colab": {
          "base_uri": "https://localhost:8080/"
        },
        "id": "EwZTLyye_8_X",
        "outputId": "185ac516-743a-48b1-a2f6-f74c13b8b822"
      },
      "execution_count": 38,
      "outputs": [
        {
          "output_type": "stream",
          "name": "stdout",
          "text": [
            "Có bằng chứng để bác bỏ giả thuyết H0\n"
          ]
        }
      ]
    },
    {
      "cell_type": "markdown",
      "metadata": {
        "id": "lgy0qDIGvXdD"
      },
      "source": [
        "Bài 11: You work for the FTC.  A manufacturer of detergent claims that the mean weight of detergent is 3.25 lb.  You take a random sample of 64 containers.  You calculate the sample average to be 3.238 lb. with a standard deviation of .117 lb.  At the .01 level of significance, is the manufacturer correct?"
      ]
    },
    {
      "cell_type": "markdown",
      "source": [
        "Bài 11: Bạn làm việc cho FTC. Một nhà sản xuất chất tẩy rửa tuyên bố rằng trọng lượng trung bình của chất tẩy rửa là 3,25 lb. Bạn lấy một mẫu ngẫu nhiên gồm 64 thùng chứa. Bạn tính giá trị trung bình của mẫu là 3,238 lb. với độ lệch chuẩn là 0,117 lb. Với mức ý nghĩa 0,01, nhà sản xuất có đúng không?"
      ],
      "metadata": {
        "id": "BNLQySLlClMg"
      }
    },
    {
      "cell_type": "markdown",
      "source": [
        "Giả thuyết không : Trọng lượng trung bình của chất tẩy rửa là 3,25 \n",
        "\n",
        "$$H_0 = 3,25 $$\n",
        "Giả thuyết thay thế : Trọng lượng trung bình của chất tẩy rửa không phải là 3,25 \n",
        "\n",
        "$$H_a \\ne 3,25 $$"
      ],
      "metadata": {
        "id": "ujRh7fxRCnug"
      }
    },
    {
      "cell_type": "code",
      "execution_count": 42,
      "metadata": {
        "id": "7Lytv4NpvXdD",
        "colab": {
          "base_uri": "https://localhost:8080/"
        },
        "outputId": "f48c7fa7-9c45-4bdb-bf87-00a1535728ff"
      },
      "outputs": [
        {
          "output_type": "stream",
          "name": "stdout",
          "text": [
            "[3.18002831 3.20023393 3.20220222 3.26548935 3.22871576 3.13793675\n",
            " 3.27424306 3.22196341 3.33821856 3.3979252 ]\n"
          ]
        }
      ],
      "source": [
        "#sinh ngẫu nhiên một mẫu gồm 64 phần tử có trung bình mẫu là 3,238 và std = 0,117\n",
        "samples = np.random.normal(3.238, 0.117, 64)\n",
        "print(samples[:10])"
      ]
    },
    {
      "cell_type": "code",
      "source": [
        "#xác định thông số\n",
        "null_mean = 3.25\n",
        "alpha =0.01"
      ],
      "metadata": {
        "id": "sSoizuYwDOzI"
      },
      "execution_count": 43,
      "outputs": []
    },
    {
      "cell_type": "code",
      "source": [
        "#Kiểm định z\n",
        "ztest_Score, p_value= ztest(samples, value = null_mean, alternative='larger')\n",
        "if(p_value < alpha):\n",
        "  print(\"Có bằng chứng để bác bỏ giả thuyết H0\")\n",
        "else:\n",
        "  print(\"Chưa có bằng chứng để bác bỏ giả thuyết H0\")"
      ],
      "metadata": {
        "colab": {
          "base_uri": "https://localhost:8080/"
        },
        "id": "_qI3jCRVDWL2",
        "outputId": "d8e7e206-b12c-470f-d4bc-a865b8638375"
      },
      "execution_count": 44,
      "outputs": [
        {
          "output_type": "stream",
          "name": "stdout",
          "text": [
            "Chưa có bằng chứng để bác bỏ giả thuyết H0\n"
          ]
        }
      ]
    },
    {
      "cell_type": "markdown",
      "metadata": {
        "id": "y929Ki0AvXdE"
      },
      "source": [
        "Bài 12: Is the average capacity of batteries less than 140 ampere-hours?  A random sample of 20 batteries had a mean of 138.47 and a standard deviation of 2.66.  Assume a normal distribution. Test at the .05 level of significance."
      ]
    },
    {
      "cell_type": "markdown",
      "source": [
        "Bài 12: Công suất trung bình của pin acquy nhỏ hơn 140 ampe/giờ? Một mẫu ngẫu nhiên gồm 20 pin acquy có giá trị trung bình là 138,47 và độ lệch chuẩn là 2,66. Giả sử một phân phối chuẩn. Kiểm định ở mức ý nghĩa 0.05."
      ],
      "metadata": {
        "id": "k8DDTIBXDkDR"
      }
    },
    {
      "cell_type": "markdown",
      "source": [
        "Giả thuyết không : Công suất trung bình của pin acquy bằng 140 ampe/giờ \n",
        "$$H_0 = 140  $$\n",
        "Giả thuyết thay thế : Công suất trung bình của acquy nhỏ hơn  140 ampe/giờ  \n",
        "$$H_a < 140 $$"
      ],
      "metadata": {
        "id": "k07U6Og6DrEC"
      }
    },
    {
      "cell_type": "code",
      "source": [
        "#sinh ngẫu nhiên một mẫu gồm 20 phần tử có giá trị trung bình là 138,47 và độ lệch chuẩn là 2.66\n",
        "samples = np.random.normal(138.47, 2.66, 20)\n",
        "print(samples[:10])"
      ],
      "metadata": {
        "colab": {
          "base_uri": "https://localhost:8080/"
        },
        "id": "rCdonFGkD1bb",
        "outputId": "8b84be90-8bce-4375-b82a-6f895b0e65ee"
      },
      "execution_count": 46,
      "outputs": [
        {
          "output_type": "stream",
          "name": "stdout",
          "text": [
            "[134.10724641 136.66615042 139.14118754 140.03890988 138.6528855\n",
            " 133.90228265 137.22699546 135.75575294 141.66922086 139.27956679]\n"
          ]
        }
      ]
    },
    {
      "cell_type": "code",
      "execution_count": 47,
      "metadata": {
        "id": "fUlMzn5lvXdF"
      },
      "outputs": [],
      "source": [
        "#xác định thông số\n",
        "null_mean = 140\n",
        "alpha = 0.05"
      ]
    },
    {
      "cell_type": "code",
      "source": [
        "#Kiểm định z\n",
        "ztest_Score, p_value= ztest(samples, value = null_mean, alternative='larger')\n",
        "if(p_value < alpha):\n",
        "  print(\"Có bằng chứng để bác bỏ giả thuyết H0\")\n",
        "else:\n",
        "  print(\"Chưa có bằng chứng để bác bỏ giả thuyết H0\")"
      ],
      "metadata": {
        "colab": {
          "base_uri": "https://localhost:8080/"
        },
        "id": "BQpvGtkvEXi8",
        "outputId": "86400ce3-0a28-44b3-9994-44e12057f4d7"
      },
      "execution_count": 48,
      "outputs": [
        {
          "output_type": "stream",
          "name": "stdout",
          "text": [
            "Chưa có bằng chứng để bác bỏ giả thuyết H0\n"
          ]
        }
      ]
    },
    {
      "cell_type": "markdown",
      "metadata": {
        "id": "eXW0D0jsvXdF"
      },
      "source": [
        "Bài 13: You’re a marketing analyst for Wal-Mart.  Wal-Mart had teddy bears on sale last week.  The weekly sales of bears sold in 10 stores was: 8  11  0   4   7   8   10   5   8   3. At the .05 level of significance, is there evidence that the average bear sales per store is more than 5?"
      ]
    },
    {
      "cell_type": "markdown",
      "source": [
        "Bài 13: Bạn là nhà phân tích tiếp thị của Wal-Mart. Wal-Mart đã bán gấu bông vào tuần trước. Doanh thu hàng tuần của số gấu bán được ở 10 cửa hàng là: 8 11 0 4 7 8 10 5 8 3. Với mức ý nghĩa 0,05, có bằng chứng nào cho thấy doanh thu trung bình của mỗi cửa hàng là hơn 5 con không?"
      ],
      "metadata": {
        "id": "biXHQmxwElTD"
      }
    },
    {
      "cell_type": "markdown",
      "source": [
        "Giả thuyết không : Doanh thu trung bình của mỗi cửa hàng là 5 con  \n",
        "$$H_0 = 5   $$\n",
        "Giả thuyết thay thế : Doanh thu trung bình của mỗi cửa hàng là hơn  5 con   \n",
        "$$H_a > 5 $$"
      ],
      "metadata": {
        "id": "L_twn6bKEwjJ"
      }
    },
    {
      "cell_type": "code",
      "execution_count": 49,
      "metadata": {
        "id": "N1D-IwvfvXdG"
      },
      "outputs": [],
      "source": [
        "data = [8, 11, 0, 4, 7, 8, 10, 5, 8, 3]"
      ]
    },
    {
      "cell_type": "code",
      "execution_count": 51,
      "metadata": {
        "id": "8ycMxyhdvXdG"
      },
      "outputs": [],
      "source": [
        "#xác định thông số\n",
        "null_mean = 5\n",
        "alpha = 0.05"
      ]
    },
    {
      "cell_type": "code",
      "source": [
        "#Kiểm định z\n",
        "ztest_Score, p_value= ztest(samples, value = null_mean, alternative='larger')\n",
        "if(p_value < alpha):\n",
        "  print(\"Có bằng chứng để bác bỏ giả thuyết H0\")\n",
        "else:\n",
        "  print(\"Chưa có bằng chứng để bác bỏ giả thuyết H0\")"
      ],
      "metadata": {
        "colab": {
          "base_uri": "https://localhost:8080/"
        },
        "id": "AxWX065LFAHz",
        "outputId": "c5b5e803-057c-4906-880f-ef2f4dc94be2"
      },
      "execution_count": 52,
      "outputs": [
        {
          "output_type": "stream",
          "name": "stdout",
          "text": [
            "Có bằng chứng để bác bỏ giả thuyết H0\n"
          ]
        }
      ]
    }
  ],
  "metadata": {
    "kernelspec": {
      "display_name": "Python 3",
      "language": "python",
      "name": "python3"
    },
    "language_info": {
      "codemirror_mode": {
        "name": "ipython",
        "version": 3
      },
      "file_extension": ".py",
      "mimetype": "text/x-python",
      "name": "python",
      "nbconvert_exporter": "python",
      "pygments_lexer": "ipython3",
      "version": "3.7.3"
    },
    "colab": {
      "name": "bai-tap-kiem-dinh-z-t",
      "provenance": [],
      "include_colab_link": true
    }
  },
  "nbformat": 4,
  "nbformat_minor": 0
}