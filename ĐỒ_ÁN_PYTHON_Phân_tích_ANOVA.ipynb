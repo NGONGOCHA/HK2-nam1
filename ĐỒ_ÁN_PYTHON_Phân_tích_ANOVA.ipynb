{
  "nbformat": 4,
  "nbformat_minor": 0,
  "metadata": {
    "colab": {
      "name": "ĐỒ ÁN PYTHON - Phân tích ANOVA",
      "provenance": [],
      "collapsed_sections": [],
      "mount_file_id": "1aeF5Mf7q0o8pLiTgVU-aKuTmCO_8Z5Br",
      "authorship_tag": "ABX9TyNqt+UiF8mzB3kCpRDCVZjV",
      "include_colab_link": true
    },
    "kernelspec": {
      "name": "python3",
      "display_name": "Python 3"
    },
    "language_info": {
      "name": "python"
    }
  },
  "cells": [
    {
      "cell_type": "markdown",
      "metadata": {
        "id": "view-in-github",
        "colab_type": "text"
      },
      "source": [
        "<a href=\"https://colab.research.google.com/github/NGONGOCHA/HK2-nam1/blob/main/%C4%90%E1%BB%92_%C3%81N_PYTHON_Ph%C3%A2n_t%C3%ADch_ANOVA.ipynb\" target=\"_parent\"><img src=\"https://colab.research.google.com/assets/colab-badge.svg\" alt=\"Open In Colab\"/></a>"
      ]
    },
    {
      "cell_type": "markdown",
      "source": [
        "#**2) Sử dụng tập tin Diet_R.csv để thực hiện phân tích thống kê suy diễn - ANOVA một chiều. Tham khảo tập tin mô tả tập dữ liệu được kèm theo**"
      ],
      "metadata": {
        "id": "a2q--2KWrieT"
      }
    },
    {
      "cell_type": "code",
      "execution_count": 353,
      "metadata": {
        "id": "DjLTCbGSrZn4"
      },
      "outputs": [],
      "source": [
        "import pandas as pd\n",
        "import numpy as np\n",
        "import scipy.stats as st\n",
        "from scipy.stats import f_oneway"
      ]
    },
    {
      "cell_type": "markdown",
      "source": [
        "**ĐỌC DỮ LIỆU TỪ FILE CSV**"
      ],
      "metadata": {
        "id": "FrQSUbZ-sqIV"
      }
    },
    {
      "cell_type": "code",
      "source": [
        "df = pd.read_csv(\"/content/drive/MyDrive/Classroom/Phân tích dữ liệu với Python - K2 Phần cơ sở/ĐỒ ÁN/Diet_R.csv\")\n",
        "df"
      ],
      "metadata": {
        "colab": {
          "base_uri": "https://localhost:8080/",
          "height": 424
        },
        "id": "mp2f-JL1sj_E",
        "outputId": "c7d54091-863f-479e-8fde-297d7dc48a8e"
      },
      "execution_count": 354,
      "outputs": [
        {
          "output_type": "execute_result",
          "data": {
            "text/plain": [
              "    Person gender  Age  Height  pre.weight  Diet  weight6weeks\n",
              "0       25          41     171          60     2          60.0\n",
              "1       26          32     174         103     2         103.0\n",
              "2        1      0   22     159          58     1          54.2\n",
              "3        2      0   46     192          60     1          54.0\n",
              "4        3      0   55     170          64     1          63.3\n",
              "..     ...    ...  ...     ...         ...   ...           ...\n",
              "73      74      1   35     183          83     3          80.2\n",
              "74      75      1   49     177          84     3          79.9\n",
              "75      76      1   28     164          85     3          79.7\n",
              "76      77      1   40     167          87     3          77.8\n",
              "77      78      1   51     175          88     3          81.9\n",
              "\n",
              "[78 rows x 7 columns]"
            ],
            "text/html": [
              "\n",
              "  <div id=\"df-b29764d7-d3ef-4d63-a6f4-de0acc39e6b3\">\n",
              "    <div class=\"colab-df-container\">\n",
              "      <div>\n",
              "<style scoped>\n",
              "    .dataframe tbody tr th:only-of-type {\n",
              "        vertical-align: middle;\n",
              "    }\n",
              "\n",
              "    .dataframe tbody tr th {\n",
              "        vertical-align: top;\n",
              "    }\n",
              "\n",
              "    .dataframe thead th {\n",
              "        text-align: right;\n",
              "    }\n",
              "</style>\n",
              "<table border=\"1\" class=\"dataframe\">\n",
              "  <thead>\n",
              "    <tr style=\"text-align: right;\">\n",
              "      <th></th>\n",
              "      <th>Person</th>\n",
              "      <th>gender</th>\n",
              "      <th>Age</th>\n",
              "      <th>Height</th>\n",
              "      <th>pre.weight</th>\n",
              "      <th>Diet</th>\n",
              "      <th>weight6weeks</th>\n",
              "    </tr>\n",
              "  </thead>\n",
              "  <tbody>\n",
              "    <tr>\n",
              "      <th>0</th>\n",
              "      <td>25</td>\n",
              "      <td></td>\n",
              "      <td>41</td>\n",
              "      <td>171</td>\n",
              "      <td>60</td>\n",
              "      <td>2</td>\n",
              "      <td>60.0</td>\n",
              "    </tr>\n",
              "    <tr>\n",
              "      <th>1</th>\n",
              "      <td>26</td>\n",
              "      <td></td>\n",
              "      <td>32</td>\n",
              "      <td>174</td>\n",
              "      <td>103</td>\n",
              "      <td>2</td>\n",
              "      <td>103.0</td>\n",
              "    </tr>\n",
              "    <tr>\n",
              "      <th>2</th>\n",
              "      <td>1</td>\n",
              "      <td>0</td>\n",
              "      <td>22</td>\n",
              "      <td>159</td>\n",
              "      <td>58</td>\n",
              "      <td>1</td>\n",
              "      <td>54.2</td>\n",
              "    </tr>\n",
              "    <tr>\n",
              "      <th>3</th>\n",
              "      <td>2</td>\n",
              "      <td>0</td>\n",
              "      <td>46</td>\n",
              "      <td>192</td>\n",
              "      <td>60</td>\n",
              "      <td>1</td>\n",
              "      <td>54.0</td>\n",
              "    </tr>\n",
              "    <tr>\n",
              "      <th>4</th>\n",
              "      <td>3</td>\n",
              "      <td>0</td>\n",
              "      <td>55</td>\n",
              "      <td>170</td>\n",
              "      <td>64</td>\n",
              "      <td>1</td>\n",
              "      <td>63.3</td>\n",
              "    </tr>\n",
              "    <tr>\n",
              "      <th>...</th>\n",
              "      <td>...</td>\n",
              "      <td>...</td>\n",
              "      <td>...</td>\n",
              "      <td>...</td>\n",
              "      <td>...</td>\n",
              "      <td>...</td>\n",
              "      <td>...</td>\n",
              "    </tr>\n",
              "    <tr>\n",
              "      <th>73</th>\n",
              "      <td>74</td>\n",
              "      <td>1</td>\n",
              "      <td>35</td>\n",
              "      <td>183</td>\n",
              "      <td>83</td>\n",
              "      <td>3</td>\n",
              "      <td>80.2</td>\n",
              "    </tr>\n",
              "    <tr>\n",
              "      <th>74</th>\n",
              "      <td>75</td>\n",
              "      <td>1</td>\n",
              "      <td>49</td>\n",
              "      <td>177</td>\n",
              "      <td>84</td>\n",
              "      <td>3</td>\n",
              "      <td>79.9</td>\n",
              "    </tr>\n",
              "    <tr>\n",
              "      <th>75</th>\n",
              "      <td>76</td>\n",
              "      <td>1</td>\n",
              "      <td>28</td>\n",
              "      <td>164</td>\n",
              "      <td>85</td>\n",
              "      <td>3</td>\n",
              "      <td>79.7</td>\n",
              "    </tr>\n",
              "    <tr>\n",
              "      <th>76</th>\n",
              "      <td>77</td>\n",
              "      <td>1</td>\n",
              "      <td>40</td>\n",
              "      <td>167</td>\n",
              "      <td>87</td>\n",
              "      <td>3</td>\n",
              "      <td>77.8</td>\n",
              "    </tr>\n",
              "    <tr>\n",
              "      <th>77</th>\n",
              "      <td>78</td>\n",
              "      <td>1</td>\n",
              "      <td>51</td>\n",
              "      <td>175</td>\n",
              "      <td>88</td>\n",
              "      <td>3</td>\n",
              "      <td>81.9</td>\n",
              "    </tr>\n",
              "  </tbody>\n",
              "</table>\n",
              "<p>78 rows × 7 columns</p>\n",
              "</div>\n",
              "      <button class=\"colab-df-convert\" onclick=\"convertToInteractive('df-b29764d7-d3ef-4d63-a6f4-de0acc39e6b3')\"\n",
              "              title=\"Convert this dataframe to an interactive table.\"\n",
              "              style=\"display:none;\">\n",
              "        \n",
              "  <svg xmlns=\"http://www.w3.org/2000/svg\" height=\"24px\"viewBox=\"0 0 24 24\"\n",
              "       width=\"24px\">\n",
              "    <path d=\"M0 0h24v24H0V0z\" fill=\"none\"/>\n",
              "    <path d=\"M18.56 5.44l.94 2.06.94-2.06 2.06-.94-2.06-.94-.94-2.06-.94 2.06-2.06.94zm-11 1L8.5 8.5l.94-2.06 2.06-.94-2.06-.94L8.5 2.5l-.94 2.06-2.06.94zm10 10l.94 2.06.94-2.06 2.06-.94-2.06-.94-.94-2.06-.94 2.06-2.06.94z\"/><path d=\"M17.41 7.96l-1.37-1.37c-.4-.4-.92-.59-1.43-.59-.52 0-1.04.2-1.43.59L10.3 9.45l-7.72 7.72c-.78.78-.78 2.05 0 2.83L4 21.41c.39.39.9.59 1.41.59.51 0 1.02-.2 1.41-.59l7.78-7.78 2.81-2.81c.8-.78.8-2.07 0-2.86zM5.41 20L4 18.59l7.72-7.72 1.47 1.35L5.41 20z\"/>\n",
              "  </svg>\n",
              "      </button>\n",
              "      \n",
              "  <style>\n",
              "    .colab-df-container {\n",
              "      display:flex;\n",
              "      flex-wrap:wrap;\n",
              "      gap: 12px;\n",
              "    }\n",
              "\n",
              "    .colab-df-convert {\n",
              "      background-color: #E8F0FE;\n",
              "      border: none;\n",
              "      border-radius: 50%;\n",
              "      cursor: pointer;\n",
              "      display: none;\n",
              "      fill: #1967D2;\n",
              "      height: 32px;\n",
              "      padding: 0 0 0 0;\n",
              "      width: 32px;\n",
              "    }\n",
              "\n",
              "    .colab-df-convert:hover {\n",
              "      background-color: #E2EBFA;\n",
              "      box-shadow: 0px 1px 2px rgba(60, 64, 67, 0.3), 0px 1px 3px 1px rgba(60, 64, 67, 0.15);\n",
              "      fill: #174EA6;\n",
              "    }\n",
              "\n",
              "    [theme=dark] .colab-df-convert {\n",
              "      background-color: #3B4455;\n",
              "      fill: #D2E3FC;\n",
              "    }\n",
              "\n",
              "    [theme=dark] .colab-df-convert:hover {\n",
              "      background-color: #434B5C;\n",
              "      box-shadow: 0px 1px 3px 1px rgba(0, 0, 0, 0.15);\n",
              "      filter: drop-shadow(0px 1px 2px rgba(0, 0, 0, 0.3));\n",
              "      fill: #FFFFFF;\n",
              "    }\n",
              "  </style>\n",
              "\n",
              "      <script>\n",
              "        const buttonEl =\n",
              "          document.querySelector('#df-b29764d7-d3ef-4d63-a6f4-de0acc39e6b3 button.colab-df-convert');\n",
              "        buttonEl.style.display =\n",
              "          google.colab.kernel.accessAllowed ? 'block' : 'none';\n",
              "\n",
              "        async function convertToInteractive(key) {\n",
              "          const element = document.querySelector('#df-b29764d7-d3ef-4d63-a6f4-de0acc39e6b3');\n",
              "          const dataTable =\n",
              "            await google.colab.kernel.invokeFunction('convertToInteractive',\n",
              "                                                     [key], {});\n",
              "          if (!dataTable) return;\n",
              "\n",
              "          const docLinkHtml = 'Like what you see? Visit the ' +\n",
              "            '<a target=\"_blank\" href=https://colab.research.google.com/notebooks/data_table.ipynb>data table notebook</a>'\n",
              "            + ' to learn more about interactive tables.';\n",
              "          element.innerHTML = '';\n",
              "          dataTable['output_type'] = 'display_data';\n",
              "          await google.colab.output.renderOutput(dataTable, element);\n",
              "          const docLink = document.createElement('div');\n",
              "          docLink.innerHTML = docLinkHtml;\n",
              "          element.appendChild(docLink);\n",
              "        }\n",
              "      </script>\n",
              "    </div>\n",
              "  </div>\n",
              "  "
            ]
          },
          "metadata": {},
          "execution_count": 354
        }
      ]
    },
    {
      "cell_type": "markdown",
      "source": [
        "Vì 2 dòng đầu không có giới tính nên ta loại bỏ và lấy cột Person làm index cho data frame"
      ],
      "metadata": {
        "id": "Q1JkaK7si-J1"
      }
    },
    {
      "cell_type": "code",
      "source": [
        "rm = df.drop([0, 1])\n",
        "x = rm.set_index('Person')\n",
        "dfnew = x.sort_index()\n",
        "dfnew"
      ],
      "metadata": {
        "colab": {
          "base_uri": "https://localhost:8080/",
          "height": 455
        },
        "id": "3QmnjBYANOT4",
        "outputId": "e620c654-732f-4f81-d8af-ec6e24123b4e"
      },
      "execution_count": 370,
      "outputs": [
        {
          "output_type": "execute_result",
          "data": {
            "text/plain": [
              "       gender  Age  Height  pre.weight  Diet  weight6weeks\n",
              "Person                                                    \n",
              "1           0   22     159          58     1          54.2\n",
              "2           0   46     192          60     1          54.0\n",
              "3           0   55     170          64     1          63.3\n",
              "4           0   33     171          64     1          61.1\n",
              "5           0   50     170          65     1          62.2\n",
              "...       ...  ...     ...         ...   ...           ...\n",
              "74          1   35     183          83     3          80.2\n",
              "75          1   49     177          84     3          79.9\n",
              "76          1   28     164          85     3          79.7\n",
              "77          1   40     167          87     3          77.8\n",
              "78          1   51     175          88     3          81.9\n",
              "\n",
              "[76 rows x 6 columns]"
            ],
            "text/html": [
              "\n",
              "  <div id=\"df-7b14e19e-5c64-4075-9ddb-33f1ecdd8583\">\n",
              "    <div class=\"colab-df-container\">\n",
              "      <div>\n",
              "<style scoped>\n",
              "    .dataframe tbody tr th:only-of-type {\n",
              "        vertical-align: middle;\n",
              "    }\n",
              "\n",
              "    .dataframe tbody tr th {\n",
              "        vertical-align: top;\n",
              "    }\n",
              "\n",
              "    .dataframe thead th {\n",
              "        text-align: right;\n",
              "    }\n",
              "</style>\n",
              "<table border=\"1\" class=\"dataframe\">\n",
              "  <thead>\n",
              "    <tr style=\"text-align: right;\">\n",
              "      <th></th>\n",
              "      <th>gender</th>\n",
              "      <th>Age</th>\n",
              "      <th>Height</th>\n",
              "      <th>pre.weight</th>\n",
              "      <th>Diet</th>\n",
              "      <th>weight6weeks</th>\n",
              "    </tr>\n",
              "    <tr>\n",
              "      <th>Person</th>\n",
              "      <th></th>\n",
              "      <th></th>\n",
              "      <th></th>\n",
              "      <th></th>\n",
              "      <th></th>\n",
              "      <th></th>\n",
              "    </tr>\n",
              "  </thead>\n",
              "  <tbody>\n",
              "    <tr>\n",
              "      <th>1</th>\n",
              "      <td>0</td>\n",
              "      <td>22</td>\n",
              "      <td>159</td>\n",
              "      <td>58</td>\n",
              "      <td>1</td>\n",
              "      <td>54.2</td>\n",
              "    </tr>\n",
              "    <tr>\n",
              "      <th>2</th>\n",
              "      <td>0</td>\n",
              "      <td>46</td>\n",
              "      <td>192</td>\n",
              "      <td>60</td>\n",
              "      <td>1</td>\n",
              "      <td>54.0</td>\n",
              "    </tr>\n",
              "    <tr>\n",
              "      <th>3</th>\n",
              "      <td>0</td>\n",
              "      <td>55</td>\n",
              "      <td>170</td>\n",
              "      <td>64</td>\n",
              "      <td>1</td>\n",
              "      <td>63.3</td>\n",
              "    </tr>\n",
              "    <tr>\n",
              "      <th>4</th>\n",
              "      <td>0</td>\n",
              "      <td>33</td>\n",
              "      <td>171</td>\n",
              "      <td>64</td>\n",
              "      <td>1</td>\n",
              "      <td>61.1</td>\n",
              "    </tr>\n",
              "    <tr>\n",
              "      <th>5</th>\n",
              "      <td>0</td>\n",
              "      <td>50</td>\n",
              "      <td>170</td>\n",
              "      <td>65</td>\n",
              "      <td>1</td>\n",
              "      <td>62.2</td>\n",
              "    </tr>\n",
              "    <tr>\n",
              "      <th>...</th>\n",
              "      <td>...</td>\n",
              "      <td>...</td>\n",
              "      <td>...</td>\n",
              "      <td>...</td>\n",
              "      <td>...</td>\n",
              "      <td>...</td>\n",
              "    </tr>\n",
              "    <tr>\n",
              "      <th>74</th>\n",
              "      <td>1</td>\n",
              "      <td>35</td>\n",
              "      <td>183</td>\n",
              "      <td>83</td>\n",
              "      <td>3</td>\n",
              "      <td>80.2</td>\n",
              "    </tr>\n",
              "    <tr>\n",
              "      <th>75</th>\n",
              "      <td>1</td>\n",
              "      <td>49</td>\n",
              "      <td>177</td>\n",
              "      <td>84</td>\n",
              "      <td>3</td>\n",
              "      <td>79.9</td>\n",
              "    </tr>\n",
              "    <tr>\n",
              "      <th>76</th>\n",
              "      <td>1</td>\n",
              "      <td>28</td>\n",
              "      <td>164</td>\n",
              "      <td>85</td>\n",
              "      <td>3</td>\n",
              "      <td>79.7</td>\n",
              "    </tr>\n",
              "    <tr>\n",
              "      <th>77</th>\n",
              "      <td>1</td>\n",
              "      <td>40</td>\n",
              "      <td>167</td>\n",
              "      <td>87</td>\n",
              "      <td>3</td>\n",
              "      <td>77.8</td>\n",
              "    </tr>\n",
              "    <tr>\n",
              "      <th>78</th>\n",
              "      <td>1</td>\n",
              "      <td>51</td>\n",
              "      <td>175</td>\n",
              "      <td>88</td>\n",
              "      <td>3</td>\n",
              "      <td>81.9</td>\n",
              "    </tr>\n",
              "  </tbody>\n",
              "</table>\n",
              "<p>76 rows × 6 columns</p>\n",
              "</div>\n",
              "      <button class=\"colab-df-convert\" onclick=\"convertToInteractive('df-7b14e19e-5c64-4075-9ddb-33f1ecdd8583')\"\n",
              "              title=\"Convert this dataframe to an interactive table.\"\n",
              "              style=\"display:none;\">\n",
              "        \n",
              "  <svg xmlns=\"http://www.w3.org/2000/svg\" height=\"24px\"viewBox=\"0 0 24 24\"\n",
              "       width=\"24px\">\n",
              "    <path d=\"M0 0h24v24H0V0z\" fill=\"none\"/>\n",
              "    <path d=\"M18.56 5.44l.94 2.06.94-2.06 2.06-.94-2.06-.94-.94-2.06-.94 2.06-2.06.94zm-11 1L8.5 8.5l.94-2.06 2.06-.94-2.06-.94L8.5 2.5l-.94 2.06-2.06.94zm10 10l.94 2.06.94-2.06 2.06-.94-2.06-.94-.94-2.06-.94 2.06-2.06.94z\"/><path d=\"M17.41 7.96l-1.37-1.37c-.4-.4-.92-.59-1.43-.59-.52 0-1.04.2-1.43.59L10.3 9.45l-7.72 7.72c-.78.78-.78 2.05 0 2.83L4 21.41c.39.39.9.59 1.41.59.51 0 1.02-.2 1.41-.59l7.78-7.78 2.81-2.81c.8-.78.8-2.07 0-2.86zM5.41 20L4 18.59l7.72-7.72 1.47 1.35L5.41 20z\"/>\n",
              "  </svg>\n",
              "      </button>\n",
              "      \n",
              "  <style>\n",
              "    .colab-df-container {\n",
              "      display:flex;\n",
              "      flex-wrap:wrap;\n",
              "      gap: 12px;\n",
              "    }\n",
              "\n",
              "    .colab-df-convert {\n",
              "      background-color: #E8F0FE;\n",
              "      border: none;\n",
              "      border-radius: 50%;\n",
              "      cursor: pointer;\n",
              "      display: none;\n",
              "      fill: #1967D2;\n",
              "      height: 32px;\n",
              "      padding: 0 0 0 0;\n",
              "      width: 32px;\n",
              "    }\n",
              "\n",
              "    .colab-df-convert:hover {\n",
              "      background-color: #E2EBFA;\n",
              "      box-shadow: 0px 1px 2px rgba(60, 64, 67, 0.3), 0px 1px 3px 1px rgba(60, 64, 67, 0.15);\n",
              "      fill: #174EA6;\n",
              "    }\n",
              "\n",
              "    [theme=dark] .colab-df-convert {\n",
              "      background-color: #3B4455;\n",
              "      fill: #D2E3FC;\n",
              "    }\n",
              "\n",
              "    [theme=dark] .colab-df-convert:hover {\n",
              "      background-color: #434B5C;\n",
              "      box-shadow: 0px 1px 3px 1px rgba(0, 0, 0, 0.15);\n",
              "      filter: drop-shadow(0px 1px 2px rgba(0, 0, 0, 0.3));\n",
              "      fill: #FFFFFF;\n",
              "    }\n",
              "  </style>\n",
              "\n",
              "      <script>\n",
              "        const buttonEl =\n",
              "          document.querySelector('#df-7b14e19e-5c64-4075-9ddb-33f1ecdd8583 button.colab-df-convert');\n",
              "        buttonEl.style.display =\n",
              "          google.colab.kernel.accessAllowed ? 'block' : 'none';\n",
              "\n",
              "        async function convertToInteractive(key) {\n",
              "          const element = document.querySelector('#df-7b14e19e-5c64-4075-9ddb-33f1ecdd8583');\n",
              "          const dataTable =\n",
              "            await google.colab.kernel.invokeFunction('convertToInteractive',\n",
              "                                                     [key], {});\n",
              "          if (!dataTable) return;\n",
              "\n",
              "          const docLinkHtml = 'Like what you see? Visit the ' +\n",
              "            '<a target=\"_blank\" href=https://colab.research.google.com/notebooks/data_table.ipynb>data table notebook</a>'\n",
              "            + ' to learn more about interactive tables.';\n",
              "          element.innerHTML = '';\n",
              "          dataTable['output_type'] = 'display_data';\n",
              "          await google.colab.output.renderOutput(dataTable, element);\n",
              "          const docLink = document.createElement('div');\n",
              "          docLink.innerHTML = docLinkHtml;\n",
              "          element.appendChild(docLink);\n",
              "        }\n",
              "      </script>\n",
              "    </div>\n",
              "  </div>\n",
              "  "
            ]
          },
          "metadata": {},
          "execution_count": 370
        }
      ]
    },
    {
      "cell_type": "markdown",
      "source": [
        "Tập dữ liệu này chứa thông tin về 78 người sử dụng 1 trong 3 chế độ ăn kiêng\n",
        "\n",
        "- Person: số người tham gia\n",
        "\n",
        "- gender: giới tính, 1 = nam, 0 = nữ\n",
        "\n",
        "- Age: tuổi\n",
        "\n",
        "- Height: chiều cao (cm)\n",
        "\n",
        "- pre.weight: cân nặng trước khi ăn kiêng (kg)\n",
        "\n",
        "- Diet: chế độ ăn (3 chế độ 1,2,3)\n",
        "\n",
        "- weight6weeks: cân nặng sau 6 tuần (kg)\n"
      ],
      "metadata": {
        "id": "8gST_Jz7yGn9"
      }
    },
    {
      "cell_type": "markdown",
      "source": [
        "***CÂU HỎI NGHIÊN CỨU***"
      ],
      "metadata": {
        "id": "djB6HiVgGsp5"
      }
    },
    {
      "cell_type": "markdown",
      "source": [
        "$$\\text{Which diet was best for losing weight? - Chế độ ăn kiêng nào tốt nhất để giảm cân?}$$\n",
        "\n"
      ],
      "metadata": {
        "id": "dPlOi5zxHASr"
      }
    },
    {
      "cell_type": "markdown",
      "source": [
        "\n",
        "Để tìm ra chế độ ăn kiêng nào tốt nhất, chúng ta phải chia dữ liệu thành 3 nhóm ăn kiêng theo chế độ 1,2,3."
      ],
      "metadata": {
        "id": "zynk2kJx5kUi"
      }
    },
    {
      "cell_type": "code",
      "source": [
        "#chế độ 1\n",
        "diet1 = dfnew[dfnew['Diet'] == 1]\n",
        "#chế độ 2\n",
        "diet2 = dfnew[dfnew['Diet'] == 2]\n",
        "#chế độ 3\n",
        "diet3 = dfnew[dfnew['Diet'] == 3]"
      ],
      "metadata": {
        "id": "ld9YUXxcHkIS"
      },
      "execution_count": 356,
      "outputs": []
    },
    {
      "cell_type": "code",
      "source": [
        "giam1 = diet1['pre.weight'] - diet1['weight6weeks']\n",
        "giam2 = diet2['pre.weight'] - diet2['weight6weeks']\n",
        "giam3 = diet3['pre.weight'] - diet3['weight6weeks']"
      ],
      "metadata": {
        "id": "PF2vjYo1ePRS"
      },
      "execution_count": 357,
      "outputs": []
    },
    {
      "cell_type": "markdown",
      "source": [
        "**KIỂM ĐỊNH THEO PHÂN PHỐI CHUẨN**"
      ],
      "metadata": {
        "id": "Nd-m4YXTK6Qd"
      }
    },
    {
      "cell_type": "markdown",
      "source": [
        "\n",
        "Phát biểu giả thuyết :\n",
        "\n",
        "Giả thuyết null:\n",
        "\n",
        "$$H_0 : \\text{Các nhóm được lấy từ phân phối chuẩn}$$\n",
        "\n",
        "Giả thuyết thay thế:\n",
        "$$H_a : \\text{Các nhóm không được lấy từ phân phối chuẩn}$$"
      ],
      "metadata": {
        "id": "dL7Bzfg2K-hP"
      }
    },
    {
      "cell_type": "code",
      "source": [
        "stats, p_value = st.shapiro(giam1)\n",
        "print(\"p_value:\",p_value)\n",
        "if p_value < 0.05:\n",
        "  print(\"Có bằng chứng để bác bỏ giả thuyết H0\")\n",
        "else:\n",
        "  print(\"Không Có bằng chứng để bác bỏ giả thuyết H0\")"
      ],
      "metadata": {
        "colab": {
          "base_uri": "https://localhost:8080/"
        },
        "id": "mMIHz9U6VNNi",
        "outputId": "d94fc4c1-d345-4bc1-9203-a60410fb3ae8"
      },
      "execution_count": 360,
      "outputs": [
        {
          "output_type": "stream",
          "name": "stdout",
          "text": [
            "p_value: 0.07748671621084213\n",
            "Không Có bằng chứng để bác bỏ giả thuyết H0\n"
          ]
        }
      ]
    },
    {
      "cell_type": "code",
      "source": [
        "stats, p_value = st.shapiro(giam2)\n",
        "print(\"p_value:\",p_value)\n",
        "if p_value < 0.05:\n",
        "  print(\"Có bằng chứng để bác bỏ giả thuyết H0\")\n",
        "else:\n",
        "  print(\"Không Có bằng chứng để bác bỏ giả thuyết H0\")"
      ],
      "metadata": {
        "colab": {
          "base_uri": "https://localhost:8080/"
        },
        "id": "plyn8C2pWFN4",
        "outputId": "58c6299f-3778-4399-efed-4092d5a87dc5"
      },
      "execution_count": 361,
      "outputs": [
        {
          "output_type": "stream",
          "name": "stdout",
          "text": [
            "p_value: 0.8721737861633301\n",
            "Không Có bằng chứng để bác bỏ giả thuyết H0\n"
          ]
        }
      ]
    },
    {
      "cell_type": "code",
      "source": [
        "stats, p_value = st.shapiro(giam3)\n",
        "print(\"p_value:\",p_value)\n",
        "if p_value < 0.05:\n",
        "  print(\"Có bằng chứng để bác bỏ giả thuyết H0\")\n",
        "else:\n",
        "  print(\"Không Có bằng chứng để bác bỏ giả thuyết H0\")"
      ],
      "metadata": {
        "colab": {
          "base_uri": "https://localhost:8080/"
        },
        "id": "QvwMgFnAfC0H",
        "outputId": "3eddb2b0-1560-48f4-c982-a58891b5ab5e"
      },
      "execution_count": 362,
      "outputs": [
        {
          "output_type": "stream",
          "name": "stdout",
          "text": [
            "p_value: 0.37203603982925415\n",
            "Không Có bằng chứng để bác bỏ giả thuyết H0\n"
          ]
        }
      ]
    },
    {
      "cell_type": "markdown",
      "source": [
        "------> ***Vì các nhóm được lấy từ phân phối chuẩn nên ta tiến hành kiểm định phương sai***"
      ],
      "metadata": {
        "id": "j39rxkEs4iyc"
      }
    },
    {
      "cell_type": "markdown",
      "source": [
        "**KIỂM ĐỊNH PHƯƠNG SAI**"
      ],
      "metadata": {
        "id": "M7BHTCjTMZiS"
      }
    },
    {
      "cell_type": "markdown",
      "source": [
        "Phát biểu giả thuyết\n",
        "\n",
        "Giả thuyết null:\n",
        "\n",
        "$$H_0 : \\text{Các nhóm có phương sai giống nhau}$$\n",
        "\n",
        "Giả thuyết thay thế: \n",
        "\n",
        "$$H_a:\\text{Các nhóm có phương sai không giống nhau}$$"
      ],
      "metadata": {
        "id": "U7bmMYkfMkKv"
      }
    },
    {
      "cell_type": "code",
      "source": [
        "stats, p_value = st.bartlett(giam1, giam2, giam3)\n",
        "print(\"p_value:\",p_value)\n",
        "if p_value < 0.05:\n",
        "  print(\"Có bằng chứng để bác bỏ giả thuyết H0\")\n",
        "else:\n",
        "  print(\"Không Có bằng chứng để bác bỏ giả thuyết H0\")"
      ],
      "metadata": {
        "colab": {
          "base_uri": "https://localhost:8080/"
        },
        "id": "4fH0NTNvMYzq",
        "outputId": "fc1bd893-d999-47b4-a5ca-de399fd6bb7f"
      },
      "execution_count": 363,
      "outputs": [
        {
          "output_type": "stream",
          "name": "stdout",
          "text": [
            "p_value: 0.8966804982694925\n",
            "Không Có bằng chứng để bác bỏ giả thuyết H0\n"
          ]
        }
      ]
    },
    {
      "cell_type": "markdown",
      "source": [
        "--------> ***Vì phương sai các nhóm giống nhau nên ta tiến hành kiểm định ANOVA 1 chiều***"
      ],
      "metadata": {
        "id": "bjkGQNsQ4591"
      }
    },
    {
      "cell_type": "markdown",
      "source": [
        "**KIỂM ĐỊNH ANOVA 1 CHIỀU**"
      ],
      "metadata": {
        "id": "KvrftX1gXS9w"
      }
    },
    {
      "cell_type": "markdown",
      "source": [
        "\n",
        "Giả thuyết null:\n",
        "\n",
        "$$H_0 : \\text{Cân nặng trước và sau khi ăn kiêng không có sự khác biệt}$$\n",
        "\n",
        "Giả thuyết thay thế: \n",
        "\n",
        "$$H_a:\\text{Tồn tại ít nhất sự khác biệt về cân nặng trước và sau khi ăn kiêng}$$"
      ],
      "metadata": {
        "id": "bKUJ_zdAXeSQ"
      }
    },
    {
      "cell_type": "code",
      "source": [
        "stats, p_value = st.f_oneway(giam1, giam2, giam3)\n",
        "print(\"p_value:\",p_value)\n",
        "if p_value < 0.05:\n",
        "  print(\"Có bằng chứng bác bỏ giả thuyết H0\")\n",
        "else:\n",
        "  print(\"Không có bằng chứng bác bỏ giả thuyết H0\")"
      ],
      "metadata": {
        "colab": {
          "base_uri": "https://localhost:8080/"
        },
        "id": "XJcgZZFPX0Om",
        "outputId": "f17cafd8-b7e9-4f38-ff15-ec2ceb7ca61e"
      },
      "execution_count": 365,
      "outputs": [
        {
          "output_type": "stream",
          "name": "stdout",
          "text": [
            "p_value: 0.006595853108669741\n",
            "Có bằng chứng bác bỏ giả thuyết H0\n"
          ]
        }
      ]
    },
    {
      "cell_type": "markdown",
      "source": [
        "--------> ***Như vậy cân nặng trước và sau khi giảm cân có sự khác biệt***"
      ],
      "metadata": {
        "id": "XgfcUIe2pvh8"
      }
    },
    {
      "cell_type": "markdown",
      "source": [
        "**ĐỂ BIẾT ĐƯỢC CÁCH GIẢM CÂN NÀO HIỆU QUẢ HƠN TA SO SÁNH SỐ CÂN NẶNG GIẢM ĐƯỢC CỦA CÁC NHÓM VỚI NHAU**\n"
      ],
      "metadata": {
        "id": "aW__ZyPwg_vV"
      }
    },
    {
      "cell_type": "code",
      "source": [
        "print('tổng cân nặng giảm được của nhóm 1')\n",
        "sum(giam1)"
      ],
      "metadata": {
        "colab": {
          "base_uri": "https://localhost:8080/"
        },
        "id": "5tu_byEGhidd",
        "outputId": "7c63cb29-330c-4974-c9a7-d71d2c42cd3f"
      },
      "execution_count": 366,
      "outputs": [
        {
          "output_type": "stream",
          "name": "stdout",
          "text": [
            "tổng cân nặng giảm được của nhóm 1\n"
          ]
        },
        {
          "output_type": "execute_result",
          "data": {
            "text/plain": [
              "79.19999999999999"
            ]
          },
          "metadata": {},
          "execution_count": 366
        }
      ]
    },
    {
      "cell_type": "code",
      "source": [
        "print('tổng cân nặng giảm được của nhóm 2')\n",
        "sum(giam2)"
      ],
      "metadata": {
        "colab": {
          "base_uri": "https://localhost:8080/"
        },
        "id": "wZWZegPMhpi5",
        "outputId": "2ae36fcb-2090-49ab-9e87-b0ffbee9df56"
      },
      "execution_count": 367,
      "outputs": [
        {
          "output_type": "stream",
          "name": "stdout",
          "text": [
            "tổng cân nặng giảm được của nhóm 2\n"
          ]
        },
        {
          "output_type": "execute_result",
          "data": {
            "text/plain": [
              "81.7"
            ]
          },
          "metadata": {},
          "execution_count": 367
        }
      ]
    },
    {
      "cell_type": "code",
      "source": [
        "print('tổng cân nặng giảm được của nhóm 3')\n",
        "sum(giam3)"
      ],
      "metadata": {
        "colab": {
          "base_uri": "https://localhost:8080/"
        },
        "id": "s8hrPqhxhrkW",
        "outputId": "ed3798c5-1960-4fc2-cdfe-dfc3d66543c6"
      },
      "execution_count": 368,
      "outputs": [
        {
          "output_type": "stream",
          "name": "stdout",
          "text": [
            "tổng cân nặng giảm được của nhóm 3\n"
          ]
        },
        {
          "output_type": "execute_result",
          "data": {
            "text/plain": [
              "138.99999999999997"
            ]
          },
          "metadata": {},
          "execution_count": 368
        }
      ]
    },
    {
      "cell_type": "markdown",
      "source": [
        "---------> ***Như vậy ta thấy cách giảm cân của nhóm 3 hiệu quả hơn***"
      ],
      "metadata": {
        "id": "he59rQ8wipzQ"
      }
    }
  ]
}